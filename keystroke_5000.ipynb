{
 "cells": [
  {
   "cell_type": "markdown",
   "metadata": {},
   "source": [
    "## Import"
   ]
  },
  {
   "cell_type": "code",
   "execution_count": 1,
   "metadata": {},
   "outputs": [],
   "source": [
    "#################################\n",
    "# # when running google colab # #\n",
    "#################################\n",
    "# from google.colab import drive\n",
    "# drive.mount('/content/gdrive')\n",
    "# !pip install scikeras --quiet"
   ]
  },
  {
   "cell_type": "code",
   "execution_count": 2,
   "metadata": {
    "colab": {
     "base_uri": "https://localhost:8080/"
    },
    "id": "DriiaId_J7TH",
    "outputId": "1832f6d2-6be6-412d-ff0d-82a08cb814f0"
   },
   "outputs": [],
   "source": [
    "import numpy as np\n",
    "import pandas as pd\n",
    "import tensorflow as tf\n",
    "import matplotlib.pyplot as plt\n",
    "from matplotlib import pyplot\n",
    "import seaborn as sns\n",
    "\n",
    "import warnings\n",
    "warnings.filterwarnings('ignore')\n",
    "\n",
    "from keras.utils.np_utils import to_categorical \n",
    "from tensorflow.keras.callbacks import EarlyStopping\n",
    "from keras.models import Sequential\n",
    "from keras.layers import Dense, Dropout, \\\n",
    "    BatchNormalization, Flatten, LSTM\n",
    "# from scikeras.wrappers import KerasClassifier\n",
    "from keras.wrappers.scikit_learn import KerasClassifier\n",
    "from keras.models import load_model\n",
    "\n",
    "from sklearn.preprocessing import MinMaxScaler\n",
    "from sklearn.model_selection import train_test_split\n",
    "from sklearn.model_selection import StratifiedKFold\n",
    "from sklearn.model_selection import cross_val_score\n",
    "from sklearn.model_selection import KFold\n",
    "from sklearn.metrics import accuracy_score, confusion_matrix\n",
    "from sklearn.preprocessing import OneHotEncoder\n",
    "\n",
    "# NUM_FEATURES = 31\n",
    "# TIMESTEPS = 1\n",
    "# DATASET_LINK = \"dataset/overall.csv\"\n",
    "# TEST_DATA_LINK = \"dataset/overall_test.csv\"\n",
    "\n",
    "NUM_FEATURES = 3\n",
    "TIMESTEPS = 1\n",
    "DATASET_LINK = \"dataset/5000_overall.csv\"\n",
    "TEST_DATA_LINK = \"dataset/5000_overall_test.csv\"\n",
    "\n",
    "# random seed for reproducibility\n",
    "SEED = 123"
   ]
  },
  {
   "cell_type": "markdown",
   "metadata": {
    "id": "F9LuaURiPqv3"
   },
   "source": [
    "### LOAD DATASET\n",
    "> * Check for class imbalance"
   ]
  },
  {
   "cell_type": "code",
   "execution_count": 3,
   "metadata": {
    "colab": {
     "base_uri": "https://localhost:8080/",
     "height": 226
    },
    "id": "066fT-NcPqVL",
    "outputId": "75666af5-6fab-45b2-e4df-6c2ca74d03be"
   },
   "outputs": [
    {
     "data": {
      "text/html": [
       "<div>\n",
       "<style scoped>\n",
       "    .dataframe tbody tr th:only-of-type {\n",
       "        vertical-align: middle;\n",
       "    }\n",
       "\n",
       "    .dataframe tbody tr th {\n",
       "        vertical-align: top;\n",
       "    }\n",
       "\n",
       "    .dataframe thead th {\n",
       "        text-align: right;\n",
       "    }\n",
       "</style>\n",
       "<table border=\"1\" class=\"dataframe\">\n",
       "  <thead>\n",
       "    <tr style=\"text-align: right;\">\n",
       "      <th></th>\n",
       "      <th>subject</th>\n",
       "      <th>sessionIndex</th>\n",
       "      <th>rep</th>\n",
       "      <th>Hold</th>\n",
       "      <th>Down-Down</th>\n",
       "      <th>Up-Down</th>\n",
       "    </tr>\n",
       "  </thead>\n",
       "  <tbody>\n",
       "    <tr>\n",
       "      <th>0</th>\n",
       "      <td>Andy</td>\n",
       "      <td>1</td>\n",
       "      <td>1</td>\n",
       "      <td>0.142176</td>\n",
       "      <td>0.156880</td>\n",
       "      <td>0.014704</td>\n",
       "    </tr>\n",
       "    <tr>\n",
       "      <th>1</th>\n",
       "      <td>Andy</td>\n",
       "      <td>1</td>\n",
       "      <td>2</td>\n",
       "      <td>0.141793</td>\n",
       "      <td>0.164635</td>\n",
       "      <td>0.022842</td>\n",
       "    </tr>\n",
       "    <tr>\n",
       "      <th>2</th>\n",
       "      <td>Andy</td>\n",
       "      <td>1</td>\n",
       "      <td>3</td>\n",
       "      <td>0.157152</td>\n",
       "      <td>0.147220</td>\n",
       "      <td>-0.009932</td>\n",
       "    </tr>\n",
       "    <tr>\n",
       "      <th>3</th>\n",
       "      <td>Andy</td>\n",
       "      <td>1</td>\n",
       "      <td>4</td>\n",
       "      <td>0.158673</td>\n",
       "      <td>0.142487</td>\n",
       "      <td>-0.016186</td>\n",
       "    </tr>\n",
       "    <tr>\n",
       "      <th>4</th>\n",
       "      <td>Andy</td>\n",
       "      <td>1</td>\n",
       "      <td>5</td>\n",
       "      <td>0.166583</td>\n",
       "      <td>0.157102</td>\n",
       "      <td>-0.009480</td>\n",
       "    </tr>\n",
       "  </tbody>\n",
       "</table>\n",
       "</div>"
      ],
      "text/plain": [
       "  subject  sessionIndex  rep      Hold  Down-Down   Up-Down\n",
       "0    Andy             1    1  0.142176   0.156880  0.014704\n",
       "1    Andy             1    2  0.141793   0.164635  0.022842\n",
       "2    Andy             1    3  0.157152   0.147220 -0.009932\n",
       "3    Andy             1    4  0.158673   0.142487 -0.016186\n",
       "4    Andy             1    5  0.166583   0.157102 -0.009480"
      ]
     },
     "execution_count": 3,
     "metadata": {},
     "output_type": "execute_result"
    }
   ],
   "source": [
    "# loading of dataset\n",
    "df = pd.read_csv(DATASET_LINK)\n",
    "\n",
    "df.head()"
   ]
  },
  {
   "cell_type": "code",
   "execution_count": 4,
   "metadata": {
    "colab": {
     "base_uri": "https://localhost:8080/"
    },
    "id": "d28icPmWaXsa",
    "outputId": "03e9a332-ed1a-44df-937e-71b4b94e0a18"
   },
   "outputs": [
    {
     "data": {
      "text/plain": [
       "<seaborn.axisgrid.FacetGrid at 0x1fa3ccf54c0>"
      ]
     },
     "execution_count": 4,
     "metadata": {},
     "output_type": "execute_result"
    },
    {
     "data": {
      "image/png": "[encoded data removed]",
      "text/plain": [
       "<Figure size 432x288 with 1 Axes>"
      ]
     },
     "metadata": {},
     "output_type": "display_data"
    },
    {
     "data": {
      "image/png": "[encoded data removed]",
      "text/plain": [
       "<Figure size 360x360 with 1 Axes>"
      ]
     },
     "metadata": {},
     "output_type": "display_data"
    },
    {
     "data": {
      "image/png": "[encoded data removed]",
      "text/plain": [
       "<Figure size 360x360 with 1 Axes>"
      ]
     },
     "metadata": {},
     "output_type": "display_data"
    },
    {
     "data": {
      "image/png": "[encoded data removed]",
      "text/plain": [
       "<Figure size 360x360 with 1 Axes>"
      ]
     },
     "metadata": {},
     "output_type": "display_data"
    }
   ],
   "source": [
    "#################################\n",
    "# # check for class imbalance # #\n",
    "#################################\n",
    "sns.set_theme(style=\"darkgrid\")\n",
    "ax = sns.countplot(x=\"subject\", data=df).set_title(\"Class Imbalance\")\n",
    "\n",
    "# remove missing values if available\n",
    "df = df.dropna()\n",
    "\n",
    "# sns.catplot(x=\"subject\", y=\"H.period\", data=df)\n",
    "\n",
    "sns.catplot(x=\"subject\", y=\"Hold\", data=df)\n",
    "sns.catplot(x=\"subject\", y=\"Up-Down\", data=df)\n",
    "sns.catplot(x=\"subject\", y=\"Down-Down\", data=df)"
   ]
  },
  {
   "cell_type": "markdown",
   "metadata": {},
   "source": [
    "### PREPARING DATASET\n",
    "> * Split data into X and Y \n",
    "> * Convert Y into one-hot-encoding"
   ]
  },
  {
   "cell_type": "code",
   "execution_count": 5,
   "metadata": {
    "colab": {
     "base_uri": "https://localhost:8080/"
    },
    "id": "JPl7j2SfHWLI",
    "outputId": "57770798-cd5f-4687-ea4f-44037cd5bda3"
   },
   "outputs": [
    {
     "name": "stdout",
     "output_type": "stream",
     "text": [
      "Encoder is able to decipher: \n",
      "['x0_Andy' 'x0_Azfar' 'x0_Chris' 'x0_Qikai' 'x0_Safaraz']\n",
      "\n",
      "\n",
      "X dataset shape: (5000, 3)\n",
      "Y dataset shape: (5000, 5)\n"
     ]
    }
   ],
   "source": [
    "dataset = df.values\n",
    "\n",
    "# divide data into features X and target (classes) Y\n",
    "X = dataset[:,3:].astype(float)\n",
    "Y = dataset[:,0]\n",
    "\n",
    "# convert target Y to one hot encoded Y for model\n",
    "Y = Y.reshape(-1, 1)\n",
    "encoder = OneHotEncoder().fit(Y)\n",
    "Y = encoder.transform(Y).toarray()\n",
    "\n",
    "#################################\n",
    "# # get all the encoded class # #\n",
    "#################################\n",
    "print(\"Encoder is able to decipher: \")\n",
    "print(encoder.get_feature_names_out())\n",
    "print(\"\\n\")\n",
    "\n",
    "###########################\n",
    "# # print X and Y shape # #\n",
    "###########################\n",
    "print(\"X dataset shape: \" + str(X.shape))\n",
    "print(\"Y dataset shape: \" + str(Y.shape))"
   ]
  },
  {
   "cell_type": "markdown",
   "metadata": {
    "id": "LpOqfe88l6kY"
   },
   "source": [
    "### SPLITTING DATASET\n",
    "> * Split data into train and test dataset \n",
    "> * Normalisation performed based on X_train\n",
    "> * Reshaping of dataset for LSTM Timesteps"
   ]
  },
  {
   "cell_type": "code",
   "execution_count": 6,
   "metadata": {
    "colab": {
     "base_uri": "https://localhost:8080/"
    },
    "id": "6_WWovqJnT7M",
    "outputId": "fbc659e2-139c-4638-8cca-4533dfaaf975"
   },
   "outputs": [
    {
     "name": "stdout",
     "output_type": "stream",
     "text": [
      "X train shape: (4000, 1, 3)\n",
      "Y train shape: (4000, 5)\n",
      "X test shape: (1000, 1, 3)\n",
      "Y test shape: (1000, 5)\n"
     ]
    }
   ],
   "source": [
    "# split dataset into train and test of 0.8/0.2 ratio\n",
    "X_train, X_test, y_train, y_test = train_test_split(\n",
    "    X, Y, test_size=0.2, random_state=SEED)\n",
    "\n",
    "# normalisation to 0 to 1\n",
    "scaler = MinMaxScaler(feature_range=(0, 1))\n",
    "X_train = scaler.fit_transform(X_train)\n",
    "X_test = scaler.transform(X_test)\n",
    "\n",
    "# reshaping the dataset to include LSTM Timesteps\n",
    "X_train = np.asarray(X_train, dtype=np.float32)\n",
    "X_train = np.reshape(X_train, (X_train.shape[0], TIMESTEPS, X_train.shape[1]))\n",
    "X_test = np.asarray(X_test, dtype=np.float32)\n",
    "X_test = np.reshape(X_test, (X_test.shape[0], TIMESTEPS, X_test.shape[1]))\n",
    "\n",
    "# retrieve number of classes\n",
    "num_classes = y_train.shape[1]\n",
    "\n",
    "print(\"X train shape: \" + str(X_train.shape))\n",
    "print(\"Y train shape: \" + str(y_train.shape))\n",
    "print(\"X test shape: \" + str(X_test.shape))\n",
    "print(\"Y test shape: \" + str(y_test.shape))"
   ]
  },
  {
   "cell_type": "markdown",
   "metadata": {
    "id": "MN14qb9GmR6_"
   },
   "source": [
    "### CREATE MODEL\n",
    "> * Create base model\n",
    "> * Wrap it with KerasClassifier"
   ]
  },
  {
   "cell_type": "code",
   "execution_count": 7,
   "metadata": {
    "id": "p0ZgrDxXKh05"
   },
   "outputs": [],
   "source": [
    "# create base model\n",
    "def create_base_model():\n",
    "    model = Sequential()\n",
    "    model.add(LSTM(units=512, return_sequences=True, \n",
    "                 input_shape=(TIMESTEPS,NUM_FEATURES)))\n",
    "    model.add(Dropout(0.2))\n",
    "    model.add(BatchNormalization())\n",
    "    model.add(LSTM(units=256, return_sequences=True))\n",
    "    model.add(Dropout(0.2))\n",
    "    model.add(BatchNormalization())\n",
    "    model.add(LSTM(units=128, return_sequences=True))\n",
    "    model.add(Dropout(0.2))\n",
    "    model.add(BatchNormalization())\n",
    "    model.add(LSTM(units=64, return_sequences=True))\n",
    "    model.add(Dropout(0.2))\n",
    "    model.add(BatchNormalization())\n",
    "    # softmax for multi-class classification\n",
    "    model.add(Flatten())\n",
    "    model.add(Dense(num_classes, activation='softmax'))\n",
    "\n",
    "    model.compile(loss='categorical_crossentropy', optimizer='adam',\n",
    "                metrics=['accuracy'])\n",
    "    return model\n",
    "\n",
    "# wrap model in KerasClassifier\n",
    "def create_model():\n",
    "    model = KerasClassifier(build_fn=create_base_model, epochs=1000, \n",
    "                            batch_size=36)\n",
    "    return model"
   ]
  },
  {
   "cell_type": "markdown",
   "metadata": {
    "id": "5LouGE3MmbO1"
   },
   "source": [
    "### INITIATE KFOLD VALIDATION\n",
    "> * evaluate best kfold validation\n",
    "> * generate loss and accuracy graph\n",
    "> * perform actual kfold validation"
   ]
  },
  {
   "cell_type": "markdown",
   "metadata": {},
   "source": [
    "##### evaluate suitable kfold validation"
   ]
  },
  {
   "cell_type": "code",
   "execution_count": 8,
   "metadata": {
    "id": "6WDOQfPzV9-N"
   },
   "outputs": [],
   "source": [
    "# from sklearn.model_selection import LeaveOneOut\n",
    "# def evaluate_kfold(model, X_train, y_train, SEED):\n",
    "    \n",
    "#     # evaluate the model\n",
    "#     model = create_model()\n",
    "#     scores = cross_val_score(model, X_train, y_train, scoring='accuracy', cv=LeaveOneOut(), n_jobs=-1)\n",
    "#     ideal, _, _ = mean(scores), scores.min(), scores.max()\n",
    "#     print('Ideal: %.3f' % ideal)\n",
    "    \n",
    "#     folds = range(2,31)\n",
    "#     means, mins, maxs = list(), list(), list()\n",
    "    \n",
    "#     # evaluate each k value\n",
    "#     for k in folds:\n",
    "#         # define the test condition\n",
    "#         kfold = KFold(n_splits=k, shuffle=True, random_state=SEED)\n",
    "#         # evaluate k value\n",
    "#         model = create_model()\n",
    "#         scores = cross_val_score(model, X_train, y_train, scoring='accuracy', cv=LeaveOneOut(), n_jobs=-1)\n",
    "#         print(scores)\n",
    "#         k_mean = np.mean(scores)\n",
    "#         k_min = scores.min()\n",
    "#         k_max = scores.max()\n",
    "        \n",
    "#         # report performance\n",
    "#         print('> folds=%d, accuracy=%.3f%% (min=%.3f%%, max=%.3f%%)' %\n",
    "#               (k, k_mean*100, k_min*100, k_max*100))\n",
    "        \n",
    "#         # store mean accuracy\n",
    "#         means.append(k_mean)\n",
    "        \n",
    "#         # store min and max relative to the mean\n",
    "#         mins.append(k_mean - k_min)\n",
    "#         maxs.append(k_max - k_mean)\n",
    "        \n",
    "#     # line plot of k mean values with min/max error bars\n",
    "#     pyplot.errorbar(folds, means, yerr=[mins, maxs], fmt='o')\n",
    "#     # plot the ideal case in a separate color\n",
    "#     pyplot.plot(folds, [ideal for _ in range(len(folds))], color='r')\n",
    "#     # show the plot\n",
    "#     pyplot.show()\n",
    "    \n",
    "# evaluate_kfold(model, X_train, y_train, SEED)"
   ]
  },
  {
   "cell_type": "code",
   "execution_count": 9,
   "metadata": {},
   "outputs": [],
   "source": [
    "# ##################################################\n",
    "# # # evaluate kfold model for accuracy and loss # #\n",
    "# ##################################################\n",
    "# def evaluate_kfold_model(X_train, y_train, SEED):\n",
    "#     scores, histories = list(), list()\n",
    "#     # create model\n",
    "#     model = create_model()\n",
    "#     # prepare cross validation\n",
    "#     kfold = KFold(n_splits=10, shuffle=True, random_state=SEED)\n",
    "#     # enumerate splits\n",
    "#     for train_ix, test_ix in kfold.split(X_train):\n",
    "#         # select rows for train and test\n",
    "#         trainX, trainY, testX, testY = X_train[train_ix], y_train[train_ix], X_train[test_ix], y_train[test_ix]\n",
    "#         # fit model\n",
    "#         history = model.fit(trainX, trainY, epochs=100, batch_size=10, validation_data=(testX, testY), verbose=0)\n",
    "        \n",
    "#         # evaluate model\n",
    "#         y_pred = model.predict(testX)\n",
    "#         y_pred = to_categorical(y_pred)\n",
    "\n",
    "#         # evaluate predictions\n",
    "#         acc = accuracy_score(testY, y_pred)\n",
    "#         print(\"Testing accuracy: %.3f%%\" % (acc*100))\n",
    "\n",
    "#         # stores scores and histories\n",
    "#         scores.append(acc)\n",
    "#         histories.append(history)\n",
    "\n",
    "#     for i in range(len(histories)):\n",
    "#         # plot loss\n",
    "#         f1 = plt.figure(1)\n",
    "#         plt.title('Categorical Cross-Entropy Loss')\n",
    "#         plt.plot(histories[i].history['loss'], color='blue')\n",
    "#         plt.plot(histories[i].history['val_loss'], color='orange')\n",
    "#         plt.ylabel('loss')\n",
    "#         plt.xlabel('epoch')\n",
    "#         plt.legend(['train', 'test'], loc='upper right')\n",
    "\n",
    "#         # plot accuracy\n",
    "#         f2 = plt.figure(2)\n",
    "#         plt.title('Classification Accuracy')\n",
    "#         plt.plot(histories[i].history['accuracy'], color='blue')\n",
    "#         plt.plot(histories[i].history['val_accuracy'], color='orange')\n",
    "#         plt.ylabel('accuracy')\n",
    "#         plt.xlabel('epoch')\n",
    "#         plt.legend(['train', 'test'], loc='lower right')\n",
    "\n",
    "#     # print summary\n",
    "#     print('Accuracy: Mean=%.3f Std=%.3f, n=%d' % (np.mean(scores)*100, np.std(scores)*100, len(scores)))\n",
    "#     # box and whisker plots of results\n",
    "#     f3 = plt.figure(3)\n",
    "#     plt.title('Box and Whisker Plot of Accuracy Scores')\n",
    "#     plt.ylabel('accuracy')\n",
    "#     plt.xlabel('model')\n",
    "#     plt.boxplot(scores)\n",
    "#     plt.show()\n",
    "    \n",
    "# evaluate_kfold_model(X_train, y_train, SEED)"
   ]
  },
  {
   "cell_type": "markdown",
   "metadata": {
    "id": "GOSGgRxamf1f"
   },
   "source": [
    "##### Perform actual KFold Validation"
   ]
  },
  {
   "cell_type": "code",
   "execution_count": null,
   "metadata": {
    "colab": {
     "base_uri": "https://localhost:8080/"
    },
    "id": "G1KNEriNgU5q",
    "outputId": "4d7cd6e4-3c35-4582-bbd6-6fe6a1988d95",
    "scrolled": true
   },
   "outputs": [
    {
     "name": "stdout",
     "output_type": "stream",
     "text": [
      "Epoch 1/1000\n",
      "56/56 [==============================] - 6s 14ms/step - loss: 2.0267 - accuracy: 0.1965\n",
      "Epoch 2/1000\n",
      "56/56 [==============================] - 1s 14ms/step - loss: 1.8384 - accuracy: 0.2195\n",
      "Epoch 3/1000\n",
      "56/56 [==============================] - 1s 14ms/step - loss: 1.7980 - accuracy: 0.2095\n",
      "Epoch 4/1000\n",
      "56/56 [==============================] - 1s 15ms/step - loss: 1.7650 - accuracy: 0.2240\n",
      "Epoch 5/1000\n",
      "56/56 [==============================] - 1s 15ms/step - loss: 1.7606 - accuracy: 0.1955\n",
      "Epoch 6/1000\n",
      "56/56 [==============================] - 1s 14ms/step - loss: 1.7072 - accuracy: 0.2265\n",
      "Epoch 7/1000\n",
      "56/56 [==============================] - 1s 15ms/step - loss: 1.6913 - accuracy: 0.2225\n",
      "Epoch 8/1000\n",
      "56/56 [==============================] - 1s 17ms/step - loss: 1.6810 - accuracy: 0.2220\n",
      "Epoch 9/1000\n",
      "56/56 [==============================] - 1s 20ms/step - loss: 1.6774 - accuracy: 0.2160\n",
      "Epoch 10/1000\n",
      "56/56 [==============================] - 1s 20ms/step - loss: 1.6761 - accuracy: 0.2105\n",
      "Epoch 11/1000\n",
      "56/56 [==============================] - 1s 17ms/step - loss: 1.6468 - accuracy: 0.2250\n",
      "Epoch 12/1000\n",
      "56/56 [==============================] - 1s 16ms/step - loss: 1.6397 - accuracy: 0.2315\n",
      "Epoch 13/1000\n",
      "56/56 [==============================] - 1s 16ms/step - loss: 1.6242 - accuracy: 0.2375\n",
      "Epoch 14/1000\n",
      "56/56 [==============================] - 1s 17ms/step - loss: 1.6266 - accuracy: 0.2330\n",
      "Epoch 15/1000\n",
      "56/56 [==============================] - 1s 17ms/step - loss: 1.6185 - accuracy: 0.2400\n",
      "Epoch 16/1000\n",
      "56/56 [==============================] - 1s 16ms/step - loss: 1.6359 - accuracy: 0.2200\n",
      "Epoch 17/1000\n",
      "56/56 [==============================] - 1s 15ms/step - loss: 1.6147 - accuracy: 0.2470\n",
      "Epoch 18/1000\n",
      "56/56 [==============================] - 1s 15ms/step - loss: 1.6053 - accuracy: 0.2395\n",
      "Epoch 19/1000\n",
      "56/56 [==============================] - 1s 15ms/step - loss: 1.6209 - accuracy: 0.2335\n",
      "Epoch 20/1000\n",
      "56/56 [==============================] - 1s 15ms/step - loss: 1.5921 - accuracy: 0.2660\n",
      "Epoch 21/1000\n",
      "56/56 [==============================] - 1s 15ms/step - loss: 1.5944 - accuracy: 0.2470\n",
      "Epoch 22/1000\n",
      "13/56 [=====>........................] - ETA: 0s - loss: 1.6181 - accuracy: 0.2308"
     ]
    }
   ],
   "source": [
    "# create model\n",
    "model = create_model()\n",
    "\n",
    "num_folds = 2\n",
    "kfold = KFold(n_splits=num_folds, shuffle=True,\n",
    "              random_state=SEED)\n",
    "\n",
    "valid_score = cross_val_score(model, X_train, y_train, \n",
    "                          cv=kfold, error_score=\"raise\", verbose=0)"
   ]
  },
  {
   "cell_type": "markdown",
   "metadata": {},
   "source": [
    "##### Get Validation Accuracy"
   ]
  },
  {
   "cell_type": "code",
   "execution_count": null,
   "metadata": {},
   "outputs": [],
   "source": [
    "print(\"Validation Accuracy of %.2f%% (with standard deviation of %.2f%%)\" % \n",
    "      (valid_score.mean()*100, valid_score.std()*100))"
   ]
  },
  {
   "cell_type": "markdown",
   "metadata": {
    "id": "Yg36UBcsaNNo"
   },
   "source": [
    "### MODEL FITTING\n",
    "> * fit the model\n",
    "> * view the accuracy and loss graph\n",
    "> * view model summary"
   ]
  },
  {
   "cell_type": "code",
   "execution_count": null,
   "metadata": {
    "colab": {
     "base_uri": "https://localhost:8080/"
    },
    "id": "NotcydKxlfxM",
    "outputId": "9cb1a41e-7c96-47a7-ec0c-2b8d79cf4888"
   },
   "outputs": [],
   "source": [
    "#####################\n",
    "# # fit the model # #\n",
    "#####################\n",
    "es = EarlyStopping(monitor='loss', mode='min', min_delta=0.001, patience=50,\n",
    "                   verbose=0)\n",
    "history = model.fit(X_train, y_train, callbacks=es)"
   ]
  },
  {
   "cell_type": "code",
   "execution_count": null,
   "metadata": {},
   "outputs": [],
   "source": [
    "##########################\n",
    "# # get model accuracy # #\n",
    "##########################\n",
    "plt.plot(history.history['accuracy'])\n",
    "plt.title('Model Accuracy')\n",
    "plt.ylabel('accuracy')\n",
    "plt.xlabel('epoch')\n",
    "plt.legend(['train'], loc='upper left')\n",
    "plt.show()\n",
    "\n",
    "######################\n",
    "# # get model loss # #\n",
    "######################\n",
    "plt.plot(history.history['loss'])\n",
    "plt.title('Model Loss')\n",
    "plt.ylabel('loss')\n",
    "plt.xlabel('epoch')\n",
    "plt.legend(['train'], loc='upper left')\n",
    "plt.show()"
   ]
  },
  {
   "cell_type": "code",
   "execution_count": null,
   "metadata": {},
   "outputs": [],
   "source": [
    "##########################\n",
    "# # view model summary # #\n",
    "##########################\n",
    "model.model.summary()"
   ]
  },
  {
   "cell_type": "markdown",
   "metadata": {},
   "source": [
    "### MODEL TESTING\n",
    "> * get model accuracy on the test dataset\n",
    "> * save the model if appropriate"
   ]
  },
  {
   "cell_type": "code",
   "execution_count": null,
   "metadata": {},
   "outputs": [],
   "source": [
    "y_pred = model.predict(X_test)\n",
    "y_pred = to_categorical(y_pred)\n",
    "\n",
    "# evaluate predictions\n",
    "acc = accuracy_score(y_test, y_pred)\n",
    "print(\"Testing accuracy: %.3f%%\" % (acc*100))"
   ]
  },
  {
   "cell_type": "code",
   "execution_count": null,
   "metadata": {
    "colab": {
     "base_uri": "https://localhost:8080/"
    },
    "id": "P9tiN8kZA7_j",
    "outputId": "db1ce529-56ce-4f3a-c779-f2d5675d98fa"
   },
   "outputs": [],
   "source": [
    "##################\n",
    "# # save model # #\n",
    "##################\n",
    "\n",
    "model.model.save(\"model/key_classifier.h5\")\n",
    "\n",
    "###########################\n",
    "# # save model in colab # #\n",
    "###########################\n",
    "\n",
    "# model.model.save(F\"/content/gdrive/My Drive/Colab Notebooks/overall_key_classifier.h5\")"
   ]
  },
  {
   "cell_type": "markdown",
   "metadata": {},
   "source": [
    "### LOAD MODEL"
   ]
  },
  {
   "cell_type": "code",
   "execution_count": null,
   "metadata": {},
   "outputs": [],
   "source": [
    "##################\n",
    "# # load model # #\n",
    "##################\n",
    "\n",
    "model.model = load_model(\"model/key_classifier.h5\")\n",
    "\n",
    "###########################\n",
    "# # load model in colab # #\n",
    "###########################\n",
    "\n",
    "# model.model = load_model(\"/content/gdrive/My Drive/Colab Notebooks/overall_key_classifier.h5\")"
   ]
  },
  {
   "cell_type": "markdown",
   "metadata": {},
   "source": [
    "### LIVE TESTING\n",
    "> * import any new data to perform testing and prediction"
   ]
  },
  {
   "cell_type": "code",
   "execution_count": null,
   "metadata": {
    "colab": {
     "base_uri": "https://localhost:8080/"
    },
    "id": "no99ee2sVZvL",
    "outputId": "912c447c-7184-43c0-e895-db734c9dbb83",
    "scrolled": true
   },
   "outputs": [],
   "source": [
    "# import unseen data\n",
    "pred_df = pd.read_csv(TEST_DATA_LINK)\n",
    "pred_df.head()"
   ]
  },
  {
   "cell_type": "code",
   "execution_count": null,
   "metadata": {},
   "outputs": [],
   "source": [
    "################################\n",
    "# # check for class validity # #\n",
    "################################\n",
    "sns.set_theme(style=\"darkgrid\")\n",
    "ax = sns.countplot(x=\"subject\", data=pred_df).set_title(\"Class Validity\")\n",
    "\n",
    "# remove missing values if available\n",
    "df = df.dropna()"
   ]
  },
  {
   "cell_type": "code",
   "execution_count": null,
   "metadata": {},
   "outputs": [],
   "source": [
    "pred_dataset = pred_df.values\n",
    "\n",
    "# divide data into features X\n",
    "# X_new = new_dataset[:,3:].astype(float)\n",
    "\n",
    "#################################\n",
    "# # predict more than one row # #\n",
    "#################################\n",
    "\n",
    "pred_row=pred_df.iloc[:,3:]\n",
    "\n",
    "############################\n",
    "# # predict a single row # #\n",
    "############################\n",
    "\n",
    "# pred_row=pred_df.iloc[0:2,3:]\n",
    "\n",
    "################################\n",
    "# # normalise and shape data # #\n",
    "################################\n",
    "pred_row = pred_row.values.tolist()\n",
    "pred_row = scaler.transform(pred_row)\n",
    "pred_arr = np.asarray(pred_row, dtype=np.float32)\n",
    "pred_arr = np.reshape(pred_arr, (pred_row.shape[0], TIMESTEPS, pred_arr.shape[1]))"
   ]
  },
  {
   "cell_type": "code",
   "execution_count": null,
   "metadata": {
    "colab": {
     "base_uri": "https://localhost:8080/"
    },
    "id": "bZF7p6lFVZxE",
    "outputId": "dce80def-0eaf-4102-a082-b589001ed6c0"
   },
   "outputs": [],
   "source": [
    "####################################\n",
    "# # get prediction and its label # #\n",
    "####################################\n",
    "\n",
    "pred = model.predict(pred_arr)\n",
    "pred = to_categorical(pred)\n",
    "pred = encoder.inverse_transform(pred)\n",
    "pred = np.ravel(pred)\n",
    "\n",
    "pred_proba = model.predict_proba(pred_arr)\n",
    "acc = np.max(pred_proba, axis=1)\n",
    "\n",
    "pred_results = np.column_stack((pred, acc))\n",
    "\n",
    "df = pd.DataFrame(data=pred_results, index=None, columns=['Prediction', 'Accuracy'])\n",
    "print(df)"
   ]
  },
  {
   "cell_type": "code",
   "execution_count": null,
   "metadata": {},
   "outputs": [],
   "source": []
  }
 ],
 "metadata": {
  "accelerator": "GPU",
  "colab": {
   "collapsed_sections": [],
   "name": "keystroke.ipynb",
   "provenance": []
  },
  "kernelspec": {
   "display_name": "Python 3 (ipykernel)",
   "language": "python",
   "name": "python3"
  },
  "language_info": {
   "codemirror_mode": {
    "name": "ipython",
    "version": 3
   },
   "file_extension": ".py",
   "mimetype": "text/x-python",
   "name": "python",
   "nbconvert_exporter": "python",
   "pygments_lexer": "ipython3",
   "version": "3.9.7"
  }
 },
 "nbformat": 4,
 "nbformat_minor": 1
}
