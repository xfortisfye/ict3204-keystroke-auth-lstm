{
 "cells": [
  {
   "cell_type": "markdown",
   "metadata": {
    "id": "vykXcSSQS963"
   },
   "source": [
    "## Import"
   ]
  },
  {
   "cell_type": "code",
   "execution_count": 12,
   "metadata": {
    "id": "_SYp3mztS965"
   },
   "outputs": [],
   "source": [
    "#################################\n",
    "# # when running google colab # #\n",
    "#################################\n",
    "# from google.colab import drive\n",
    "# drive.mount('/content/gdrive')\n",
    "# !pip install scikeras --quiet"
   ]
  },
  {
   "cell_type": "code",
   "execution_count": 44,
   "metadata": {
    "executionInfo": {
     "elapsed": 6176,
     "status": "ok",
     "timestamp": 1638117784321,
     "user": {
      "displayName": "QIIKAII",
      "photoUrl": "https://lh3.googleusercontent.com/a-/AOh14GiJOdYwJsRvwYnsXYnOzQM51xYuWLYsahwvlDNSBQ=s64",
      "userId": "18419578418508292348"
     },
     "user_tz": -480
    },
    "id": "DriiaId_J7TH"
   },
   "outputs": [],
   "source": [
    "import numpy as np\n",
    "import pandas as pd\n",
    "import tensorflow as tf\n",
    "import matplotlib.pyplot as plt\n",
    "from matplotlib import pyplot\n",
    "import seaborn as sns\n",
    "\n",
    "import warnings\n",
    "warnings.filterwarnings('ignore')\n",
    "\n",
    "from keras.utils.np_utils import to_categorical \n",
    "from tensorflow.keras.callbacks import EarlyStopping\n",
    "from keras.models import Sequential\n",
    "from keras.layers import Dense, Dropout, \\\n",
    "    BatchNormalization, Flatten, LSTM\n",
    "# from scikeras.wrappers import KerasClassifier\n",
    "from keras.wrappers.scikit_learn import KerasClassifier\n",
    "from keras.models import load_model\n",
    "\n",
    "from sklearn.preprocessing import MinMaxScaler\n",
    "from sklearn.model_selection import train_test_split\n",
    "# from sklearn.model_selection import StratifiedKFold\n",
    "from sklearn.model_selection import cross_val_score\n",
    "from sklearn.model_selection import KFold\n",
    "from sklearn.metrics import accuracy_score, confusion_matrix\n",
    "from sklearn.metrics import roc_curve, roc_auc_score, auc\n",
    "from sklearn.preprocessing import OneHotEncoder\n",
    "\n",
    "from sklearn.metrics import roc_curve, auc\n",
    "\n",
    "from itertools import cycle\n",
    "from scipy import interp\n",
    "from scipy.optimize import brentq\n",
    "from scipy.interpolate import interp1d\n",
    "\n",
    "N_FEATURES = 31\n",
    "TIMESTEPS = 1\n",
    "DATASET_LINK = \"dataset/overall.csv\"\n",
    "TEST_DATA_LINK = \"dataset/overall_test.csv\"\n",
    "\n",
    "# random seed for reproducibility\n",
    "SEED = 123"
   ]
  },
  {
   "cell_type": "markdown",
   "metadata": {
    "id": "F9LuaURiPqv3"
   },
   "source": [
    "### LOAD DATASET\n",
    "> * Check for class imbalance"
   ]
  },
  {
   "cell_type": "code",
   "execution_count": 45,
   "metadata": {
    "colab": {
     "base_uri": "https://localhost:8080/",
     "height": 224
    },
    "executionInfo": {
     "elapsed": 781,
     "status": "ok",
     "timestamp": 1638117786701,
     "user": {
      "displayName": "QIIKAII",
      "photoUrl": "https://lh3.googleusercontent.com/a-/AOh14GiJOdYwJsRvwYnsXYnOzQM51xYuWLYsahwvlDNSBQ=s64",
      "userId": "18419578418508292348"
     },
     "user_tz": -480
    },
    "id": "066fT-NcPqVL",
    "outputId": "58aafcbf-5a2b-40d9-c601-ad9bf69e9e03"
   },
   "outputs": [
    {
     "data": {
      "text/html": [
       "<div>\n",
       "<style scoped>\n",
       "    .dataframe tbody tr th:only-of-type {\n",
       "        vertical-align: middle;\n",
       "    }\n",
       "\n",
       "    .dataframe tbody tr th {\n",
       "        vertical-align: top;\n",
       "    }\n",
       "\n",
       "    .dataframe thead th {\n",
       "        text-align: right;\n",
       "    }\n",
       "</style>\n",
       "<table border=\"1\" class=\"dataframe\">\n",
       "  <thead>\n",
       "    <tr style=\"text-align: right;\">\n",
       "      <th></th>\n",
       "      <th>subject</th>\n",
       "      <th>sessionIndex</th>\n",
       "      <th>rep</th>\n",
       "      <th>H.period</th>\n",
       "      <th>DD.period.t</th>\n",
       "      <th>UD.period.t</th>\n",
       "      <th>H.t</th>\n",
       "      <th>DD.t.i</th>\n",
       "      <th>UD.t.i</th>\n",
       "      <th>H.i</th>\n",
       "      <th>...</th>\n",
       "      <th>H.a</th>\n",
       "      <th>DD.a.n</th>\n",
       "      <th>UD.a.n</th>\n",
       "      <th>H.n</th>\n",
       "      <th>DD.n.l</th>\n",
       "      <th>UD.n.l</th>\n",
       "      <th>H.l</th>\n",
       "      <th>DD.l.Return</th>\n",
       "      <th>UD.l.Return</th>\n",
       "      <th>H.Return</th>\n",
       "    </tr>\n",
       "  </thead>\n",
       "  <tbody>\n",
       "    <tr>\n",
       "      <th>0</th>\n",
       "      <td>Andy</td>\n",
       "      <td>1</td>\n",
       "      <td>1</td>\n",
       "      <td>0.142176</td>\n",
       "      <td>0.156880</td>\n",
       "      <td>0.014704</td>\n",
       "      <td>0.127937</td>\n",
       "      <td>0.142299</td>\n",
       "      <td>0.014361</td>\n",
       "      <td>0.155919</td>\n",
       "      <td>...</td>\n",
       "      <td>0.128263</td>\n",
       "      <td>0.085967</td>\n",
       "      <td>-0.042296</td>\n",
       "      <td>0.120442</td>\n",
       "      <td>0.209372</td>\n",
       "      <td>0.088930</td>\n",
       "      <td>0.116911</td>\n",
       "      <td>0.165437</td>\n",
       "      <td>0.048526</td>\n",
       "      <td>0.160258</td>\n",
       "    </tr>\n",
       "    <tr>\n",
       "      <th>1</th>\n",
       "      <td>Andy</td>\n",
       "      <td>1</td>\n",
       "      <td>2</td>\n",
       "      <td>0.141793</td>\n",
       "      <td>0.164635</td>\n",
       "      <td>0.022842</td>\n",
       "      <td>0.121625</td>\n",
       "      <td>0.152146</td>\n",
       "      <td>0.030520</td>\n",
       "      <td>0.137039</td>\n",
       "      <td>...</td>\n",
       "      <td>0.144490</td>\n",
       "      <td>0.082397</td>\n",
       "      <td>-0.062093</td>\n",
       "      <td>0.101188</td>\n",
       "      <td>0.126066</td>\n",
       "      <td>0.024878</td>\n",
       "      <td>0.098424</td>\n",
       "      <td>0.130661</td>\n",
       "      <td>0.032238</td>\n",
       "      <td>0.173819</td>\n",
       "    </tr>\n",
       "    <tr>\n",
       "      <th>2</th>\n",
       "      <td>Andy</td>\n",
       "      <td>1</td>\n",
       "      <td>3</td>\n",
       "      <td>0.157152</td>\n",
       "      <td>0.147220</td>\n",
       "      <td>-0.009932</td>\n",
       "      <td>0.134796</td>\n",
       "      <td>0.145790</td>\n",
       "      <td>0.010994</td>\n",
       "      <td>0.124892</td>\n",
       "      <td>...</td>\n",
       "      <td>0.135452</td>\n",
       "      <td>0.082423</td>\n",
       "      <td>-0.053029</td>\n",
       "      <td>0.108598</td>\n",
       "      <td>0.155843</td>\n",
       "      <td>0.047244</td>\n",
       "      <td>0.118759</td>\n",
       "      <td>0.146550</td>\n",
       "      <td>0.027791</td>\n",
       "      <td>0.173512</td>\n",
       "    </tr>\n",
       "    <tr>\n",
       "      <th>3</th>\n",
       "      <td>Andy</td>\n",
       "      <td>1</td>\n",
       "      <td>4</td>\n",
       "      <td>0.158673</td>\n",
       "      <td>0.142487</td>\n",
       "      <td>-0.016186</td>\n",
       "      <td>0.118908</td>\n",
       "      <td>0.159179</td>\n",
       "      <td>0.040271</td>\n",
       "      <td>0.133175</td>\n",
       "      <td>...</td>\n",
       "      <td>0.114266</td>\n",
       "      <td>0.072556</td>\n",
       "      <td>-0.041711</td>\n",
       "      <td>0.101937</td>\n",
       "      <td>0.145692</td>\n",
       "      <td>0.043755</td>\n",
       "      <td>0.096300</td>\n",
       "      <td>0.122580</td>\n",
       "      <td>0.026280</td>\n",
       "      <td>0.190808</td>\n",
       "    </tr>\n",
       "    <tr>\n",
       "      <th>4</th>\n",
       "      <td>Andy</td>\n",
       "      <td>1</td>\n",
       "      <td>5</td>\n",
       "      <td>0.166583</td>\n",
       "      <td>0.157102</td>\n",
       "      <td>-0.009480</td>\n",
       "      <td>0.115094</td>\n",
       "      <td>0.141103</td>\n",
       "      <td>0.026009</td>\n",
       "      <td>0.135121</td>\n",
       "      <td>...</td>\n",
       "      <td>0.125474</td>\n",
       "      <td>0.089247</td>\n",
       "      <td>-0.036227</td>\n",
       "      <td>0.114211</td>\n",
       "      <td>0.149136</td>\n",
       "      <td>0.034925</td>\n",
       "      <td>0.121197</td>\n",
       "      <td>0.230113</td>\n",
       "      <td>0.108917</td>\n",
       "      <td>0.143299</td>\n",
       "    </tr>\n",
       "  </tbody>\n",
       "</table>\n",
       "<p>5 rows × 34 columns</p>\n",
       "</div>"
      ],
      "text/plain": [
       "  subject  sessionIndex  rep  H.period  DD.period.t  UD.period.t       H.t  \\\n",
       "0    Andy             1    1  0.142176     0.156880     0.014704  0.127937   \n",
       "1    Andy             1    2  0.141793     0.164635     0.022842  0.121625   \n",
       "2    Andy             1    3  0.157152     0.147220    -0.009932  0.134796   \n",
       "3    Andy             1    4  0.158673     0.142487    -0.016186  0.118908   \n",
       "4    Andy             1    5  0.166583     0.157102    -0.009480  0.115094   \n",
       "\n",
       "     DD.t.i    UD.t.i       H.i  ...       H.a    DD.a.n    UD.a.n       H.n  \\\n",
       "0  0.142299  0.014361  0.155919  ...  0.128263  0.085967 -0.042296  0.120442   \n",
       "1  0.152146  0.030520  0.137039  ...  0.144490  0.082397 -0.062093  0.101188   \n",
       "2  0.145790  0.010994  0.124892  ...  0.135452  0.082423 -0.053029  0.108598   \n",
       "3  0.159179  0.040271  0.133175  ...  0.114266  0.072556 -0.041711  0.101937   \n",
       "4  0.141103  0.026009  0.135121  ...  0.125474  0.089247 -0.036227  0.114211   \n",
       "\n",
       "     DD.n.l    UD.n.l       H.l  DD.l.Return  UD.l.Return  H.Return  \n",
       "0  0.209372  0.088930  0.116911     0.165437     0.048526  0.160258  \n",
       "1  0.126066  0.024878  0.098424     0.130661     0.032238  0.173819  \n",
       "2  0.155843  0.047244  0.118759     0.146550     0.027791  0.173512  \n",
       "3  0.145692  0.043755  0.096300     0.122580     0.026280  0.190808  \n",
       "4  0.149136  0.034925  0.121197     0.230113     0.108917  0.143299  \n",
       "\n",
       "[5 rows x 34 columns]"
      ]
     },
     "execution_count": 45,
     "metadata": {},
     "output_type": "execute_result"
    }
   ],
   "source": [
    "# loading of dataset\n",
    "df = pd.read_csv(DATASET_LINK)\n",
    "\n",
    "df.head()"
   ]
  },
  {
   "cell_type": "code",
   "execution_count": 46,
   "metadata": {
    "colab": {
     "base_uri": "https://localhost:8080/",
     "height": 625
    },
    "executionInfo": {
     "elapsed": 1091,
     "status": "error",
     "timestamp": 1638115596353,
     "user": {
      "displayName": "QIIKAII",
      "photoUrl": "https://lh3.googleusercontent.com/a-/AOh14GiJOdYwJsRvwYnsXYnOzQM51xYuWLYsahwvlDNSBQ=s64",
      "userId": "18419578418508292348"
     },
     "user_tz": -480
    },
    "id": "d28icPmWaXsa",
    "outputId": "2631d3d7-8437-4b6f-c3e9-9c3c902d1402"
   },
   "outputs": [
    {
     "data": {
      "text/plain": [
       "<seaborn.axisgrid.FacetGrid at 0x1bd3ff04d00>"
      ]
     },
     "execution_count": 46,
     "metadata": {},
     "output_type": "execute_result"
    },
    {
     "data": {
      "image/png": "[encoded data removed]",
      "text/plain": [
       "<Figure size 432x288 with 1 Axes>"
      ]
     },
     "metadata": {},
     "output_type": "display_data"
    },
    {
     "data": {
      "image/png": "[encoded data removed]",
      "text/plain": [
       "<Figure size 360x360 with 1 Axes>"
      ]
     },
     "metadata": {},
     "output_type": "display_data"
    }
   ],
   "source": [
    "#################################\n",
    "# # check for class imbalance # #\n",
    "#################################\n",
    "\n",
    "sns.set_theme(style=\"darkgrid\")\n",
    "ax = sns.countplot(x=\"subject\", data=df).set_title(\"Class Imbalance\")\n",
    "\n",
    "# remove missing values if available\n",
    "df = df.dropna()\n",
    "\n",
    "sns.catplot(x=\"subject\", y=\"H.Return\", data=df)"
   ]
  },
  {
   "cell_type": "markdown",
   "metadata": {
    "id": "_6JS2iGzS969"
   },
   "source": [
    "### PREPARING DATASET\n",
    "> * Split data into X and Y \n",
    "> * Convert Y into one-hot-encoding"
   ]
  },
  {
   "cell_type": "code",
   "execution_count": 47,
   "metadata": {
    "colab": {
     "base_uri": "https://localhost:8080/"
    },
    "executionInfo": {
     "elapsed": 301,
     "status": "ok",
     "timestamp": 1638117791232,
     "user": {
      "displayName": "QIIKAII",
      "photoUrl": "https://lh3.googleusercontent.com/a-/AOh14GiJOdYwJsRvwYnsXYnOzQM51xYuWLYsahwvlDNSBQ=s64",
      "userId": "18419578418508292348"
     },
     "user_tz": -480
    },
    "id": "JPl7j2SfHWLI",
    "outputId": "f9dcc8a8-7626-40df-fd02-a3dd200c28cd"
   },
   "outputs": [
    {
     "name": "stdout",
     "output_type": "stream",
     "text": [
      "Encoder is able to decipher: \n",
      "['x0_Andy' 'x0_Azfar' 'x0_Chris' 'x0_Qikai' 'x0_Safaraz']\n",
      "\n",
      "\n",
      "X dataset shape: (500, 31)\n",
      "Y dataset shape: (500, 5)\n"
     ]
    }
   ],
   "source": [
    "dataset = df.values\n",
    "\n",
    "# divide data into features X and target (classes) Y\n",
    "X = dataset[:,3:].astype(float)\n",
    "Y = dataset[:,0]\n",
    "\n",
    "# convert target Y to one hot encoded Y for model\n",
    "Y = Y.reshape(-1, 1)\n",
    "encoder = OneHotEncoder().fit(Y)\n",
    "Y = encoder.transform(Y).toarray()\n",
    "\n",
    "#################################\n",
    "# # get all the encoded class # #\n",
    "#################################\n",
    "print(\"Encoder is able to decipher: \")\n",
    "print(encoder.get_feature_names_out())\n",
    "print(\"\\n\")\n",
    "\n",
    "###########################\n",
    "# # print X and Y shape # #\n",
    "###########################\n",
    "print(\"X dataset shape: \" + str(X.shape))\n",
    "print(\"Y dataset shape: \" + str(Y.shape))"
   ]
  },
  {
   "cell_type": "markdown",
   "metadata": {
    "id": "LpOqfe88l6kY"
   },
   "source": [
    "### SPLITTING DATASET\n",
    "> * Split data into train and test dataset \n",
    "> * Normalisation performed based on X_train\n",
    "> * Reshaping of dataset for LSTM Timesteps"
   ]
  },
  {
   "cell_type": "code",
   "execution_count": 17,
   "metadata": {
    "colab": {
     "base_uri": "https://localhost:8080/"
    },
    "executionInfo": {
     "elapsed": 375,
     "status": "ok",
     "timestamp": 1638117793955,
     "user": {
      "displayName": "QIIKAII",
      "photoUrl": "https://lh3.googleusercontent.com/a-/AOh14GiJOdYwJsRvwYnsXYnOzQM51xYuWLYsahwvlDNSBQ=s64",
      "userId": "18419578418508292348"
     },
     "user_tz": -480
    },
    "id": "6_WWovqJnT7M",
    "outputId": "6cd6e7ff-4c11-4b2f-eff4-d7d16078b99c"
   },
   "outputs": [
    {
     "name": "stdout",
     "output_type": "stream",
     "text": [
      "X train shape: (400, 1, 31)\n",
      "Y train shape: (400, 5)\n",
      "X test shape: (100, 1, 31)\n",
      "Y test shape: (100, 5)\n"
     ]
    }
   ],
   "source": [
    "##############################################################\n",
    "# # split dataset into train and test set of 0.8/0.2 ratio # #\n",
    "##############################################################\n",
    "X_train, X_test, y_train, y_test = train_test_split(\n",
    "    X, Y, test_size=0.2, random_state=SEED)\n",
    "\n",
    "\n",
    "##############################################\n",
    "# # normalisation and reshaping of dataset # #\n",
    "##############################################\n",
    "# normalisation to 0 to 1\n",
    "# scaler = MinMaxScaler(feature_range=(0, 1))\n",
    "# X_train = scaler.fit_transform(X_train)\n",
    "# X_test = scaler.transform(X_test)\n",
    "\n",
    "# reshaping the dataset to include LSTM Timesteps\n",
    "X_train = np.asarray(X_train, dtype=np.float32)\n",
    "X_train = np.reshape(X_train, (X_train.shape[0], TIMESTEPS, X_train.shape[1]))\n",
    "X_test = np.asarray(X_test, dtype=np.float32)\n",
    "X_test = np.reshape(X_test, (X_test.shape[0], TIMESTEPS, X_test.shape[1]))\n",
    "\n",
    "# retrieve number of classes\n",
    "n_classes = y_train.shape[1]\n",
    "\n",
    "print(\"X train shape: \" + str(X_train.shape))\n",
    "print(\"Y train shape: \" + str(y_train.shape))\n",
    "print(\"X test shape: \" + str(X_test.shape))\n",
    "print(\"Y test shape: \" + str(y_test.shape))"
   ]
  },
  {
   "cell_type": "markdown",
   "metadata": {
    "id": "MN14qb9GmR6_"
   },
   "source": [
    "### CREATE MODEL\n",
    "> * Create base model\n",
    "> * Wrap it with KerasClassifier"
   ]
  },
  {
   "cell_type": "code",
   "execution_count": 18,
   "metadata": {
    "executionInfo": {
     "elapsed": 316,
     "status": "ok",
     "timestamp": 1638117795922,
     "user": {
      "displayName": "QIIKAII",
      "photoUrl": "https://lh3.googleusercontent.com/a-/AOh14GiJOdYwJsRvwYnsXYnOzQM51xYuWLYsahwvlDNSBQ=s64",
      "userId": "18419578418508292348"
     },
     "user_tz": -480
    },
    "id": "p0ZgrDxXKh05"
   },
   "outputs": [],
   "source": [
    "# create base model\n",
    "def create_base_model():\n",
    "    model = Sequential()\n",
    "    model.add(LSTM(units=128, return_sequences=True, \n",
    "                 input_shape=(TIMESTEPS,N_FEATURES)))\n",
    "    model.add(Dropout(0.2))\n",
    "    model.add(BatchNormalization())\n",
    "    model.add(LSTM(units=128, return_sequences=True))\n",
    "    model.add(Dropout(0.2))\n",
    "    model.add(BatchNormalization())\n",
    "    model.add(LSTM(units=64, return_sequences=True))\n",
    "    model.add(Dropout(0.2))\n",
    "    model.add(BatchNormalization())\n",
    "    # softmax for multi-class classification\n",
    "    model.add(Flatten())\n",
    "    model.add(Dense(n_classes, activation='softmax'))\n",
    "\n",
    "    model.compile(loss='categorical_crossentropy', optimizer='adam',\n",
    "                metrics=['accuracy'])\n",
    "    return model\n",
    "\n",
    "# wrap model in KerasClassifier\n",
    "def create_model():\n",
    "    model = KerasClassifier(build_fn=create_base_model, epochs=100, \n",
    "                            batch_size=10)\n",
    "    return model"
   ]
  },
  {
   "cell_type": "markdown",
   "metadata": {
    "id": "5LouGE3MmbO1"
   },
   "source": [
    "### INITIATE KFOLD VALIDATION\n",
    "> * evaluate best kfold validation\n",
    "> * generate loss and accuracy graph\n",
    "> * perform actual kfold validation"
   ]
  },
  {
   "cell_type": "markdown",
   "metadata": {
    "id": "qxwawov4S96_"
   },
   "source": [
    "##### evaluate suitable folds for kfold validation"
   ]
  },
  {
   "cell_type": "code",
   "execution_count": 8,
   "metadata": {
    "executionInfo": {
     "elapsed": 307,
     "status": "ok",
     "timestamp": 1638117799569,
     "user": {
      "displayName": "QIIKAII",
      "photoUrl": "https://lh3.googleusercontent.com/a-/AOh14GiJOdYwJsRvwYnsXYnOzQM51xYuWLYsahwvlDNSBQ=s64",
      "userId": "18419578418508292348"
     },
     "user_tz": -480
    },
    "id": "6WDOQfPzV9-N"
   },
   "outputs": [
    {
     "ename": "NameError",
     "evalue": "name 'LeaveOneOut' is not defined",
     "output_type": "error",
     "traceback": [
      "\u001b[1;31m---------------------------------------------------------------------------\u001b[0m",
      "\u001b[1;31mNameError\u001b[0m                                 Traceback (most recent call last)",
      "\u001b[1;32m~\\AppData\\Local\\Temp/ipykernel_5084/1780942222.py\u001b[0m in \u001b[0;36m<module>\u001b[1;34m\u001b[0m\n\u001b[0;32m     35\u001b[0m     \u001b[0mpyplot\u001b[0m\u001b[1;33m.\u001b[0m\u001b[0mshow\u001b[0m\u001b[1;33m(\u001b[0m\u001b[1;33m)\u001b[0m\u001b[1;33m\u001b[0m\u001b[1;33m\u001b[0m\u001b[0m\n\u001b[0;32m     36\u001b[0m \u001b[1;33m\u001b[0m\u001b[0m\n\u001b[1;32m---> 37\u001b[1;33m \u001b[0mevaluate_kfold\u001b[0m\u001b[1;33m(\u001b[0m\u001b[0mX_train\u001b[0m\u001b[1;33m,\u001b[0m \u001b[0my_train\u001b[0m\u001b[1;33m,\u001b[0m \u001b[0mSEED\u001b[0m\u001b[1;33m)\u001b[0m\u001b[1;33m\u001b[0m\u001b[1;33m\u001b[0m\u001b[0m\n\u001b[0m",
      "\u001b[1;32m~\\AppData\\Local\\Temp/ipykernel_5084/1780942222.py\u001b[0m in \u001b[0;36mevaluate_kfold\u001b[1;34m(X_train, y_train, SEED)\u001b[0m\n\u001b[0;32m     12\u001b[0m         \u001b[1;31m# evaluate k value\u001b[0m\u001b[1;33m\u001b[0m\u001b[1;33m\u001b[0m\u001b[0m\n\u001b[0;32m     13\u001b[0m         \u001b[0mmodel\u001b[0m \u001b[1;33m=\u001b[0m \u001b[0mcreate_model\u001b[0m\u001b[1;33m(\u001b[0m\u001b[1;33m)\u001b[0m\u001b[1;33m\u001b[0m\u001b[1;33m\u001b[0m\u001b[0m\n\u001b[1;32m---> 14\u001b[1;33m         \u001b[0mscores\u001b[0m \u001b[1;33m=\u001b[0m \u001b[0mcross_val_score\u001b[0m\u001b[1;33m(\u001b[0m\u001b[0mmodel\u001b[0m\u001b[1;33m,\u001b[0m \u001b[0mX_train\u001b[0m\u001b[1;33m,\u001b[0m \u001b[0my_train\u001b[0m\u001b[1;33m,\u001b[0m \u001b[0mscoring\u001b[0m\u001b[1;33m=\u001b[0m\u001b[1;34m'accuracy'\u001b[0m\u001b[1;33m,\u001b[0m \u001b[0mcv\u001b[0m\u001b[1;33m=\u001b[0m\u001b[0mLeaveOneOut\u001b[0m\u001b[1;33m(\u001b[0m\u001b[1;33m)\u001b[0m\u001b[1;33m,\u001b[0m \u001b[0mn_jobs\u001b[0m\u001b[1;33m=\u001b[0m\u001b[1;33m-\u001b[0m\u001b[1;36m1\u001b[0m\u001b[1;33m)\u001b[0m\u001b[1;33m\u001b[0m\u001b[1;33m\u001b[0m\u001b[0m\n\u001b[0m\u001b[0;32m     15\u001b[0m         \u001b[0mprint\u001b[0m\u001b[1;33m(\u001b[0m\u001b[0mscores\u001b[0m\u001b[1;33m)\u001b[0m\u001b[1;33m\u001b[0m\u001b[1;33m\u001b[0m\u001b[0m\n\u001b[0;32m     16\u001b[0m         \u001b[0mk_mean\u001b[0m \u001b[1;33m=\u001b[0m \u001b[0mnp\u001b[0m\u001b[1;33m.\u001b[0m\u001b[0mmean\u001b[0m\u001b[1;33m(\u001b[0m\u001b[0mscores\u001b[0m\u001b[1;33m)\u001b[0m\u001b[1;33m\u001b[0m\u001b[1;33m\u001b[0m\u001b[0m\n",
      "\u001b[1;31mNameError\u001b[0m: name 'LeaveOneOut' is not defined"
     ]
    }
   ],
   "source": [
    "# from sklearn.model_selection import LeaveOneOut\n",
    "def evaluate_kfold(X_train, y_train, SEED):\n",
    "    \n",
    "    # evaluate the model    \n",
    "    folds = range(2,11)\n",
    "    means, mins, maxs = list(), list(), list()\n",
    "    \n",
    "    # evaluate each k value\n",
    "    for k in folds:\n",
    "        # define the test condition\n",
    "        kfold = KFold(n_splits=k, shuffle=True, random_state=SEED)\n",
    "        # evaluate k value\n",
    "        model = create_model()\n",
    "        scores = cross_val_score(model, X_train, y_train, scoring='accuracy', cv=kfold, n_jobs=-1)\n",
    "        print(scores)\n",
    "        k_mean = np.mean(scores)\n",
    "        k_min = scores.min()\n",
    "        k_max = scores.max()\n",
    "        \n",
    "        # report performance\n",
    "        print('> folds=%d, accuracy=%.3f%% (min=%.3f%%, max=%.3f%%)' %\n",
    "              (k, k_mean*100, k_min*100, k_max*100))\n",
    "        \n",
    "        # store mean accuracy\n",
    "        means.append(k_mean)\n",
    "        \n",
    "        # store min and max relative to the mean\n",
    "        mins.append(k_mean - k_min)\n",
    "        maxs.append(k_max - k_mean)\n",
    "        \n",
    "    # line plot of k mean values with min/max error bars\n",
    "    pyplot.errorbar(folds, means, yerr=[mins, maxs], fmt='o')\n",
    "    \n",
    "    # show the plot\n",
    "    pyplot.show()\n",
    "    \n",
    "evaluate_kfold(X_train, y_train, SEED)"
   ]
  },
  {
   "cell_type": "markdown",
   "metadata": {},
   "source": [
    "##### generate kfold validation accuracy and loss"
   ]
  },
  {
   "cell_type": "code",
   "execution_count": null,
   "metadata": {
    "executionInfo": {
     "elapsed": 4,
     "status": "ok",
     "timestamp": 1638117800106,
     "user": {
      "displayName": "QIIKAII",
      "photoUrl": "https://lh3.googleusercontent.com/a-/AOh14GiJOdYwJsRvwYnsXYnOzQM51xYuWLYsahwvlDNSBQ=s64",
      "userId": "18419578418508292348"
     },
     "user_tz": -480
    },
    "id": "Imz39dBSS97A"
   },
   "outputs": [],
   "source": [
    "##################################################\n",
    "# # evaluate kfold model for accuracy and loss # #\n",
    "##################################################\n",
    "def evaluate_kfold_model(X_train, y_train, SEED):\n",
    "    scores, histories = list(), list()\n",
    "    # create model\n",
    "    model = create_model()\n",
    "    # prepare cross validation\n",
    "    kfold = KFold(n_splits=10, shuffle=True, random_state=SEED)\n",
    "    # enumerate splits\n",
    "    for train_ix, test_ix in kfold.split(X_train):\n",
    "        # select rows for train and test\n",
    "        trainX, trainY, testX, testY = X_train[train_ix], y_train[train_ix], X_train[test_ix], y_train[test_ix]\n",
    "        # fit model\n",
    "        history = model.fit(trainX, trainY, epochs=100, batch_size=10, validation_data=(testX, testY), verbose=0)\n",
    "        \n",
    "        # evaluate model\n",
    "        y_pred = model.predict(testX)\n",
    "        y_pred = to_categorical(y_pred)\n",
    "\n",
    "        # evaluate predictions\n",
    "        acc = accuracy_score(testY, y_pred)\n",
    "        print(\"Testing accuracy: %.3f%%\" % (acc*100))\n",
    "\n",
    "        # stores scores and histories\n",
    "        scores.append(acc)\n",
    "        histories.append(history)\n",
    "\n",
    "    for i in range(len(histories)):\n",
    "        # plot loss\n",
    "        f1 = plt.figure(1)\n",
    "        plt.title('Categorical Cross-Entropy Loss')\n",
    "        plt.plot(histories[i].history['loss'], color='blue')\n",
    "        plt.plot(histories[i].history['val_loss'], color='orange')\n",
    "        plt.ylabel('loss')\n",
    "        plt.xlabel('epoch')\n",
    "        plt.legend(['train', 'test'], loc='upper right')\n",
    "\n",
    "        # plot accuracy\n",
    "        f2 = plt.figure(2)\n",
    "        plt.title('Classification Accuracy')\n",
    "        plt.plot(histories[i].history['accuracy'], color='blue')\n",
    "        plt.plot(histories[i].history['val_accuracy'], color='orange')\n",
    "        plt.ylabel('accuracy')\n",
    "        plt.xlabel('epoch')\n",
    "        plt.legend(['train', 'test'], loc='lower right')\n",
    "\n",
    "    # print summary\n",
    "    print('Accuracy: Mean=%.3f Std=%.3f, n=%d' % (np.mean(scores)*100, np.std(scores)*100, len(scores)))\n",
    "    # box and whisker plots of results\n",
    "    f3 = plt.figure(3)\n",
    "    plt.title('Box and Whisker Plot of Accuracy Scores')\n",
    "    plt.ylabel('accuracy')\n",
    "    plt.xlabel('model')\n",
    "    plt.boxplot(scores)\n",
    "    plt.show()\n",
    "    \n",
    "evaluate_kfold_model(X_train, y_train, SEED)"
   ]
  },
  {
   "cell_type": "markdown",
   "metadata": {
    "id": "GOSGgRxamf1f"
   },
   "source": [
    "##### perform actual KFold Validation"
   ]
  },
  {
   "cell_type": "code",
   "execution_count": 21,
   "metadata": {
    "colab": {
     "base_uri": "https://localhost:8080/"
    },
    "executionInfo": {
     "elapsed": 66014,
     "status": "ok",
     "timestamp": 1638117868807,
     "user": {
      "displayName": "QIIKAII",
      "photoUrl": "https://lh3.googleusercontent.com/a-/AOh14GiJOdYwJsRvwYnsXYnOzQM51xYuWLYsahwvlDNSBQ=s64",
      "userId": "18419578418508292348"
     },
     "user_tz": -480
    },
    "id": "G1KNEriNgU5q",
    "outputId": "9e77d220-17e3-4926-9095-97352f7f1e6f",
    "scrolled": true
   },
   "outputs": [
    {
     "name": "stdout",
     "output_type": "stream",
     "text": [
      "Epoch 1/100\n",
      "20/20 [==============================] - 4s 5ms/step - loss: 1.6635 - accuracy: 0.3700\n",
      "Epoch 2/100\n",
      "20/20 [==============================] - 0s 5ms/step - loss: 1.1177 - accuracy: 0.5950\n",
      "Epoch 3/100\n",
      "20/20 [==============================] - 0s 5ms/step - loss: 0.9310 - accuracy: 0.7100\n",
      "Epoch 4/100\n",
      "20/20 [==============================] - 0s 4ms/step - loss: 0.7669 - accuracy: 0.6900\n",
      "Epoch 5/100\n",
      "20/20 [==============================] - 0s 5ms/step - loss: 0.6465 - accuracy: 0.7500\n",
      "Epoch 6/100\n",
      "20/20 [==============================] - 0s 5ms/step - loss: 0.6504 - accuracy: 0.7650\n",
      "Epoch 7/100\n",
      "20/20 [==============================] - 0s 4ms/step - loss: 0.5311 - accuracy: 0.8100\n",
      "Epoch 8/100\n",
      "20/20 [==============================] - 0s 5ms/step - loss: 0.4669 - accuracy: 0.8250\n",
      "Epoch 9/100\n",
      "20/20 [==============================] - 0s 5ms/step - loss: 0.4328 - accuracy: 0.8450\n",
      "Epoch 10/100\n",
      "20/20 [==============================] - 0s 4ms/step - loss: 0.4190 - accuracy: 0.8150\n",
      "Epoch 11/100\n",
      "20/20 [==============================] - 0s 5ms/step - loss: 0.4702 - accuracy: 0.8500\n",
      "Epoch 12/100\n",
      "20/20 [==============================] - 0s 4ms/step - loss: 0.3488 - accuracy: 0.8750\n",
      "Epoch 13/100\n",
      "20/20 [==============================] - 0s 5ms/step - loss: 0.3929 - accuracy: 0.8700\n",
      "Epoch 14/100\n",
      "20/20 [==============================] - 0s 4ms/step - loss: 0.2491 - accuracy: 0.9150\n",
      "Epoch 15/100\n",
      "20/20 [==============================] - 0s 5ms/step - loss: 0.3697 - accuracy: 0.8850\n",
      "Epoch 16/100\n",
      "20/20 [==============================] - 0s 4ms/step - loss: 0.3605 - accuracy: 0.8600\n",
      "Epoch 17/100\n",
      "20/20 [==============================] - 0s 4ms/step - loss: 0.3717 - accuracy: 0.8750\n",
      "Epoch 18/100\n",
      "20/20 [==============================] - 0s 4ms/step - loss: 0.3264 - accuracy: 0.8950\n",
      "Epoch 19/100\n",
      "20/20 [==============================] - 0s 4ms/step - loss: 0.3017 - accuracy: 0.9000\n",
      "Epoch 20/100\n",
      "20/20 [==============================] - 0s 5ms/step - loss: 0.2602 - accuracy: 0.9100\n",
      "Epoch 21/100\n",
      "20/20 [==============================] - 0s 5ms/step - loss: 0.2373 - accuracy: 0.9350\n",
      "Epoch 22/100\n",
      "20/20 [==============================] - 0s 4ms/step - loss: 0.2815 - accuracy: 0.9050\n",
      "Epoch 23/100\n",
      "20/20 [==============================] - 0s 5ms/step - loss: 0.2457 - accuracy: 0.9200\n",
      "Epoch 24/100\n",
      "20/20 [==============================] - 0s 5ms/step - loss: 0.2462 - accuracy: 0.9250\n",
      "Epoch 25/100\n",
      "20/20 [==============================] - 0s 4ms/step - loss: 0.1704 - accuracy: 0.9450\n",
      "Epoch 26/100\n",
      "20/20 [==============================] - 0s 4ms/step - loss: 0.2248 - accuracy: 0.9200\n",
      "Epoch 27/100\n",
      "20/20 [==============================] - 0s 4ms/step - loss: 0.2359 - accuracy: 0.9250\n",
      "Epoch 28/100\n",
      "20/20 [==============================] - 0s 4ms/step - loss: 0.1791 - accuracy: 0.9300\n",
      "Epoch 29/100\n",
      "20/20 [==============================] - 0s 4ms/step - loss: 0.2302 - accuracy: 0.9250\n",
      "Epoch 30/100\n",
      "20/20 [==============================] - 0s 4ms/step - loss: 0.1800 - accuracy: 0.9450\n",
      "Epoch 31/100\n",
      "20/20 [==============================] - 0s 4ms/step - loss: 0.1988 - accuracy: 0.9400\n",
      "Epoch 32/100\n",
      "20/20 [==============================] - 0s 4ms/step - loss: 0.2007 - accuracy: 0.9200\n",
      "Epoch 33/100\n",
      "20/20 [==============================] - 0s 4ms/step - loss: 0.3075 - accuracy: 0.9100\n",
      "Epoch 34/100\n",
      "20/20 [==============================] - 0s 4ms/step - loss: 0.2927 - accuracy: 0.9050\n",
      "Epoch 35/100\n",
      "20/20 [==============================] - 0s 4ms/step - loss: 0.2652 - accuracy: 0.8950\n",
      "Epoch 36/100\n",
      "20/20 [==============================] - 0s 4ms/step - loss: 0.2412 - accuracy: 0.9150\n",
      "Epoch 37/100\n",
      "20/20 [==============================] - 0s 4ms/step - loss: 0.2474 - accuracy: 0.9000\n",
      "Epoch 38/100\n",
      "20/20 [==============================] - 0s 4ms/step - loss: 0.2574 - accuracy: 0.9050\n",
      "Epoch 39/100\n",
      "20/20 [==============================] - 0s 4ms/step - loss: 0.2129 - accuracy: 0.9250\n",
      "Epoch 40/100\n",
      "20/20 [==============================] - 0s 4ms/step - loss: 0.2348 - accuracy: 0.9150\n",
      "Epoch 41/100\n",
      "20/20 [==============================] - 0s 4ms/step - loss: 0.2417 - accuracy: 0.9050\n",
      "Epoch 42/100\n",
      "20/20 [==============================] - 0s 4ms/step - loss: 0.1403 - accuracy: 0.9700\n",
      "Epoch 43/100\n",
      "20/20 [==============================] - 0s 4ms/step - loss: 0.1714 - accuracy: 0.9300\n",
      "Epoch 44/100\n",
      "20/20 [==============================] - 0s 4ms/step - loss: 0.1860 - accuracy: 0.9300\n",
      "Epoch 45/100\n",
      "20/20 [==============================] - 0s 4ms/step - loss: 0.1912 - accuracy: 0.9200\n",
      "Epoch 46/100\n",
      "20/20 [==============================] - 0s 4ms/step - loss: 0.1406 - accuracy: 0.9750\n",
      "Epoch 47/100\n",
      "20/20 [==============================] - 0s 4ms/step - loss: 0.1976 - accuracy: 0.9350\n",
      "Epoch 48/100\n",
      "20/20 [==============================] - 0s 4ms/step - loss: 0.2124 - accuracy: 0.9150\n",
      "Epoch 49/100\n",
      "20/20 [==============================] - 0s 4ms/step - loss: 0.1718 - accuracy: 0.9400\n",
      "Epoch 50/100\n",
      "20/20 [==============================] - 0s 4ms/step - loss: 0.1872 - accuracy: 0.9400\n",
      "Epoch 51/100\n",
      "20/20 [==============================] - 0s 4ms/step - loss: 0.1658 - accuracy: 0.9300\n",
      "Epoch 52/100\n",
      "20/20 [==============================] - 0s 4ms/step - loss: 0.1445 - accuracy: 0.9600\n",
      "Epoch 53/100\n",
      "20/20 [==============================] - 0s 4ms/step - loss: 0.1913 - accuracy: 0.9200\n",
      "Epoch 54/100\n",
      "20/20 [==============================] - 0s 4ms/step - loss: 0.1584 - accuracy: 0.9400\n",
      "Epoch 55/100\n",
      "20/20 [==============================] - 0s 4ms/step - loss: 0.1820 - accuracy: 0.9400\n",
      "Epoch 56/100\n",
      "20/20 [==============================] - 0s 4ms/step - loss: 0.1231 - accuracy: 0.9500\n",
      "Epoch 57/100\n",
      "20/20 [==============================] - 0s 4ms/step - loss: 0.1377 - accuracy: 0.9400\n",
      "Epoch 58/100\n",
      "20/20 [==============================] - 0s 4ms/step - loss: 0.0872 - accuracy: 0.9800\n",
      "Epoch 59/100\n",
      "20/20 [==============================] - 0s 4ms/step - loss: 0.1078 - accuracy: 0.9550\n",
      "Epoch 60/100\n",
      "20/20 [==============================] - 0s 4ms/step - loss: 0.1554 - accuracy: 0.9500\n",
      "Epoch 61/100\n",
      "20/20 [==============================] - 0s 4ms/step - loss: 0.1118 - accuracy: 0.9600\n",
      "Epoch 62/100\n",
      "20/20 [==============================] - 0s 4ms/step - loss: 0.1779 - accuracy: 0.9500\n",
      "Epoch 63/100\n",
      "20/20 [==============================] - 0s 4ms/step - loss: 0.0814 - accuracy: 0.9700\n",
      "Epoch 64/100\n",
      "20/20 [==============================] - 0s 4ms/step - loss: 0.1630 - accuracy: 0.9450\n",
      "Epoch 65/100\n",
      "20/20 [==============================] - 0s 4ms/step - loss: 0.1505 - accuracy: 0.9450\n",
      "Epoch 66/100\n",
      "20/20 [==============================] - 0s 4ms/step - loss: 0.0702 - accuracy: 0.9800\n",
      "Epoch 67/100\n",
      "20/20 [==============================] - 0s 4ms/step - loss: 0.1281 - accuracy: 0.9600\n",
      "Epoch 68/100\n",
      "20/20 [==============================] - 0s 4ms/step - loss: 0.1477 - accuracy: 0.9500\n",
      "Epoch 69/100\n",
      "20/20 [==============================] - 0s 4ms/step - loss: 0.0858 - accuracy: 0.9750\n",
      "Epoch 70/100\n",
      "20/20 [==============================] - 0s 4ms/step - loss: 0.0711 - accuracy: 0.9800\n",
      "Epoch 71/100\n",
      "20/20 [==============================] - 0s 4ms/step - loss: 0.1744 - accuracy: 0.9200\n",
      "Epoch 72/100\n",
      "20/20 [==============================] - 0s 4ms/step - loss: 0.2829 - accuracy: 0.9100\n",
      "Epoch 73/100\n",
      "20/20 [==============================] - 0s 4ms/step - loss: 0.2473 - accuracy: 0.9150\n",
      "Epoch 74/100\n",
      "20/20 [==============================] - 0s 4ms/step - loss: 0.1414 - accuracy: 0.9600\n",
      "Epoch 75/100\n",
      "20/20 [==============================] - 0s 4ms/step - loss: 0.2037 - accuracy: 0.9350\n",
      "Epoch 76/100\n",
      "20/20 [==============================] - 0s 4ms/step - loss: 0.0836 - accuracy: 0.9800\n",
      "Epoch 77/100\n",
      "20/20 [==============================] - 0s 4ms/step - loss: 0.1927 - accuracy: 0.9250\n",
      "Epoch 78/100\n",
      "20/20 [==============================] - 0s 4ms/step - loss: 0.2283 - accuracy: 0.9200\n",
      "Epoch 79/100\n",
      "20/20 [==============================] - 0s 4ms/step - loss: 0.1638 - accuracy: 0.9450\n",
      "Epoch 80/100\n",
      "20/20 [==============================] - 0s 4ms/step - loss: 0.1079 - accuracy: 0.9750\n",
      "Epoch 81/100\n",
      "20/20 [==============================] - 0s 4ms/step - loss: 0.1250 - accuracy: 0.9550\n",
      "Epoch 82/100\n",
      "20/20 [==============================] - 0s 4ms/step - loss: 0.1514 - accuracy: 0.9550\n",
      "Epoch 83/100\n"
     ]
    },
    {
     "name": "stdout",
     "output_type": "stream",
     "text": [
      "20/20 [==============================] - 0s 4ms/step - loss: 0.1760 - accuracy: 0.9500\n",
      "Epoch 84/100\n",
      "20/20 [==============================] - 0s 4ms/step - loss: 0.1042 - accuracy: 0.9800\n",
      "Epoch 85/100\n",
      "20/20 [==============================] - 0s 4ms/step - loss: 0.0874 - accuracy: 0.9700\n",
      "Epoch 86/100\n",
      "20/20 [==============================] - 0s 4ms/step - loss: 0.1276 - accuracy: 0.9500\n",
      "Epoch 87/100\n",
      "20/20 [==============================] - 0s 4ms/step - loss: 0.0860 - accuracy: 0.9700\n",
      "Epoch 88/100\n",
      "20/20 [==============================] - 0s 4ms/step - loss: 0.1650 - accuracy: 0.9400\n",
      "Epoch 89/100\n",
      "20/20 [==============================] - 0s 4ms/step - loss: 0.1258 - accuracy: 0.9700\n",
      "Epoch 90/100\n",
      "20/20 [==============================] - 0s 4ms/step - loss: 0.1949 - accuracy: 0.9400\n",
      "Epoch 91/100\n",
      "20/20 [==============================] - 0s 4ms/step - loss: 0.1475 - accuracy: 0.9500\n",
      "Epoch 92/100\n",
      "20/20 [==============================] - 0s 4ms/step - loss: 0.1751 - accuracy: 0.9500\n",
      "Epoch 93/100\n",
      "20/20 [==============================] - 0s 4ms/step - loss: 0.1419 - accuracy: 0.9500\n",
      "Epoch 94/100\n",
      "20/20 [==============================] - 0s 4ms/step - loss: 0.1700 - accuracy: 0.9550\n",
      "Epoch 95/100\n",
      "20/20 [==============================] - 0s 4ms/step - loss: 0.1026 - accuracy: 0.9500\n",
      "Epoch 96/100\n",
      "20/20 [==============================] - 0s 4ms/step - loss: 0.1027 - accuracy: 0.9600\n",
      "Epoch 97/100\n",
      "20/20 [==============================] - 0s 4ms/step - loss: 0.0859 - accuracy: 0.9700\n",
      "Epoch 98/100\n",
      "20/20 [==============================] - 0s 4ms/step - loss: 0.1598 - accuracy: 0.9400\n",
      "Epoch 99/100\n",
      "20/20 [==============================] - 0s 4ms/step - loss: 0.0883 - accuracy: 0.9650\n",
      "Epoch 100/100\n",
      "20/20 [==============================] - 0s 4ms/step - loss: 0.1888 - accuracy: 0.9450\n",
      "20/20 [==============================] - 1s 2ms/step - loss: 0.3084 - accuracy: 0.9550 \n",
      "Epoch 1/100\n",
      "20/20 [==============================] - 4s 4ms/step - loss: 1.5358 - accuracy: 0.4200\n",
      "Epoch 2/100\n",
      "20/20 [==============================] - 0s 4ms/step - loss: 1.0068 - accuracy: 0.5750\n",
      "Epoch 3/100\n",
      "20/20 [==============================] - 0s 4ms/step - loss: 0.9876 - accuracy: 0.6400\n",
      "Epoch 4/100\n",
      "20/20 [==============================] - 0s 4ms/step - loss: 0.7966 - accuracy: 0.6650\n",
      "Epoch 5/100\n",
      "20/20 [==============================] - 0s 4ms/step - loss: 0.6491 - accuracy: 0.7650\n",
      "Epoch 6/100\n",
      "20/20 [==============================] - 0s 4ms/step - loss: 0.6815 - accuracy: 0.7550\n",
      "Epoch 7/100\n",
      "20/20 [==============================] - 0s 4ms/step - loss: 0.5963 - accuracy: 0.8000\n",
      "Epoch 8/100\n",
      "20/20 [==============================] - 0s 4ms/step - loss: 0.6352 - accuracy: 0.7750\n",
      "Epoch 9/100\n",
      "20/20 [==============================] - 0s 4ms/step - loss: 0.5689 - accuracy: 0.8100\n",
      "Epoch 10/100\n",
      "20/20 [==============================] - 0s 4ms/step - loss: 0.5751 - accuracy: 0.7800\n",
      "Epoch 11/100\n",
      "20/20 [==============================] - 0s 4ms/step - loss: 0.4395 - accuracy: 0.8450\n",
      "Epoch 12/100\n",
      "20/20 [==============================] - 0s 4ms/step - loss: 0.4202 - accuracy: 0.8400\n",
      "Epoch 13/100\n",
      "20/20 [==============================] - 0s 4ms/step - loss: 0.4010 - accuracy: 0.8800\n",
      "Epoch 14/100\n",
      "20/20 [==============================] - 0s 4ms/step - loss: 0.3438 - accuracy: 0.8750\n",
      "Epoch 15/100\n",
      "20/20 [==============================] - 0s 4ms/step - loss: 0.3155 - accuracy: 0.8950\n",
      "Epoch 16/100\n",
      "20/20 [==============================] - 0s 4ms/step - loss: 0.2940 - accuracy: 0.8750\n",
      "Epoch 17/100\n",
      "20/20 [==============================] - 0s 4ms/step - loss: 0.3240 - accuracy: 0.8850\n",
      "Epoch 18/100\n",
      "20/20 [==============================] - 0s 4ms/step - loss: 0.3698 - accuracy: 0.8500\n",
      "Epoch 19/100\n",
      "20/20 [==============================] - 0s 4ms/step - loss: 0.3743 - accuracy: 0.8700\n",
      "Epoch 20/100\n",
      "20/20 [==============================] - 0s 4ms/step - loss: 0.2880 - accuracy: 0.9000\n",
      "Epoch 21/100\n",
      "20/20 [==============================] - 0s 4ms/step - loss: 0.2399 - accuracy: 0.9300\n",
      "Epoch 22/100\n",
      "20/20 [==============================] - 0s 4ms/step - loss: 0.2518 - accuracy: 0.9100\n",
      "Epoch 23/100\n",
      "20/20 [==============================] - 0s 4ms/step - loss: 0.2383 - accuracy: 0.9150\n",
      "Epoch 24/100\n",
      "20/20 [==============================] - 0s 4ms/step - loss: 0.3115 - accuracy: 0.9100\n",
      "Epoch 25/100\n",
      "20/20 [==============================] - 0s 4ms/step - loss: 0.2132 - accuracy: 0.9150\n",
      "Epoch 26/100\n",
      "20/20 [==============================] - 0s 4ms/step - loss: 0.2065 - accuracy: 0.9450\n",
      "Epoch 27/100\n",
      "20/20 [==============================] - 0s 4ms/step - loss: 0.1583 - accuracy: 0.9650\n",
      "Epoch 28/100\n",
      "20/20 [==============================] - 0s 4ms/step - loss: 0.2287 - accuracy: 0.9300\n",
      "Epoch 29/100\n",
      "20/20 [==============================] - 0s 4ms/step - loss: 0.3154 - accuracy: 0.9050\n",
      "Epoch 30/100\n",
      "20/20 [==============================] - 0s 4ms/step - loss: 0.2410 - accuracy: 0.9200\n",
      "Epoch 31/100\n",
      "20/20 [==============================] - 0s 4ms/step - loss: 0.2030 - accuracy: 0.9350\n",
      "Epoch 32/100\n",
      "20/20 [==============================] - 0s 4ms/step - loss: 0.1881 - accuracy: 0.9400\n",
      "Epoch 33/100\n",
      "20/20 [==============================] - 0s 4ms/step - loss: 0.1564 - accuracy: 0.9550\n",
      "Epoch 34/100\n",
      "20/20 [==============================] - 0s 4ms/step - loss: 0.1922 - accuracy: 0.9500\n",
      "Epoch 35/100\n",
      "20/20 [==============================] - 0s 4ms/step - loss: 0.2711 - accuracy: 0.9250\n",
      "Epoch 36/100\n",
      "20/20 [==============================] - 0s 4ms/step - loss: 0.1955 - accuracy: 0.9450\n",
      "Epoch 37/100\n",
      "20/20 [==============================] - 0s 4ms/step - loss: 0.2811 - accuracy: 0.8900\n",
      "Epoch 38/100\n",
      "20/20 [==============================] - 0s 4ms/step - loss: 0.2750 - accuracy: 0.8900\n",
      "Epoch 39/100\n",
      "20/20 [==============================] - 0s 4ms/step - loss: 0.1976 - accuracy: 0.9300\n",
      "Epoch 40/100\n",
      "20/20 [==============================] - 0s 4ms/step - loss: 0.2158 - accuracy: 0.9250\n",
      "Epoch 41/100\n",
      "20/20 [==============================] - 0s 4ms/step - loss: 0.2268 - accuracy: 0.9150\n",
      "Epoch 42/100\n",
      "20/20 [==============================] - 0s 4ms/step - loss: 0.2479 - accuracy: 0.9200\n",
      "Epoch 43/100\n",
      "20/20 [==============================] - 0s 4ms/step - loss: 0.2787 - accuracy: 0.8900\n",
      "Epoch 44/100\n",
      "20/20 [==============================] - 0s 4ms/step - loss: 0.2352 - accuracy: 0.9150\n",
      "Epoch 45/100\n",
      "20/20 [==============================] - 0s 4ms/step - loss: 0.1487 - accuracy: 0.9450\n",
      "Epoch 46/100\n",
      "20/20 [==============================] - 0s 4ms/step - loss: 0.1965 - accuracy: 0.9450\n",
      "Epoch 47/100\n",
      "20/20 [==============================] - 0s 4ms/step - loss: 0.1730 - accuracy: 0.9450\n",
      "Epoch 48/100\n",
      "20/20 [==============================] - 0s 4ms/step - loss: 0.1239 - accuracy: 0.9500\n",
      "Epoch 49/100\n",
      "20/20 [==============================] - 0s 4ms/step - loss: 0.1825 - accuracy: 0.9400\n",
      "Epoch 50/100\n",
      "20/20 [==============================] - 0s 4ms/step - loss: 0.1536 - accuracy: 0.9550\n",
      "Epoch 51/100\n",
      "20/20 [==============================] - 0s 4ms/step - loss: 0.1459 - accuracy: 0.9600\n",
      "Epoch 52/100\n",
      "20/20 [==============================] - 0s 4ms/step - loss: 0.1114 - accuracy: 0.9700\n",
      "Epoch 53/100\n",
      "20/20 [==============================] - 0s 4ms/step - loss: 0.1503 - accuracy: 0.9550\n",
      "Epoch 54/100\n",
      "20/20 [==============================] - 0s 4ms/step - loss: 0.1515 - accuracy: 0.9500\n",
      "Epoch 55/100\n",
      "20/20 [==============================] - 0s 4ms/step - loss: 0.0975 - accuracy: 0.9750\n",
      "Epoch 56/100\n",
      "20/20 [==============================] - 0s 4ms/step - loss: 0.1275 - accuracy: 0.9600\n",
      "Epoch 57/100\n",
      "20/20 [==============================] - 0s 4ms/step - loss: 0.1602 - accuracy: 0.9600\n",
      "Epoch 58/100\n",
      "20/20 [==============================] - 0s 4ms/step - loss: 0.1132 - accuracy: 0.9700\n",
      "Epoch 59/100\n",
      "20/20 [==============================] - 0s 4ms/step - loss: 0.1471 - accuracy: 0.9450\n",
      "Epoch 60/100\n",
      "20/20 [==============================] - 0s 4ms/step - loss: 0.1010 - accuracy: 0.9700\n",
      "Epoch 61/100\n",
      "20/20 [==============================] - 0s 4ms/step - loss: 0.1851 - accuracy: 0.9100\n",
      "Epoch 62/100\n",
      "20/20 [==============================] - 0s 4ms/step - loss: 0.1361 - accuracy: 0.9550\n",
      "Epoch 63/100\n",
      "20/20 [==============================] - 0s 4ms/step - loss: 0.1418 - accuracy: 0.9550\n",
      "Epoch 64/100\n"
     ]
    },
    {
     "name": "stdout",
     "output_type": "stream",
     "text": [
      "20/20 [==============================] - 0s 4ms/step - loss: 0.1188 - accuracy: 0.9450\n",
      "Epoch 65/100\n",
      "20/20 [==============================] - 0s 4ms/step - loss: 0.0996 - accuracy: 0.9650\n",
      "Epoch 66/100\n",
      "20/20 [==============================] - 0s 4ms/step - loss: 0.0608 - accuracy: 0.9850\n",
      "Epoch 67/100\n",
      "20/20 [==============================] - 0s 4ms/step - loss: 0.1152 - accuracy: 0.9750\n",
      "Epoch 68/100\n",
      "20/20 [==============================] - 0s 4ms/step - loss: 0.1080 - accuracy: 0.9450\n",
      "Epoch 69/100\n",
      "20/20 [==============================] - 0s 4ms/step - loss: 0.1977 - accuracy: 0.9200\n",
      "Epoch 70/100\n",
      "20/20 [==============================] - 0s 4ms/step - loss: 0.1678 - accuracy: 0.9450\n",
      "Epoch 71/100\n",
      "20/20 [==============================] - 0s 4ms/step - loss: 0.2310 - accuracy: 0.9400\n",
      "Epoch 72/100\n",
      "20/20 [==============================] - 0s 4ms/step - loss: 0.1581 - accuracy: 0.9450\n",
      "Epoch 73/100\n",
      "20/20 [==============================] - 0s 4ms/step - loss: 0.1654 - accuracy: 0.9650\n",
      "Epoch 74/100\n",
      "20/20 [==============================] - 0s 4ms/step - loss: 0.1819 - accuracy: 0.9400\n",
      "Epoch 75/100\n",
      "20/20 [==============================] - 0s 4ms/step - loss: 0.1875 - accuracy: 0.9350\n",
      "Epoch 76/100\n",
      "20/20 [==============================] - 0s 4ms/step - loss: 0.0874 - accuracy: 0.9700\n",
      "Epoch 77/100\n",
      "20/20 [==============================] - 0s 4ms/step - loss: 0.0874 - accuracy: 0.9700\n",
      "Epoch 78/100\n",
      "20/20 [==============================] - 0s 4ms/step - loss: 0.1331 - accuracy: 0.9400\n",
      "Epoch 79/100\n",
      "20/20 [==============================] - 0s 4ms/step - loss: 0.2130 - accuracy: 0.9350\n",
      "Epoch 80/100\n",
      "20/20 [==============================] - 0s 4ms/step - loss: 0.1024 - accuracy: 0.9750\n",
      "Epoch 81/100\n",
      "20/20 [==============================] - 0s 4ms/step - loss: 0.1310 - accuracy: 0.9600\n",
      "Epoch 82/100\n",
      "20/20 [==============================] - 0s 4ms/step - loss: 0.1189 - accuracy: 0.9550\n",
      "Epoch 83/100\n",
      "20/20 [==============================] - 0s 4ms/step - loss: 0.0894 - accuracy: 0.9750\n",
      "Epoch 84/100\n",
      "20/20 [==============================] - 0s 4ms/step - loss: 0.0972 - accuracy: 0.9750\n",
      "Epoch 85/100\n",
      "20/20 [==============================] - 0s 4ms/step - loss: 0.1613 - accuracy: 0.9250\n",
      "Epoch 86/100\n",
      "20/20 [==============================] - 0s 4ms/step - loss: 0.2023 - accuracy: 0.9200\n",
      "Epoch 87/100\n",
      "20/20 [==============================] - 0s 4ms/step - loss: 0.1257 - accuracy: 0.9550\n",
      "Epoch 88/100\n",
      "20/20 [==============================] - 0s 4ms/step - loss: 0.0903 - accuracy: 0.9800\n",
      "Epoch 89/100\n",
      "20/20 [==============================] - 0s 4ms/step - loss: 0.1618 - accuracy: 0.9450\n",
      "Epoch 90/100\n",
      "20/20 [==============================] - 0s 4ms/step - loss: 0.1062 - accuracy: 0.9700\n",
      "Epoch 91/100\n",
      "20/20 [==============================] - 0s 4ms/step - loss: 0.1270 - accuracy: 0.9450\n",
      "Epoch 92/100\n",
      "20/20 [==============================] - 0s 4ms/step - loss: 0.2044 - accuracy: 0.9300\n",
      "Epoch 93/100\n",
      "20/20 [==============================] - 0s 4ms/step - loss: 0.1480 - accuracy: 0.9650\n",
      "Epoch 94/100\n",
      "20/20 [==============================] - 0s 4ms/step - loss: 0.1223 - accuracy: 0.9800\n",
      "Epoch 95/100\n",
      "20/20 [==============================] - 0s 4ms/step - loss: 0.1864 - accuracy: 0.9450\n",
      "Epoch 96/100\n",
      "20/20 [==============================] - 0s 4ms/step - loss: 0.1105 - accuracy: 0.9600\n",
      "Epoch 97/100\n",
      "20/20 [==============================] - 0s 4ms/step - loss: 0.1306 - accuracy: 0.9550\n",
      "Epoch 98/100\n",
      "20/20 [==============================] - 0s 4ms/step - loss: 0.1113 - accuracy: 0.9700\n",
      "Epoch 99/100\n",
      "20/20 [==============================] - 0s 4ms/step - loss: 0.1279 - accuracy: 0.9600\n",
      "Epoch 100/100\n",
      "20/20 [==============================] - 0s 4ms/step - loss: 0.1300 - accuracy: 0.9550\n",
      "20/20 [==============================] - 1s 4ms/step - loss: 0.2590 - accuracy: 0.9500\n"
     ]
    }
   ],
   "source": [
    "# create model\n",
    "model = create_model()\n",
    "\n",
    "n_folds = 10\n",
    "kfold = KFold(n_splits=n_folds, shuffle=True,\n",
    "              random_state=SEED)\n",
    "\n",
    "valid_score = cross_val_score(model, X_train, y_train, \n",
    "                          cv=kfold, error_score=\"raise\", verbose=0)"
   ]
  },
  {
   "cell_type": "markdown",
   "metadata": {
    "id": "jjKhjC-_S97B"
   },
   "source": [
    "##### get validation accuracy"
   ]
  },
  {
   "cell_type": "code",
   "execution_count": 22,
   "metadata": {
    "colab": {
     "base_uri": "https://localhost:8080/"
    },
    "executionInfo": {
     "elapsed": 296,
     "status": "ok",
     "timestamp": 1638117909026,
     "user": {
      "displayName": "QIIKAII",
      "photoUrl": "https://lh3.googleusercontent.com/a-/AOh14GiJOdYwJsRvwYnsXYnOzQM51xYuWLYsahwvlDNSBQ=s64",
      "userId": "18419578418508292348"
     },
     "user_tz": -480
    },
    "id": "TzEjQaztS97B",
    "outputId": "26092fc6-8c80-4a6c-93cb-34f0cf233fe6"
   },
   "outputs": [
    {
     "name": "stdout",
     "output_type": "stream",
     "text": [
      "Validation Accuracy of 95.25% (with standard deviation of 0.25%)\n"
     ]
    }
   ],
   "source": [
    "print(\"Validation Accuracy of %.2f%% (with standard deviation of %.2f%%)\" % \n",
    "      (valid_score.mean()*100, valid_score.std()*100))"
   ]
  },
  {
   "cell_type": "markdown",
   "metadata": {
    "id": "Yg36UBcsaNNo"
   },
   "source": [
    "### FIT MODEL FOR TESTING \n",
    "> * fit the model\n",
    "> * view the accuracy and loss graph\n",
    "> * view model summary"
   ]
  },
  {
   "cell_type": "code",
   "execution_count": 23,
   "metadata": {
    "colab": {
     "base_uri": "https://localhost:8080/"
    },
    "executionInfo": {
     "elapsed": 48738,
     "status": "ok",
     "timestamp": 1638117960465,
     "user": {
      "displayName": "QIIKAII",
      "photoUrl": "https://lh3.googleusercontent.com/a-/AOh14GiJOdYwJsRvwYnsXYnOzQM51xYuWLYsahwvlDNSBQ=s64",
      "userId": "18419578418508292348"
     },
     "user_tz": -480
    },
    "id": "NotcydKxlfxM",
    "outputId": "49d8461d-5c74-4f93-a323-b573075f0ed5",
    "scrolled": true
   },
   "outputs": [
    {
     "name": "stdout",
     "output_type": "stream",
     "text": [
      "Epoch 1/100\n",
      "40/40 [==============================] - 4s 4ms/step - loss: 1.3971 - accuracy: 0.4825\n",
      "Epoch 2/100\n",
      "40/40 [==============================] - 0s 4ms/step - loss: 0.9734 - accuracy: 0.6475\n",
      "Epoch 3/100\n",
      "40/40 [==============================] - 0s 4ms/step - loss: 0.6601 - accuracy: 0.7500\n",
      "Epoch 4/100\n",
      "40/40 [==============================] - 0s 4ms/step - loss: 0.5875 - accuracy: 0.7800\n",
      "Epoch 5/100\n",
      "40/40 [==============================] - 0s 4ms/step - loss: 0.5124 - accuracy: 0.8175\n",
      "Epoch 6/100\n",
      "40/40 [==============================] - 0s 4ms/step - loss: 0.5236 - accuracy: 0.8100\n",
      "Epoch 7/100\n",
      "40/40 [==============================] - 0s 4ms/step - loss: 0.4383 - accuracy: 0.8225\n",
      "Epoch 8/100\n",
      "40/40 [==============================] - 0s 4ms/step - loss: 0.4319 - accuracy: 0.8425\n",
      "Epoch 9/100\n",
      "40/40 [==============================] - 0s 4ms/step - loss: 0.3925 - accuracy: 0.8525\n",
      "Epoch 10/100\n",
      "40/40 [==============================] - 0s 4ms/step - loss: 0.2821 - accuracy: 0.9125\n",
      "Epoch 11/100\n",
      "40/40 [==============================] - 0s 4ms/step - loss: 0.3903 - accuracy: 0.8475\n",
      "Epoch 12/100\n",
      "40/40 [==============================] - 0s 4ms/step - loss: 0.3670 - accuracy: 0.8725\n",
      "Epoch 13/100\n",
      "40/40 [==============================] - 0s 4ms/step - loss: 0.3284 - accuracy: 0.8850\n",
      "Epoch 14/100\n",
      "40/40 [==============================] - 0s 4ms/step - loss: 0.2982 - accuracy: 0.9025\n",
      "Epoch 15/100\n",
      "40/40 [==============================] - 0s 4ms/step - loss: 0.3005 - accuracy: 0.8850\n",
      "Epoch 16/100\n",
      "40/40 [==============================] - 0s 4ms/step - loss: 0.2835 - accuracy: 0.9250\n",
      "Epoch 17/100\n",
      "40/40 [==============================] - 0s 4ms/step - loss: 0.3107 - accuracy: 0.9050\n",
      "Epoch 18/100\n",
      "40/40 [==============================] - 0s 4ms/step - loss: 0.2123 - accuracy: 0.9200\n",
      "Epoch 19/100\n",
      "40/40 [==============================] - 0s 4ms/step - loss: 0.3296 - accuracy: 0.8725\n",
      "Epoch 20/100\n",
      "40/40 [==============================] - 0s 4ms/step - loss: 0.2571 - accuracy: 0.9150\n",
      "Epoch 21/100\n",
      "40/40 [==============================] - 0s 4ms/step - loss: 0.2573 - accuracy: 0.9075\n",
      "Epoch 22/100\n",
      "40/40 [==============================] - 0s 4ms/step - loss: 0.3454 - accuracy: 0.8700\n",
      "Epoch 23/100\n",
      "40/40 [==============================] - 0s 4ms/step - loss: 0.1696 - accuracy: 0.9350\n",
      "Epoch 24/100\n",
      "40/40 [==============================] - 0s 4ms/step - loss: 0.2097 - accuracy: 0.9275\n",
      "Epoch 25/100\n",
      "40/40 [==============================] - 0s 4ms/step - loss: 0.2301 - accuracy: 0.9250\n",
      "Epoch 26/100\n",
      "40/40 [==============================] - 0s 4ms/step - loss: 0.2593 - accuracy: 0.9025\n",
      "Epoch 27/100\n",
      "40/40 [==============================] - 0s 4ms/step - loss: 0.2179 - accuracy: 0.9200\n",
      "Epoch 28/100\n",
      "40/40 [==============================] - 0s 4ms/step - loss: 0.2993 - accuracy: 0.8900\n",
      "Epoch 29/100\n",
      "40/40 [==============================] - 0s 4ms/step - loss: 0.2242 - accuracy: 0.9175\n",
      "Epoch 30/100\n",
      "40/40 [==============================] - 0s 4ms/step - loss: 0.2500 - accuracy: 0.9225\n",
      "Epoch 31/100\n",
      "40/40 [==============================] - 0s 4ms/step - loss: 0.3107 - accuracy: 0.8975\n",
      "Epoch 32/100\n",
      "40/40 [==============================] - 0s 4ms/step - loss: 0.2250 - accuracy: 0.9250\n",
      "Epoch 33/100\n",
      "40/40 [==============================] - 0s 4ms/step - loss: 0.2374 - accuracy: 0.9225\n",
      "Epoch 34/100\n",
      "40/40 [==============================] - 0s 4ms/step - loss: 0.1284 - accuracy: 0.9600\n",
      "Epoch 35/100\n",
      "40/40 [==============================] - 0s 4ms/step - loss: 0.2420 - accuracy: 0.9250\n",
      "Epoch 36/100\n",
      "40/40 [==============================] - 0s 4ms/step - loss: 0.1709 - accuracy: 0.9425\n",
      "Epoch 37/100\n",
      "40/40 [==============================] - 0s 4ms/step - loss: 0.2550 - accuracy: 0.9150\n",
      "Epoch 38/100\n",
      "40/40 [==============================] - 0s 4ms/step - loss: 0.1582 - accuracy: 0.9450\n",
      "Epoch 39/100\n",
      "40/40 [==============================] - 0s 4ms/step - loss: 0.1724 - accuracy: 0.9425\n",
      "Epoch 40/100\n",
      "40/40 [==============================] - 0s 4ms/step - loss: 0.1572 - accuracy: 0.9475\n",
      "Epoch 41/100\n",
      "40/40 [==============================] - 0s 4ms/step - loss: 0.2041 - accuracy: 0.9200\n",
      "Epoch 42/100\n",
      "40/40 [==============================] - 0s 4ms/step - loss: 0.2424 - accuracy: 0.9150\n",
      "Epoch 43/100\n",
      "40/40 [==============================] - 0s 4ms/step - loss: 0.2120 - accuracy: 0.9325\n",
      "Epoch 44/100\n",
      "40/40 [==============================] - 0s 4ms/step - loss: 0.2748 - accuracy: 0.9125\n",
      "Epoch 45/100\n",
      "40/40 [==============================] - 0s 4ms/step - loss: 0.2465 - accuracy: 0.9075\n",
      "Epoch 46/100\n",
      "40/40 [==============================] - 0s 4ms/step - loss: 0.1948 - accuracy: 0.9275\n",
      "Epoch 47/100\n",
      "40/40 [==============================] - 0s 4ms/step - loss: 0.1471 - accuracy: 0.9500\n",
      "Epoch 48/100\n",
      "40/40 [==============================] - 0s 4ms/step - loss: 0.1349 - accuracy: 0.9475\n",
      "Epoch 49/100\n",
      "40/40 [==============================] - 0s 4ms/step - loss: 0.1331 - accuracy: 0.9500\n",
      "Epoch 50/100\n",
      "40/40 [==============================] - 0s 4ms/step - loss: 0.1501 - accuracy: 0.9400\n",
      "Epoch 51/100\n",
      "40/40 [==============================] - 0s 4ms/step - loss: 0.1694 - accuracy: 0.9400\n",
      "Epoch 52/100\n",
      "40/40 [==============================] - 0s 4ms/step - loss: 0.1663 - accuracy: 0.9475\n",
      "Epoch 53/100\n",
      "40/40 [==============================] - 0s 4ms/step - loss: 0.2135 - accuracy: 0.9275\n",
      "Epoch 54/100\n",
      "40/40 [==============================] - 0s 4ms/step - loss: 0.1652 - accuracy: 0.9475\n",
      "Epoch 55/100\n",
      "40/40 [==============================] - 0s 4ms/step - loss: 0.1314 - accuracy: 0.9600\n",
      "Epoch 56/100\n",
      "40/40 [==============================] - 0s 4ms/step - loss: 0.1889 - accuracy: 0.9375\n",
      "Epoch 57/100\n",
      "40/40 [==============================] - 0s 4ms/step - loss: 0.1316 - accuracy: 0.9550\n",
      "Epoch 58/100\n",
      "40/40 [==============================] - 0s 4ms/step - loss: 0.0924 - accuracy: 0.9675\n",
      "Epoch 59/100\n",
      "40/40 [==============================] - 0s 4ms/step - loss: 0.1008 - accuracy: 0.9700\n",
      "Epoch 60/100\n",
      "40/40 [==============================] - 0s 4ms/step - loss: 0.1206 - accuracy: 0.9525\n",
      "Epoch 61/100\n",
      "40/40 [==============================] - 0s 4ms/step - loss: 0.1350 - accuracy: 0.9525\n",
      "Epoch 62/100\n",
      "40/40 [==============================] - 0s 4ms/step - loss: 0.1445 - accuracy: 0.9575\n",
      "Epoch 63/100\n",
      "40/40 [==============================] - 0s 4ms/step - loss: 0.1332 - accuracy: 0.9425\n",
      "Epoch 64/100\n",
      "40/40 [==============================] - 0s 4ms/step - loss: 0.2054 - accuracy: 0.9350\n",
      "Epoch 65/100\n",
      "40/40 [==============================] - 0s 4ms/step - loss: 0.0991 - accuracy: 0.9625\n",
      "Epoch 66/100\n",
      "40/40 [==============================] - 0s 4ms/step - loss: 0.1953 - accuracy: 0.9425\n",
      "Epoch 67/100\n",
      "40/40 [==============================] - 0s 4ms/step - loss: 0.1483 - accuracy: 0.9475\n",
      "Epoch 68/100\n",
      "40/40 [==============================] - 0s 4ms/step - loss: 0.1572 - accuracy: 0.9550\n",
      "Epoch 69/100\n",
      "40/40 [==============================] - 0s 4ms/step - loss: 0.1835 - accuracy: 0.9500\n",
      "Epoch 70/100\n",
      "40/40 [==============================] - 0s 4ms/step - loss: 0.1633 - accuracy: 0.9450\n",
      "Epoch 71/100\n",
      "40/40 [==============================] - 0s 4ms/step - loss: 0.0849 - accuracy: 0.9700\n",
      "Epoch 72/100\n",
      "40/40 [==============================] - 0s 4ms/step - loss: 0.1004 - accuracy: 0.9625\n",
      "Epoch 73/100\n",
      "40/40 [==============================] - 0s 4ms/step - loss: 0.1604 - accuracy: 0.9500\n",
      "Epoch 74/100\n",
      "40/40 [==============================] - 0s 4ms/step - loss: 0.0642 - accuracy: 0.9800\n",
      "Epoch 75/100\n",
      "40/40 [==============================] - 0s 4ms/step - loss: 0.1078 - accuracy: 0.9700\n",
      "Epoch 76/100\n",
      "40/40 [==============================] - 0s 4ms/step - loss: 0.1061 - accuracy: 0.9700\n",
      "Epoch 77/100\n",
      "40/40 [==============================] - 0s 4ms/step - loss: 0.1297 - accuracy: 0.9425\n",
      "Epoch 78/100\n",
      "40/40 [==============================] - 0s 4ms/step - loss: 0.0961 - accuracy: 0.9675\n",
      "Epoch 79/100\n",
      "40/40 [==============================] - 0s 4ms/step - loss: 0.1252 - accuracy: 0.9650\n",
      "Epoch 80/100\n",
      "40/40 [==============================] - 0s 4ms/step - loss: 0.1217 - accuracy: 0.9700\n",
      "Epoch 81/100\n",
      "40/40 [==============================] - 0s 4ms/step - loss: 0.1105 - accuracy: 0.9600\n",
      "Epoch 82/100\n",
      "40/40 [==============================] - 0s 4ms/step - loss: 0.1208 - accuracy: 0.9500\n",
      "Epoch 83/100\n"
     ]
    },
    {
     "name": "stdout",
     "output_type": "stream",
     "text": [
      "40/40 [==============================] - 0s 4ms/step - loss: 0.1525 - accuracy: 0.9400\n",
      "Epoch 84/100\n",
      "40/40 [==============================] - 0s 4ms/step - loss: 0.1648 - accuracy: 0.9475\n",
      "Epoch 85/100\n",
      "40/40 [==============================] - 0s 4ms/step - loss: 0.1741 - accuracy: 0.9400\n",
      "Epoch 86/100\n",
      "40/40 [==============================] - 0s 4ms/step - loss: 0.1816 - accuracy: 0.9450\n",
      "Epoch 87/100\n",
      "40/40 [==============================] - 0s 4ms/step - loss: 0.1473 - accuracy: 0.9600\n",
      "Epoch 88/100\n",
      "40/40 [==============================] - 0s 4ms/step - loss: 0.1355 - accuracy: 0.9500\n",
      "Epoch 89/100\n",
      "40/40 [==============================] - 0s 4ms/step - loss: 0.1255 - accuracy: 0.9450\n",
      "Epoch 90/100\n",
      "40/40 [==============================] - 0s 4ms/step - loss: 0.0687 - accuracy: 0.9775\n",
      "Epoch 91/100\n",
      "40/40 [==============================] - 0s 4ms/step - loss: 0.1157 - accuracy: 0.9600\n",
      "Epoch 92/100\n",
      "40/40 [==============================] - 0s 4ms/step - loss: 0.0753 - accuracy: 0.9775\n",
      "Epoch 93/100\n",
      "40/40 [==============================] - 0s 4ms/step - loss: 0.0895 - accuracy: 0.9725\n",
      "Epoch 94/100\n",
      "40/40 [==============================] - 0s 4ms/step - loss: 0.1634 - accuracy: 0.9400\n",
      "Epoch 95/100\n",
      "40/40 [==============================] - 0s 4ms/step - loss: 0.1248 - accuracy: 0.9600\n",
      "Epoch 96/100\n",
      "40/40 [==============================] - 0s 4ms/step - loss: 0.1302 - accuracy: 0.9600\n",
      "Epoch 97/100\n",
      "40/40 [==============================] - 0s 4ms/step - loss: 0.1149 - accuracy: 0.9625\n",
      "Epoch 98/100\n",
      "40/40 [==============================] - 0s 4ms/step - loss: 0.0489 - accuracy: 0.9850\n",
      "Epoch 99/100\n",
      "40/40 [==============================] - 0s 4ms/step - loss: 0.1112 - accuracy: 0.9775\n",
      "Epoch 100/100\n",
      "40/40 [==============================] - 0s 4ms/step - loss: 0.0901 - accuracy: 0.9625\n"
     ]
    }
   ],
   "source": [
    "#####################\n",
    "# # fit the model # #\n",
    "#####################\n",
    "es = EarlyStopping(monitor='loss', mode='min', min_delta=0.001, patience=50,\n",
    "                   verbose=1)\n",
    "history = model.fit(X_train, y_train, callbacks=es, verbose=1)"
   ]
  },
  {
   "cell_type": "code",
   "execution_count": 24,
   "metadata": {
    "colab": {
     "base_uri": "https://localhost:8080/",
     "height": 573
    },
    "executionInfo": {
     "elapsed": 987,
     "status": "ok",
     "timestamp": 1638118023931,
     "user": {
      "displayName": "QIIKAII",
      "photoUrl": "https://lh3.googleusercontent.com/a-/AOh14GiJOdYwJsRvwYnsXYnOzQM51xYuWLYsahwvlDNSBQ=s64",
      "userId": "18419578418508292348"
     },
     "user_tz": -480
    },
    "id": "mCWHiSP-S97C",
    "outputId": "78888291-3da6-4ef5-8a5b-0e2259da3399"
   },
   "outputs": [
    {
     "data": {
      "image/png": "[encoded data removed]",
      "text/plain": [
       "<Figure size 432x288 with 1 Axes>"
      ]
     },
     "metadata": {},
     "output_type": "display_data"
    },
    {
     "data": {
      "image/png": "[encoded data removed]",
      "text/plain": [
       "<Figure size 432x288 with 1 Axes>"
      ]
     },
     "metadata": {},
     "output_type": "display_data"
    }
   ],
   "source": [
    "##########################\n",
    "# # get model accuracy # #\n",
    "##########################\n",
    "plt.plot(history.history['accuracy'])\n",
    "plt.title('Model Accuracy')\n",
    "plt.ylabel('accuracy')\n",
    "plt.xlabel('epoch')\n",
    "plt.legend(['train'], loc='upper left')\n",
    "plt.show()\n",
    "\n",
    "######################\n",
    "# # get model loss # #\n",
    "######################\n",
    "plt.plot(history.history['loss'])\n",
    "plt.title('Model Loss')\n",
    "plt.ylabel('loss')\n",
    "plt.xlabel('epoch')\n",
    "plt.legend(['train'], loc='upper left')\n",
    "plt.show()"
   ]
  },
  {
   "cell_type": "code",
   "execution_count": 25,
   "metadata": {
    "colab": {
     "base_uri": "https://localhost:8080/"
    },
    "executionInfo": {
     "elapsed": 329,
     "status": "ok",
     "timestamp": 1638118029495,
     "user": {
      "displayName": "QIIKAII",
      "photoUrl": "https://lh3.googleusercontent.com/a-/AOh14GiJOdYwJsRvwYnsXYnOzQM51xYuWLYsahwvlDNSBQ=s64",
      "userId": "18419578418508292348"
     },
     "user_tz": -480
    },
    "id": "et8NfxsUS97C",
    "outputId": "091c8ad5-6575-4030-b7e1-fe4640c71d62"
   },
   "outputs": [
    {
     "name": "stdout",
     "output_type": "stream",
     "text": [
      "Model: \"sequential_11\"\n",
      "_________________________________________________________________\n",
      " Layer (type)                Output Shape              Param #   \n",
      "=================================================================\n",
      " lstm_33 (LSTM)              (None, 1, 128)            81920     \n",
      "                                                                 \n",
      " dropout_33 (Dropout)        (None, 1, 128)            0         \n",
      "                                                                 \n",
      " batch_normalization_33 (Bat  (None, 1, 128)           512       \n",
      " chNormalization)                                                \n",
      "                                                                 \n",
      " lstm_34 (LSTM)              (None, 1, 128)            131584    \n",
      "                                                                 \n",
      " dropout_34 (Dropout)        (None, 1, 128)            0         \n",
      "                                                                 \n",
      " batch_normalization_34 (Bat  (None, 1, 128)           512       \n",
      " chNormalization)                                                \n",
      "                                                                 \n",
      " lstm_35 (LSTM)              (None, 1, 64)             49408     \n",
      "                                                                 \n",
      " dropout_35 (Dropout)        (None, 1, 64)             0         \n",
      "                                                                 \n",
      " batch_normalization_35 (Bat  (None, 1, 64)            256       \n",
      " chNormalization)                                                \n",
      "                                                                 \n",
      " flatten_11 (Flatten)        (None, 64)                0         \n",
      "                                                                 \n",
      " dense_11 (Dense)            (None, 5)                 325       \n",
      "                                                                 \n",
      "=================================================================\n",
      "Total params: 264,517\n",
      "Trainable params: 263,877\n",
      "Non-trainable params: 640\n",
      "_________________________________________________________________\n"
     ]
    }
   ],
   "source": [
    "##########################\n",
    "# # view model summary # #\n",
    "##########################\n",
    "model.model.summary()"
   ]
  },
  {
   "cell_type": "markdown",
   "metadata": {
    "id": "kDfErVxmS97C"
   },
   "source": [
    "### MODEL TESTING\n",
    "> * get model accuracy on the test dataset\n",
    "> * generate confusion matrix\n",
    "> * generate ROC curves\n",
    "> * save the model if appropriate"
   ]
  },
  {
   "cell_type": "code",
   "execution_count": 26,
   "metadata": {
    "colab": {
     "base_uri": "https://localhost:8080/"
    },
    "executionInfo": {
     "elapsed": 1785,
     "status": "ok",
     "timestamp": 1638118033406,
     "user": {
      "displayName": "QIIKAII",
      "photoUrl": "https://lh3.googleusercontent.com/a-/AOh14GiJOdYwJsRvwYnsXYnOzQM51xYuWLYsahwvlDNSBQ=s64",
      "userId": "18419578418508292348"
     },
     "user_tz": -480
    },
    "id": "z-yx8kp3S97C",
    "outputId": "253a524b-721e-4648-dac8-935fa950aaff"
   },
   "outputs": [
    {
     "name": "stdout",
     "output_type": "stream",
     "text": [
      "Testing accuracy: 99.000%\n"
     ]
    }
   ],
   "source": [
    "y_pred = model.predict(X_test)\n",
    "y_pred = to_categorical(y_pred)\n",
    "\n",
    "# evaluate predictions\n",
    "acc = accuracy_score(y_test, y_pred)\n",
    "print(\"Testing accuracy: %.3f%%\" % (acc*100))"
   ]
  },
  {
   "cell_type": "markdown",
   "metadata": {},
   "source": [
    "##### Confusion Matrix"
   ]
  },
  {
   "cell_type": "code",
   "execution_count": 27,
   "metadata": {},
   "outputs": [
    {
     "data": {
      "text/plain": [
       "<AxesSubplot:>"
      ]
     },
     "execution_count": 27,
     "metadata": {},
     "output_type": "execute_result"
    },
    {
     "data": {
      "image/png": "[encoded data removed]",
      "text/plain": [
       "<Figure size 720x504 with 2 Axes>"
      ]
     },
     "metadata": {},
     "output_type": "display_data"
    }
   ],
   "source": [
    "# confusion matrix\n",
    "cm = confusion_matrix(encoder.inverse_transform(y_test), encoder.inverse_transform(y_pred))\n",
    "df_cm = pd.DataFrame(cm, index = [i for i in np.unique(encoder.inverse_transform(y_test))], columns = [i for i in np.unique(encoder.inverse_transform(y_test))])\n",
    "\n",
    "plt.figure(figsize = (10,7))\n",
    "sns.heatmap(df_cm, annot=True, cmap=\"BuPu\")"
   ]
  },
  {
   "cell_type": "markdown",
   "metadata": {},
   "source": [
    "##### ROC Curve (Individual)"
   ]
  },
  {
   "cell_type": "code",
   "execution_count": 28,
   "metadata": {
    "id": "NqRgKmK2XJrW"
   },
   "outputs": [
    {
     "data": {
      "image/png": "[encoded data removed]",
      "text/plain": [
       "<Figure size 432x288 with 1 Axes>"
      ]
     },
     "metadata": {},
     "output_type": "display_data"
    },
    {
     "data": {
      "image/png": "[encoded data removed]",
      "text/plain": [
       "<Figure size 432x288 with 1 Axes>"
      ]
     },
     "metadata": {},
     "output_type": "display_data"
    },
    {
     "data": {
      "image/png": "[encoded data removed]",
      "text/plain": [
       "<Figure size 432x288 with 1 Axes>"
      ]
     },
     "metadata": {},
     "output_type": "display_data"
    },
    {
     "data": {
      "image/png": "[encoded data removed]",
      "text/plain": [
       "<Figure size 432x288 with 1 Axes>"
      ]
     },
     "metadata": {},
     "output_type": "display_data"
    },
    {
     "data": {
      "image/png": "[encoded data removed]",
      "text/plain": [
       "<Figure size 432x288 with 1 Axes>"
      ]
     },
     "metadata": {},
     "output_type": "display_data"
    }
   ],
   "source": [
    "# compute ROC curve and ROC area for each class\n",
    "fpr = dict()\n",
    "tpr = dict()\n",
    "roc_auc = dict()\n",
    "for i in range(n_classes):\n",
    "    fpr[i], tpr[i], _ = roc_curve(y_test[:, i], y_pred[:, i])\n",
    "    roc_auc[i] = auc(fpr[i], tpr[i])\n",
    "\n",
    "for i in range(n_classes):\n",
    "    plt.figure()\n",
    "    lw = 2\n",
    "    plt.plot(\n",
    "        fpr[i],\n",
    "        tpr[i],\n",
    "        color=\"darkorange\",\n",
    "        lw=lw,\n",
    "        label=\"ROC curve (area = %0.2f)\" % roc_auc[i],\n",
    "    )\n",
    "    plt.plot([0, 1], [0, 1], color=\"navy\", lw=lw, linestyle=\"--\")\n",
    "    plt.xlim([-0.005, 1.0])\n",
    "    plt.ylim([0.0, 1.05])\n",
    "    plt.xlabel(\"False Positive Rate\")\n",
    "    plt.ylabel(\"True Positive Rate\")\n",
    "    plt.title(\"ROC Curve (\" + str(encoder.get_feature_names_out()[i]) + \")\")\n",
    "    plt.legend(loc=\"lower right\")\n",
    "    plt.show()"
   ]
  },
  {
   "cell_type": "markdown",
   "metadata": {
    "id": "5HkHsbItlPfO"
   },
   "source": [
    "##### ROC Curve (Combined Plot)"
   ]
  },
  {
   "cell_type": "code",
   "execution_count": 29,
   "metadata": {
    "colab": {
     "base_uri": "https://localhost:8080/",
     "height": 301
    },
    "executionInfo": {
     "elapsed": 1150,
     "status": "ok",
     "timestamp": 1638120168019,
     "user": {
      "displayName": "QIIKAII",
      "photoUrl": "https://lh3.googleusercontent.com/a-/AOh14GiJOdYwJsRvwYnsXYnOzQM51xYuWLYsahwvlDNSBQ=s64",
      "userId": "18419578418508292348"
     },
     "user_tz": -480
    },
    "id": "21nSlWV4i6hl",
    "outputId": "20c24843-dd61-42e8-bd47-9e75b4238fb9"
   },
   "outputs": [
    {
     "data": {
      "image/png": "[encoded data removed]",
      "text/plain": [
       "<Figure size 432x288 with 1 Axes>"
      ]
     },
     "metadata": {},
     "output_type": "display_data"
    }
   ],
   "source": [
    "# compute micro-average ROC curve and ROC area\n",
    "fpr[\"micro\"], tpr[\"micro\"], thresholds = roc_curve(y_test.ravel(), y_pred.ravel())\n",
    "roc_auc[\"micro\"] = auc(fpr[\"micro\"], tpr[\"micro\"])\n",
    "\n",
    "# first aggregate all false positive rates\n",
    "all_fpr = np.unique(np.concatenate([fpr[i] for i in range(n_classes)]))\n",
    "\n",
    "# Then interpolate all ROC curves at this points\n",
    "mean_tpr = np.zeros_like(all_fpr)\n",
    "for i in range(n_classes):\n",
    "    mean_tpr += interp(all_fpr, fpr[i], tpr[i])\n",
    "\n",
    "# finally average it and compute AUC\n",
    "mean_tpr /= n_classes\n",
    "\n",
    "fpr[\"macro\"] = all_fpr\n",
    "tpr[\"macro\"] = mean_tpr\n",
    "roc_auc[\"macro\"] = auc(fpr[\"macro\"], tpr[\"macro\"])\n",
    "\n",
    "# Plot all ROC curves\n",
    "# plt.figure()\n",
    "# plt.plot(\n",
    "#     fpr[\"micro\"],\n",
    "#     tpr[\"micro\"],\n",
    "#     label=\"micro-average ROC curve (area = {0:0.2f})\".format(roc_auc[\"micro\"]),\n",
    "#     color=\"deeppink\",\n",
    "#     linestyle=\":\",\n",
    "#     linewidth=4,\n",
    "# )\n",
    "\n",
    "# plt.plot(\n",
    "#     fpr[\"macro\"],\n",
    "#     tpr[\"macro\"],\n",
    "#     label=\"macro-average ROC curve (area = {0:0.2f})\".format(roc_auc[\"macro\"]),\n",
    "#     color=\"navy\",\n",
    "#     linestyle=\":\",\n",
    "#     linewidth=4,\n",
    "# )\n",
    "\n",
    "colors = cycle([\"aqua\", \"darkorange\", \"cornflowerblue\", \"lightgreen\", \"purple\"])\n",
    "for i, color in zip(range(n_classes), colors):\n",
    "    plt.plot(\n",
    "        fpr[i],\n",
    "        tpr[i],\n",
    "        color=color,\n",
    "        lw=lw,\n",
    "        label=\"ROC curve of class {0} (area = {1:0.2f})\".format(encoder.get_feature_names_out()[i], roc_auc[i]),\n",
    "    )\n",
    "\n",
    "plt.plot([0, 1], [0, 1], \"k--\", lw=lw)\n",
    "plt.xlim([-0.005, 1.0])\n",
    "plt.ylim([0.0, 1.05])\n",
    "plt.xlabel(\"False Positive Rate\")\n",
    "plt.ylabel(\"True Positive Rate\")\n",
    "plt.title(\"ROC Curve (Multiclass)\")\n",
    "plt.legend(loc=\"lower right\")\n",
    "plt.show()"
   ]
  },
  {
   "cell_type": "markdown",
   "metadata": {
    "id": "MfAtR6UClgRE"
   },
   "source": [
    "##### ROC Curve (Average out)"
   ]
  },
  {
   "cell_type": "code",
   "execution_count": 30,
   "metadata": {
    "colab": {
     "base_uri": "https://localhost:8080/",
     "height": 301
    },
    "executionInfo": {
     "elapsed": 1091,
     "status": "ok",
     "timestamp": 1638116114560,
     "user": {
      "displayName": "QIIKAII",
      "photoUrl": "https://lh3.googleusercontent.com/a-/AOh14GiJOdYwJsRvwYnsXYnOzQM51xYuWLYsahwvlDNSBQ=s64",
      "userId": "18419578418508292348"
     },
     "user_tz": -480
    },
    "id": "IsUZOgNiUQwl",
    "outputId": "d31c21f0-1ebf-410a-ab9b-2b866f74a7bc"
   },
   "outputs": [
    {
     "data": {
      "image/png": "[encoded data removed]",
      "text/plain": [
       "<Figure size 432x288 with 1 Axes>"
      ]
     },
     "metadata": {},
     "output_type": "display_data"
    }
   ],
   "source": [
    "fpr, tpr, threshold = roc_curve(y_test.ravel(), y_pred.ravel())\n",
    "\n",
    "# calculate equal-error-rate\n",
    "eer = brentq(lambda x : 1. - x - interp1d(fpr, tpr)(x), 0., 1.)\n",
    "\n",
    "plt.figure(1)\n",
    "plt.plot([0, 1], [0, 1], 'k--')\n",
    "plt.plot(fpr, tpr, label='AUC = {:.3f}, EER = {:.3f}'.format(auc(fpr, tpr), eer))\n",
    "plt.xlabel('False positive rate')\n",
    "plt.ylabel('True positive rate')\n",
    "plt.title('Average ROC Curve')\n",
    "plt.legend(loc='best')\n",
    "plt.show()"
   ]
  },
  {
   "cell_type": "markdown",
   "metadata": {},
   "source": [
    "### FIT AND SAVE MODEL\n",
    "> * fitting of model\n",
    "> * get accuracy and loss of model\n",
    "> * saving model"
   ]
  },
  {
   "cell_type": "code",
   "execution_count": 50,
   "metadata": {
    "scrolled": true
   },
   "outputs": [
    {
     "name": "stdout",
     "output_type": "stream",
     "text": [
      "Epoch 1/100\n",
      "50/50 [==============================] - 4s 4ms/step - loss: 1.2660 - accuracy: 0.5240\n",
      "Epoch 2/100\n",
      "50/50 [==============================] - 0s 4ms/step - loss: 0.7838 - accuracy: 0.6920\n",
      "Epoch 3/100\n",
      "50/50 [==============================] - 0s 4ms/step - loss: 0.6505 - accuracy: 0.7700\n",
      "Epoch 4/100\n",
      "50/50 [==============================] - 0s 4ms/step - loss: 0.5575 - accuracy: 0.8060\n",
      "Epoch 5/100\n",
      "50/50 [==============================] - 0s 4ms/step - loss: 0.4979 - accuracy: 0.8180\n",
      "Epoch 6/100\n",
      "50/50 [==============================] - 0s 4ms/step - loss: 0.4343 - accuracy: 0.8420\n",
      "Epoch 7/100\n",
      "50/50 [==============================] - 0s 4ms/step - loss: 0.3427 - accuracy: 0.8780\n",
      "Epoch 8/100\n",
      "50/50 [==============================] - 0s 4ms/step - loss: 0.3435 - accuracy: 0.8800\n",
      "Epoch 9/100\n",
      "50/50 [==============================] - 0s 4ms/step - loss: 0.3257 - accuracy: 0.8900\n",
      "Epoch 10/100\n",
      "50/50 [==============================] - 0s 4ms/step - loss: 0.2989 - accuracy: 0.8960\n",
      "Epoch 11/100\n",
      "50/50 [==============================] - 0s 4ms/step - loss: 0.3321 - accuracy: 0.8820\n",
      "Epoch 12/100\n",
      "50/50 [==============================] - 0s 5ms/step - loss: 0.3395 - accuracy: 0.8820\n",
      "Epoch 13/100\n",
      "50/50 [==============================] - 0s 4ms/step - loss: 0.2895 - accuracy: 0.9020\n",
      "Epoch 14/100\n",
      "50/50 [==============================] - 0s 4ms/step - loss: 0.2663 - accuracy: 0.9040\n",
      "Epoch 15/100\n",
      "50/50 [==============================] - 0s 4ms/step - loss: 0.2695 - accuracy: 0.8940\n",
      "Epoch 16/100\n",
      "50/50 [==============================] - 0s 4ms/step - loss: 0.2686 - accuracy: 0.9100\n",
      "Epoch 17/100\n",
      "50/50 [==============================] - 0s 4ms/step - loss: 0.2406 - accuracy: 0.9140\n",
      "Epoch 18/100\n",
      "50/50 [==============================] - 0s 4ms/step - loss: 0.2668 - accuracy: 0.9120\n",
      "Epoch 19/100\n",
      "50/50 [==============================] - 0s 4ms/step - loss: 0.2428 - accuracy: 0.9200\n",
      "Epoch 20/100\n",
      "50/50 [==============================] - 0s 4ms/step - loss: 0.2250 - accuracy: 0.9240\n",
      "Epoch 21/100\n",
      "50/50 [==============================] - 0s 4ms/step - loss: 0.2124 - accuracy: 0.9300\n",
      "Epoch 22/100\n",
      "50/50 [==============================] - 0s 4ms/step - loss: 0.2016 - accuracy: 0.9300\n",
      "Epoch 23/100\n",
      "50/50 [==============================] - 0s 4ms/step - loss: 0.2151 - accuracy: 0.9260\n",
      "Epoch 24/100\n",
      "50/50 [==============================] - 0s 4ms/step - loss: 0.2126 - accuracy: 0.9260\n",
      "Epoch 25/100\n",
      "50/50 [==============================] - 0s 4ms/step - loss: 0.2383 - accuracy: 0.9200\n",
      "Epoch 26/100\n",
      "50/50 [==============================] - 0s 4ms/step - loss: 0.2127 - accuracy: 0.9240\n",
      "Epoch 27/100\n",
      "50/50 [==============================] - 0s 4ms/step - loss: 0.2374 - accuracy: 0.9160\n",
      "Epoch 28/100\n",
      "50/50 [==============================] - 0s 4ms/step - loss: 0.1573 - accuracy: 0.9460\n",
      "Epoch 29/100\n",
      "50/50 [==============================] - 0s 4ms/step - loss: 0.1819 - accuracy: 0.9400\n",
      "Epoch 30/100\n",
      "50/50 [==============================] - 0s 4ms/step - loss: 0.2467 - accuracy: 0.9140\n",
      "Epoch 31/100\n",
      "50/50 [==============================] - 0s 4ms/step - loss: 0.1674 - accuracy: 0.9360\n",
      "Epoch 32/100\n",
      "50/50 [==============================] - 0s 4ms/step - loss: 0.1866 - accuracy: 0.9320\n",
      "Epoch 33/100\n",
      "50/50 [==============================] - 0s 4ms/step - loss: 0.1720 - accuracy: 0.9540\n",
      "Epoch 34/100\n",
      "50/50 [==============================] - 0s 4ms/step - loss: 0.1823 - accuracy: 0.9400\n",
      "Epoch 35/100\n",
      "50/50 [==============================] - 0s 6ms/step - loss: 0.1905 - accuracy: 0.9420\n",
      "Epoch 36/100\n",
      "50/50 [==============================] - 0s 5ms/step - loss: 0.2032 - accuracy: 0.9340\n",
      "Epoch 37/100\n",
      "50/50 [==============================] - 0s 5ms/step - loss: 0.1857 - accuracy: 0.9340\n",
      "Epoch 38/100\n",
      "50/50 [==============================] - 0s 5ms/step - loss: 0.1803 - accuracy: 0.9360\n",
      "Epoch 39/100\n",
      "50/50 [==============================] - 0s 4ms/step - loss: 0.1619 - accuracy: 0.9380\n",
      "Epoch 40/100\n",
      "50/50 [==============================] - 0s 4ms/step - loss: 0.2173 - accuracy: 0.9180\n",
      "Epoch 41/100\n",
      "50/50 [==============================] - 0s 4ms/step - loss: 0.2456 - accuracy: 0.9220\n",
      "Epoch 42/100\n",
      "50/50 [==============================] - 0s 4ms/step - loss: 0.1618 - accuracy: 0.9440\n",
      "Epoch 43/100\n",
      "50/50 [==============================] - 0s 4ms/step - loss: 0.1826 - accuracy: 0.9360\n",
      "Epoch 44/100\n",
      "50/50 [==============================] - 0s 4ms/step - loss: 0.1686 - accuracy: 0.9360\n",
      "Epoch 45/100\n",
      "50/50 [==============================] - 0s 4ms/step - loss: 0.2021 - accuracy: 0.9320\n",
      "Epoch 46/100\n",
      "50/50 [==============================] - 0s 4ms/step - loss: 0.1246 - accuracy: 0.9580\n",
      "Epoch 47/100\n",
      "50/50 [==============================] - 0s 4ms/step - loss: 0.1872 - accuracy: 0.9220\n",
      "Epoch 48/100\n",
      "50/50 [==============================] - 0s 4ms/step - loss: 0.1772 - accuracy: 0.9460\n",
      "Epoch 49/100\n",
      "50/50 [==============================] - 0s 4ms/step - loss: 0.1720 - accuracy: 0.9380\n",
      "Epoch 50/100\n",
      "50/50 [==============================] - 0s 5ms/step - loss: 0.1503 - accuracy: 0.9420\n",
      "Epoch 51/100\n",
      "50/50 [==============================] - 0s 4ms/step - loss: 0.1862 - accuracy: 0.9380\n",
      "Epoch 52/100\n",
      "50/50 [==============================] - 0s 4ms/step - loss: 0.1648 - accuracy: 0.9480\n",
      "Epoch 53/100\n",
      "50/50 [==============================] - 0s 4ms/step - loss: 0.0864 - accuracy: 0.9720\n",
      "Epoch 54/100\n",
      "50/50 [==============================] - 0s 4ms/step - loss: 0.1818 - accuracy: 0.9380\n",
      "Epoch 55/100\n",
      "50/50 [==============================] - 0s 4ms/step - loss: 0.1351 - accuracy: 0.9560\n",
      "Epoch 56/100\n",
      "50/50 [==============================] - 0s 4ms/step - loss: 0.1224 - accuracy: 0.9660\n",
      "Epoch 57/100\n",
      "50/50 [==============================] - 0s 4ms/step - loss: 0.1771 - accuracy: 0.9320\n",
      "Epoch 58/100\n",
      "50/50 [==============================] - 0s 4ms/step - loss: 0.1147 - accuracy: 0.9620\n",
      "Epoch 59/100\n",
      "50/50 [==============================] - 0s 4ms/step - loss: 0.1444 - accuracy: 0.9540\n",
      "Epoch 60/100\n",
      "50/50 [==============================] - 0s 4ms/step - loss: 0.1180 - accuracy: 0.9540\n",
      "Epoch 61/100\n",
      "50/50 [==============================] - 0s 4ms/step - loss: 0.1682 - accuracy: 0.9400\n",
      "Epoch 62/100\n",
      "50/50 [==============================] - 0s 4ms/step - loss: 0.0864 - accuracy: 0.9640\n",
      "Epoch 63/100\n",
      "50/50 [==============================] - 0s 6ms/step - loss: 0.0958 - accuracy: 0.9700\n",
      "Epoch 64/100\n",
      "50/50 [==============================] - 0s 6ms/step - loss: 0.1484 - accuracy: 0.9560\n",
      "Epoch 65/100\n",
      "50/50 [==============================] - 0s 6ms/step - loss: 0.1735 - accuracy: 0.9460\n",
      "Epoch 66/100\n",
      "50/50 [==============================] - 0s 4ms/step - loss: 0.1093 - accuracy: 0.9600\n",
      "Epoch 67/100\n",
      "50/50 [==============================] - 0s 4ms/step - loss: 0.1424 - accuracy: 0.9520\n",
      "Epoch 68/100\n",
      "50/50 [==============================] - 0s 4ms/step - loss: 0.0946 - accuracy: 0.9680\n",
      "Epoch 69/100\n",
      "50/50 [==============================] - 0s 4ms/step - loss: 0.1532 - accuracy: 0.9520\n",
      "Epoch 70/100\n",
      "50/50 [==============================] - 0s 4ms/step - loss: 0.1600 - accuracy: 0.9520\n",
      "Epoch 71/100\n",
      "50/50 [==============================] - 0s 4ms/step - loss: 0.1337 - accuracy: 0.9500\n",
      "Epoch 72/100\n",
      "50/50 [==============================] - 0s 4ms/step - loss: 0.1035 - accuracy: 0.9740\n",
      "Epoch 73/100\n",
      "50/50 [==============================] - 0s 4ms/step - loss: 0.0620 - accuracy: 0.9840\n",
      "Epoch 74/100\n",
      "50/50 [==============================] - 0s 5ms/step - loss: 0.0929 - accuracy: 0.9700\n",
      "Epoch 75/100\n",
      "50/50 [==============================] - 0s 4ms/step - loss: 0.1048 - accuracy: 0.9620\n",
      "Epoch 76/100\n",
      "50/50 [==============================] - 0s 4ms/step - loss: 0.1788 - accuracy: 0.9320\n",
      "Epoch 77/100\n",
      "50/50 [==============================] - 0s 4ms/step - loss: 0.1361 - accuracy: 0.9600\n",
      "Epoch 78/100\n",
      "50/50 [==============================] - 0s 4ms/step - loss: 0.1474 - accuracy: 0.9380\n",
      "Epoch 79/100\n",
      "50/50 [==============================] - 0s 4ms/step - loss: 0.1421 - accuracy: 0.9500\n",
      "Epoch 80/100\n",
      "50/50 [==============================] - 0s 4ms/step - loss: 0.1012 - accuracy: 0.9680\n",
      "Epoch 81/100\n",
      "50/50 [==============================] - 0s 6ms/step - loss: 0.1492 - accuracy: 0.9600\n",
      "Epoch 82/100\n",
      "50/50 [==============================] - 0s 4ms/step - loss: 0.1257 - accuracy: 0.9640\n",
      "Epoch 83/100\n"
     ]
    },
    {
     "name": "stdout",
     "output_type": "stream",
     "text": [
      "50/50 [==============================] - 0s 5ms/step - loss: 0.0876 - accuracy: 0.9660\n",
      "Epoch 84/100\n",
      "50/50 [==============================] - 0s 5ms/step - loss: 0.0903 - accuracy: 0.9700\n",
      "Epoch 85/100\n",
      "50/50 [==============================] - 0s 5ms/step - loss: 0.0913 - accuracy: 0.9780\n",
      "Epoch 86/100\n",
      "50/50 [==============================] - 0s 4ms/step - loss: 0.1407 - accuracy: 0.9500\n",
      "Epoch 87/100\n",
      "50/50 [==============================] - 0s 4ms/step - loss: 0.1105 - accuracy: 0.9580\n",
      "Epoch 88/100\n",
      "50/50 [==============================] - 0s 5ms/step - loss: 0.1445 - accuracy: 0.9480\n",
      "Epoch 89/100\n",
      "50/50 [==============================] - ETA: 0s - loss: 0.1163 - accuracy: 0.95 - 0s 5ms/step - loss: 0.1130 - accuracy: 0.9620\n",
      "Epoch 90/100\n",
      "50/50 [==============================] - 0s 4ms/step - loss: 0.1239 - accuracy: 0.9620\n",
      "Epoch 91/100\n",
      "50/50 [==============================] - 0s 4ms/step - loss: 0.1170 - accuracy: 0.9600\n",
      "Epoch 92/100\n",
      "50/50 [==============================] - 0s 4ms/step - loss: 0.1239 - accuracy: 0.9660\n",
      "Epoch 93/100\n",
      "50/50 [==============================] - 0s 4ms/step - loss: 0.1110 - accuracy: 0.9640\n",
      "Epoch 94/100\n",
      "50/50 [==============================] - 0s 5ms/step - loss: 0.1268 - accuracy: 0.9620\n",
      "Epoch 95/100\n",
      "50/50 [==============================] - 0s 6ms/step - loss: 0.1587 - accuracy: 0.9520\n",
      "Epoch 96/100\n",
      "50/50 [==============================] - 0s 5ms/step - loss: 0.0670 - accuracy: 0.9820\n",
      "Epoch 97/100\n",
      "50/50 [==============================] - 0s 4ms/step - loss: 0.0971 - accuracy: 0.9700\n",
      "Epoch 98/100\n",
      "50/50 [==============================] - 0s 4ms/step - loss: 0.0729 - accuracy: 0.9740\n",
      "Epoch 99/100\n",
      "50/50 [==============================] - 0s 4ms/step - loss: 0.0669 - accuracy: 0.9800\n",
      "Epoch 100/100\n",
      "50/50 [==============================] - 0s 4ms/step - loss: 0.1102 - accuracy: 0.9580\n"
     ]
    }
   ],
   "source": [
    "##############################################\n",
    "# # normalisation and reshaping of dataset # #\n",
    "##############################################\n",
    "\n",
    "# normalisation to 0 to 1\n",
    "# scaler = MinMaxScaler(feature_range=(0, 1))\n",
    "# X = scaler.fit_transform(X)\n",
    "\n",
    "# reshaping the dataset to include LSTM Timesteps\n",
    "X = np.asarray(X, dtype=np.float32)\n",
    "X = np.reshape(X, (X.shape[0], TIMESTEPS, X.shape[1]))\n",
    "\n",
    "#####################\n",
    "# # fit the model # #\n",
    "#####################\n",
    "\n",
    "model = create_model()\n",
    "es = EarlyStopping(monitor='loss', mode='min', min_delta=0.001, patience=50,\n",
    "                   verbose=0)\n",
    "history = model.fit(X, Y, callbacks=es)"
   ]
  },
  {
   "cell_type": "code",
   "execution_count": 40,
   "metadata": {},
   "outputs": [
    {
     "data": {
      "image/png": "[encoded data removed]",
      "text/plain": [
       "<Figure size 432x288 with 1 Axes>"
      ]
     },
     "metadata": {},
     "output_type": "display_data"
    },
    {
     "data": {
      "image/png": "[encoded data removed]",
      "text/plain": [
       "<Figure size 432x288 with 1 Axes>"
      ]
     },
     "metadata": {},
     "output_type": "display_data"
    }
   ],
   "source": [
    "##########################\n",
    "# # get model accuracy # #\n",
    "##########################\n",
    "plt.plot(history.history['accuracy'])\n",
    "plt.title('Model Accuracy')\n",
    "plt.ylabel('accuracy')\n",
    "plt.xlabel('epoch')\n",
    "plt.legend(['train'], loc='upper left')\n",
    "plt.show()\n",
    "\n",
    "######################\n",
    "# # get model loss # #\n",
    "######################\n",
    "plt.plot(history.history['loss'])\n",
    "plt.title('Model Loss')\n",
    "plt.ylabel('loss')\n",
    "plt.xlabel('epoch')\n",
    "plt.legend(['train'], loc='upper left')\n",
    "plt.show()"
   ]
  },
  {
   "cell_type": "markdown",
   "metadata": {},
   "source": [
    "### SAVE MODEL"
   ]
  },
  {
   "cell_type": "code",
   "execution_count": 41,
   "metadata": {},
   "outputs": [],
   "source": [
    "# ##################\n",
    "# # # save model # #\n",
    "# ##################\n",
    "\n",
    "# model.model.save(\"model/key_classifier.h5\")\n",
    "\n",
    "# ###########################\n",
    "# # # save model in colab # #\n",
    "# ###########################\n",
    "\n",
    "# # model.model.save(F\"/content/gdrive/My Drive/Colab Notebooks/overall_key_classifier.h5\")"
   ]
  },
  {
   "cell_type": "markdown",
   "metadata": {
    "id": "9ljit4YAS97D"
   },
   "source": [
    "### LOAD MODEL"
   ]
  },
  {
   "cell_type": "code",
   "execution_count": 42,
   "metadata": {
    "id": "XA0T_LLzS97D"
   },
   "outputs": [],
   "source": [
    "# ##################\n",
    "# # # load model # #\n",
    "# ##################\n",
    "\n",
    "# model = create_model()\n",
    "# model.model = load_model(\"model/key_classifier.h5\")\n",
    "\n",
    "# ###########################\n",
    "# # # load model in colab # #\n",
    "# ###########################\n",
    "\n",
    "# # model.model = load_model(\"/content/gdrive/My Drive/Colab Notebooks/overall_key_classifier.h5\")"
   ]
  },
  {
   "cell_type": "markdown",
   "metadata": {
    "id": "OC4QSqpaS97D"
   },
   "source": [
    "### LIVE TESTING\n",
    "> * import any new data to perform testing and prediction"
   ]
  },
  {
   "cell_type": "code",
   "execution_count": 43,
   "metadata": {
    "colab": {
     "base_uri": "https://localhost:8080/",
     "height": 224
    },
    "executionInfo": {
     "elapsed": 319,
     "status": "ok",
     "timestamp": 1638119153238,
     "user": {
      "displayName": "QIIKAII",
      "photoUrl": "https://lh3.googleusercontent.com/a-/AOh14GiJOdYwJsRvwYnsXYnOzQM51xYuWLYsahwvlDNSBQ=s64",
      "userId": "18419578418508292348"
     },
     "user_tz": -480
    },
    "id": "no99ee2sVZvL",
    "outputId": "9232e650-f7dc-4249-a0b5-20dba3f2c619",
    "scrolled": true
   },
   "outputs": [
    {
     "data": {
      "text/html": [
       "<div>\n",
       "<style scoped>\n",
       "    .dataframe tbody tr th:only-of-type {\n",
       "        vertical-align: middle;\n",
       "    }\n",
       "\n",
       "    .dataframe tbody tr th {\n",
       "        vertical-align: top;\n",
       "    }\n",
       "\n",
       "    .dataframe thead th {\n",
       "        text-align: right;\n",
       "    }\n",
       "</style>\n",
       "<table border=\"1\" class=\"dataframe\">\n",
       "  <thead>\n",
       "    <tr style=\"text-align: right;\">\n",
       "      <th></th>\n",
       "      <th>subject</th>\n",
       "      <th>sessionIndex</th>\n",
       "      <th>rep</th>\n",
       "      <th>H.period</th>\n",
       "      <th>DD.period.t</th>\n",
       "      <th>UD.period.t</th>\n",
       "      <th>H.t</th>\n",
       "      <th>DD.t.i</th>\n",
       "      <th>UD.t.i</th>\n",
       "      <th>H.i</th>\n",
       "      <th>...</th>\n",
       "      <th>H.a</th>\n",
       "      <th>DD.a.n</th>\n",
       "      <th>UD.a.n</th>\n",
       "      <th>H.n</th>\n",
       "      <th>DD.n.l</th>\n",
       "      <th>UD.n.l</th>\n",
       "      <th>H.l</th>\n",
       "      <th>DD.l.Return</th>\n",
       "      <th>UD.l.Return</th>\n",
       "      <th>H.Return</th>\n",
       "    </tr>\n",
       "  </thead>\n",
       "  <tbody>\n",
       "    <tr>\n",
       "      <th>0</th>\n",
       "      <td>Andy</td>\n",
       "      <td>1</td>\n",
       "      <td>1</td>\n",
       "      <td>0.174239</td>\n",
       "      <td>0.409866</td>\n",
       "      <td>0.235627</td>\n",
       "      <td>0.133840</td>\n",
       "      <td>0.171659</td>\n",
       "      <td>0.037820</td>\n",
       "      <td>0.156984</td>\n",
       "      <td>...</td>\n",
       "      <td>0.137544</td>\n",
       "      <td>0.091721</td>\n",
       "      <td>-0.045824</td>\n",
       "      <td>0.099726</td>\n",
       "      <td>0.099142</td>\n",
       "      <td>-0.000585</td>\n",
       "      <td>0.120912</td>\n",
       "      <td>0.135934</td>\n",
       "      <td>0.015022</td>\n",
       "      <td>0.163508</td>\n",
       "    </tr>\n",
       "    <tr>\n",
       "      <th>1</th>\n",
       "      <td>Andy</td>\n",
       "      <td>1</td>\n",
       "      <td>2</td>\n",
       "      <td>0.145289</td>\n",
       "      <td>0.154851</td>\n",
       "      <td>0.009562</td>\n",
       "      <td>0.131217</td>\n",
       "      <td>0.129134</td>\n",
       "      <td>-0.002083</td>\n",
       "      <td>0.130980</td>\n",
       "      <td>...</td>\n",
       "      <td>0.164865</td>\n",
       "      <td>0.111584</td>\n",
       "      <td>-0.053281</td>\n",
       "      <td>0.101935</td>\n",
       "      <td>0.023678</td>\n",
       "      <td>-0.078258</td>\n",
       "      <td>0.140863</td>\n",
       "      <td>0.192325</td>\n",
       "      <td>0.051462</td>\n",
       "      <td>0.156958</td>\n",
       "    </tr>\n",
       "    <tr>\n",
       "      <th>2</th>\n",
       "      <td>Andy</td>\n",
       "      <td>1</td>\n",
       "      <td>3</td>\n",
       "      <td>0.122266</td>\n",
       "      <td>0.136321</td>\n",
       "      <td>0.014055</td>\n",
       "      <td>0.114905</td>\n",
       "      <td>0.125308</td>\n",
       "      <td>0.010402</td>\n",
       "      <td>0.144332</td>\n",
       "      <td>...</td>\n",
       "      <td>0.145501</td>\n",
       "      <td>0.095982</td>\n",
       "      <td>-0.049520</td>\n",
       "      <td>0.121049</td>\n",
       "      <td>0.091486</td>\n",
       "      <td>-0.029563</td>\n",
       "      <td>0.111422</td>\n",
       "      <td>0.145751</td>\n",
       "      <td>0.034329</td>\n",
       "      <td>0.169304</td>\n",
       "    </tr>\n",
       "    <tr>\n",
       "      <th>3</th>\n",
       "      <td>Andy</td>\n",
       "      <td>1</td>\n",
       "      <td>4</td>\n",
       "      <td>0.121075</td>\n",
       "      <td>0.132562</td>\n",
       "      <td>0.011487</td>\n",
       "      <td>0.134813</td>\n",
       "      <td>0.132049</td>\n",
       "      <td>-0.002763</td>\n",
       "      <td>0.135681</td>\n",
       "      <td>...</td>\n",
       "      <td>0.135072</td>\n",
       "      <td>0.089715</td>\n",
       "      <td>-0.045356</td>\n",
       "      <td>0.117885</td>\n",
       "      <td>0.089209</td>\n",
       "      <td>-0.028676</td>\n",
       "      <td>0.098095</td>\n",
       "      <td>0.139069</td>\n",
       "      <td>0.040974</td>\n",
       "      <td>0.168298</td>\n",
       "    </tr>\n",
       "    <tr>\n",
       "      <th>4</th>\n",
       "      <td>Andy</td>\n",
       "      <td>1</td>\n",
       "      <td>5</td>\n",
       "      <td>0.141361</td>\n",
       "      <td>0.124721</td>\n",
       "      <td>-0.016640</td>\n",
       "      <td>0.098268</td>\n",
       "      <td>0.149003</td>\n",
       "      <td>0.050735</td>\n",
       "      <td>0.128713</td>\n",
       "      <td>...</td>\n",
       "      <td>0.121480</td>\n",
       "      <td>0.078897</td>\n",
       "      <td>-0.042583</td>\n",
       "      <td>0.108607</td>\n",
       "      <td>0.049435</td>\n",
       "      <td>-0.059172</td>\n",
       "      <td>0.131348</td>\n",
       "      <td>0.156398</td>\n",
       "      <td>0.025050</td>\n",
       "      <td>0.170112</td>\n",
       "    </tr>\n",
       "  </tbody>\n",
       "</table>\n",
       "<p>5 rows × 34 columns</p>\n",
       "</div>"
      ],
      "text/plain": [
       "  subject  sessionIndex  rep  H.period  DD.period.t  UD.period.t       H.t  \\\n",
       "0    Andy             1    1  0.174239     0.409866     0.235627  0.133840   \n",
       "1    Andy             1    2  0.145289     0.154851     0.009562  0.131217   \n",
       "2    Andy             1    3  0.122266     0.136321     0.014055  0.114905   \n",
       "3    Andy             1    4  0.121075     0.132562     0.011487  0.134813   \n",
       "4    Andy             1    5  0.141361     0.124721    -0.016640  0.098268   \n",
       "\n",
       "     DD.t.i    UD.t.i       H.i  ...       H.a    DD.a.n    UD.a.n       H.n  \\\n",
       "0  0.171659  0.037820  0.156984  ...  0.137544  0.091721 -0.045824  0.099726   \n",
       "1  0.129134 -0.002083  0.130980  ...  0.164865  0.111584 -0.053281  0.101935   \n",
       "2  0.125308  0.010402  0.144332  ...  0.145501  0.095982 -0.049520  0.121049   \n",
       "3  0.132049 -0.002763  0.135681  ...  0.135072  0.089715 -0.045356  0.117885   \n",
       "4  0.149003  0.050735  0.128713  ...  0.121480  0.078897 -0.042583  0.108607   \n",
       "\n",
       "     DD.n.l    UD.n.l       H.l  DD.l.Return  UD.l.Return  H.Return  \n",
       "0  0.099142 -0.000585  0.120912     0.135934     0.015022  0.163508  \n",
       "1  0.023678 -0.078258  0.140863     0.192325     0.051462  0.156958  \n",
       "2  0.091486 -0.029563  0.111422     0.145751     0.034329  0.169304  \n",
       "3  0.089209 -0.028676  0.098095     0.139069     0.040974  0.168298  \n",
       "4  0.049435 -0.059172  0.131348     0.156398     0.025050  0.170112  \n",
       "\n",
       "[5 rows x 34 columns]"
      ]
     },
     "execution_count": 43,
     "metadata": {},
     "output_type": "execute_result"
    }
   ],
   "source": [
    "# import unseen data\n",
    "pred_df = pd.read_csv(TEST_DATA_LINK)\n",
    "pred_df.head()"
   ]
  },
  {
   "cell_type": "code",
   "execution_count": 36,
   "metadata": {
    "colab": {
     "base_uri": "https://localhost:8080/",
     "height": 301
    },
    "executionInfo": {
     "elapsed": 593,
     "status": "ok",
     "timestamp": 1638119156672,
     "user": {
      "displayName": "QIIKAII",
      "photoUrl": "https://lh3.googleusercontent.com/a-/AOh14GiJOdYwJsRvwYnsXYnOzQM51xYuWLYsahwvlDNSBQ=s64",
      "userId": "18419578418508292348"
     },
     "user_tz": -480
    },
    "id": "T7zBVAvvS97D",
    "outputId": "3b3b3735-244a-4eec-9227-8ffda9860f42"
   },
   "outputs": [
    {
     "data": {
      "image/png": "[encoded data removed]",
      "text/plain": [
       "<Figure size 432x288 with 1 Axes>"
      ]
     },
     "metadata": {},
     "output_type": "display_data"
    }
   ],
   "source": [
    "################################\n",
    "# # check for class validity # #\n",
    "################################\n",
    "sns.set_theme(style=\"darkgrid\")\n",
    "ax = sns.countplot(x=\"subject\", data=pred_df).set_title(\"Class Validity\")\n",
    "\n",
    "# remove missing values if available\n",
    "pred_df = pred_df.dropna()"
   ]
  },
  {
   "cell_type": "code",
   "execution_count": 51,
   "metadata": {
    "executionInfo": {
     "elapsed": 287,
     "status": "ok",
     "timestamp": 1638119159318,
     "user": {
      "displayName": "QIIKAII",
      "photoUrl": "https://lh3.googleusercontent.com/a-/AOh14GiJOdYwJsRvwYnsXYnOzQM51xYuWLYsahwvlDNSBQ=s64",
      "userId": "18419578418508292348"
     },
     "user_tz": -480
    },
    "id": "vvmUbcekS97E"
   },
   "outputs": [],
   "source": [
    "pred_dataset = pred_df.values\n",
    "\n",
    "# divide data into features X\n",
    "# X_new = new_dataset[:,3:].astype(float)\n",
    "\n",
    "#################################\n",
    "# # predict more than one row # #\n",
    "#################################\n",
    "\n",
    "pred_row=pred_df.iloc[:,3:]\n",
    "\n",
    "############################\n",
    "# # predict a single row # #\n",
    "############################\n",
    "\n",
    "# pred_row=pred_df.iloc[0:2,3:]\n",
    "\n",
    "################################\n",
    "# # normalise and shape data # #\n",
    "################################\n",
    "pred_row = pred_row.values.tolist()\n",
    "# pred_row = scaler.transform(pred_row)\n",
    "pred_arr = np.asarray(pred_row, dtype=np.float32)\n",
    "pred_arr = np.reshape(pred_arr, (pred_arr.shape[0], TIMESTEPS, pred_arr.shape[1]))"
   ]
  },
  {
   "cell_type": "code",
   "execution_count": 52,
   "metadata": {
    "colab": {
     "base_uri": "https://localhost:8080/"
    },
    "executionInfo": {
     "elapsed": 293,
     "status": "ok",
     "timestamp": 1638119225760,
     "user": {
      "displayName": "QIIKAII",
      "photoUrl": "https://lh3.googleusercontent.com/a-/AOh14GiJOdYwJsRvwYnsXYnOzQM51xYuWLYsahwvlDNSBQ=s64",
      "userId": "18419578418508292348"
     },
     "user_tz": -480
    },
    "id": "bZF7p6lFVZxE",
    "outputId": "d2a2b7e0-beb0-434c-fc3b-62e057968477"
   },
   "outputs": [
    {
     "name": "stdout",
     "output_type": "stream",
     "text": [
      "WARNING:tensorflow:5 out of the last 8 calls to <function Model.make_predict_function.<locals>.predict_function at 0x000001BD33E98E50> triggered tf.function retracing. Tracing is expensive and the excessive number of tracings could be due to (1) creating @tf.function repeatedly in a loop, (2) passing tensors with different shapes, (3) passing Python objects instead of tensors. For (1), please define your @tf.function outside of the loop. For (2), @tf.function has experimental_relax_shapes=True option that relaxes argument shapes that can avoid unnecessary retracing. For (3), please refer to https://www.tensorflow.org/guide/function#controlling_retracing and https://www.tensorflow.org/api_docs/python/tf/function for  more details.\n",
      "   Prediction  Accuracy\n",
      "0        Andy   0.99851\n",
      "1        Andy   0.99995\n",
      "2        Andy  0.999869\n",
      "3        Andy  0.999918\n",
      "4        Andy  0.996753\n",
      "5       Azfar  0.999834\n",
      "6       Azfar  0.999939\n",
      "7       Azfar  0.999923\n",
      "8       Azfar  0.999915\n",
      "9       Azfar  0.999865\n",
      "10      Chris  0.998979\n",
      "11      Chris  0.981776\n",
      "12      Chris  0.999934\n",
      "13      Chris  0.999614\n",
      "14      Chris  0.998476\n",
      "15      Qikai  0.997311\n",
      "16      Qikai  0.996062\n",
      "17      Qikai    0.9956\n",
      "18      Qikai  0.994196\n",
      "19      Qikai  0.999083\n",
      "20    Safaraz  0.972109\n",
      "21    Safaraz  0.942647\n",
      "22    Safaraz  0.985633\n",
      "23    Safaraz  0.960853\n",
      "24    Safaraz  0.938634\n"
     ]
    }
   ],
   "source": [
    "####################################\n",
    "# # get prediction and its label # #\n",
    "####################################\n",
    "\n",
    "pred = model.predict(pred_arr)\n",
    "pred = to_categorical(pred)\n",
    "pred = encoder.inverse_transform(pred)\n",
    "pred = np.ravel(pred)\n",
    "\n",
    "pred_proba = model.predict_proba(pred_arr)\n",
    "acc = np.max(pred_proba, axis=1)\n",
    "\n",
    "pred_results = np.column_stack((pred, acc))\n",
    "\n",
    "df = pd.DataFrame(data=pred_results, index=None, columns=['Prediction', 'Accuracy'])\n",
    "print(df)"
   ]
  },
  {
   "cell_type": "code",
   "execution_count": null,
   "metadata": {
    "id": "VuDhUKwwS97E"
   },
   "outputs": [],
   "source": []
  },
  {
   "cell_type": "code",
   "execution_count": null,
   "metadata": {},
   "outputs": [],
   "source": []
  },
  {
   "cell_type": "code",
   "execution_count": null,
   "metadata": {},
   "outputs": [],
   "source": []
  }
 ],
 "metadata": {
  "accelerator": "GPU",
  "colab": {
   "collapsed_sections": [
    "qxwawov4S96_",
    "GOSGgRxamf1f"
   ],
   "name": "keystroke.ipynb",
   "provenance": []
  },
  "kernelspec": {
   "display_name": "Python 3 (ipykernel)",
   "language": "python",
   "name": "python3"
  },
  "language_info": {
   "codemirror_mode": {
    "name": "ipython",
    "version": 3
   },
   "file_extension": ".py",
   "mimetype": "text/x-python",
   "name": "python",
   "nbconvert_exporter": "python",
   "pygments_lexer": "ipython3",
   "version": "3.9.7"
  }
 },
 "nbformat": 4,
 "nbformat_minor": 1
}
