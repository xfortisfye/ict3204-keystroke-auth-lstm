{
 "cells": [
  {
   "cell_type": "markdown",
   "metadata": {
    "id": "vykXcSSQS963"
   },
   "source": [
    "## Import"
   ]
  },
  {
   "cell_type": "code",
   "execution_count": 1,
   "metadata": {
    "id": "_SYp3mztS965"
   },
   "outputs": [],
   "source": [
    "#################################\n",
    "# # when running google colab # #\n",
    "#################################\n",
    "# from google.colab import drive\n",
    "# drive.mount('/content/gdrive')\n",
    "# !pip install scikeras --quiet"
   ]
  },
  {
   "cell_type": "code",
   "execution_count": 2,
   "metadata": {
    "executionInfo": {
     "elapsed": 6176,
     "status": "ok",
     "timestamp": 1638117784321,
     "user": {
      "displayName": "QIIKAII",
      "photoUrl": "https://lh3.googleusercontent.com/a-/AOh14GiJOdYwJsRvwYnsXYnOzQM51xYuWLYsahwvlDNSBQ=s64",
      "userId": "18419578418508292348"
     },
     "user_tz": -480
    },
    "id": "DriiaId_J7TH"
   },
   "outputs": [],
   "source": [
    "import numpy as np\n",
    "import pandas as pd\n",
    "import tensorflow as tf\n",
    "import matplotlib.pyplot as plt\n",
    "from matplotlib import pyplot\n",
    "import seaborn as sns\n",
    "\n",
    "import warnings\n",
    "warnings.filterwarnings('ignore')\n",
    "\n",
    "from keras.utils.np_utils import to_categorical \n",
    "from tensorflow.keras.callbacks import EarlyStopping\n",
    "from keras.models import Sequential\n",
    "from keras.layers import Dense, Dropout, \\\n",
    "    BatchNormalization, Flatten, LSTM\n",
    "# from scikeras.wrappers import KerasClassifier\n",
    "from keras.wrappers.scikit_learn import KerasClassifier\n",
    "from keras.models import load_model\n",
    "\n",
    "from sklearn.preprocessing import MinMaxScaler\n",
    "from sklearn.model_selection import train_test_split\n",
    "# from sklearn.model_selection import StratifiedKFold\n",
    "from sklearn.model_selection import cross_val_score\n",
    "from sklearn.model_selection import KFold\n",
    "from sklearn.metrics import accuracy_score, confusion_matrix\n",
    "from sklearn.metrics import roc_curve, roc_auc_score, auc\n",
    "from sklearn.preprocessing import OneHotEncoder\n",
    "\n",
    "from sklearn.metrics import roc_curve, auc\n",
    "\n",
    "from itertools import cycle\n",
    "from scipy import interp\n",
    "from scipy.optimize import brentq\n",
    "from scipy.interpolate import interp1d\n",
    "\n",
    "N_FEATURES = 31\n",
    "TIMESTEPS = 1\n",
    "DATASET_LINK = \"dataset/overall.csv\"\n",
    "TEST_DATA_LINK = \"dataset/overall_test.csv\"\n",
    "\n",
    "# random seed for reproducibility\n",
    "SEED = 123"
   ]
  },
  {
   "cell_type": "markdown",
   "metadata": {
    "id": "F9LuaURiPqv3"
   },
   "source": [
    "### LOAD DATASET\n",
    "> * Check for class imbalance"
   ]
  },
  {
   "cell_type": "code",
   "execution_count": 3,
   "metadata": {
    "colab": {
     "base_uri": "https://localhost:8080/",
     "height": 224
    },
    "executionInfo": {
     "elapsed": 781,
     "status": "ok",
     "timestamp": 1638117786701,
     "user": {
      "displayName": "QIIKAII",
      "photoUrl": "https://lh3.googleusercontent.com/a-/AOh14GiJOdYwJsRvwYnsXYnOzQM51xYuWLYsahwvlDNSBQ=s64",
      "userId": "18419578418508292348"
     },
     "user_tz": -480
    },
    "id": "066fT-NcPqVL",
    "outputId": "58aafcbf-5a2b-40d9-c601-ad9bf69e9e03"
   },
   "outputs": [
    {
     "data": {
      "text/html": [
       "<div>\n",
       "<style scoped>\n",
       "    .dataframe tbody tr th:only-of-type {\n",
       "        vertical-align: middle;\n",
       "    }\n",
       "\n",
       "    .dataframe tbody tr th {\n",
       "        vertical-align: top;\n",
       "    }\n",
       "\n",
       "    .dataframe thead th {\n",
       "        text-align: right;\n",
       "    }\n",
       "</style>\n",
       "<table border=\"1\" class=\"dataframe\">\n",
       "  <thead>\n",
       "    <tr style=\"text-align: right;\">\n",
       "      <th></th>\n",
       "      <th>subject</th>\n",
       "      <th>sessionIndex</th>\n",
       "      <th>rep</th>\n",
       "      <th>H.period</th>\n",
       "      <th>DD.period.t</th>\n",
       "      <th>UD.period.t</th>\n",
       "      <th>H.t</th>\n",
       "      <th>DD.t.i</th>\n",
       "      <th>UD.t.i</th>\n",
       "      <th>H.i</th>\n",
       "      <th>...</th>\n",
       "      <th>H.a</th>\n",
       "      <th>DD.a.n</th>\n",
       "      <th>UD.a.n</th>\n",
       "      <th>H.n</th>\n",
       "      <th>DD.n.l</th>\n",
       "      <th>UD.n.l</th>\n",
       "      <th>H.l</th>\n",
       "      <th>DD.l.Return</th>\n",
       "      <th>UD.l.Return</th>\n",
       "      <th>H.Return</th>\n",
       "    </tr>\n",
       "  </thead>\n",
       "  <tbody>\n",
       "    <tr>\n",
       "      <th>0</th>\n",
       "      <td>Andy</td>\n",
       "      <td>1</td>\n",
       "      <td>1</td>\n",
       "      <td>0.142176</td>\n",
       "      <td>0.156880</td>\n",
       "      <td>0.014704</td>\n",
       "      <td>0.127937</td>\n",
       "      <td>0.142299</td>\n",
       "      <td>0.014361</td>\n",
       "      <td>0.155919</td>\n",
       "      <td>...</td>\n",
       "      <td>0.128263</td>\n",
       "      <td>0.085967</td>\n",
       "      <td>-0.042296</td>\n",
       "      <td>0.120442</td>\n",
       "      <td>0.209372</td>\n",
       "      <td>0.088930</td>\n",
       "      <td>0.116911</td>\n",
       "      <td>0.165437</td>\n",
       "      <td>0.048526</td>\n",
       "      <td>0.160258</td>\n",
       "    </tr>\n",
       "    <tr>\n",
       "      <th>1</th>\n",
       "      <td>Andy</td>\n",
       "      <td>1</td>\n",
       "      <td>2</td>\n",
       "      <td>0.141793</td>\n",
       "      <td>0.164635</td>\n",
       "      <td>0.022842</td>\n",
       "      <td>0.121625</td>\n",
       "      <td>0.152146</td>\n",
       "      <td>0.030520</td>\n",
       "      <td>0.137039</td>\n",
       "      <td>...</td>\n",
       "      <td>0.144490</td>\n",
       "      <td>0.082397</td>\n",
       "      <td>-0.062093</td>\n",
       "      <td>0.101188</td>\n",
       "      <td>0.126066</td>\n",
       "      <td>0.024878</td>\n",
       "      <td>0.098424</td>\n",
       "      <td>0.130661</td>\n",
       "      <td>0.032238</td>\n",
       "      <td>0.173819</td>\n",
       "    </tr>\n",
       "    <tr>\n",
       "      <th>2</th>\n",
       "      <td>Andy</td>\n",
       "      <td>1</td>\n",
       "      <td>3</td>\n",
       "      <td>0.157152</td>\n",
       "      <td>0.147220</td>\n",
       "      <td>-0.009932</td>\n",
       "      <td>0.134796</td>\n",
       "      <td>0.145790</td>\n",
       "      <td>0.010994</td>\n",
       "      <td>0.124892</td>\n",
       "      <td>...</td>\n",
       "      <td>0.135452</td>\n",
       "      <td>0.082423</td>\n",
       "      <td>-0.053029</td>\n",
       "      <td>0.108598</td>\n",
       "      <td>0.155843</td>\n",
       "      <td>0.047244</td>\n",
       "      <td>0.118759</td>\n",
       "      <td>0.146550</td>\n",
       "      <td>0.027791</td>\n",
       "      <td>0.173512</td>\n",
       "    </tr>\n",
       "    <tr>\n",
       "      <th>3</th>\n",
       "      <td>Andy</td>\n",
       "      <td>1</td>\n",
       "      <td>4</td>\n",
       "      <td>0.158673</td>\n",
       "      <td>0.142487</td>\n",
       "      <td>-0.016186</td>\n",
       "      <td>0.118908</td>\n",
       "      <td>0.159179</td>\n",
       "      <td>0.040271</td>\n",
       "      <td>0.133175</td>\n",
       "      <td>...</td>\n",
       "      <td>0.114266</td>\n",
       "      <td>0.072556</td>\n",
       "      <td>-0.041711</td>\n",
       "      <td>0.101937</td>\n",
       "      <td>0.145692</td>\n",
       "      <td>0.043755</td>\n",
       "      <td>0.096300</td>\n",
       "      <td>0.122580</td>\n",
       "      <td>0.026280</td>\n",
       "      <td>0.190808</td>\n",
       "    </tr>\n",
       "    <tr>\n",
       "      <th>4</th>\n",
       "      <td>Andy</td>\n",
       "      <td>1</td>\n",
       "      <td>5</td>\n",
       "      <td>0.166583</td>\n",
       "      <td>0.157102</td>\n",
       "      <td>-0.009480</td>\n",
       "      <td>0.115094</td>\n",
       "      <td>0.141103</td>\n",
       "      <td>0.026009</td>\n",
       "      <td>0.135121</td>\n",
       "      <td>...</td>\n",
       "      <td>0.125474</td>\n",
       "      <td>0.089247</td>\n",
       "      <td>-0.036227</td>\n",
       "      <td>0.114211</td>\n",
       "      <td>0.149136</td>\n",
       "      <td>0.034925</td>\n",
       "      <td>0.121197</td>\n",
       "      <td>0.230113</td>\n",
       "      <td>0.108917</td>\n",
       "      <td>0.143299</td>\n",
       "    </tr>\n",
       "  </tbody>\n",
       "</table>\n",
       "<p>5 rows × 34 columns</p>\n",
       "</div>"
      ],
      "text/plain": [
       "  subject  sessionIndex  rep  H.period  DD.period.t  UD.period.t       H.t  \\\n",
       "0    Andy             1    1  0.142176     0.156880     0.014704  0.127937   \n",
       "1    Andy             1    2  0.141793     0.164635     0.022842  0.121625   \n",
       "2    Andy             1    3  0.157152     0.147220    -0.009932  0.134796   \n",
       "3    Andy             1    4  0.158673     0.142487    -0.016186  0.118908   \n",
       "4    Andy             1    5  0.166583     0.157102    -0.009480  0.115094   \n",
       "\n",
       "     DD.t.i    UD.t.i       H.i  ...       H.a    DD.a.n    UD.a.n       H.n  \\\n",
       "0  0.142299  0.014361  0.155919  ...  0.128263  0.085967 -0.042296  0.120442   \n",
       "1  0.152146  0.030520  0.137039  ...  0.144490  0.082397 -0.062093  0.101188   \n",
       "2  0.145790  0.010994  0.124892  ...  0.135452  0.082423 -0.053029  0.108598   \n",
       "3  0.159179  0.040271  0.133175  ...  0.114266  0.072556 -0.041711  0.101937   \n",
       "4  0.141103  0.026009  0.135121  ...  0.125474  0.089247 -0.036227  0.114211   \n",
       "\n",
       "     DD.n.l    UD.n.l       H.l  DD.l.Return  UD.l.Return  H.Return  \n",
       "0  0.209372  0.088930  0.116911     0.165437     0.048526  0.160258  \n",
       "1  0.126066  0.024878  0.098424     0.130661     0.032238  0.173819  \n",
       "2  0.155843  0.047244  0.118759     0.146550     0.027791  0.173512  \n",
       "3  0.145692  0.043755  0.096300     0.122580     0.026280  0.190808  \n",
       "4  0.149136  0.034925  0.121197     0.230113     0.108917  0.143299  \n",
       "\n",
       "[5 rows x 34 columns]"
      ]
     },
     "execution_count": 3,
     "metadata": {},
     "output_type": "execute_result"
    }
   ],
   "source": [
    "# loading of dataset\n",
    "df = pd.read_csv(DATASET_LINK)\n",
    "\n",
    "df.head()"
   ]
  },
  {
   "cell_type": "code",
   "execution_count": 4,
   "metadata": {
    "colab": {
     "base_uri": "https://localhost:8080/",
     "height": 625
    },
    "executionInfo": {
     "elapsed": 1091,
     "status": "error",
     "timestamp": 1638115596353,
     "user": {
      "displayName": "QIIKAII",
      "photoUrl": "https://lh3.googleusercontent.com/a-/AOh14GiJOdYwJsRvwYnsXYnOzQM51xYuWLYsahwvlDNSBQ=s64",
      "userId": "18419578418508292348"
     },
     "user_tz": -480
    },
    "id": "d28icPmWaXsa",
    "outputId": "2631d3d7-8437-4b6f-c3e9-9c3c902d1402"
   },
   "outputs": [
    {
     "data": {
      "text/plain": [
       "<seaborn.axisgrid.FacetGrid at 0x24e39eb2190>"
      ]
     },
     "execution_count": 4,
     "metadata": {},
     "output_type": "execute_result"
    },
    {
     "data": {
      "image/png": "[encoded data removed]",
      "text/plain": [
       "<Figure size 432x288 with 1 Axes>"
      ]
     },
     "metadata": {},
     "output_type": "display_data"
    },
    {
     "data": {
      "image/png": "[encoded data removed]",
      "text/plain": [
       "<Figure size 360x360 with 1 Axes>"
      ]
     },
     "metadata": {},
     "output_type": "display_data"
    }
   ],
   "source": [
    "#################################\n",
    "# # check for class imbalance # #\n",
    "#################################\n",
    "\n",
    "sns.set_theme(style=\"darkgrid\")\n",
    "ax = sns.countplot(x=\"subject\", data=df).set_title(\"Class Imbalance\")\n",
    "\n",
    "# remove missing values if available\n",
    "df = df.dropna()\n",
    "\n",
    "sns.catplot(x=\"subject\", y=\"H.Return\", data=df)"
   ]
  },
  {
   "cell_type": "markdown",
   "metadata": {
    "id": "_6JS2iGzS969"
   },
   "source": [
    "### PREPARING DATASET\n",
    "> * Split data into X and Y \n",
    "> * Convert Y into one-hot-encoding"
   ]
  },
  {
   "cell_type": "code",
   "execution_count": 5,
   "metadata": {
    "colab": {
     "base_uri": "https://localhost:8080/"
    },
    "executionInfo": {
     "elapsed": 301,
     "status": "ok",
     "timestamp": 1638117791232,
     "user": {
      "displayName": "QIIKAII",
      "photoUrl": "https://lh3.googleusercontent.com/a-/AOh14GiJOdYwJsRvwYnsXYnOzQM51xYuWLYsahwvlDNSBQ=s64",
      "userId": "18419578418508292348"
     },
     "user_tz": -480
    },
    "id": "JPl7j2SfHWLI",
    "outputId": "f9dcc8a8-7626-40df-fd02-a3dd200c28cd"
   },
   "outputs": [
    {
     "name": "stdout",
     "output_type": "stream",
     "text": [
      "Encoder is able to decipher: \n",
      "['x0_Andy' 'x0_Azfar' 'x0_Chris' 'x0_Qikai' 'x0_Safaraz']\n",
      "\n",
      "\n",
      "X dataset shape: (500, 31)\n",
      "Y dataset shape: (500, 5)\n"
     ]
    }
   ],
   "source": [
    "dataset = df.values\n",
    "\n",
    "# divide data into features X and target (classes) Y\n",
    "X = dataset[:,3:].astype(float)\n",
    "Y = dataset[:,0]\n",
    "\n",
    "# convert target Y to one hot encoded Y for model\n",
    "Y = Y.reshape(-1, 1)\n",
    "encoder = OneHotEncoder().fit(Y)\n",
    "Y = encoder.transform(Y).toarray()\n",
    "\n",
    "#################################\n",
    "# # get all the encoded class # #\n",
    "#################################\n",
    "print(\"Encoder is able to decipher: \")\n",
    "print(encoder.get_feature_names_out())\n",
    "print(\"\\n\")\n",
    "\n",
    "###########################\n",
    "# # print X and Y shape # #\n",
    "###########################\n",
    "print(\"X dataset shape: \" + str(X.shape))\n",
    "print(\"Y dataset shape: \" + str(Y.shape))"
   ]
  },
  {
   "cell_type": "markdown",
   "metadata": {
    "id": "LpOqfe88l6kY"
   },
   "source": [
    "### SPLITTING DATASET\n",
    "> * Split data into train and test dataset \n",
    "> * Normalisation performed based on X_train\n",
    "> * Reshaping of dataset for LSTM Timesteps"
   ]
  },
  {
   "cell_type": "code",
   "execution_count": 6,
   "metadata": {
    "colab": {
     "base_uri": "https://localhost:8080/"
    },
    "executionInfo": {
     "elapsed": 375,
     "status": "ok",
     "timestamp": 1638117793955,
     "user": {
      "displayName": "QIIKAII",
      "photoUrl": "https://lh3.googleusercontent.com/a-/AOh14GiJOdYwJsRvwYnsXYnOzQM51xYuWLYsahwvlDNSBQ=s64",
      "userId": "18419578418508292348"
     },
     "user_tz": -480
    },
    "id": "6_WWovqJnT7M",
    "outputId": "6cd6e7ff-4c11-4b2f-eff4-d7d16078b99c"
   },
   "outputs": [
    {
     "name": "stdout",
     "output_type": "stream",
     "text": [
      "X train shape: (400, 1, 31)\n",
      "Y train shape: (400, 5)\n",
      "X test shape: (100, 1, 31)\n",
      "Y test shape: (100, 5)\n"
     ]
    }
   ],
   "source": [
    "# split dataset into train and test of 0.8/0.2 ratio\n",
    "X_train, X_test, y_train, y_test = train_test_split(\n",
    "    X, Y, test_size=0.2, random_state=SEED)\n",
    "\n",
    "# normalisation to 0 to 1\n",
    "scaler = MinMaxScaler(feature_range=(0, 1))\n",
    "X_train = scaler.fit_transform(X_train)\n",
    "X_test = scaler.transform(X_test)\n",
    "\n",
    "# reshaping the dataset to include LSTM Timesteps\n",
    "X_train = np.asarray(X_train, dtype=np.float32)\n",
    "X_train = np.reshape(X_train, (X_train.shape[0], TIMESTEPS, X_train.shape[1]))\n",
    "X_test = np.asarray(X_test, dtype=np.float32)\n",
    "X_test = np.reshape(X_test, (X_test.shape[0], TIMESTEPS, X_test.shape[1]))\n",
    "\n",
    "# retrieve number of classes\n",
    "n_classes = y_train.shape[1]\n",
    "\n",
    "print(\"X train shape: \" + str(X_train.shape))\n",
    "print(\"Y train shape: \" + str(y_train.shape))\n",
    "print(\"X test shape: \" + str(X_test.shape))\n",
    "print(\"Y test shape: \" + str(y_test.shape))"
   ]
  },
  {
   "cell_type": "markdown",
   "metadata": {
    "id": "MN14qb9GmR6_"
   },
   "source": [
    "### CREATE MODEL\n",
    "> * Create base model\n",
    "> * Wrap it with KerasClassifier"
   ]
  },
  {
   "cell_type": "code",
   "execution_count": 7,
   "metadata": {
    "executionInfo": {
     "elapsed": 316,
     "status": "ok",
     "timestamp": 1638117795922,
     "user": {
      "displayName": "QIIKAII",
      "photoUrl": "https://lh3.googleusercontent.com/a-/AOh14GiJOdYwJsRvwYnsXYnOzQM51xYuWLYsahwvlDNSBQ=s64",
      "userId": "18419578418508292348"
     },
     "user_tz": -480
    },
    "id": "p0ZgrDxXKh05"
   },
   "outputs": [],
   "source": [
    "# create base model\n",
    "def create_base_model():\n",
    "    model = Sequential()\n",
    "    model.add(LSTM(units=128, return_sequences=True, \n",
    "                 input_shape=(TIMESTEPS,N_FEATURES)))\n",
    "    model.add(Dropout(0.2))\n",
    "    model.add(BatchNormalization())\n",
    "    model.add(LSTM(units=128, return_sequences=True))\n",
    "    model.add(Dropout(0.2))\n",
    "    model.add(BatchNormalization())\n",
    "    model.add(LSTM(units=64, return_sequences=True))\n",
    "    model.add(Dropout(0.2))\n",
    "    model.add(BatchNormalization())\n",
    "    # softmax for multi-class classification\n",
    "    model.add(Flatten())\n",
    "    model.add(Dense(n_classes, activation='softmax'))\n",
    "\n",
    "    model.compile(loss='categorical_crossentropy', optimizer='adam',\n",
    "                metrics=['accuracy'])\n",
    "    return model\n",
    "\n",
    "# wrap model in KerasClassifier\n",
    "def create_model():\n",
    "    model = KerasClassifier(build_fn=create_base_model, epochs=100, \n",
    "                            batch_size=10)\n",
    "    return model"
   ]
  },
  {
   "cell_type": "markdown",
   "metadata": {
    "id": "5LouGE3MmbO1"
   },
   "source": [
    "### INITIATE KFOLD VALIDATION\n",
    "> * evaluate best kfold validation\n",
    "> * generate loss and accuracy graph\n",
    "> * perform actual kfold validation"
   ]
  },
  {
   "cell_type": "markdown",
   "metadata": {
    "id": "qxwawov4S96_"
   },
   "source": [
    "##### evaluate suitable kfold validation"
   ]
  },
  {
   "cell_type": "code",
   "execution_count": 8,
   "metadata": {
    "executionInfo": {
     "elapsed": 307,
     "status": "ok",
     "timestamp": 1638117799569,
     "user": {
      "displayName": "QIIKAII",
      "photoUrl": "https://lh3.googleusercontent.com/a-/AOh14GiJOdYwJsRvwYnsXYnOzQM51xYuWLYsahwvlDNSBQ=s64",
      "userId": "18419578418508292348"
     },
     "user_tz": -480
    },
    "id": "6WDOQfPzV9-N"
   },
   "outputs": [
    {
     "ename": "NameError",
     "evalue": "name 'model' is not defined",
     "output_type": "error",
     "traceback": [
      "\u001b[1;31m---------------------------------------------------------------------------\u001b[0m",
      "\u001b[1;31mNameError\u001b[0m                                 Traceback (most recent call last)",
      "\u001b[1;32m~\\AppData\\Local\\Temp/ipykernel_19604/3979640194.py\u001b[0m in \u001b[0;36m<module>\u001b[1;34m\u001b[0m\n\u001b[0;32m     35\u001b[0m     \u001b[0mpyplot\u001b[0m\u001b[1;33m.\u001b[0m\u001b[0mshow\u001b[0m\u001b[1;33m(\u001b[0m\u001b[1;33m)\u001b[0m\u001b[1;33m\u001b[0m\u001b[1;33m\u001b[0m\u001b[0m\n\u001b[0;32m     36\u001b[0m \u001b[1;33m\u001b[0m\u001b[0m\n\u001b[1;32m---> 37\u001b[1;33m \u001b[0mevaluate_kfold\u001b[0m\u001b[1;33m(\u001b[0m\u001b[0mmodel\u001b[0m\u001b[1;33m,\u001b[0m \u001b[0mX_train\u001b[0m\u001b[1;33m,\u001b[0m \u001b[0my_train\u001b[0m\u001b[1;33m,\u001b[0m \u001b[0mSEED\u001b[0m\u001b[1;33m)\u001b[0m\u001b[1;33m\u001b[0m\u001b[1;33m\u001b[0m\u001b[0m\n\u001b[0m",
      "\u001b[1;31mNameError\u001b[0m: name 'model' is not defined"
     ]
    }
   ],
   "source": [
    "# from sklearn.model_selection import LeaveOneOut\n",
    "def evaluate_kfold(X_train, y_train, SEED):\n",
    "    \n",
    "    # evaluate the model    \n",
    "    folds = range(2,11)\n",
    "    means, mins, maxs = list(), list(), list()\n",
    "    \n",
    "    # evaluate each k value\n",
    "    for k in folds:\n",
    "        # define the test condition\n",
    "        kfold = KFold(n_splits=k, shuffle=True, random_state=SEED)\n",
    "        # evaluate k value\n",
    "        model = create_model()\n",
    "        scores = cross_val_score(model, X_train, y_train, scoring='accuracy', cv=LeaveOneOut(), n_jobs=-1)\n",
    "        print(scores)\n",
    "        k_mean = np.mean(scores)\n",
    "        k_min = scores.min()\n",
    "        k_max = scores.max()\n",
    "        \n",
    "        # report performance\n",
    "        print('> folds=%d, accuracy=%.3f%% (min=%.3f%%, max=%.3f%%)' %\n",
    "              (k, k_mean*100, k_min*100, k_max*100))\n",
    "        \n",
    "        # store mean accuracy\n",
    "        means.append(k_mean)\n",
    "        \n",
    "        # store min and max relative to the mean\n",
    "        mins.append(k_mean - k_min)\n",
    "        maxs.append(k_max - k_mean)\n",
    "        \n",
    "    # line plot of k mean values with min/max error bars\n",
    "    pyplot.errorbar(folds, means, yerr=[mins, maxs], fmt='o')\n",
    "    \n",
    "    # show the plot\n",
    "    pyplot.show()\n",
    "    \n",
    "evaluate_kfold(X_train, y_train, SEED)"
   ]
  },
  {
   "cell_type": "code",
   "execution_count": null,
   "metadata": {
    "executionInfo": {
     "elapsed": 4,
     "status": "ok",
     "timestamp": 1638117800106,
     "user": {
      "displayName": "QIIKAII",
      "photoUrl": "https://lh3.googleusercontent.com/a-/AOh14GiJOdYwJsRvwYnsXYnOzQM51xYuWLYsahwvlDNSBQ=s64",
      "userId": "18419578418508292348"
     },
     "user_tz": -480
    },
    "id": "Imz39dBSS97A"
   },
   "outputs": [],
   "source": [
    "##################################################\n",
    "# # evaluate kfold model for accuracy and loss # #\n",
    "##################################################\n",
    "def evaluate_kfold_model(X_train, y_train, SEED):\n",
    "    scores, histories = list(), list()\n",
    "    # create model\n",
    "    model = create_model()\n",
    "    # prepare cross validation\n",
    "    kfold = KFold(n_splits=10, shuffle=True, random_state=SEED)\n",
    "    # enumerate splits\n",
    "    for train_ix, test_ix in kfold.split(X_train):\n",
    "        # select rows for train and test\n",
    "        trainX, trainY, testX, testY = X_train[train_ix], y_train[train_ix], X_train[test_ix], y_train[test_ix]\n",
    "        # fit model\n",
    "        history = model.fit(trainX, trainY, epochs=100, batch_size=10, validation_data=(testX, testY), verbose=0)\n",
    "        \n",
    "        # evaluate model\n",
    "        y_pred = model.predict(testX)\n",
    "        y_pred = to_categorical(y_pred)\n",
    "\n",
    "        # evaluate predictions\n",
    "        acc = accuracy_score(testY, y_pred)\n",
    "        print(\"Testing accuracy: %.3f%%\" % (acc*100))\n",
    "\n",
    "        # stores scores and histories\n",
    "        scores.append(acc)\n",
    "        histories.append(history)\n",
    "\n",
    "    for i in range(len(histories)):\n",
    "        # plot loss\n",
    "        f1 = plt.figure(1)\n",
    "        plt.title('Categorical Cross-Entropy Loss')\n",
    "        plt.plot(histories[i].history['loss'], color='blue')\n",
    "        plt.plot(histories[i].history['val_loss'], color='orange')\n",
    "        plt.ylabel('loss')\n",
    "        plt.xlabel('epoch')\n",
    "        plt.legend(['train', 'test'], loc='upper right')\n",
    "\n",
    "        # plot accuracy\n",
    "        f2 = plt.figure(2)\n",
    "        plt.title('Classification Accuracy')\n",
    "        plt.plot(histories[i].history['accuracy'], color='blue')\n",
    "        plt.plot(histories[i].history['val_accuracy'], color='orange')\n",
    "        plt.ylabel('accuracy')\n",
    "        plt.xlabel('epoch')\n",
    "        plt.legend(['train', 'test'], loc='lower right')\n",
    "\n",
    "    # print summary\n",
    "    print('Accuracy: Mean=%.3f Std=%.3f, n=%d' % (np.mean(scores)*100, np.std(scores)*100, len(scores)))\n",
    "    # box and whisker plots of results\n",
    "    f3 = plt.figure(3)\n",
    "    plt.title('Box and Whisker Plot of Accuracy Scores')\n",
    "    plt.ylabel('accuracy')\n",
    "    plt.xlabel('model')\n",
    "    plt.boxplot(scores)\n",
    "    plt.show()\n",
    "    \n",
    "evaluate_kfold_model(X_train, y_train, SEED)"
   ]
  },
  {
   "cell_type": "markdown",
   "metadata": {
    "id": "GOSGgRxamf1f"
   },
   "source": [
    "##### Perform actual KFold Validation"
   ]
  },
  {
   "cell_type": "code",
   "execution_count": null,
   "metadata": {
    "colab": {
     "base_uri": "https://localhost:8080/"
    },
    "executionInfo": {
     "elapsed": 66014,
     "status": "ok",
     "timestamp": 1638117868807,
     "user": {
      "displayName": "QIIKAII",
      "photoUrl": "https://lh3.googleusercontent.com/a-/AOh14GiJOdYwJsRvwYnsXYnOzQM51xYuWLYsahwvlDNSBQ=s64",
      "userId": "18419578418508292348"
     },
     "user_tz": -480
    },
    "id": "G1KNEriNgU5q",
    "outputId": "9e77d220-17e3-4926-9095-97352f7f1e6f",
    "scrolled": true
   },
   "outputs": [],
   "source": [
    "# create model\n",
    "model = create_model()\n",
    "\n",
    "n_folds = 2\n",
    "kfold = KFold(n_splits=n_folds, shuffle=True,\n",
    "              random_state=SEED)\n",
    "\n",
    "valid_score = cross_val_score(model, X_train, y_train, \n",
    "                          cv=kfold, error_score=\"raise\", verbose=0)"
   ]
  },
  {
   "cell_type": "markdown",
   "metadata": {
    "id": "jjKhjC-_S97B"
   },
   "source": [
    "##### Get Validation Accuracy"
   ]
  },
  {
   "cell_type": "code",
   "execution_count": null,
   "metadata": {
    "colab": {
     "base_uri": "https://localhost:8080/"
    },
    "executionInfo": {
     "elapsed": 296,
     "status": "ok",
     "timestamp": 1638117909026,
     "user": {
      "displayName": "QIIKAII",
      "photoUrl": "https://lh3.googleusercontent.com/a-/AOh14GiJOdYwJsRvwYnsXYnOzQM51xYuWLYsahwvlDNSBQ=s64",
      "userId": "18419578418508292348"
     },
     "user_tz": -480
    },
    "id": "TzEjQaztS97B",
    "outputId": "26092fc6-8c80-4a6c-93cb-34f0cf233fe6"
   },
   "outputs": [],
   "source": [
    "print(\"Validation Accuracy of %.2f%% (with standard deviation of %.2f%%)\" % \n",
    "      (valid_score.mean()*100, valid_score.std()*100))"
   ]
  },
  {
   "cell_type": "markdown",
   "metadata": {
    "id": "Yg36UBcsaNNo"
   },
   "source": [
    "### MODEL FITTING\n",
    "> * fit the model\n",
    "> * view the accuracy and loss graph\n",
    "> * view model summary"
   ]
  },
  {
   "cell_type": "code",
   "execution_count": null,
   "metadata": {
    "colab": {
     "base_uri": "https://localhost:8080/"
    },
    "executionInfo": {
     "elapsed": 48738,
     "status": "ok",
     "timestamp": 1638117960465,
     "user": {
      "displayName": "QIIKAII",
      "photoUrl": "https://lh3.googleusercontent.com/a-/AOh14GiJOdYwJsRvwYnsXYnOzQM51xYuWLYsahwvlDNSBQ=s64",
      "userId": "18419578418508292348"
     },
     "user_tz": -480
    },
    "id": "NotcydKxlfxM",
    "outputId": "49d8461d-5c74-4f93-a323-b573075f0ed5"
   },
   "outputs": [],
   "source": [
    "#####################\n",
    "# # fit the model # #\n",
    "#####################\n",
    "es = EarlyStopping(monitor='loss', mode='min', min_delta=0.001, patience=50,\n",
    "                   verbose=0)\n",
    "history = model.fit(X_train, y_train, callbacks=es)"
   ]
  },
  {
   "cell_type": "code",
   "execution_count": null,
   "metadata": {
    "colab": {
     "base_uri": "https://localhost:8080/",
     "height": 573
    },
    "executionInfo": {
     "elapsed": 987,
     "status": "ok",
     "timestamp": 1638118023931,
     "user": {
      "displayName": "QIIKAII",
      "photoUrl": "https://lh3.googleusercontent.com/a-/AOh14GiJOdYwJsRvwYnsXYnOzQM51xYuWLYsahwvlDNSBQ=s64",
      "userId": "18419578418508292348"
     },
     "user_tz": -480
    },
    "id": "mCWHiSP-S97C",
    "outputId": "78888291-3da6-4ef5-8a5b-0e2259da3399"
   },
   "outputs": [],
   "source": [
    "##########################\n",
    "# # get model accuracy # #\n",
    "##########################\n",
    "plt.plot(history.history['accuracy'])\n",
    "plt.title('Model Accuracy')\n",
    "plt.ylabel('accuracy')\n",
    "plt.xlabel('epoch')\n",
    "plt.legend(['train'], loc='upper left')\n",
    "plt.show()\n",
    "\n",
    "######################\n",
    "# # get model loss # #\n",
    "######################\n",
    "plt.plot(history.history['loss'])\n",
    "plt.title('Model Loss')\n",
    "plt.ylabel('loss')\n",
    "plt.xlabel('epoch')\n",
    "plt.legend(['train'], loc='upper left')\n",
    "plt.show()"
   ]
  },
  {
   "cell_type": "code",
   "execution_count": null,
   "metadata": {
    "colab": {
     "base_uri": "https://localhost:8080/"
    },
    "executionInfo": {
     "elapsed": 329,
     "status": "ok",
     "timestamp": 1638118029495,
     "user": {
      "displayName": "QIIKAII",
      "photoUrl": "https://lh3.googleusercontent.com/a-/AOh14GiJOdYwJsRvwYnsXYnOzQM51xYuWLYsahwvlDNSBQ=s64",
      "userId": "18419578418508292348"
     },
     "user_tz": -480
    },
    "id": "et8NfxsUS97C",
    "outputId": "091c8ad5-6575-4030-b7e1-fe4640c71d62"
   },
   "outputs": [],
   "source": [
    "##########################\n",
    "# # view model summary # #\n",
    "##########################\n",
    "model.model.summary()"
   ]
  },
  {
   "cell_type": "markdown",
   "metadata": {
    "id": "kDfErVxmS97C"
   },
   "source": [
    "### MODEL TESTING\n",
    "> * get model accuracy on the test dataset\n",
    "> * generate confusion matrix\n",
    "> * generate ROC curves\n",
    "> * save the model if appropriate"
   ]
  },
  {
   "cell_type": "code",
   "execution_count": null,
   "metadata": {
    "colab": {
     "base_uri": "https://localhost:8080/"
    },
    "executionInfo": {
     "elapsed": 1785,
     "status": "ok",
     "timestamp": 1638118033406,
     "user": {
      "displayName": "QIIKAII",
      "photoUrl": "https://lh3.googleusercontent.com/a-/AOh14GiJOdYwJsRvwYnsXYnOzQM51xYuWLYsahwvlDNSBQ=s64",
      "userId": "18419578418508292348"
     },
     "user_tz": -480
    },
    "id": "z-yx8kp3S97C",
    "outputId": "253a524b-721e-4648-dac8-935fa950aaff"
   },
   "outputs": [],
   "source": [
    "y_pred = model.predict(X_test)\n",
    "y_pred = to_categorical(y_pred)\n",
    "\n",
    "# evaluate predictions\n",
    "acc = accuracy_score(y_test, y_pred)\n",
    "print(\"Testing accuracy: %.3f%%\" % (acc*100))"
   ]
  },
  {
   "cell_type": "markdown",
   "metadata": {},
   "source": [
    "##### Confusion Matrix"
   ]
  },
  {
   "cell_type": "code",
   "execution_count": null,
   "metadata": {},
   "outputs": [],
   "source": [
    "# confusion matrix\n",
    "cm = confusion_matrix(encoder.inverse_transform(y_test), encoder.inverse_transform(y_pred))\n",
    "df_cm = pd.DataFrame(cm, index = [i for i in np.unique(encoder.inverse_transform(y_test))], columns = [i for i in np.unique(encoder.inverse_transform(y_test))])\n",
    "\n",
    "plt.figure(figsize = (10,7))\n",
    "sns.heatmap(df_cm, annot=True, cmap=\"BuPu\")"
   ]
  },
  {
   "cell_type": "markdown",
   "metadata": {},
   "source": [
    "##### ROC Curve (Individual)"
   ]
  },
  {
   "cell_type": "code",
   "execution_count": null,
   "metadata": {
    "id": "NqRgKmK2XJrW"
   },
   "outputs": [],
   "source": [
    "# compute ROC curve and ROC area for each class\n",
    "fpr = dict()\n",
    "tpr = dict()\n",
    "roc_auc = dict()\n",
    "for i in range(n_classes):\n",
    "    fpr[i], tpr[i], _ = roc_curve(y_test[:, i], y_pred[:, i])\n",
    "    roc_auc[i] = auc(fpr[i], tpr[i])\n",
    "\n",
    "for i in range(n_classes):\n",
    "    plt.figure()\n",
    "    lw = 2\n",
    "    plt.plot(\n",
    "        fpr[i],\n",
    "        tpr[i],\n",
    "        color=\"darkorange\",\n",
    "        lw=lw,\n",
    "        label=\"ROC curve (area = %0.2f)\" % roc_auc[i],\n",
    "    )\n",
    "    plt.plot([0, 1], [0, 1], color=\"navy\", lw=lw, linestyle=\"--\")\n",
    "    plt.xlim([-0.005, 1.0])\n",
    "    plt.ylim([0.0, 1.05])\n",
    "    plt.xlabel(\"False Positive Rate\")\n",
    "    plt.ylabel(\"True Positive Rate\")\n",
    "    plt.title(\"ROC Curve (\" + str(encoder.get_feature_names_out()[i]) + \")\")\n",
    "    plt.legend(loc=\"lower right\")\n",
    "    plt.show()"
   ]
  },
  {
   "cell_type": "markdown",
   "metadata": {
    "id": "5HkHsbItlPfO"
   },
   "source": [
    "##### ROC Curve (Combined Plot)"
   ]
  },
  {
   "cell_type": "code",
   "execution_count": null,
   "metadata": {
    "colab": {
     "base_uri": "https://localhost:8080/",
     "height": 301
    },
    "executionInfo": {
     "elapsed": 1150,
     "status": "ok",
     "timestamp": 1638120168019,
     "user": {
      "displayName": "QIIKAII",
      "photoUrl": "https://lh3.googleusercontent.com/a-/AOh14GiJOdYwJsRvwYnsXYnOzQM51xYuWLYsahwvlDNSBQ=s64",
      "userId": "18419578418508292348"
     },
     "user_tz": -480
    },
    "id": "21nSlWV4i6hl",
    "outputId": "20c24843-dd61-42e8-bd47-9e75b4238fb9"
   },
   "outputs": [],
   "source": [
    "# compute micro-average ROC curve and ROC area\n",
    "fpr[\"micro\"], tpr[\"micro\"], thresholds = roc_curve(y_test.ravel(), y_pred.ravel())\n",
    "roc_auc[\"micro\"] = auc(fpr[\"micro\"], tpr[\"micro\"])\n",
    "\n",
    "# first aggregate all false positive rates\n",
    "all_fpr = np.unique(np.concatenate([fpr[i] for i in range(n_classes)]))\n",
    "\n",
    "# Then interpolate all ROC curves at this points\n",
    "mean_tpr = np.zeros_like(all_fpr)\n",
    "for i in range(n_classes):\n",
    "    mean_tpr += interp(all_fpr, fpr[i], tpr[i])\n",
    "\n",
    "# finally average it and compute AUC\n",
    "mean_tpr /= n_classes\n",
    "\n",
    "fpr[\"macro\"] = all_fpr\n",
    "tpr[\"macro\"] = mean_tpr\n",
    "roc_auc[\"macro\"] = auc(fpr[\"macro\"], tpr[\"macro\"])\n",
    "\n",
    "# Plot all ROC curves\n",
    "# plt.figure()\n",
    "# plt.plot(\n",
    "#     fpr[\"micro\"],\n",
    "#     tpr[\"micro\"],\n",
    "#     label=\"micro-average ROC curve (area = {0:0.2f})\".format(roc_auc[\"micro\"]),\n",
    "#     color=\"deeppink\",\n",
    "#     linestyle=\":\",\n",
    "#     linewidth=4,\n",
    "# )\n",
    "\n",
    "# plt.plot(\n",
    "#     fpr[\"macro\"],\n",
    "#     tpr[\"macro\"],\n",
    "#     label=\"macro-average ROC curve (area = {0:0.2f})\".format(roc_auc[\"macro\"]),\n",
    "#     color=\"navy\",\n",
    "#     linestyle=\":\",\n",
    "#     linewidth=4,\n",
    "# )\n",
    "\n",
    "colors = cycle([\"aqua\", \"darkorange\", \"cornflowerblue\", \"lightgreen\", \"purple\"])\n",
    "for i, color in zip(range(n_classes), colors):\n",
    "    plt.plot(\n",
    "        fpr[i],\n",
    "        tpr[i],\n",
    "        color=color,\n",
    "        lw=lw,\n",
    "        label=\"ROC curve of class {0} (area = {1:0.2f})\".format(encoder.get_feature_names_out()[i], roc_auc[i]),\n",
    "    )\n",
    "\n",
    "plt.plot([0, 1], [0, 1], \"k--\", lw=lw)\n",
    "plt.xlim([-0.005, 1.0])\n",
    "plt.ylim([0.0, 1.05])\n",
    "plt.xlabel(\"False Positive Rate\")\n",
    "plt.ylabel(\"True Positive Rate\")\n",
    "plt.title(\"ROC Curve (Multiclass)\")\n",
    "plt.legend(loc=\"lower right\")\n",
    "plt.show()"
   ]
  },
  {
   "cell_type": "markdown",
   "metadata": {
    "id": "MfAtR6UClgRE"
   },
   "source": [
    "##### ROC Curve (Average out)"
   ]
  },
  {
   "cell_type": "code",
   "execution_count": null,
   "metadata": {
    "colab": {
     "base_uri": "https://localhost:8080/",
     "height": 301
    },
    "executionInfo": {
     "elapsed": 1091,
     "status": "ok",
     "timestamp": 1638116114560,
     "user": {
      "displayName": "QIIKAII",
      "photoUrl": "https://lh3.googleusercontent.com/a-/AOh14GiJOdYwJsRvwYnsXYnOzQM51xYuWLYsahwvlDNSBQ=s64",
      "userId": "18419578418508292348"
     },
     "user_tz": -480
    },
    "id": "IsUZOgNiUQwl",
    "outputId": "d31c21f0-1ebf-410a-ab9b-2b866f74a7bc"
   },
   "outputs": [],
   "source": [
    "fpr, tpr, threshold = roc_curve(y_test.ravel(), y_pred.ravel())\n",
    "\n",
    "# calculate equal-error-rate\n",
    "eer = brentq(lambda x : 1. - x - interp1d(fpr, tpr)(x), 0., 1.)\n",
    "\n",
    "plt.figure(1)\n",
    "plt.plot([0, 1], [0, 1], 'k--')\n",
    "plt.plot(fpr, tpr, label='AUC = {:.3f}, EER = {:.3f}'.format(auc(fpr, tpr), eer))\n",
    "plt.xlabel('False positive rate')\n",
    "plt.ylabel('True positive rate')\n",
    "plt.title('Average ROC Curve')\n",
    "plt.legend(loc='best')\n",
    "plt.show()"
   ]
  },
  {
   "cell_type": "markdown",
   "metadata": {},
   "source": [
    "### SAVE MODEL"
   ]
  },
  {
   "cell_type": "code",
   "execution_count": null,
   "metadata": {},
   "outputs": [],
   "source": [
    "##################\n",
    "# # save model # #\n",
    "##################\n",
    "\n",
    "model.model.save(\"model/key_classifier.h5\")\n",
    "\n",
    "###########################\n",
    "# # save model in colab # #\n",
    "###########################\n",
    "\n",
    "# model.model.save(F\"/content/gdrive/My Drive/Colab Notebooks/overall_key_classifier.h5\")"
   ]
  },
  {
   "cell_type": "markdown",
   "metadata": {
    "id": "9ljit4YAS97D"
   },
   "source": [
    "### LOAD MODEL"
   ]
  },
  {
   "cell_type": "code",
   "execution_count": null,
   "metadata": {
    "id": "XA0T_LLzS97D"
   },
   "outputs": [],
   "source": [
    "##################\n",
    "# # load model # #\n",
    "##################\n",
    "\n",
    "model.model = load_model(\"model/key_classifier.h5\")\n",
    "\n",
    "###########################\n",
    "# # load model in colab # #\n",
    "###########################\n",
    "\n",
    "# model.model = load_model(\"/content/gdrive/My Drive/Colab Notebooks/overall_key_classifier.h5\")"
   ]
  },
  {
   "cell_type": "markdown",
   "metadata": {
    "id": "OC4QSqpaS97D"
   },
   "source": [
    "### LIVE TESTING\n",
    "> * import any new data to perform testing and prediction"
   ]
  },
  {
   "cell_type": "code",
   "execution_count": null,
   "metadata": {
    "colab": {
     "base_uri": "https://localhost:8080/",
     "height": 224
    },
    "executionInfo": {
     "elapsed": 319,
     "status": "ok",
     "timestamp": 1638119153238,
     "user": {
      "displayName": "QIIKAII",
      "photoUrl": "https://lh3.googleusercontent.com/a-/AOh14GiJOdYwJsRvwYnsXYnOzQM51xYuWLYsahwvlDNSBQ=s64",
      "userId": "18419578418508292348"
     },
     "user_tz": -480
    },
    "id": "no99ee2sVZvL",
    "outputId": "9232e650-f7dc-4249-a0b5-20dba3f2c619",
    "scrolled": true
   },
   "outputs": [],
   "source": [
    "# import unseen data\n",
    "pred_df = pd.read_csv(TEST_DATA_LINK)\n",
    "pred_df.head()"
   ]
  },
  {
   "cell_type": "code",
   "execution_count": null,
   "metadata": {
    "colab": {
     "base_uri": "https://localhost:8080/",
     "height": 301
    },
    "executionInfo": {
     "elapsed": 593,
     "status": "ok",
     "timestamp": 1638119156672,
     "user": {
      "displayName": "QIIKAII",
      "photoUrl": "https://lh3.googleusercontent.com/a-/AOh14GiJOdYwJsRvwYnsXYnOzQM51xYuWLYsahwvlDNSBQ=s64",
      "userId": "18419578418508292348"
     },
     "user_tz": -480
    },
    "id": "T7zBVAvvS97D",
    "outputId": "3b3b3735-244a-4eec-9227-8ffda9860f42"
   },
   "outputs": [],
   "source": [
    "################################\n",
    "# # check for class validity # #\n",
    "################################\n",
    "sns.set_theme(style=\"darkgrid\")\n",
    "ax = sns.countplot(x=\"subject\", data=pred_df).set_title(\"Class Validity\")\n",
    "\n",
    "# remove missing values if available\n",
    "df = df.dropna()"
   ]
  },
  {
   "cell_type": "code",
   "execution_count": null,
   "metadata": {
    "executionInfo": {
     "elapsed": 287,
     "status": "ok",
     "timestamp": 1638119159318,
     "user": {
      "displayName": "QIIKAII",
      "photoUrl": "https://lh3.googleusercontent.com/a-/AOh14GiJOdYwJsRvwYnsXYnOzQM51xYuWLYsahwvlDNSBQ=s64",
      "userId": "18419578418508292348"
     },
     "user_tz": -480
    },
    "id": "vvmUbcekS97E"
   },
   "outputs": [],
   "source": [
    "pred_dataset = pred_df.values\n",
    "\n",
    "# divide data into features X\n",
    "# X_new = new_dataset[:,3:].astype(float)\n",
    "\n",
    "#################################\n",
    "# # predict more than one row # #\n",
    "#################################\n",
    "\n",
    "pred_row=pred_df.iloc[:,3:]\n",
    "\n",
    "############################\n",
    "# # predict a single row # #\n",
    "############################\n",
    "\n",
    "# pred_row=pred_df.iloc[0:2,3:]\n",
    "\n",
    "################################\n",
    "# # normalise and shape data # #\n",
    "################################\n",
    "pred_row = pred_row.values.tolist()\n",
    "pred_row = scaler.transform(pred_row)\n",
    "pred_arr = np.asarray(pred_row, dtype=np.float32)\n",
    "pred_arr = np.reshape(pred_arr, (pred_row.shape[0], TIMESTEPS, pred_arr.shape[1]))"
   ]
  },
  {
   "cell_type": "code",
   "execution_count": null,
   "metadata": {
    "colab": {
     "base_uri": "https://localhost:8080/"
    },
    "executionInfo": {
     "elapsed": 293,
     "status": "ok",
     "timestamp": 1638119225760,
     "user": {
      "displayName": "QIIKAII",
      "photoUrl": "https://lh3.googleusercontent.com/a-/AOh14GiJOdYwJsRvwYnsXYnOzQM51xYuWLYsahwvlDNSBQ=s64",
      "userId": "18419578418508292348"
     },
     "user_tz": -480
    },
    "id": "bZF7p6lFVZxE",
    "outputId": "d2a2b7e0-beb0-434c-fc3b-62e057968477"
   },
   "outputs": [],
   "source": [
    "####################################\n",
    "# # get prediction and its label # #\n",
    "####################################\n",
    "\n",
    "pred = model.predict(pred_arr)\n",
    "pred = to_categorical(pred)\n",
    "pred = encoder.inverse_transform(pred)\n",
    "pred = np.ravel(pred)\n",
    "\n",
    "pred_proba = model.predict_proba(pred_arr)\n",
    "acc = np.max(pred_proba, axis=1)\n",
    "\n",
    "pred_results = np.column_stack((pred, acc))\n",
    "\n",
    "df = pd.DataFrame(data=pred_results, index=None, columns=['Prediction', 'Accuracy'])\n",
    "print(df)"
   ]
  },
  {
   "cell_type": "code",
   "execution_count": null,
   "metadata": {
    "id": "VuDhUKwwS97E"
   },
   "outputs": [],
   "source": []
  }
 ],
 "metadata": {
  "accelerator": "GPU",
  "colab": {
   "collapsed_sections": [
    "qxwawov4S96_",
    "GOSGgRxamf1f"
   ],
   "name": "keystroke.ipynb",
   "provenance": []
  },
  "kernelspec": {
   "display_name": "Python 3 (ipykernel)",
   "language": "python",
   "name": "python3"
  },
  "language_info": {
   "codemirror_mode": {
    "name": "ipython",
    "version": 3
   },
   "file_extension": ".py",
   "mimetype": "text/x-python",
   "name": "python",
   "nbconvert_exporter": "python",
   "pygments_lexer": "ipython3",
   "version": "3.9.7"
  }
 },
 "nbformat": 4,
 "nbformat_minor": 1
}
