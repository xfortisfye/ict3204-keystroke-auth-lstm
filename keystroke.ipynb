{
 "cells": [
  {
   "cell_type": "code",
   "execution_count": 1,
   "metadata": {},
   "outputs": [],
   "source": [
    "# # when in google drive\n",
    "# from google.colab import drive\n",
    "# drive.mount('/content/gdrive')\n",
    "# !pip install scikeras --quiet"
   ]
  },
  {
   "cell_type": "code",
   "execution_count": 2,
   "metadata": {
    "colab": {
     "base_uri": "https://localhost:8080/"
    },
    "id": "DriiaId_J7TH",
    "outputId": "1832f6d2-6be6-412d-ff0d-82a08cb814f0"
   },
   "outputs": [],
   "source": [
    "import numpy as np\n",
    "import pandas as pd\n",
    "import tensorflow as tf\n",
    "import matplotlib.pyplot as plt\n",
    "from matplotlib import pyplot\n",
    "\n",
    "import warnings\n",
    "warnings.filterwarnings('ignore')\n",
    "\n",
    "from keras.utils.np_utils import to_categorical \n",
    "from tensorflow.keras.callbacks import EarlyStopping\n",
    "from keras.models import Sequential\n",
    "from keras.layers import Dense, Dropout, BatchNormalization,\\\n",
    "Flatten, LSTM\n",
    "# from scikeras.wrappers import KerasClassifier\n",
    "from keras.wrappers.scikit_learn import KerasClassifier\n",
    "from keras.models import load_model\n",
    "\n",
    "from sklearn.preprocessing import MinMaxScaler\n",
    "from sklearn.model_selection import train_test_split\n",
    "# from sklearn.model_selection import StratifiedKFold\n",
    "from sklearn.model_selection import cross_val_score\n",
    "from sklearn.model_selection import KFold\n",
    "from sklearn.metrics import accuracy_score, confusion_matrix\n",
    "from sklearn.preprocessing import OneHotEncoder\n",
    "\n",
    "NUM_FEATURES = 31\n",
    "TIMESTEPS = 1\n",
    "DATASET_LINK = \"https://raw.githubusercontent.com/ehandywhyy/ict3204-security-analytics/main/dataset/overall.csv\"\n",
    "TEST_DATA_LINK = \"https://raw.githubusercontent.com/ehandywhyy/ict3204-security-analytics/main/dataset/overall_test.csv\""
   ]
  },
  {
   "cell_type": "markdown",
   "metadata": {
    "id": "F9LuaURiPqv3"
   },
   "source": [
    "##### Initialise Seed"
   ]
  },
  {
   "cell_type": "code",
   "execution_count": 3,
   "metadata": {
    "colab": {
     "base_uri": "https://localhost:8080/",
     "height": 226
    },
    "id": "066fT-NcPqVL",
    "outputId": "75666af5-6fab-45b2-e4df-6c2ca74d03be"
   },
   "outputs": [
    {
     "data": {
      "text/html": [
       "<div>\n",
       "<style scoped>\n",
       "    .dataframe tbody tr th:only-of-type {\n",
       "        vertical-align: middle;\n",
       "    }\n",
       "\n",
       "    .dataframe tbody tr th {\n",
       "        vertical-align: top;\n",
       "    }\n",
       "\n",
       "    .dataframe thead th {\n",
       "        text-align: right;\n",
       "    }\n",
       "</style>\n",
       "<table border=\"1\" class=\"dataframe\">\n",
       "  <thead>\n",
       "    <tr style=\"text-align: right;\">\n",
       "      <th></th>\n",
       "      <th>subject</th>\n",
       "      <th>sessionIndex</th>\n",
       "      <th>rep</th>\n",
       "      <th>H.period</th>\n",
       "      <th>DD.period.t</th>\n",
       "      <th>UD.period.t</th>\n",
       "      <th>H.t</th>\n",
       "      <th>DD.t.i</th>\n",
       "      <th>UD.t.i</th>\n",
       "      <th>H.i</th>\n",
       "      <th>...</th>\n",
       "      <th>H.a</th>\n",
       "      <th>DD.a.n</th>\n",
       "      <th>UD.a.n</th>\n",
       "      <th>H.n</th>\n",
       "      <th>DD.n.l</th>\n",
       "      <th>UD.n.l</th>\n",
       "      <th>H.l</th>\n",
       "      <th>DD.l.Return</th>\n",
       "      <th>UD.l.Return</th>\n",
       "      <th>H.Return</th>\n",
       "    </tr>\n",
       "  </thead>\n",
       "  <tbody>\n",
       "    <tr>\n",
       "      <th>0</th>\n",
       "      <td>Andy</td>\n",
       "      <td>1</td>\n",
       "      <td>1</td>\n",
       "      <td>0.142176</td>\n",
       "      <td>0.156880</td>\n",
       "      <td>0.014704</td>\n",
       "      <td>0.127937</td>\n",
       "      <td>0.142299</td>\n",
       "      <td>0.014361</td>\n",
       "      <td>0.155919</td>\n",
       "      <td>...</td>\n",
       "      <td>0.128263</td>\n",
       "      <td>0.085967</td>\n",
       "      <td>-0.042296</td>\n",
       "      <td>0.120442</td>\n",
       "      <td>0.209372</td>\n",
       "      <td>0.088930</td>\n",
       "      <td>0.116911</td>\n",
       "      <td>0.165437</td>\n",
       "      <td>0.048526</td>\n",
       "      <td>0.160258</td>\n",
       "    </tr>\n",
       "    <tr>\n",
       "      <th>1</th>\n",
       "      <td>Andy</td>\n",
       "      <td>1</td>\n",
       "      <td>2</td>\n",
       "      <td>0.141793</td>\n",
       "      <td>0.164635</td>\n",
       "      <td>0.022842</td>\n",
       "      <td>0.121625</td>\n",
       "      <td>0.152146</td>\n",
       "      <td>0.030520</td>\n",
       "      <td>0.137039</td>\n",
       "      <td>...</td>\n",
       "      <td>0.144490</td>\n",
       "      <td>0.082397</td>\n",
       "      <td>-0.062093</td>\n",
       "      <td>0.101188</td>\n",
       "      <td>0.126066</td>\n",
       "      <td>0.024878</td>\n",
       "      <td>0.098424</td>\n",
       "      <td>0.130661</td>\n",
       "      <td>0.032238</td>\n",
       "      <td>0.173819</td>\n",
       "    </tr>\n",
       "    <tr>\n",
       "      <th>2</th>\n",
       "      <td>Andy</td>\n",
       "      <td>1</td>\n",
       "      <td>3</td>\n",
       "      <td>0.157152</td>\n",
       "      <td>0.147220</td>\n",
       "      <td>-0.009932</td>\n",
       "      <td>0.134796</td>\n",
       "      <td>0.145790</td>\n",
       "      <td>0.010994</td>\n",
       "      <td>0.124892</td>\n",
       "      <td>...</td>\n",
       "      <td>0.135452</td>\n",
       "      <td>0.082423</td>\n",
       "      <td>-0.053029</td>\n",
       "      <td>0.108598</td>\n",
       "      <td>0.155843</td>\n",
       "      <td>0.047244</td>\n",
       "      <td>0.118759</td>\n",
       "      <td>0.146550</td>\n",
       "      <td>0.027791</td>\n",
       "      <td>0.173512</td>\n",
       "    </tr>\n",
       "    <tr>\n",
       "      <th>3</th>\n",
       "      <td>Andy</td>\n",
       "      <td>1</td>\n",
       "      <td>4</td>\n",
       "      <td>0.158673</td>\n",
       "      <td>0.142487</td>\n",
       "      <td>-0.016186</td>\n",
       "      <td>0.118908</td>\n",
       "      <td>0.159179</td>\n",
       "      <td>0.040271</td>\n",
       "      <td>0.133175</td>\n",
       "      <td>...</td>\n",
       "      <td>0.114266</td>\n",
       "      <td>0.072556</td>\n",
       "      <td>-0.041711</td>\n",
       "      <td>0.101937</td>\n",
       "      <td>0.145692</td>\n",
       "      <td>0.043755</td>\n",
       "      <td>0.096300</td>\n",
       "      <td>0.122580</td>\n",
       "      <td>0.026280</td>\n",
       "      <td>0.190808</td>\n",
       "    </tr>\n",
       "    <tr>\n",
       "      <th>4</th>\n",
       "      <td>Andy</td>\n",
       "      <td>1</td>\n",
       "      <td>5</td>\n",
       "      <td>0.166583</td>\n",
       "      <td>0.157102</td>\n",
       "      <td>-0.009480</td>\n",
       "      <td>0.115094</td>\n",
       "      <td>0.141103</td>\n",
       "      <td>0.026009</td>\n",
       "      <td>0.135121</td>\n",
       "      <td>...</td>\n",
       "      <td>0.125474</td>\n",
       "      <td>0.089247</td>\n",
       "      <td>-0.036227</td>\n",
       "      <td>0.114211</td>\n",
       "      <td>0.149136</td>\n",
       "      <td>0.034925</td>\n",
       "      <td>0.121197</td>\n",
       "      <td>0.230113</td>\n",
       "      <td>0.108917</td>\n",
       "      <td>0.143299</td>\n",
       "    </tr>\n",
       "  </tbody>\n",
       "</table>\n",
       "<p>5 rows × 34 columns</p>\n",
       "</div>"
      ],
      "text/plain": [
       "  subject  sessionIndex  rep  H.period  DD.period.t  UD.period.t       H.t  \\\n",
       "0    Andy             1    1  0.142176     0.156880     0.014704  0.127937   \n",
       "1    Andy             1    2  0.141793     0.164635     0.022842  0.121625   \n",
       "2    Andy             1    3  0.157152     0.147220    -0.009932  0.134796   \n",
       "3    Andy             1    4  0.158673     0.142487    -0.016186  0.118908   \n",
       "4    Andy             1    5  0.166583     0.157102    -0.009480  0.115094   \n",
       "\n",
       "     DD.t.i    UD.t.i       H.i  ...       H.a    DD.a.n    UD.a.n       H.n  \\\n",
       "0  0.142299  0.014361  0.155919  ...  0.128263  0.085967 -0.042296  0.120442   \n",
       "1  0.152146  0.030520  0.137039  ...  0.144490  0.082397 -0.062093  0.101188   \n",
       "2  0.145790  0.010994  0.124892  ...  0.135452  0.082423 -0.053029  0.108598   \n",
       "3  0.159179  0.040271  0.133175  ...  0.114266  0.072556 -0.041711  0.101937   \n",
       "4  0.141103  0.026009  0.135121  ...  0.125474  0.089247 -0.036227  0.114211   \n",
       "\n",
       "     DD.n.l    UD.n.l       H.l  DD.l.Return  UD.l.Return  H.Return  \n",
       "0  0.209372  0.088930  0.116911     0.165437     0.048526  0.160258  \n",
       "1  0.126066  0.024878  0.098424     0.130661     0.032238  0.173819  \n",
       "2  0.155843  0.047244  0.118759     0.146550     0.027791  0.173512  \n",
       "3  0.145692  0.043755  0.096300     0.122580     0.026280  0.190808  \n",
       "4  0.149136  0.034925  0.121197     0.230113     0.108917  0.143299  \n",
       "\n",
       "[5 rows x 34 columns]"
      ]
     },
     "execution_count": 3,
     "metadata": {},
     "output_type": "execute_result"
    }
   ],
   "source": [
    "# random seed for reproducibility\n",
    "seed = 10\n",
    "np.random.seed(seed)\n",
    "\n",
    "# loading of dataset\n",
    "df = pd.read_csv(DATASET_LINK)\n",
    "\n",
    "# # Remove missing values IF AVAILABLE and print head\n",
    "df = df.dropna()\n",
    "df.head()"
   ]
  },
  {
   "cell_type": "markdown",
   "metadata": {
    "id": "QDsF71P6lL4A"
   },
   "source": [
    "##### Divide dataset into X and Y\n",
    "##### Normalise features within range 0 (minimum) and 1 (maximum)\n"
   ]
  },
  {
   "cell_type": "code",
   "execution_count": 4,
   "metadata": {
    "colab": {
     "base_uri": "https://localhost:8080/"
    },
    "id": "d28icPmWaXsa",
    "outputId": "03e9a332-ed1a-44df-937e-71b4b94e0a18"
   },
   "outputs": [
    {
     "name": "stdout",
     "output_type": "stream",
     "text": [
      "Andy       100\n",
      "Azfar      100\n",
      "Chris      100\n",
      "Qikai      100\n",
      "Safaraz    100\n",
      "dtype: int64\n"
     ]
    }
   ],
   "source": [
    "dataset = df.values\n",
    "\n",
    "# divide data into features X and target (Classes) Y\n",
    "X = dataset[:,3:].astype(float)\n",
    "Y = dataset[:,0]\n",
    "\n",
    "# # check for class imbalance\n",
    "print(df.groupby(Y).size())"
   ]
  },
  {
   "cell_type": "code",
   "execution_count": 5,
   "metadata": {
    "colab": {
     "base_uri": "https://localhost:8080/"
    },
    "id": "JPl7j2SfHWLI",
    "outputId": "57770798-cd5f-4687-ea4f-44037cd5bda3"
   },
   "outputs": [
    {
     "name": "stdout",
     "output_type": "stream",
     "text": [
      "['x0_Andy' 'x0_Azfar' 'x0_Chris' 'x0_Qikai' 'x0_Safaraz']\n",
      "X dataset shape: (500, 31)\n",
      "Y dataset shape: (500, 1)\n"
     ]
    }
   ],
   "source": [
    "# convert target Y to one hot encoded Y for model\n",
    "Y = Y.reshape(-1, 1)\n",
    "encoder = OneHotEncoder().fit(Y)\n",
    "\n",
    "# get all the encoded class\n",
    "print(encoder.get_feature_names_out())\n",
    "\n",
    "# print X and Y shape\n",
    "print(\"X dataset shape: \" + str(X.shape))\n",
    "print(\"Y dataset shape: \" + str(Y.shape))"
   ]
  },
  {
   "cell_type": "markdown",
   "metadata": {
    "id": "LpOqfe88l6kY"
   },
   "source": [
    "##### Preparing dataset"
   ]
  },
  {
   "cell_type": "code",
   "execution_count": 6,
   "metadata": {
    "colab": {
     "base_uri": "https://localhost:8080/"
    },
    "id": "6_WWovqJnT7M",
    "outputId": "fbc659e2-139c-4638-8cca-4533dfaaf975"
   },
   "outputs": [
    {
     "name": "stdout",
     "output_type": "stream",
     "text": [
      "X train shape: (400, 1, 31)\n",
      "Y train shape: (400, 5)\n",
      "X test shape: (100, 1, 31)\n",
      "Y test shape: (100, 5)\n"
     ]
    }
   ],
   "source": [
    "# split dataset into train and test of 0.8/0.2 ratio\n",
    "X_train, X_test, y_train, y_test = train_test_split(\n",
    "    X, Y, test_size=0.2, random_state=seed)\n",
    "\n",
    "# normalisation to 0 to 1\n",
    "scaler = MinMaxScaler(feature_range=(0, 1))\n",
    "X_train = scaler.fit_transform(X_train)\n",
    "X_test = scaler.transform(X_test)\n",
    "\n",
    "# reshaping the dataset to include LSTM\n",
    "X_train = np.asarray(X_train, dtype=np.float32)\n",
    "X_train = np.reshape(X_train, (X_train.shape[0], TIMESTEPS, X_train.shape[1]))\n",
    "X_test = np.asarray(X_test, dtype=np.float32)\n",
    "X_test = np.reshape(X_test, (X_test.shape[0], TIMESTEPS, X_test.shape[1]))\n",
    "\n",
    "# converting y data to encoding\n",
    "y_train = encoder.transform(y_train).toarray()\n",
    "y_test = encoder.transform(y_test).toarray()\n",
    "\n",
    "num_classes = y_train.shape[1]\n",
    "\n",
    "print(\"X train shape: \" + str(X_train.shape))\n",
    "print(\"Y train shape: \" + str(y_train.shape))\n",
    "print(\"X test shape: \" + str(X_test.shape))\n",
    "print(\"Y test shape: \" + str(y_test.shape))"
   ]
  },
  {
   "cell_type": "markdown",
   "metadata": {
    "id": "MN14qb9GmR6_"
   },
   "source": [
    "### Create Model"
   ]
  },
  {
   "cell_type": "code",
   "execution_count": 7,
   "metadata": {
    "id": "p0ZgrDxXKh05"
   },
   "outputs": [],
   "source": [
    "def create_model():\n",
    "    # define model\n",
    "    model = Sequential()\n",
    "    model.add(LSTM(units=128, return_sequences=True, \n",
    "                 input_shape=(TIMESTEPS,NUM_FEATURES)))\n",
    "    model.add(Dropout(0.2))\n",
    "    model.add(BatchNormalization())\n",
    "    model.add(LSTM(units=128, return_sequences=True))\n",
    "    model.add(Dropout(0.2))\n",
    "    model.add(BatchNormalization())\n",
    "    model.add(LSTM(units=64, return_sequences=True))\n",
    "    model.add(Dropout(0.2))\n",
    "    model.add(BatchNormalization())\n",
    "    # Softmax for multi-class classification\n",
    "    model.add(Flatten())\n",
    "    model.add(Dense(num_classes, activation='softmax'))\n",
    "\n",
    "    model.compile(loss='categorical_crossentropy', optimizer='adam',\n",
    "                metrics=['accuracy'])\n",
    "    return model"
   ]
  },
  {
   "cell_type": "markdown",
   "metadata": {
    "id": "uQOFDctVmVjf"
   },
   "source": [
    "##### Wrap Model in KerasClassifier"
   ]
  },
  {
   "cell_type": "code",
   "execution_count": 8,
   "metadata": {
    "id": "sef5kxx5VZqt"
   },
   "outputs": [],
   "source": [
    "model = KerasClassifier(build_fn=create_model, epochs=100, \n",
    "                            batch_size=10)"
   ]
  },
  {
   "cell_type": "markdown",
   "metadata": {
    "id": "5LouGE3MmbO1"
   },
   "source": [
    "### Perform KFold Validation"
   ]
  },
  {
   "cell_type": "markdown",
   "metadata": {},
   "source": [
    "##### evaluate suitable kfold validation"
   ]
  },
  {
   "cell_type": "code",
   "execution_count": 9,
   "metadata": {
    "id": "6WDOQfPzV9-N"
   },
   "outputs": [
    {
     "ename": "KeyboardInterrupt",
     "evalue": "",
     "output_type": "error",
     "traceback": [
      "\u001b[1;31m---------------------------------------------------------------------------\u001b[0m",
      "\u001b[1;31mKeyboardInterrupt\u001b[0m                         Traceback (most recent call last)",
      "\u001b[1;32m~\\AppData\\Local\\Temp/ipykernel_23564/1747912553.py\u001b[0m in \u001b[0;36m<module>\u001b[1;34m\u001b[0m\n\u001b[0;32m     42\u001b[0m     \u001b[0mpyplot\u001b[0m\u001b[1;33m.\u001b[0m\u001b[0mshow\u001b[0m\u001b[1;33m(\u001b[0m\u001b[1;33m)\u001b[0m\u001b[1;33m\u001b[0m\u001b[1;33m\u001b[0m\u001b[0m\n\u001b[0;32m     43\u001b[0m \u001b[1;33m\u001b[0m\u001b[0m\n\u001b[1;32m---> 44\u001b[1;33m \u001b[0mevaluate_kfold\u001b[0m\u001b[1;33m(\u001b[0m\u001b[0mmodel\u001b[0m\u001b[1;33m,\u001b[0m \u001b[0mX_train\u001b[0m\u001b[1;33m,\u001b[0m \u001b[0my_train\u001b[0m\u001b[1;33m,\u001b[0m \u001b[0mseed\u001b[0m\u001b[1;33m)\u001b[0m\u001b[1;33m\u001b[0m\u001b[1;33m\u001b[0m\u001b[0m\n\u001b[0m",
      "\u001b[1;32m~\\AppData\\Local\\Temp/ipykernel_23564/1747912553.py\u001b[0m in \u001b[0;36mevaluate_kfold\u001b[1;34m(model, X_train, y_train, seed)\u001b[0m\n\u001b[0;32m      6\u001b[0m \u001b[1;33m\u001b[0m\u001b[0m\n\u001b[0;32m      7\u001b[0m     \u001b[1;31m# evaluate the model\u001b[0m\u001b[1;33m\u001b[0m\u001b[1;33m\u001b[0m\u001b[0m\n\u001b[1;32m----> 8\u001b[1;33m     \u001b[0mscores\u001b[0m \u001b[1;33m=\u001b[0m \u001b[0mcross_val_score\u001b[0m\u001b[1;33m(\u001b[0m\u001b[0mmodel\u001b[0m\u001b[1;33m,\u001b[0m \u001b[0mX_train\u001b[0m\u001b[1;33m,\u001b[0m \u001b[0my_train\u001b[0m\u001b[1;33m,\u001b[0m \u001b[0mscoring\u001b[0m\u001b[1;33m=\u001b[0m\u001b[1;34m'accuracy'\u001b[0m\u001b[1;33m,\u001b[0m \u001b[0mcv\u001b[0m\u001b[1;33m=\u001b[0m\u001b[0mLeaveOneOut\u001b[0m\u001b[1;33m(\u001b[0m\u001b[1;33m)\u001b[0m\u001b[1;33m,\u001b[0m \u001b[0mn_jobs\u001b[0m\u001b[1;33m=\u001b[0m\u001b[1;33m-\u001b[0m\u001b[1;36m1\u001b[0m\u001b[1;33m)\u001b[0m\u001b[1;33m\u001b[0m\u001b[1;33m\u001b[0m\u001b[0m\n\u001b[0m\u001b[0;32m      9\u001b[0m     \u001b[0mideal\u001b[0m\u001b[1;33m,\u001b[0m \u001b[0m_\u001b[0m\u001b[1;33m,\u001b[0m \u001b[0m_\u001b[0m \u001b[1;33m=\u001b[0m \u001b[0mmean\u001b[0m\u001b[1;33m(\u001b[0m\u001b[0mscores\u001b[0m\u001b[1;33m)\u001b[0m\u001b[1;33m,\u001b[0m \u001b[0mscores\u001b[0m\u001b[1;33m.\u001b[0m\u001b[0mmin\u001b[0m\u001b[1;33m(\u001b[0m\u001b[1;33m)\u001b[0m\u001b[1;33m,\u001b[0m \u001b[0mscores\u001b[0m\u001b[1;33m.\u001b[0m\u001b[0mmax\u001b[0m\u001b[1;33m(\u001b[0m\u001b[1;33m)\u001b[0m\u001b[1;33m\u001b[0m\u001b[1;33m\u001b[0m\u001b[0m\n\u001b[0;32m     10\u001b[0m     \u001b[0mprint\u001b[0m\u001b[1;33m(\u001b[0m\u001b[1;34m'Ideal: %.3f'\u001b[0m \u001b[1;33m%\u001b[0m \u001b[0mideal\u001b[0m\u001b[1;33m)\u001b[0m\u001b[1;33m\u001b[0m\u001b[1;33m\u001b[0m\u001b[0m\n",
      "\u001b[1;32m~\\Documents\\GitHub\\ict3204-security-analytics\\env\\lib\\site-packages\\sklearn\\model_selection\\_validation.py\u001b[0m in \u001b[0;36mcross_val_score\u001b[1;34m(estimator, X, y, groups, scoring, cv, n_jobs, verbose, fit_params, pre_dispatch, error_score)\u001b[0m\n\u001b[0;32m    508\u001b[0m     \u001b[0mscorer\u001b[0m \u001b[1;33m=\u001b[0m \u001b[0mcheck_scoring\u001b[0m\u001b[1;33m(\u001b[0m\u001b[0mestimator\u001b[0m\u001b[1;33m,\u001b[0m \u001b[0mscoring\u001b[0m\u001b[1;33m=\u001b[0m\u001b[0mscoring\u001b[0m\u001b[1;33m)\u001b[0m\u001b[1;33m\u001b[0m\u001b[1;33m\u001b[0m\u001b[0m\n\u001b[0;32m    509\u001b[0m \u001b[1;33m\u001b[0m\u001b[0m\n\u001b[1;32m--> 510\u001b[1;33m     cv_results = cross_validate(\n\u001b[0m\u001b[0;32m    511\u001b[0m         \u001b[0mestimator\u001b[0m\u001b[1;33m=\u001b[0m\u001b[0mestimator\u001b[0m\u001b[1;33m,\u001b[0m\u001b[1;33m\u001b[0m\u001b[1;33m\u001b[0m\u001b[0m\n\u001b[0;32m    512\u001b[0m         \u001b[0mX\u001b[0m\u001b[1;33m=\u001b[0m\u001b[0mX\u001b[0m\u001b[1;33m,\u001b[0m\u001b[1;33m\u001b[0m\u001b[1;33m\u001b[0m\u001b[0m\n",
      "\u001b[1;32m~\\Documents\\GitHub\\ict3204-security-analytics\\env\\lib\\site-packages\\sklearn\\model_selection\\_validation.py\u001b[0m in \u001b[0;36mcross_validate\u001b[1;34m(estimator, X, y, groups, scoring, cv, n_jobs, verbose, fit_params, pre_dispatch, return_train_score, return_estimator, error_score)\u001b[0m\n\u001b[0;32m    265\u001b[0m     \u001b[1;31m# independent, and that it is pickle-able.\u001b[0m\u001b[1;33m\u001b[0m\u001b[1;33m\u001b[0m\u001b[0m\n\u001b[0;32m    266\u001b[0m     \u001b[0mparallel\u001b[0m \u001b[1;33m=\u001b[0m \u001b[0mParallel\u001b[0m\u001b[1;33m(\u001b[0m\u001b[0mn_jobs\u001b[0m\u001b[1;33m=\u001b[0m\u001b[0mn_jobs\u001b[0m\u001b[1;33m,\u001b[0m \u001b[0mverbose\u001b[0m\u001b[1;33m=\u001b[0m\u001b[0mverbose\u001b[0m\u001b[1;33m,\u001b[0m \u001b[0mpre_dispatch\u001b[0m\u001b[1;33m=\u001b[0m\u001b[0mpre_dispatch\u001b[0m\u001b[1;33m)\u001b[0m\u001b[1;33m\u001b[0m\u001b[1;33m\u001b[0m\u001b[0m\n\u001b[1;32m--> 267\u001b[1;33m     results = parallel(\n\u001b[0m\u001b[0;32m    268\u001b[0m         delayed(_fit_and_score)(\n\u001b[0;32m    269\u001b[0m             \u001b[0mclone\u001b[0m\u001b[1;33m(\u001b[0m\u001b[0mestimator\u001b[0m\u001b[1;33m)\u001b[0m\u001b[1;33m,\u001b[0m\u001b[1;33m\u001b[0m\u001b[1;33m\u001b[0m\u001b[0m\n",
      "\u001b[1;32m~\\Documents\\GitHub\\ict3204-security-analytics\\env\\lib\\site-packages\\joblib\\parallel.py\u001b[0m in \u001b[0;36m__call__\u001b[1;34m(self, iterable)\u001b[0m\n\u001b[0;32m   1054\u001b[0m \u001b[1;33m\u001b[0m\u001b[0m\n\u001b[0;32m   1055\u001b[0m             \u001b[1;32mwith\u001b[0m \u001b[0mself\u001b[0m\u001b[1;33m.\u001b[0m\u001b[0m_backend\u001b[0m\u001b[1;33m.\u001b[0m\u001b[0mretrieval_context\u001b[0m\u001b[1;33m(\u001b[0m\u001b[1;33m)\u001b[0m\u001b[1;33m:\u001b[0m\u001b[1;33m\u001b[0m\u001b[1;33m\u001b[0m\u001b[0m\n\u001b[1;32m-> 1056\u001b[1;33m                 \u001b[0mself\u001b[0m\u001b[1;33m.\u001b[0m\u001b[0mretrieve\u001b[0m\u001b[1;33m(\u001b[0m\u001b[1;33m)\u001b[0m\u001b[1;33m\u001b[0m\u001b[1;33m\u001b[0m\u001b[0m\n\u001b[0m\u001b[0;32m   1057\u001b[0m             \u001b[1;31m# Make sure that we get a last message telling us we are done\u001b[0m\u001b[1;33m\u001b[0m\u001b[1;33m\u001b[0m\u001b[0m\n\u001b[0;32m   1058\u001b[0m             \u001b[0melapsed_time\u001b[0m \u001b[1;33m=\u001b[0m \u001b[0mtime\u001b[0m\u001b[1;33m.\u001b[0m\u001b[0mtime\u001b[0m\u001b[1;33m(\u001b[0m\u001b[1;33m)\u001b[0m \u001b[1;33m-\u001b[0m \u001b[0mself\u001b[0m\u001b[1;33m.\u001b[0m\u001b[0m_start_time\u001b[0m\u001b[1;33m\u001b[0m\u001b[1;33m\u001b[0m\u001b[0m\n",
      "\u001b[1;32m~\\Documents\\GitHub\\ict3204-security-analytics\\env\\lib\\site-packages\\joblib\\parallel.py\u001b[0m in \u001b[0;36mretrieve\u001b[1;34m(self)\u001b[0m\n\u001b[0;32m    933\u001b[0m             \u001b[1;32mtry\u001b[0m\u001b[1;33m:\u001b[0m\u001b[1;33m\u001b[0m\u001b[1;33m\u001b[0m\u001b[0m\n\u001b[0;32m    934\u001b[0m                 \u001b[1;32mif\u001b[0m \u001b[0mgetattr\u001b[0m\u001b[1;33m(\u001b[0m\u001b[0mself\u001b[0m\u001b[1;33m.\u001b[0m\u001b[0m_backend\u001b[0m\u001b[1;33m,\u001b[0m \u001b[1;34m'supports_timeout'\u001b[0m\u001b[1;33m,\u001b[0m \u001b[1;32mFalse\u001b[0m\u001b[1;33m)\u001b[0m\u001b[1;33m:\u001b[0m\u001b[1;33m\u001b[0m\u001b[1;33m\u001b[0m\u001b[0m\n\u001b[1;32m--> 935\u001b[1;33m                     \u001b[0mself\u001b[0m\u001b[1;33m.\u001b[0m\u001b[0m_output\u001b[0m\u001b[1;33m.\u001b[0m\u001b[0mextend\u001b[0m\u001b[1;33m(\u001b[0m\u001b[0mjob\u001b[0m\u001b[1;33m.\u001b[0m\u001b[0mget\u001b[0m\u001b[1;33m(\u001b[0m\u001b[0mtimeout\u001b[0m\u001b[1;33m=\u001b[0m\u001b[0mself\u001b[0m\u001b[1;33m.\u001b[0m\u001b[0mtimeout\u001b[0m\u001b[1;33m)\u001b[0m\u001b[1;33m)\u001b[0m\u001b[1;33m\u001b[0m\u001b[1;33m\u001b[0m\u001b[0m\n\u001b[0m\u001b[0;32m    936\u001b[0m                 \u001b[1;32melse\u001b[0m\u001b[1;33m:\u001b[0m\u001b[1;33m\u001b[0m\u001b[1;33m\u001b[0m\u001b[0m\n\u001b[0;32m    937\u001b[0m                     \u001b[0mself\u001b[0m\u001b[1;33m.\u001b[0m\u001b[0m_output\u001b[0m\u001b[1;33m.\u001b[0m\u001b[0mextend\u001b[0m\u001b[1;33m(\u001b[0m\u001b[0mjob\u001b[0m\u001b[1;33m.\u001b[0m\u001b[0mget\u001b[0m\u001b[1;33m(\u001b[0m\u001b[1;33m)\u001b[0m\u001b[1;33m)\u001b[0m\u001b[1;33m\u001b[0m\u001b[1;33m\u001b[0m\u001b[0m\n",
      "\u001b[1;32m~\\Documents\\GitHub\\ict3204-security-analytics\\env\\lib\\site-packages\\joblib\\_parallel_backends.py\u001b[0m in \u001b[0;36mwrap_future_result\u001b[1;34m(future, timeout)\u001b[0m\n\u001b[0;32m    540\u001b[0m         AsyncResults.get from multiprocessing.\"\"\"\n\u001b[0;32m    541\u001b[0m         \u001b[1;32mtry\u001b[0m\u001b[1;33m:\u001b[0m\u001b[1;33m\u001b[0m\u001b[1;33m\u001b[0m\u001b[0m\n\u001b[1;32m--> 542\u001b[1;33m             \u001b[1;32mreturn\u001b[0m \u001b[0mfuture\u001b[0m\u001b[1;33m.\u001b[0m\u001b[0mresult\u001b[0m\u001b[1;33m(\u001b[0m\u001b[0mtimeout\u001b[0m\u001b[1;33m=\u001b[0m\u001b[0mtimeout\u001b[0m\u001b[1;33m)\u001b[0m\u001b[1;33m\u001b[0m\u001b[1;33m\u001b[0m\u001b[0m\n\u001b[0m\u001b[0;32m    543\u001b[0m         \u001b[1;32mexcept\u001b[0m \u001b[0mCfTimeoutError\u001b[0m \u001b[1;32mas\u001b[0m \u001b[0me\u001b[0m\u001b[1;33m:\u001b[0m\u001b[1;33m\u001b[0m\u001b[1;33m\u001b[0m\u001b[0m\n\u001b[0;32m    544\u001b[0m             \u001b[1;32mraise\u001b[0m \u001b[0mTimeoutError\u001b[0m \u001b[1;32mfrom\u001b[0m \u001b[0me\u001b[0m\u001b[1;33m\u001b[0m\u001b[1;33m\u001b[0m\u001b[0m\n",
      "\u001b[1;32m~\\AppData\\Local\\Programs\\Python\\Python39\\lib\\concurrent\\futures\\_base.py\u001b[0m in \u001b[0;36mresult\u001b[1;34m(self, timeout)\u001b[0m\n\u001b[0;32m    438\u001b[0m                     \u001b[1;32mreturn\u001b[0m \u001b[0mself\u001b[0m\u001b[1;33m.\u001b[0m\u001b[0m__get_result\u001b[0m\u001b[1;33m(\u001b[0m\u001b[1;33m)\u001b[0m\u001b[1;33m\u001b[0m\u001b[1;33m\u001b[0m\u001b[0m\n\u001b[0;32m    439\u001b[0m \u001b[1;33m\u001b[0m\u001b[0m\n\u001b[1;32m--> 440\u001b[1;33m                 \u001b[0mself\u001b[0m\u001b[1;33m.\u001b[0m\u001b[0m_condition\u001b[0m\u001b[1;33m.\u001b[0m\u001b[0mwait\u001b[0m\u001b[1;33m(\u001b[0m\u001b[0mtimeout\u001b[0m\u001b[1;33m)\u001b[0m\u001b[1;33m\u001b[0m\u001b[1;33m\u001b[0m\u001b[0m\n\u001b[0m\u001b[0;32m    441\u001b[0m \u001b[1;33m\u001b[0m\u001b[0m\n\u001b[0;32m    442\u001b[0m                 \u001b[1;32mif\u001b[0m \u001b[0mself\u001b[0m\u001b[1;33m.\u001b[0m\u001b[0m_state\u001b[0m \u001b[1;32min\u001b[0m \u001b[1;33m[\u001b[0m\u001b[0mCANCELLED\u001b[0m\u001b[1;33m,\u001b[0m \u001b[0mCANCELLED_AND_NOTIFIED\u001b[0m\u001b[1;33m]\u001b[0m\u001b[1;33m:\u001b[0m\u001b[1;33m\u001b[0m\u001b[1;33m\u001b[0m\u001b[0m\n",
      "\u001b[1;32m~\\AppData\\Local\\Programs\\Python\\Python39\\lib\\threading.py\u001b[0m in \u001b[0;36mwait\u001b[1;34m(self, timeout)\u001b[0m\n\u001b[0;32m    310\u001b[0m         \u001b[1;32mtry\u001b[0m\u001b[1;33m:\u001b[0m    \u001b[1;31m# restore state no matter what (e.g., KeyboardInterrupt)\u001b[0m\u001b[1;33m\u001b[0m\u001b[1;33m\u001b[0m\u001b[0m\n\u001b[0;32m    311\u001b[0m             \u001b[1;32mif\u001b[0m \u001b[0mtimeout\u001b[0m \u001b[1;32mis\u001b[0m \u001b[1;32mNone\u001b[0m\u001b[1;33m:\u001b[0m\u001b[1;33m\u001b[0m\u001b[1;33m\u001b[0m\u001b[0m\n\u001b[1;32m--> 312\u001b[1;33m                 \u001b[0mwaiter\u001b[0m\u001b[1;33m.\u001b[0m\u001b[0macquire\u001b[0m\u001b[1;33m(\u001b[0m\u001b[1;33m)\u001b[0m\u001b[1;33m\u001b[0m\u001b[1;33m\u001b[0m\u001b[0m\n\u001b[0m\u001b[0;32m    313\u001b[0m                 \u001b[0mgotit\u001b[0m \u001b[1;33m=\u001b[0m \u001b[1;32mTrue\u001b[0m\u001b[1;33m\u001b[0m\u001b[1;33m\u001b[0m\u001b[0m\n\u001b[0;32m    314\u001b[0m             \u001b[1;32melse\u001b[0m\u001b[1;33m:\u001b[0m\u001b[1;33m\u001b[0m\u001b[1;33m\u001b[0m\u001b[0m\n",
      "\u001b[1;31mKeyboardInterrupt\u001b[0m: "
     ]
    }
   ],
   "source": [
    "# # kfold = KFold(n_splits=num_folds, \n",
    "# #               shuffle=True,\n",
    "# #               random_state=seed)\n",
    "\n",
    "from sklearn.model_selection import LeaveOneOut\n",
    "def evaluate_kfold(model, X_train, y_train, seed):\n",
    "    \n",
    "    # evaluate the model\n",
    "    scores = cross_val_score(model, X_train, y_train, scoring='accuracy', cv=LeaveOneOut(), n_jobs=-1)\n",
    "    ideal, _, _ = mean(scores), scores.min(), scores.max()\n",
    "    print('Ideal: %.3f' % ideal)\n",
    "    \n",
    "    folds = range(2,31)\n",
    "    means, mins, maxs = list(), list(), list()\n",
    "    \n",
    "    # evaluate each k value\n",
    "    for k in folds:\n",
    "        # define the test condition\n",
    "        kfold = KFold(n_splits=k, shuffle=True, random_state=seed)\n",
    "        # evaluate k value\n",
    "        scores = cross_val_score(model, X_train, y_train, scoring='accuracy', cv=LeaveOneOut(), n_jobs=-1)\n",
    "        print(scores)\n",
    "        k_mean = np.mean(scores)\n",
    "        k_min = scores.min()\n",
    "        k_max = scores.max()\n",
    "        \n",
    "        # report performance\n",
    "        print('> folds=%d, accuracy=%.3f%% (min=%.3f%%, max=%.3f%%)' %\n",
    "              (k, k_mean*100, k_min*100, k_max*100))\n",
    "        \n",
    "        # store mean accuracy\n",
    "        means.append(k_mean)\n",
    "        \n",
    "        # store min and max relative to the mean\n",
    "        mins.append(k_mean - k_min)\n",
    "        maxs.append(k_max - k_mean)\n",
    "        \n",
    "    # line plot of k mean values with min/max error bars\n",
    "    pyplot.errorbar(folds, means, yerr=[mins, maxs], fmt='o')\n",
    "    # plot the ideal case in a separate color\n",
    "    pyplot.plot(folds, [ideal for _ in range(len(folds))], color='r')\n",
    "    # show the plot\n",
    "    pyplot.show()\n",
    "    \n",
    "evaluate_kfold(model, X_train, y_train, seed)"
   ]
  },
  {
   "cell_type": "code",
   "execution_count": null,
   "metadata": {},
   "outputs": [],
   "source": []
  },
  {
   "cell_type": "code",
   "execution_count": null,
   "metadata": {},
   "outputs": [],
   "source": []
  },
  {
   "cell_type": "markdown",
   "metadata": {
    "id": "GOSGgRxamf1f"
   },
   "source": [
    "##### Get Accuracy from KFold Validation"
   ]
  },
  {
   "cell_type": "code",
   "execution_count": null,
   "metadata": {
    "colab": {
     "base_uri": "https://localhost:8080/"
    },
    "id": "G1KNEriNgU5q",
    "outputId": "4d7cd6e4-3c35-4582-bbd6-6fe6a1988d95"
   },
   "outputs": [],
   "source": [
    "results = cross_val_score(model, X_train, y_train, \n",
    "                          cv=kfold, error_score=\"raise\", verbose=1)"
   ]
  },
  {
   "cell_type": "markdown",
   "metadata": {},
   "source": [
    "##### get validation accuracy"
   ]
  },
  {
   "cell_type": "code",
   "execution_count": null,
   "metadata": {},
   "outputs": [],
   "source": [
    "print(\"Validation Accuracy of %.2f%% (with standard deviation of %.2f%%)\" % \n",
    "      (results.mean()*100, results.std()*100))"
   ]
  },
  {
   "cell_type": "markdown",
   "metadata": {
    "id": "Yg36UBcsaNNo"
   },
   "source": [
    "##### Fit the Model"
   ]
  },
  {
   "cell_type": "code",
   "execution_count": null,
   "metadata": {
    "colab": {
     "base_uri": "https://localhost:8080/"
    },
    "id": "NotcydKxlfxM",
    "outputId": "9cb1a41e-7c96-47a7-ec0c-2b8d79cf4888"
   },
   "outputs": [],
   "source": [
    "# fit the model\n",
    "es = EarlyStopping(monitor='loss', mode='min', min_delta=0.001, patience=50,\n",
    "                   verbose=0)\n",
    "history = model.fit(X_train, y_train, callbacks=es)"
   ]
  },
  {
   "cell_type": "code",
   "execution_count": null,
   "metadata": {
    "colab": {
     "base_uri": "https://localhost:8080/"
    },
    "id": "P9tiN8kZA7_j",
    "outputId": "db1ce529-56ce-4f3a-c779-f2d5675d98fa"
   },
   "outputs": [],
   "source": [
    "plt.plot(history.history['accuracy'])\n",
    "plt.title('model accuracy')\n",
    "plt.ylabel('accuracy')\n",
    "plt.xlabel('epoch')\n",
    "plt.legend(['train', 'test'], loc='upper left')\n",
    "plt.show()\n",
    "\n",
    "plt.plot(history.history['loss'])\n",
    "plt.title('model loss')\n",
    "plt.ylabel('loss')\n",
    "plt.xlabel('epoch')\n",
    "plt.legend(['train', 'test'], loc='upper left')\n",
    "\n",
    "# view model summary\n",
    "# model.model.summary()\n",
    "\n",
    "# save model\n",
    "# model.model.save(F\"/content/gdrive/My Drive/Colab Notebooks/overall_key_classifier.h5\")\n",
    "model.model.save(\"model/key_classifier.h5\")"
   ]
  },
  {
   "cell_type": "code",
   "execution_count": null,
   "metadata": {
    "colab": {
     "base_uri": "https://localhost:8080/"
    },
    "id": "HhJoePB1kCC3",
    "outputId": "f358fcc8-6c45-4510-b262-35896d832996"
   },
   "outputs": [],
   "source": [
    "# load model for Google Drive\n",
    "# model.model = load_model(\"/content/gdrive/My Drive/Colab Notebooks/overall_key_classifier.h5\")\n",
    "model.model = load_model(\"model/key_classifier.h5\")\n",
    "\n",
    "y_pred = model.predict(X_test)\n",
    "y_pred = to_categorical(y_pred)\n",
    "\n",
    "# evaluate predictions\n",
    "acc = accuracy_score(y_test, y_pred)\n",
    "print(\"Testing accuracy: %.3f%%\" % (acc*100))\n",
    "\n",
    "# Making the Confusion Matrix\n",
    "# import sys\n",
    "# np.set_printoptions(threshold=sys.maxsize)\n",
    "# cm = confusion_matrix(y_test, y_pred)\n",
    "# print(cm)\n",
    "\n",
    "# from sklearn.metrics import roc_curve\n",
    "# fpr_RF, tpr_RF, thresholds_RF = roc_curve(df.actual_label.values, df.model_RF.values)\n",
    "# fpr_LR, tpr_LR, thresholds_LR = roc_curve(df.actual_label.values, df.model_LR.values)"
   ]
  },
  {
   "cell_type": "code",
   "execution_count": null,
   "metadata": {
    "colab": {
     "base_uri": "https://localhost:8080/"
    },
    "id": "no99ee2sVZvL",
    "outputId": "912c447c-7184-43c0-e895-db734c9dbb83"
   },
   "outputs": [],
   "source": [
    "# import unseen data to check if model works\n",
    "pred_df = pd.read_csv(TEST_DATA_LINK)\n",
    "pred_df.head()"
   ]
  },
  {
   "cell_type": "code",
   "execution_count": null,
   "metadata": {},
   "outputs": [],
   "source": [
    "pred_dataset = pred_df.values\n",
    "\n",
    "# divide data into features X\n",
    "# X_new = new_dataset[:,3:].astype(float)\n",
    "\n",
    "pred_row=pred_df.iloc[:,3:]\n",
    "# print(\"check name\")\n",
    "# print(pred_df.iloc[0:7,0:1])\n",
    "\n",
    "# convert to\n",
    "pred_row = pred_row.values.tolist()\n",
    "pred_row = scaler.transform(pred_row)\n",
    "pred_arr = np.asarray(pred_row, dtype=np.float32)\n",
    "pred_arr = np.reshape(pred_arr, (pred_row.shape[0], TIMESTEPS, pred_arr.shape[1]))"
   ]
  },
  {
   "cell_type": "code",
   "execution_count": null,
   "metadata": {
    "colab": {
     "base_uri": "https://localhost:8080/"
    },
    "id": "bZF7p6lFVZxE",
    "outputId": "dce80def-0eaf-4102-a082-b589001ed6c0"
   },
   "outputs": [],
   "source": [
    "# get prediction and its label\n",
    "pred = model.predict(pred_arr)\n",
    "pred = to_categorical(pred)\n",
    "pred = encoder.inverse_transform(pred)\n",
    "\n",
    "pred = np.squeeze(pred)\n",
    "\n",
    "pred_proba = model.predict_proba(pred_arr)\n",
    "acc = np.max(pred_proba, axis=1)\n",
    "\n",
    "print(pred)\n",
    "print(acc)"
   ]
  },
  {
   "cell_type": "code",
   "execution_count": null,
   "metadata": {},
   "outputs": [],
   "source": []
  }
 ],
 "metadata": {
  "accelerator": "GPU",
  "colab": {
   "collapsed_sections": [],
   "name": "keystroke.ipynb",
   "provenance": []
  },
  "kernelspec": {
   "display_name": "Python 3 (ipykernel)",
   "language": "python",
   "name": "python3"
  },
  "language_info": {
   "codemirror_mode": {
    "name": "ipython",
    "version": 3
   },
   "file_extension": ".py",
   "mimetype": "text/x-python",
   "name": "python",
   "nbconvert_exporter": "python",
   "pygments_lexer": "ipython3",
   "version": "3.9.7"
  }
 },
 "nbformat": 4,
 "nbformat_minor": 1
}
