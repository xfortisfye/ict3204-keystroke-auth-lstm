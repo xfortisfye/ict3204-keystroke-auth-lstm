{
 "cells": [
  {
   "cell_type": "markdown",
   "metadata": {
    "id": "vykXcSSQS963"
   },
   "source": [
    "## Import"
   ]
  },
  {
   "cell_type": "code",
   "execution_count": 1,
   "metadata": {
    "id": "_SYp3mztS965"
   },
   "outputs": [],
   "source": [
    "#################################\n",
    "# # when running google colab # #\n",
    "#################################\n",
    "# from google.colab import drive\n",
    "# drive.mount('/content/gdrive')\n",
    "# !pip install scikeras --quiet"
   ]
  },
  {
   "cell_type": "code",
   "execution_count": 2,
   "metadata": {
    "executionInfo": {
     "elapsed": 6176,
     "status": "ok",
     "timestamp": 1638117784321,
     "user": {
      "displayName": "QIIKAII",
      "photoUrl": "https://lh3.googleusercontent.com/a-/AOh14GiJOdYwJsRvwYnsXYnOzQM51xYuWLYsahwvlDNSBQ=s64",
      "userId": "18419578418508292348"
     },
     "user_tz": -480
    },
    "id": "DriiaId_J7TH"
   },
   "outputs": [],
   "source": [
    "import numpy as np\n",
    "import pandas as pd\n",
    "import tensorflow as tf\n",
    "import matplotlib.pyplot as plt\n",
    "from matplotlib import pyplot\n",
    "import seaborn as sns\n",
    "\n",
    "import warnings\n",
    "warnings.filterwarnings('ignore')\n",
    "\n",
    "from keras.utils.np_utils import to_categorical \n",
    "from tensorflow.keras.callbacks import EarlyStopping\n",
    "from keras.models import Sequential\n",
    "from keras.layers import Dense, Dropout, \\\n",
    "    BatchNormalization, Flatten, LSTM\n",
    "# from scikeras.wrappers import KerasClassifier\n",
    "from keras.wrappers.scikit_learn import KerasClassifier\n",
    "from keras.models import load_model\n",
    "\n",
    "from sklearn.preprocessing import MinMaxScaler\n",
    "from sklearn.model_selection import train_test_split\n",
    "from sklearn.model_selection import cross_val_score\n",
    "from sklearn.model_selection import KFold\n",
    "from sklearn.metrics import accuracy_score, confusion_matrix\n",
    "from sklearn.metrics import roc_curve, roc_auc_score, auc\n",
    "from sklearn.preprocessing import OneHotEncoder\n",
    "from sklearn.metrics import roc_curve, auc\n",
    "\n",
    "from itertools import cycle\n",
    "from scipy import interp\n",
    "from scipy.optimize import brentq\n",
    "from scipy.interpolate import interp1d\n",
    "\n",
    "N_FEATURES = 31\n",
    "TIMESTEPS = 1\n",
    "DATASET_LINK = \"dataset/overall.csv\"\n",
    "TEST_DATA_LINK = \"dataset/overall_test.csv\"\n",
    "\n",
    "# random seed for reproducibility\n",
    "SEED = 123"
   ]
  },
  {
   "cell_type": "markdown",
   "metadata": {
    "id": "F9LuaURiPqv3"
   },
   "source": [
    "### LOAD DATASET\n",
    "> * Check for class imbalance"
   ]
  },
  {
   "cell_type": "code",
   "execution_count": 3,
   "metadata": {
    "colab": {
     "base_uri": "https://localhost:8080/",
     "height": 224
    },
    "executionInfo": {
     "elapsed": 781,
     "status": "ok",
     "timestamp": 1638117786701,
     "user": {
      "displayName": "QIIKAII",
      "photoUrl": "https://lh3.googleusercontent.com/a-/AOh14GiJOdYwJsRvwYnsXYnOzQM51xYuWLYsahwvlDNSBQ=s64",
      "userId": "18419578418508292348"
     },
     "user_tz": -480
    },
    "id": "066fT-NcPqVL",
    "outputId": "58aafcbf-5a2b-40d9-c601-ad9bf69e9e03"
   },
   "outputs": [
    {
     "data": {
      "text/html": [
       "<div>\n",
       "<style scoped>\n",
       "    .dataframe tbody tr th:only-of-type {\n",
       "        vertical-align: middle;\n",
       "    }\n",
       "\n",
       "    .dataframe tbody tr th {\n",
       "        vertical-align: top;\n",
       "    }\n",
       "\n",
       "    .dataframe thead th {\n",
       "        text-align: right;\n",
       "    }\n",
       "</style>\n",
       "<table border=\"1\" class=\"dataframe\">\n",
       "  <thead>\n",
       "    <tr style=\"text-align: right;\">\n",
       "      <th></th>\n",
       "      <th>subject</th>\n",
       "      <th>sessionIndex</th>\n",
       "      <th>rep</th>\n",
       "      <th>H.period</th>\n",
       "      <th>DD.period.t</th>\n",
       "      <th>UD.period.t</th>\n",
       "      <th>H.t</th>\n",
       "      <th>DD.t.i</th>\n",
       "      <th>UD.t.i</th>\n",
       "      <th>H.i</th>\n",
       "      <th>...</th>\n",
       "      <th>H.a</th>\n",
       "      <th>DD.a.n</th>\n",
       "      <th>UD.a.n</th>\n",
       "      <th>H.n</th>\n",
       "      <th>DD.n.l</th>\n",
       "      <th>UD.n.l</th>\n",
       "      <th>H.l</th>\n",
       "      <th>DD.l.Return</th>\n",
       "      <th>UD.l.Return</th>\n",
       "      <th>H.Return</th>\n",
       "    </tr>\n",
       "  </thead>\n",
       "  <tbody>\n",
       "    <tr>\n",
       "      <th>0</th>\n",
       "      <td>Andy</td>\n",
       "      <td>1</td>\n",
       "      <td>1</td>\n",
       "      <td>0.142176</td>\n",
       "      <td>0.156880</td>\n",
       "      <td>0.014704</td>\n",
       "      <td>0.127937</td>\n",
       "      <td>0.142299</td>\n",
       "      <td>0.014361</td>\n",
       "      <td>0.155919</td>\n",
       "      <td>...</td>\n",
       "      <td>0.128263</td>\n",
       "      <td>0.085967</td>\n",
       "      <td>-0.042296</td>\n",
       "      <td>0.120442</td>\n",
       "      <td>0.209372</td>\n",
       "      <td>0.088930</td>\n",
       "      <td>0.116911</td>\n",
       "      <td>0.165437</td>\n",
       "      <td>0.048526</td>\n",
       "      <td>0.160258</td>\n",
       "    </tr>\n",
       "    <tr>\n",
       "      <th>1</th>\n",
       "      <td>Andy</td>\n",
       "      <td>1</td>\n",
       "      <td>2</td>\n",
       "      <td>0.141793</td>\n",
       "      <td>0.164635</td>\n",
       "      <td>0.022842</td>\n",
       "      <td>0.121625</td>\n",
       "      <td>0.152146</td>\n",
       "      <td>0.030520</td>\n",
       "      <td>0.137039</td>\n",
       "      <td>...</td>\n",
       "      <td>0.144490</td>\n",
       "      <td>0.082397</td>\n",
       "      <td>-0.062093</td>\n",
       "      <td>0.101188</td>\n",
       "      <td>0.126066</td>\n",
       "      <td>0.024878</td>\n",
       "      <td>0.098424</td>\n",
       "      <td>0.130661</td>\n",
       "      <td>0.032238</td>\n",
       "      <td>0.173819</td>\n",
       "    </tr>\n",
       "    <tr>\n",
       "      <th>2</th>\n",
       "      <td>Andy</td>\n",
       "      <td>1</td>\n",
       "      <td>3</td>\n",
       "      <td>0.157152</td>\n",
       "      <td>0.147220</td>\n",
       "      <td>-0.009932</td>\n",
       "      <td>0.134796</td>\n",
       "      <td>0.145790</td>\n",
       "      <td>0.010994</td>\n",
       "      <td>0.124892</td>\n",
       "      <td>...</td>\n",
       "      <td>0.135452</td>\n",
       "      <td>0.082423</td>\n",
       "      <td>-0.053029</td>\n",
       "      <td>0.108598</td>\n",
       "      <td>0.155843</td>\n",
       "      <td>0.047244</td>\n",
       "      <td>0.118759</td>\n",
       "      <td>0.146550</td>\n",
       "      <td>0.027791</td>\n",
       "      <td>0.173512</td>\n",
       "    </tr>\n",
       "    <tr>\n",
       "      <th>3</th>\n",
       "      <td>Andy</td>\n",
       "      <td>1</td>\n",
       "      <td>4</td>\n",
       "      <td>0.158673</td>\n",
       "      <td>0.142487</td>\n",
       "      <td>-0.016186</td>\n",
       "      <td>0.118908</td>\n",
       "      <td>0.159179</td>\n",
       "      <td>0.040271</td>\n",
       "      <td>0.133175</td>\n",
       "      <td>...</td>\n",
       "      <td>0.114266</td>\n",
       "      <td>0.072556</td>\n",
       "      <td>-0.041711</td>\n",
       "      <td>0.101937</td>\n",
       "      <td>0.145692</td>\n",
       "      <td>0.043755</td>\n",
       "      <td>0.096300</td>\n",
       "      <td>0.122580</td>\n",
       "      <td>0.026280</td>\n",
       "      <td>0.190808</td>\n",
       "    </tr>\n",
       "    <tr>\n",
       "      <th>4</th>\n",
       "      <td>Andy</td>\n",
       "      <td>1</td>\n",
       "      <td>5</td>\n",
       "      <td>0.166583</td>\n",
       "      <td>0.157102</td>\n",
       "      <td>-0.009480</td>\n",
       "      <td>0.115094</td>\n",
       "      <td>0.141103</td>\n",
       "      <td>0.026009</td>\n",
       "      <td>0.135121</td>\n",
       "      <td>...</td>\n",
       "      <td>0.125474</td>\n",
       "      <td>0.089247</td>\n",
       "      <td>-0.036227</td>\n",
       "      <td>0.114211</td>\n",
       "      <td>0.149136</td>\n",
       "      <td>0.034925</td>\n",
       "      <td>0.121197</td>\n",
       "      <td>0.230113</td>\n",
       "      <td>0.108917</td>\n",
       "      <td>0.143299</td>\n",
       "    </tr>\n",
       "  </tbody>\n",
       "</table>\n",
       "<p>5 rows × 34 columns</p>\n",
       "</div>"
      ],
      "text/plain": [
       "  subject  sessionIndex  rep  H.period  DD.period.t  UD.period.t       H.t  \\\n",
       "0    Andy             1    1  0.142176     0.156880     0.014704  0.127937   \n",
       "1    Andy             1    2  0.141793     0.164635     0.022842  0.121625   \n",
       "2    Andy             1    3  0.157152     0.147220    -0.009932  0.134796   \n",
       "3    Andy             1    4  0.158673     0.142487    -0.016186  0.118908   \n",
       "4    Andy             1    5  0.166583     0.157102    -0.009480  0.115094   \n",
       "\n",
       "     DD.t.i    UD.t.i       H.i  ...       H.a    DD.a.n    UD.a.n       H.n  \\\n",
       "0  0.142299  0.014361  0.155919  ...  0.128263  0.085967 -0.042296  0.120442   \n",
       "1  0.152146  0.030520  0.137039  ...  0.144490  0.082397 -0.062093  0.101188   \n",
       "2  0.145790  0.010994  0.124892  ...  0.135452  0.082423 -0.053029  0.108598   \n",
       "3  0.159179  0.040271  0.133175  ...  0.114266  0.072556 -0.041711  0.101937   \n",
       "4  0.141103  0.026009  0.135121  ...  0.125474  0.089247 -0.036227  0.114211   \n",
       "\n",
       "     DD.n.l    UD.n.l       H.l  DD.l.Return  UD.l.Return  H.Return  \n",
       "0  0.209372  0.088930  0.116911     0.165437     0.048526  0.160258  \n",
       "1  0.126066  0.024878  0.098424     0.130661     0.032238  0.173819  \n",
       "2  0.155843  0.047244  0.118759     0.146550     0.027791  0.173512  \n",
       "3  0.145692  0.043755  0.096300     0.122580     0.026280  0.190808  \n",
       "4  0.149136  0.034925  0.121197     0.230113     0.108917  0.143299  \n",
       "\n",
       "[5 rows x 34 columns]"
      ]
     },
     "execution_count": 3,
     "metadata": {},
     "output_type": "execute_result"
    }
   ],
   "source": [
    "# loading of dataset\n",
    "df = pd.read_csv(DATASET_LINK)\n",
    "\n",
    "df.head()"
   ]
  },
  {
   "cell_type": "code",
   "execution_count": 4,
   "metadata": {
    "colab": {
     "base_uri": "https://localhost:8080/",
     "height": 625
    },
    "executionInfo": {
     "elapsed": 1091,
     "status": "error",
     "timestamp": 1638115596353,
     "user": {
      "displayName": "QIIKAII",
      "photoUrl": "https://lh3.googleusercontent.com/a-/AOh14GiJOdYwJsRvwYnsXYnOzQM51xYuWLYsahwvlDNSBQ=s64",
      "userId": "18419578418508292348"
     },
     "user_tz": -480
    },
    "id": "d28icPmWaXsa",
    "outputId": "2631d3d7-8437-4b6f-c3e9-9c3c902d1402"
   },
   "outputs": [
    {
     "data": {
      "text/plain": [
       "<seaborn.axisgrid.FacetGrid at 0x1affbaf0790>"
      ]
     },
     "execution_count": 4,
     "metadata": {},
     "output_type": "execute_result"
    },
    {
     "data": {
      "image/png": "[encoded data removed]",
      "text/plain": [
       "<Figure size 432x288 with 1 Axes>"
      ]
     },
     "metadata": {},
     "output_type": "display_data"
    },
    {
     "data": {
      "image/png": "[encoded data removed]",
      "text/plain": [
       "<Figure size 360x360 with 1 Axes>"
      ]
     },
     "metadata": {},
     "output_type": "display_data"
    }
   ],
   "source": [
    "#################################\n",
    "# # check for class imbalance # #\n",
    "#################################\n",
    "\n",
    "sns.set_theme(style=\"darkgrid\")\n",
    "ax = sns.countplot(x=\"subject\", data=df).set_title(\"Class Imbalance\")\n",
    "\n",
    "# remove missing values if available\n",
    "df = df.dropna()\n",
    "\n",
    "sns.catplot(x=\"subject\", y=\"H.Return\", data=df)"
   ]
  },
  {
   "cell_type": "markdown",
   "metadata": {
    "id": "_6JS2iGzS969"
   },
   "source": [
    "### PREPARING DATASET\n",
    "> * Split data into X and Y \n",
    "> * Convert Y into one-hot-encoding"
   ]
  },
  {
   "cell_type": "code",
   "execution_count": 5,
   "metadata": {
    "colab": {
     "base_uri": "https://localhost:8080/"
    },
    "executionInfo": {
     "elapsed": 301,
     "status": "ok",
     "timestamp": 1638117791232,
     "user": {
      "displayName": "QIIKAII",
      "photoUrl": "https://lh3.googleusercontent.com/a-/AOh14GiJOdYwJsRvwYnsXYnOzQM51xYuWLYsahwvlDNSBQ=s64",
      "userId": "18419578418508292348"
     },
     "user_tz": -480
    },
    "id": "JPl7j2SfHWLI",
    "outputId": "f9dcc8a8-7626-40df-fd02-a3dd200c28cd"
   },
   "outputs": [
    {
     "name": "stdout",
     "output_type": "stream",
     "text": [
      "Encoder is able to decipher: \n",
      "['Andy' 'Azfar' 'Chris' 'Qikai' 'Safaraz']\n",
      "\n",
      "\n",
      "X dataset shape: (500, 31)\n",
      "Y dataset shape: (500, 5)\n"
     ]
    }
   ],
   "source": [
    "dataset = df.values\n",
    "\n",
    "# divide data into features X and target (classes) Y\n",
    "X = dataset[:,3:].astype(float)\n",
    "Y = dataset[:,0]\n",
    "\n",
    "# convert target Y to one hot encoded Y for model\n",
    "Y = Y.reshape(-1, 1)\n",
    "encoder = OneHotEncoder().fit(Y)\n",
    "Y = encoder.transform(Y).toarray()\n",
    "\n",
    "#################################\n",
    "# # get all the encoded class # #\n",
    "#################################\n",
    "print(\"Encoder is able to decipher: \")\n",
    "print(encoder.categories_[0])\n",
    "print(\"\\n\")\n",
    "\n",
    "###########################\n",
    "# # print X and Y shape # #\n",
    "###########################\n",
    "print(\"X dataset shape: \" + str(X.shape))\n",
    "print(\"Y dataset shape: \" + str(Y.shape))"
   ]
  },
  {
   "cell_type": "markdown",
   "metadata": {
    "id": "LpOqfe88l6kY"
   },
   "source": [
    "### SPLITTING DATASET\n",
    "> * Split data into train and test dataset \n",
    "> * Normalisation performed based on X_train\n",
    "> * Reshaping of dataset for LSTM Timesteps"
   ]
  },
  {
   "cell_type": "code",
   "execution_count": 6,
   "metadata": {
    "colab": {
     "base_uri": "https://localhost:8080/"
    },
    "executionInfo": {
     "elapsed": 375,
     "status": "ok",
     "timestamp": 1638117793955,
     "user": {
      "displayName": "QIIKAII",
      "photoUrl": "https://lh3.googleusercontent.com/a-/AOh14GiJOdYwJsRvwYnsXYnOzQM51xYuWLYsahwvlDNSBQ=s64",
      "userId": "18419578418508292348"
     },
     "user_tz": -480
    },
    "id": "6_WWovqJnT7M",
    "outputId": "6cd6e7ff-4c11-4b2f-eff4-d7d16078b99c"
   },
   "outputs": [
    {
     "name": "stdout",
     "output_type": "stream",
     "text": [
      "X train shape: (400, 1, 31)\n",
      "Y train shape: (400, 5)\n",
      "X test shape: (100, 1, 31)\n",
      "Y test shape: (100, 5)\n"
     ]
    }
   ],
   "source": [
    "##############################################################\n",
    "# # split dataset into train and test set of 0.8/0.2 ratio # #\n",
    "##############################################################\n",
    "X_train, X_test, y_train, y_test = train_test_split(\n",
    "    X, Y, test_size=0.2, random_state=SEED)\n",
    "\n",
    "\n",
    "##############################################\n",
    "# # normalisation and reshaping of dataset # #\n",
    "##############################################\n",
    "# normalisation to 0 to 1\n",
    "# scaler = MinMaxScaler(feature_range=(0, 1))\n",
    "# X_train = scaler.fit_transform(X_train)\n",
    "# X_test = scaler.transform(X_test)\n",
    "\n",
    "# reshaping the dataset to include LSTM Timesteps\n",
    "X_train = np.asarray(X_train, dtype=np.float32)\n",
    "X_train = np.reshape(X_train, (X_train.shape[0], TIMESTEPS, X_train.shape[1]))\n",
    "X_test = np.asarray(X_test, dtype=np.float32)\n",
    "X_test = np.reshape(X_test, (X_test.shape[0], TIMESTEPS, X_test.shape[1]))\n",
    "\n",
    "# retrieve number of classes\n",
    "n_classes = y_train.shape[1]\n",
    "\n",
    "print(\"X train shape: \" + str(X_train.shape))\n",
    "print(\"Y train shape: \" + str(y_train.shape))\n",
    "print(\"X test shape: \" + str(X_test.shape))\n",
    "print(\"Y test shape: \" + str(y_test.shape))"
   ]
  },
  {
   "cell_type": "markdown",
   "metadata": {
    "id": "MN14qb9GmR6_"
   },
   "source": [
    "### CREATE MODEL\n",
    "> * Create base model\n",
    "> * Wrap it with KerasClassifier"
   ]
  },
  {
   "cell_type": "code",
   "execution_count": 7,
   "metadata": {
    "executionInfo": {
     "elapsed": 316,
     "status": "ok",
     "timestamp": 1638117795922,
     "user": {
      "displayName": "QIIKAII",
      "photoUrl": "https://lh3.googleusercontent.com/a-/AOh14GiJOdYwJsRvwYnsXYnOzQM51xYuWLYsahwvlDNSBQ=s64",
      "userId": "18419578418508292348"
     },
     "user_tz": -480
    },
    "id": "p0ZgrDxXKh05"
   },
   "outputs": [],
   "source": [
    "# create base model\n",
    "def create_base_model():\n",
    "    model = Sequential()\n",
    "    model.add(LSTM(units=128, return_sequences=True, \n",
    "                 input_shape=(TIMESTEPS,N_FEATURES)))\n",
    "    model.add(Dropout(0.2))\n",
    "    model.add(BatchNormalization())\n",
    "    model.add(LSTM(units=128, return_sequences=True))\n",
    "    model.add(Dropout(0.2))\n",
    "    model.add(BatchNormalization())\n",
    "    model.add(LSTM(units=64, return_sequences=True))\n",
    "    model.add(Dropout(0.2))\n",
    "    model.add(BatchNormalization())\n",
    "    # softmax for multi-class classification\n",
    "    model.add(Flatten())\n",
    "    model.add(Dense(n_classes, activation='softmax'))\n",
    "\n",
    "    model.compile(loss='categorical_crossentropy', optimizer='adam',\n",
    "                metrics=['accuracy'])\n",
    "    return model\n",
    "\n",
    "# wrap model in KerasClassifier\n",
    "def create_model():\n",
    "    model = KerasClassifier(build_fn=create_base_model, epochs=100, \n",
    "                            batch_size=10)\n",
    "    return model"
   ]
  },
  {
   "cell_type": "markdown",
   "metadata": {
    "id": "5LouGE3MmbO1"
   },
   "source": [
    "### INITIATE KFOLD VALIDATION\n",
    "> * evaluate best kfold validation\n",
    "> * generate loss and accuracy graph\n",
    "> * perform actual kfold validation"
   ]
  },
  {
   "cell_type": "markdown",
   "metadata": {
    "id": "qxwawov4S96_"
   },
   "source": [
    "##### evaluate suitable folds for kfold validation"
   ]
  },
  {
   "cell_type": "code",
   "execution_count": 8,
   "metadata": {
    "executionInfo": {
     "elapsed": 307,
     "status": "ok",
     "timestamp": 1638117799569,
     "user": {
      "displayName": "QIIKAII",
      "photoUrl": "https://lh3.googleusercontent.com/a-/AOh14GiJOdYwJsRvwYnsXYnOzQM51xYuWLYsahwvlDNSBQ=s64",
      "userId": "18419578418508292348"
     },
     "user_tz": -480
    },
    "id": "6WDOQfPzV9-N",
    "scrolled": true
   },
   "outputs": [
    {
     "ename": "KeyboardInterrupt",
     "evalue": "",
     "output_type": "error",
     "traceback": [
      "\u001b[1;31m---------------------------------------------------------------------------\u001b[0m",
      "\u001b[1;31mKeyboardInterrupt\u001b[0m                         Traceback (most recent call last)",
      "\u001b[1;32m~\\AppData\\Local\\Temp/ipykernel_29200/2727774510.py\u001b[0m in \u001b[0;36m<module>\u001b[1;34m\u001b[0m\n\u001b[0;32m     35\u001b[0m     \u001b[0mpyplot\u001b[0m\u001b[1;33m.\u001b[0m\u001b[0mshow\u001b[0m\u001b[1;33m(\u001b[0m\u001b[1;33m)\u001b[0m\u001b[1;33m\u001b[0m\u001b[1;33m\u001b[0m\u001b[0m\n\u001b[0;32m     36\u001b[0m \u001b[1;33m\u001b[0m\u001b[0m\n\u001b[1;32m---> 37\u001b[1;33m \u001b[0mevaluate_kfold\u001b[0m\u001b[1;33m(\u001b[0m\u001b[0mX_train\u001b[0m\u001b[1;33m,\u001b[0m \u001b[0my_train\u001b[0m\u001b[1;33m,\u001b[0m \u001b[0mSEED\u001b[0m\u001b[1;33m)\u001b[0m\u001b[1;33m\u001b[0m\u001b[1;33m\u001b[0m\u001b[0m\n\u001b[0m",
      "\u001b[1;32m~\\AppData\\Local\\Temp/ipykernel_29200/2727774510.py\u001b[0m in \u001b[0;36mevaluate_kfold\u001b[1;34m(X_train, y_train, SEED)\u001b[0m\n\u001b[0;32m     12\u001b[0m         \u001b[1;31m# evaluate k value\u001b[0m\u001b[1;33m\u001b[0m\u001b[1;33m\u001b[0m\u001b[0m\n\u001b[0;32m     13\u001b[0m         \u001b[0mmodel\u001b[0m \u001b[1;33m=\u001b[0m \u001b[0mcreate_model\u001b[0m\u001b[1;33m(\u001b[0m\u001b[1;33m)\u001b[0m\u001b[1;33m\u001b[0m\u001b[1;33m\u001b[0m\u001b[0m\n\u001b[1;32m---> 14\u001b[1;33m         \u001b[0mscores\u001b[0m \u001b[1;33m=\u001b[0m \u001b[0mcross_val_score\u001b[0m\u001b[1;33m(\u001b[0m\u001b[0mmodel\u001b[0m\u001b[1;33m,\u001b[0m \u001b[0mX_train\u001b[0m\u001b[1;33m,\u001b[0m \u001b[0my_train\u001b[0m\u001b[1;33m,\u001b[0m \u001b[0mcv\u001b[0m\u001b[1;33m=\u001b[0m\u001b[0mkfold\u001b[0m\u001b[1;33m,\u001b[0m \u001b[0mn_jobs\u001b[0m\u001b[1;33m=\u001b[0m\u001b[1;33m-\u001b[0m\u001b[1;36m1\u001b[0m\u001b[1;33m)\u001b[0m\u001b[1;33m\u001b[0m\u001b[1;33m\u001b[0m\u001b[0m\n\u001b[0m\u001b[0;32m     15\u001b[0m         \u001b[0mprint\u001b[0m\u001b[1;33m(\u001b[0m\u001b[0mscores\u001b[0m\u001b[1;33m)\u001b[0m\u001b[1;33m\u001b[0m\u001b[1;33m\u001b[0m\u001b[0m\n\u001b[0;32m     16\u001b[0m         \u001b[0mk_mean\u001b[0m \u001b[1;33m=\u001b[0m \u001b[0mnp\u001b[0m\u001b[1;33m.\u001b[0m\u001b[0mmean\u001b[0m\u001b[1;33m(\u001b[0m\u001b[0mscores\u001b[0m\u001b[1;33m)\u001b[0m\u001b[1;33m\u001b[0m\u001b[1;33m\u001b[0m\u001b[0m\n",
      "\u001b[1;32m~\\Documents\\GitHub\\ict3204-security-analytics\\env\\lib\\site-packages\\sklearn\\model_selection\\_validation.py\u001b[0m in \u001b[0;36mcross_val_score\u001b[1;34m(estimator, X, y, groups, scoring, cv, n_jobs, verbose, fit_params, pre_dispatch, error_score)\u001b[0m\n\u001b[0;32m    508\u001b[0m     \u001b[0mscorer\u001b[0m \u001b[1;33m=\u001b[0m \u001b[0mcheck_scoring\u001b[0m\u001b[1;33m(\u001b[0m\u001b[0mestimator\u001b[0m\u001b[1;33m,\u001b[0m \u001b[0mscoring\u001b[0m\u001b[1;33m=\u001b[0m\u001b[0mscoring\u001b[0m\u001b[1;33m)\u001b[0m\u001b[1;33m\u001b[0m\u001b[1;33m\u001b[0m\u001b[0m\n\u001b[0;32m    509\u001b[0m \u001b[1;33m\u001b[0m\u001b[0m\n\u001b[1;32m--> 510\u001b[1;33m     cv_results = cross_validate(\n\u001b[0m\u001b[0;32m    511\u001b[0m         \u001b[0mestimator\u001b[0m\u001b[1;33m=\u001b[0m\u001b[0mestimator\u001b[0m\u001b[1;33m,\u001b[0m\u001b[1;33m\u001b[0m\u001b[1;33m\u001b[0m\u001b[0m\n\u001b[0;32m    512\u001b[0m         \u001b[0mX\u001b[0m\u001b[1;33m=\u001b[0m\u001b[0mX\u001b[0m\u001b[1;33m,\u001b[0m\u001b[1;33m\u001b[0m\u001b[1;33m\u001b[0m\u001b[0m\n",
      "\u001b[1;32m~\\Documents\\GitHub\\ict3204-security-analytics\\env\\lib\\site-packages\\sklearn\\model_selection\\_validation.py\u001b[0m in \u001b[0;36mcross_validate\u001b[1;34m(estimator, X, y, groups, scoring, cv, n_jobs, verbose, fit_params, pre_dispatch, return_train_score, return_estimator, error_score)\u001b[0m\n\u001b[0;32m    265\u001b[0m     \u001b[1;31m# independent, and that it is pickle-able.\u001b[0m\u001b[1;33m\u001b[0m\u001b[1;33m\u001b[0m\u001b[0m\n\u001b[0;32m    266\u001b[0m     \u001b[0mparallel\u001b[0m \u001b[1;33m=\u001b[0m \u001b[0mParallel\u001b[0m\u001b[1;33m(\u001b[0m\u001b[0mn_jobs\u001b[0m\u001b[1;33m=\u001b[0m\u001b[0mn_jobs\u001b[0m\u001b[1;33m,\u001b[0m \u001b[0mverbose\u001b[0m\u001b[1;33m=\u001b[0m\u001b[0mverbose\u001b[0m\u001b[1;33m,\u001b[0m \u001b[0mpre_dispatch\u001b[0m\u001b[1;33m=\u001b[0m\u001b[0mpre_dispatch\u001b[0m\u001b[1;33m)\u001b[0m\u001b[1;33m\u001b[0m\u001b[1;33m\u001b[0m\u001b[0m\n\u001b[1;32m--> 267\u001b[1;33m     results = parallel(\n\u001b[0m\u001b[0;32m    268\u001b[0m         delayed(_fit_and_score)(\n\u001b[0;32m    269\u001b[0m             \u001b[0mclone\u001b[0m\u001b[1;33m(\u001b[0m\u001b[0mestimator\u001b[0m\u001b[1;33m)\u001b[0m\u001b[1;33m,\u001b[0m\u001b[1;33m\u001b[0m\u001b[1;33m\u001b[0m\u001b[0m\n",
      "\u001b[1;32m~\\Documents\\GitHub\\ict3204-security-analytics\\env\\lib\\site-packages\\joblib\\parallel.py\u001b[0m in \u001b[0;36m__call__\u001b[1;34m(self, iterable)\u001b[0m\n\u001b[0;32m   1054\u001b[0m \u001b[1;33m\u001b[0m\u001b[0m\n\u001b[0;32m   1055\u001b[0m             \u001b[1;32mwith\u001b[0m \u001b[0mself\u001b[0m\u001b[1;33m.\u001b[0m\u001b[0m_backend\u001b[0m\u001b[1;33m.\u001b[0m\u001b[0mretrieval_context\u001b[0m\u001b[1;33m(\u001b[0m\u001b[1;33m)\u001b[0m\u001b[1;33m:\u001b[0m\u001b[1;33m\u001b[0m\u001b[1;33m\u001b[0m\u001b[0m\n\u001b[1;32m-> 1056\u001b[1;33m                 \u001b[0mself\u001b[0m\u001b[1;33m.\u001b[0m\u001b[0mretrieve\u001b[0m\u001b[1;33m(\u001b[0m\u001b[1;33m)\u001b[0m\u001b[1;33m\u001b[0m\u001b[1;33m\u001b[0m\u001b[0m\n\u001b[0m\u001b[0;32m   1057\u001b[0m             \u001b[1;31m# Make sure that we get a last message telling us we are done\u001b[0m\u001b[1;33m\u001b[0m\u001b[1;33m\u001b[0m\u001b[0m\n\u001b[0;32m   1058\u001b[0m             \u001b[0melapsed_time\u001b[0m \u001b[1;33m=\u001b[0m \u001b[0mtime\u001b[0m\u001b[1;33m.\u001b[0m\u001b[0mtime\u001b[0m\u001b[1;33m(\u001b[0m\u001b[1;33m)\u001b[0m \u001b[1;33m-\u001b[0m \u001b[0mself\u001b[0m\u001b[1;33m.\u001b[0m\u001b[0m_start_time\u001b[0m\u001b[1;33m\u001b[0m\u001b[1;33m\u001b[0m\u001b[0m\n",
      "\u001b[1;32m~\\Documents\\GitHub\\ict3204-security-analytics\\env\\lib\\site-packages\\joblib\\parallel.py\u001b[0m in \u001b[0;36mretrieve\u001b[1;34m(self)\u001b[0m\n\u001b[0;32m    933\u001b[0m             \u001b[1;32mtry\u001b[0m\u001b[1;33m:\u001b[0m\u001b[1;33m\u001b[0m\u001b[1;33m\u001b[0m\u001b[0m\n\u001b[0;32m    934\u001b[0m                 \u001b[1;32mif\u001b[0m \u001b[0mgetattr\u001b[0m\u001b[1;33m(\u001b[0m\u001b[0mself\u001b[0m\u001b[1;33m.\u001b[0m\u001b[0m_backend\u001b[0m\u001b[1;33m,\u001b[0m \u001b[1;34m'supports_timeout'\u001b[0m\u001b[1;33m,\u001b[0m \u001b[1;32mFalse\u001b[0m\u001b[1;33m)\u001b[0m\u001b[1;33m:\u001b[0m\u001b[1;33m\u001b[0m\u001b[1;33m\u001b[0m\u001b[0m\n\u001b[1;32m--> 935\u001b[1;33m                     \u001b[0mself\u001b[0m\u001b[1;33m.\u001b[0m\u001b[0m_output\u001b[0m\u001b[1;33m.\u001b[0m\u001b[0mextend\u001b[0m\u001b[1;33m(\u001b[0m\u001b[0mjob\u001b[0m\u001b[1;33m.\u001b[0m\u001b[0mget\u001b[0m\u001b[1;33m(\u001b[0m\u001b[0mtimeout\u001b[0m\u001b[1;33m=\u001b[0m\u001b[0mself\u001b[0m\u001b[1;33m.\u001b[0m\u001b[0mtimeout\u001b[0m\u001b[1;33m)\u001b[0m\u001b[1;33m)\u001b[0m\u001b[1;33m\u001b[0m\u001b[1;33m\u001b[0m\u001b[0m\n\u001b[0m\u001b[0;32m    936\u001b[0m                 \u001b[1;32melse\u001b[0m\u001b[1;33m:\u001b[0m\u001b[1;33m\u001b[0m\u001b[1;33m\u001b[0m\u001b[0m\n\u001b[0;32m    937\u001b[0m                     \u001b[0mself\u001b[0m\u001b[1;33m.\u001b[0m\u001b[0m_output\u001b[0m\u001b[1;33m.\u001b[0m\u001b[0mextend\u001b[0m\u001b[1;33m(\u001b[0m\u001b[0mjob\u001b[0m\u001b[1;33m.\u001b[0m\u001b[0mget\u001b[0m\u001b[1;33m(\u001b[0m\u001b[1;33m)\u001b[0m\u001b[1;33m)\u001b[0m\u001b[1;33m\u001b[0m\u001b[1;33m\u001b[0m\u001b[0m\n",
      "\u001b[1;32m~\\Documents\\GitHub\\ict3204-security-analytics\\env\\lib\\site-packages\\joblib\\_parallel_backends.py\u001b[0m in \u001b[0;36mwrap_future_result\u001b[1;34m(future, timeout)\u001b[0m\n\u001b[0;32m    540\u001b[0m         AsyncResults.get from multiprocessing.\"\"\"\n\u001b[0;32m    541\u001b[0m         \u001b[1;32mtry\u001b[0m\u001b[1;33m:\u001b[0m\u001b[1;33m\u001b[0m\u001b[1;33m\u001b[0m\u001b[0m\n\u001b[1;32m--> 542\u001b[1;33m             \u001b[1;32mreturn\u001b[0m \u001b[0mfuture\u001b[0m\u001b[1;33m.\u001b[0m\u001b[0mresult\u001b[0m\u001b[1;33m(\u001b[0m\u001b[0mtimeout\u001b[0m\u001b[1;33m=\u001b[0m\u001b[0mtimeout\u001b[0m\u001b[1;33m)\u001b[0m\u001b[1;33m\u001b[0m\u001b[1;33m\u001b[0m\u001b[0m\n\u001b[0m\u001b[0;32m    543\u001b[0m         \u001b[1;32mexcept\u001b[0m \u001b[0mCfTimeoutError\u001b[0m \u001b[1;32mas\u001b[0m \u001b[0me\u001b[0m\u001b[1;33m:\u001b[0m\u001b[1;33m\u001b[0m\u001b[1;33m\u001b[0m\u001b[0m\n\u001b[0;32m    544\u001b[0m             \u001b[1;32mraise\u001b[0m \u001b[0mTimeoutError\u001b[0m \u001b[1;32mfrom\u001b[0m \u001b[0me\u001b[0m\u001b[1;33m\u001b[0m\u001b[1;33m\u001b[0m\u001b[0m\n",
      "\u001b[1;32m~\\AppData\\Local\\Programs\\Python\\Python39\\lib\\concurrent\\futures\\_base.py\u001b[0m in \u001b[0;36mresult\u001b[1;34m(self, timeout)\u001b[0m\n\u001b[0;32m    438\u001b[0m                     \u001b[1;32mreturn\u001b[0m \u001b[0mself\u001b[0m\u001b[1;33m.\u001b[0m\u001b[0m__get_result\u001b[0m\u001b[1;33m(\u001b[0m\u001b[1;33m)\u001b[0m\u001b[1;33m\u001b[0m\u001b[1;33m\u001b[0m\u001b[0m\n\u001b[0;32m    439\u001b[0m \u001b[1;33m\u001b[0m\u001b[0m\n\u001b[1;32m--> 440\u001b[1;33m                 \u001b[0mself\u001b[0m\u001b[1;33m.\u001b[0m\u001b[0m_condition\u001b[0m\u001b[1;33m.\u001b[0m\u001b[0mwait\u001b[0m\u001b[1;33m(\u001b[0m\u001b[0mtimeout\u001b[0m\u001b[1;33m)\u001b[0m\u001b[1;33m\u001b[0m\u001b[1;33m\u001b[0m\u001b[0m\n\u001b[0m\u001b[0;32m    441\u001b[0m \u001b[1;33m\u001b[0m\u001b[0m\n\u001b[0;32m    442\u001b[0m                 \u001b[1;32mif\u001b[0m \u001b[0mself\u001b[0m\u001b[1;33m.\u001b[0m\u001b[0m_state\u001b[0m \u001b[1;32min\u001b[0m \u001b[1;33m[\u001b[0m\u001b[0mCANCELLED\u001b[0m\u001b[1;33m,\u001b[0m \u001b[0mCANCELLED_AND_NOTIFIED\u001b[0m\u001b[1;33m]\u001b[0m\u001b[1;33m:\u001b[0m\u001b[1;33m\u001b[0m\u001b[1;33m\u001b[0m\u001b[0m\n",
      "\u001b[1;32m~\\AppData\\Local\\Programs\\Python\\Python39\\lib\\threading.py\u001b[0m in \u001b[0;36mwait\u001b[1;34m(self, timeout)\u001b[0m\n\u001b[0;32m    310\u001b[0m         \u001b[1;32mtry\u001b[0m\u001b[1;33m:\u001b[0m    \u001b[1;31m# restore state no matter what (e.g., KeyboardInterrupt)\u001b[0m\u001b[1;33m\u001b[0m\u001b[1;33m\u001b[0m\u001b[0m\n\u001b[0;32m    311\u001b[0m             \u001b[1;32mif\u001b[0m \u001b[0mtimeout\u001b[0m \u001b[1;32mis\u001b[0m \u001b[1;32mNone\u001b[0m\u001b[1;33m:\u001b[0m\u001b[1;33m\u001b[0m\u001b[1;33m\u001b[0m\u001b[0m\n\u001b[1;32m--> 312\u001b[1;33m                 \u001b[0mwaiter\u001b[0m\u001b[1;33m.\u001b[0m\u001b[0macquire\u001b[0m\u001b[1;33m(\u001b[0m\u001b[1;33m)\u001b[0m\u001b[1;33m\u001b[0m\u001b[1;33m\u001b[0m\u001b[0m\n\u001b[0m\u001b[0;32m    313\u001b[0m                 \u001b[0mgotit\u001b[0m \u001b[1;33m=\u001b[0m \u001b[1;32mTrue\u001b[0m\u001b[1;33m\u001b[0m\u001b[1;33m\u001b[0m\u001b[0m\n\u001b[0;32m    314\u001b[0m             \u001b[1;32melse\u001b[0m\u001b[1;33m:\u001b[0m\u001b[1;33m\u001b[0m\u001b[1;33m\u001b[0m\u001b[0m\n",
      "\u001b[1;31mKeyboardInterrupt\u001b[0m: "
     ]
    }
   ],
   "source": [
    "# from sklearn.model_selection import LeaveOneOut\n",
    "def evaluate_kfold(X_train, y_train, SEED):\n",
    "    \n",
    "    # evaluate the model    \n",
    "    folds = range(2,11)\n",
    "    means, mins, maxs = list(), list(), list()\n",
    "    \n",
    "    # evaluate each k value\n",
    "    for k in folds:\n",
    "        # define the test condition\n",
    "        kfold = KFold(n_splits=k, shuffle=True, random_state=SEED)\n",
    "        # evaluate k value\n",
    "        model = create_model()\n",
    "        scores = cross_val_score(model, X_train, y_train, cv=kfold, n_jobs=-1)\n",
    "        print(scores)\n",
    "        k_mean = np.mean(scores)\n",
    "        k_min = scores.min()\n",
    "        k_max = scores.max()\n",
    "        \n",
    "        # report performance\n",
    "        print('> folds=%d, accuracy=%.3f%% (min=%.3f%%, max=%.3f%%)' %\n",
    "              (k, k_mean*100, k_min*100, k_max*100))\n",
    "        \n",
    "        # store mean accuracy\n",
    "        means.append(k_mean)\n",
    "        \n",
    "        # store min and max relative to the mean\n",
    "        mins.append(k_mean - k_min)\n",
    "        maxs.append(k_max - k_mean)\n",
    "        \n",
    "    # line plot of k mean values with min/max error bars\n",
    "    pyplot.errorbar(folds, means, yerr=[mins, maxs], fmt='o')\n",
    "    \n",
    "    # show the plot\n",
    "    pyplot.show()\n",
    "    \n",
    "evaluate_kfold(X_train, y_train, SEED)"
   ]
  },
  {
   "cell_type": "markdown",
   "metadata": {},
   "source": [
    "##### generate kfold validation accuracy and loss"
   ]
  },
  {
   "cell_type": "code",
   "execution_count": null,
   "metadata": {
    "executionInfo": {
     "elapsed": 4,
     "status": "ok",
     "timestamp": 1638117800106,
     "user": {
      "displayName": "QIIKAII",
      "photoUrl": "https://lh3.googleusercontent.com/a-/AOh14GiJOdYwJsRvwYnsXYnOzQM51xYuWLYsahwvlDNSBQ=s64",
      "userId": "18419578418508292348"
     },
     "user_tz": -480
    },
    "id": "Imz39dBSS97A"
   },
   "outputs": [],
   "source": [
    "##################################################\n",
    "# # evaluate kfold model for accuracy and loss # #\n",
    "##################################################\n",
    "def evaluate_kfold_model(X_train, y_train, SEED):\n",
    "    scores, histories = list(), list()\n",
    "    # create model\n",
    "    model = create_model()\n",
    "    # prepare cross validation\n",
    "    kfold = KFold(n_splits=10, shuffle=True, random_state=SEED)\n",
    "    # enumerate splits\n",
    "    for train_ix, test_ix in kfold.split(X_train):\n",
    "        # select rows for train and test\n",
    "        trainX, trainY, testX, testY = X_train[train_ix], y_train[train_ix], X_train[test_ix], y_train[test_ix]\n",
    "        # fit model\n",
    "        history = model.fit(trainX, trainY, epochs=100, batch_size=10, validation_data=(testX, testY), verbose=0)\n",
    "        \n",
    "        # evaluate model\n",
    "        y_pred = model.predict(testX)\n",
    "        y_pred = to_categorical(y_pred)\n",
    "\n",
    "        # evaluate predictions\n",
    "        acc = accuracy_score(testY, y_pred)\n",
    "        print(\"Testing accuracy: %.3f%%\" % (acc*100))\n",
    "\n",
    "        # stores scores and histories\n",
    "        scores.append(acc)\n",
    "        histories.append(history)\n",
    "\n",
    "    for i in range(len(histories)):\n",
    "        # plot loss\n",
    "        f1 = plt.figure(1)\n",
    "        plt.title('Categorical Cross-Entropy Loss')\n",
    "        plt.plot(histories[i].history['loss'], color='blue')\n",
    "        plt.plot(histories[i].history['val_loss'], color='orange')\n",
    "        plt.ylabel('loss')\n",
    "        plt.xlabel('epoch')\n",
    "        plt.legend(['train', 'test'], loc='upper right')\n",
    "\n",
    "        # plot accuracy\n",
    "        f2 = plt.figure(2)\n",
    "        plt.title('Classification Accuracy')\n",
    "        plt.plot(histories[i].history['accuracy'], color='blue')\n",
    "        plt.plot(histories[i].history['val_accuracy'], color='orange')\n",
    "        plt.ylabel('accuracy')\n",
    "        plt.xlabel('epoch')\n",
    "        plt.legend(['train', 'test'], loc='lower right')\n",
    "\n",
    "    # print summary\n",
    "    print('Accuracy: Mean=%.3f Std=%.3f, n=%d' % (np.mean(scores)*100, np.std(scores)*100, len(scores)))\n",
    "    # box and whisker plots of results\n",
    "    f3 = plt.figure(3)\n",
    "    plt.title('Box and Whisker Plot of Accuracy Scores')\n",
    "    plt.ylabel('accuracy')\n",
    "    plt.xlabel('model')\n",
    "    plt.boxplot(scores)\n",
    "    plt.show()\n",
    "    \n",
    "evaluate_kfold_model(X_train, y_train, SEED)"
   ]
  },
  {
   "cell_type": "markdown",
   "metadata": {
    "id": "GOSGgRxamf1f"
   },
   "source": [
    "##### perform actual KFold Validation"
   ]
  },
  {
   "cell_type": "code",
   "execution_count": 9,
   "metadata": {
    "colab": {
     "base_uri": "https://localhost:8080/"
    },
    "executionInfo": {
     "elapsed": 66014,
     "status": "ok",
     "timestamp": 1638117868807,
     "user": {
      "displayName": "QIIKAII",
      "photoUrl": "https://lh3.googleusercontent.com/a-/AOh14GiJOdYwJsRvwYnsXYnOzQM51xYuWLYsahwvlDNSBQ=s64",
      "userId": "18419578418508292348"
     },
     "user_tz": -480
    },
    "id": "G1KNEriNgU5q",
    "outputId": "9e77d220-17e3-4926-9095-97352f7f1e6f",
    "scrolled": true
   },
   "outputs": [
    {
     "name": "stdout",
     "output_type": "stream",
     "text": [
      "Epoch 1/100\n",
      "20/20 [==============================] - 3s 3ms/step - loss: 1.6121 - accuracy: 0.3850 \n",
      "Epoch 2/100\n",
      "20/20 [==============================] - 0s 3ms/step - loss: 1.1569 - accuracy: 0.5800\n",
      "Epoch 3/100\n",
      "20/20 [==============================] - 0s 3ms/step - loss: 0.9178 - accuracy: 0.6450\n",
      "Epoch 4/100\n",
      "20/20 [==============================] - 0s 3ms/step - loss: 0.7188 - accuracy: 0.7250\n",
      "Epoch 5/100\n",
      "20/20 [==============================] - 0s 3ms/step - loss: 0.6756 - accuracy: 0.7600\n",
      "Epoch 6/100\n",
      "20/20 [==============================] - 0s 3ms/step - loss: 0.5847 - accuracy: 0.7750\n",
      "Epoch 7/100\n",
      "20/20 [==============================] - 0s 3ms/step - loss: 0.4822 - accuracy: 0.8100\n",
      "Epoch 8/100\n",
      "20/20 [==============================] - 0s 3ms/step - loss: 0.5206 - accuracy: 0.8150\n",
      "Epoch 9/100\n",
      "20/20 [==============================] - 0s 3ms/step - loss: 0.5403 - accuracy: 0.7950\n",
      "Epoch 10/100\n",
      "20/20 [==============================] - 0s 3ms/step - loss: 0.4668 - accuracy: 0.8300\n",
      "Epoch 11/100\n",
      "20/20 [==============================] - 0s 3ms/step - loss: 0.4177 - accuracy: 0.8500\n",
      "Epoch 12/100\n",
      "20/20 [==============================] - 0s 3ms/step - loss: 0.4797 - accuracy: 0.8350\n",
      "Epoch 13/100\n",
      "20/20 [==============================] - 0s 2ms/step - loss: 0.4087 - accuracy: 0.8850\n",
      "Epoch 14/100\n",
      "20/20 [==============================] - 0s 3ms/step - loss: 0.3382 - accuracy: 0.8700\n",
      "Epoch 15/100\n",
      "20/20 [==============================] - 0s 3ms/step - loss: 0.3735 - accuracy: 0.8500\n",
      "Epoch 16/100\n",
      "20/20 [==============================] - 0s 3ms/step - loss: 0.2836 - accuracy: 0.8950\n",
      "Epoch 17/100\n",
      "20/20 [==============================] - 0s 2ms/step - loss: 0.3177 - accuracy: 0.8900\n",
      "Epoch 18/100\n",
      "20/20 [==============================] - 0s 3ms/step - loss: 0.2705 - accuracy: 0.9050\n",
      "Epoch 19/100\n",
      "20/20 [==============================] - 0s 2ms/step - loss: 0.2584 - accuracy: 0.9150\n",
      "Epoch 20/100\n",
      "20/20 [==============================] - 0s 3ms/step - loss: 0.3925 - accuracy: 0.8550\n",
      "Epoch 21/100\n",
      "20/20 [==============================] - 0s 2ms/step - loss: 0.2196 - accuracy: 0.9200\n",
      "Epoch 22/100\n",
      "20/20 [==============================] - 0s 3ms/step - loss: 0.3035 - accuracy: 0.9200\n",
      "Epoch 23/100\n",
      "20/20 [==============================] - 0s 2ms/step - loss: 0.3386 - accuracy: 0.8700\n",
      "Epoch 24/100\n",
      "20/20 [==============================] - 0s 3ms/step - loss: 0.2602 - accuracy: 0.9100\n",
      "Epoch 25/100\n",
      "20/20 [==============================] - 0s 3ms/step - loss: 0.2045 - accuracy: 0.9350\n",
      "Epoch 26/100\n",
      "20/20 [==============================] - 0s 2ms/step - loss: 0.2730 - accuracy: 0.8850\n",
      "Epoch 27/100\n",
      "20/20 [==============================] - 0s 3ms/step - loss: 0.2046 - accuracy: 0.9450\n",
      "Epoch 28/100\n",
      "20/20 [==============================] - 0s 3ms/step - loss: 0.3356 - accuracy: 0.8750\n",
      "Epoch 29/100\n",
      "20/20 [==============================] - 0s 2ms/step - loss: 0.1570 - accuracy: 0.9450\n",
      "Epoch 30/100\n",
      "20/20 [==============================] - 0s 3ms/step - loss: 0.2542 - accuracy: 0.9150\n",
      "Epoch 31/100\n",
      "20/20 [==============================] - 0s 3ms/step - loss: 0.2339 - accuracy: 0.9050\n",
      "Epoch 32/100\n",
      "20/20 [==============================] - 0s 3ms/step - loss: 0.2597 - accuracy: 0.9100\n",
      "Epoch 33/100\n",
      "20/20 [==============================] - 0s 3ms/step - loss: 0.2184 - accuracy: 0.9200\n",
      "Epoch 34/100\n",
      "20/20 [==============================] - 0s 3ms/step - loss: 0.2133 - accuracy: 0.9200\n",
      "Epoch 35/100\n",
      "20/20 [==============================] - 0s 2ms/step - loss: 0.1242 - accuracy: 0.9650\n",
      "Epoch 36/100\n",
      "20/20 [==============================] - 0s 3ms/step - loss: 0.1682 - accuracy: 0.9450\n",
      "Epoch 37/100\n",
      "20/20 [==============================] - 0s 3ms/step - loss: 0.2564 - accuracy: 0.9250\n",
      "Epoch 38/100\n",
      "20/20 [==============================] - 0s 2ms/step - loss: 0.1683 - accuracy: 0.9450\n",
      "Epoch 39/100\n",
      "20/20 [==============================] - 0s 3ms/step - loss: 0.2382 - accuracy: 0.9150\n",
      "Epoch 40/100\n",
      "20/20 [==============================] - 0s 3ms/step - loss: 0.2250 - accuracy: 0.9250\n",
      "Epoch 41/100\n",
      "20/20 [==============================] - 0s 3ms/step - loss: 0.2391 - accuracy: 0.9150\n",
      "Epoch 42/100\n",
      "20/20 [==============================] - 0s 3ms/step - loss: 0.2069 - accuracy: 0.9450\n",
      "Epoch 43/100\n",
      "20/20 [==============================] - 0s 3ms/step - loss: 0.1934 - accuracy: 0.9350\n",
      "Epoch 44/100\n",
      "20/20 [==============================] - 0s 3ms/step - loss: 0.2903 - accuracy: 0.8950\n",
      "Epoch 45/100\n",
      "20/20 [==============================] - 0s 3ms/step - loss: 0.1937 - accuracy: 0.9250\n",
      "Epoch 46/100\n",
      "20/20 [==============================] - 0s 3ms/step - loss: 0.1762 - accuracy: 0.9350\n",
      "Epoch 47/100\n",
      "20/20 [==============================] - 0s 3ms/step - loss: 0.1765 - accuracy: 0.9650\n",
      "Epoch 48/100\n",
      "20/20 [==============================] - 0s 3ms/step - loss: 0.3105 - accuracy: 0.9050\n",
      "Epoch 49/100\n",
      "20/20 [==============================] - 0s 3ms/step - loss: 0.2007 - accuracy: 0.9300\n",
      "Epoch 50/100\n",
      "20/20 [==============================] - 0s 2ms/step - loss: 0.1940 - accuracy: 0.9450\n",
      "Epoch 51/100\n",
      "20/20 [==============================] - 0s 3ms/step - loss: 0.2583 - accuracy: 0.9100\n",
      "Epoch 52/100\n",
      "20/20 [==============================] - 0s 3ms/step - loss: 0.2438 - accuracy: 0.9200\n",
      "Epoch 53/100\n",
      "20/20 [==============================] - 0s 3ms/step - loss: 0.1310 - accuracy: 0.9700\n",
      "Epoch 54/100\n",
      "20/20 [==============================] - 0s 3ms/step - loss: 0.2199 - accuracy: 0.9400\n",
      "Epoch 55/100\n",
      "20/20 [==============================] - 0s 3ms/step - loss: 0.2105 - accuracy: 0.9300\n",
      "Epoch 56/100\n",
      "20/20 [==============================] - 0s 3ms/step - loss: 0.1962 - accuracy: 0.9300\n",
      "Epoch 57/100\n",
      "20/20 [==============================] - 0s 3ms/step - loss: 0.2297 - accuracy: 0.9050\n",
      "Epoch 58/100\n",
      "20/20 [==============================] - 0s 3ms/step - loss: 0.1641 - accuracy: 0.9450\n",
      "Epoch 59/100\n",
      "20/20 [==============================] - 0s 3ms/step - loss: 0.1693 - accuracy: 0.9450\n",
      "Epoch 60/100\n",
      "20/20 [==============================] - 0s 3ms/step - loss: 0.0949 - accuracy: 0.9700\n",
      "Epoch 61/100\n",
      "20/20 [==============================] - 0s 3ms/step - loss: 0.1636 - accuracy: 0.9500\n",
      "Epoch 62/100\n",
      "20/20 [==============================] - 0s 2ms/step - loss: 0.2092 - accuracy: 0.9250\n",
      "Epoch 63/100\n",
      "20/20 [==============================] - 0s 3ms/step - loss: 0.1655 - accuracy: 0.9450\n",
      "Epoch 64/100\n",
      "20/20 [==============================] - 0s 3ms/step - loss: 0.2046 - accuracy: 0.9350\n",
      "Epoch 65/100\n",
      "20/20 [==============================] - 0s 3ms/step - loss: 0.1393 - accuracy: 0.9550\n",
      "Epoch 66/100\n",
      "20/20 [==============================] - 0s 3ms/step - loss: 0.1045 - accuracy: 0.9750\n",
      "Epoch 67/100\n",
      "20/20 [==============================] - 0s 3ms/step - loss: 0.1765 - accuracy: 0.9550\n",
      "Epoch 68/100\n",
      "20/20 [==============================] - 0s 3ms/step - loss: 0.1628 - accuracy: 0.9400\n",
      "Epoch 69/100\n",
      "20/20 [==============================] - 0s 3ms/step - loss: 0.2544 - accuracy: 0.9050\n",
      "Epoch 70/100\n",
      "20/20 [==============================] - 0s 3ms/step - loss: 0.1688 - accuracy: 0.9400\n",
      "Epoch 71/100\n",
      "20/20 [==============================] - 0s 4ms/step - loss: 0.0767 - accuracy: 0.9850\n",
      "Epoch 72/100\n",
      "20/20 [==============================] - 0s 4ms/step - loss: 0.1401 - accuracy: 0.9500\n",
      "Epoch 73/100\n",
      "20/20 [==============================] - 0s 3ms/step - loss: 0.1287 - accuracy: 0.9450\n",
      "Epoch 74/100\n",
      "20/20 [==============================] - 0s 3ms/step - loss: 0.1469 - accuracy: 0.9450\n",
      "Epoch 75/100\n",
      "20/20 [==============================] - 0s 3ms/step - loss: 0.1669 - accuracy: 0.9450\n",
      "Epoch 76/100\n",
      "20/20 [==============================] - 0s 3ms/step - loss: 0.0972 - accuracy: 0.9800\n",
      "Epoch 77/100\n",
      "20/20 [==============================] - 0s 3ms/step - loss: 0.1071 - accuracy: 0.9550\n",
      "Epoch 78/100\n",
      "20/20 [==============================] - 0s 3ms/step - loss: 0.1243 - accuracy: 0.9550\n",
      "Epoch 79/100\n",
      "20/20 [==============================] - 0s 3ms/step - loss: 0.1205 - accuracy: 0.9650\n",
      "Epoch 80/100\n",
      "20/20 [==============================] - 0s 3ms/step - loss: 0.2064 - accuracy: 0.9400\n",
      "Epoch 81/100\n",
      "20/20 [==============================] - 0s 3ms/step - loss: 0.1810 - accuracy: 0.9400\n",
      "Epoch 82/100\n",
      "20/20 [==============================] - 0s 3ms/step - loss: 0.2036 - accuracy: 0.9250\n",
      "Epoch 83/100\n"
     ]
    },
    {
     "name": "stdout",
     "output_type": "stream",
     "text": [
      "20/20 [==============================] - 0s 3ms/step - loss: 0.1303 - accuracy: 0.9500\n",
      "Epoch 84/100\n",
      "20/20 [==============================] - 0s 3ms/step - loss: 0.1385 - accuracy: 0.9500\n",
      "Epoch 85/100\n",
      "20/20 [==============================] - 0s 3ms/step - loss: 0.0756 - accuracy: 0.9700\n",
      "Epoch 86/100\n",
      "20/20 [==============================] - 0s 4ms/step - loss: 0.1736 - accuracy: 0.9350\n",
      "Epoch 87/100\n",
      "20/20 [==============================] - 0s 4ms/step - loss: 0.0996 - accuracy: 0.9700\n",
      "Epoch 88/100\n",
      "20/20 [==============================] - 0s 4ms/step - loss: 0.1891 - accuracy: 0.9450\n",
      "Epoch 89/100\n",
      "20/20 [==============================] - 0s 3ms/step - loss: 0.0967 - accuracy: 0.9600\n",
      "Epoch 90/100\n",
      "20/20 [==============================] - 0s 3ms/step - loss: 0.1145 - accuracy: 0.9750\n",
      "Epoch 91/100\n",
      "20/20 [==============================] - 0s 3ms/step - loss: 0.2343 - accuracy: 0.9300\n",
      "Epoch 92/100\n",
      "20/20 [==============================] - 0s 3ms/step - loss: 0.1128 - accuracy: 0.9600\n",
      "Epoch 93/100\n",
      "20/20 [==============================] - 0s 3ms/step - loss: 0.1441 - accuracy: 0.9500\n",
      "Epoch 94/100\n",
      "20/20 [==============================] - 0s 3ms/step - loss: 0.1374 - accuracy: 0.9550\n",
      "Epoch 95/100\n",
      "20/20 [==============================] - 0s 3ms/step - loss: 0.0989 - accuracy: 0.9650\n",
      "Epoch 96/100\n",
      "20/20 [==============================] - 0s 3ms/step - loss: 0.1399 - accuracy: 0.9500\n",
      "Epoch 97/100\n",
      "20/20 [==============================] - 0s 3ms/step - loss: 0.1464 - accuracy: 0.9500\n",
      "Epoch 98/100\n",
      "20/20 [==============================] - 0s 3ms/step - loss: 0.0916 - accuracy: 0.9650\n",
      "Epoch 99/100\n",
      "20/20 [==============================] - 0s 3ms/step - loss: 0.2030 - accuracy: 0.9350\n",
      "Epoch 100/100\n",
      "20/20 [==============================] - 0s 3ms/step - loss: 0.1629 - accuracy: 0.9450\n",
      "20/20 [==============================] - 1s 1ms/step - loss: 0.2613 - accuracy: 0.9450\n",
      "Epoch 1/100\n",
      "20/20 [==============================] - 3s 2ms/step - loss: 1.7286 - accuracy: 0.4050\n",
      "Epoch 2/100\n",
      "20/20 [==============================] - 0s 2ms/step - loss: 1.0264 - accuracy: 0.6100\n",
      "Epoch 3/100\n",
      "20/20 [==============================] - 0s 3ms/step - loss: 0.7891 - accuracy: 0.6950\n",
      "Epoch 4/100\n",
      "20/20 [==============================] - 0s 3ms/step - loss: 0.6682 - accuracy: 0.7600\n",
      "Epoch 5/100\n",
      "20/20 [==============================] - 0s 3ms/step - loss: 0.5821 - accuracy: 0.7900\n",
      "Epoch 6/100\n",
      "20/20 [==============================] - 0s 3ms/step - loss: 0.5792 - accuracy: 0.7800\n",
      "Epoch 7/100\n",
      "20/20 [==============================] - 0s 3ms/step - loss: 0.5205 - accuracy: 0.8050\n",
      "Epoch 8/100\n",
      "20/20 [==============================] - 0s 2ms/step - loss: 0.4326 - accuracy: 0.8450\n",
      "Epoch 9/100\n",
      "20/20 [==============================] - 0s 3ms/step - loss: 0.4232 - accuracy: 0.8600\n",
      "Epoch 10/100\n",
      "20/20 [==============================] - 0s 3ms/step - loss: 0.4724 - accuracy: 0.8300\n",
      "Epoch 11/100\n",
      "20/20 [==============================] - 0s 3ms/step - loss: 0.5054 - accuracy: 0.8450\n",
      "Epoch 12/100\n",
      "20/20 [==============================] - 0s 3ms/step - loss: 0.3848 - accuracy: 0.8400\n",
      "Epoch 13/100\n",
      "20/20 [==============================] - 0s 3ms/step - loss: 0.3911 - accuracy: 0.8500\n",
      "Epoch 14/100\n",
      "20/20 [==============================] - 0s 3ms/step - loss: 0.3161 - accuracy: 0.8750\n",
      "Epoch 15/100\n",
      "20/20 [==============================] - 0s 3ms/step - loss: 0.3434 - accuracy: 0.8850\n",
      "Epoch 16/100\n",
      "20/20 [==============================] - 0s 3ms/step - loss: 0.3523 - accuracy: 0.9000\n",
      "Epoch 17/100\n",
      "20/20 [==============================] - 0s 3ms/step - loss: 0.2062 - accuracy: 0.9250\n",
      "Epoch 18/100\n",
      "20/20 [==============================] - 0s 3ms/step - loss: 0.2886 - accuracy: 0.9150\n",
      "Epoch 19/100\n",
      "20/20 [==============================] - 0s 3ms/step - loss: 0.2992 - accuracy: 0.9100\n",
      "Epoch 20/100\n",
      "20/20 [==============================] - 0s 3ms/step - loss: 0.2456 - accuracy: 0.9250\n",
      "Epoch 21/100\n",
      "20/20 [==============================] - 0s 3ms/step - loss: 0.3564 - accuracy: 0.8600\n",
      "Epoch 22/100\n",
      "20/20 [==============================] - 0s 3ms/step - loss: 0.2642 - accuracy: 0.9000\n",
      "Epoch 23/100\n",
      "20/20 [==============================] - 0s 3ms/step - loss: 0.3154 - accuracy: 0.8950\n",
      "Epoch 24/100\n",
      "20/20 [==============================] - 0s 3ms/step - loss: 0.3266 - accuracy: 0.9000\n",
      "Epoch 25/100\n",
      "20/20 [==============================] - 0s 3ms/step - loss: 0.3301 - accuracy: 0.8850\n",
      "Epoch 26/100\n",
      "20/20 [==============================] - 0s 3ms/step - loss: 0.2716 - accuracy: 0.8900\n",
      "Epoch 27/100\n",
      "20/20 [==============================] - 0s 3ms/step - loss: 0.2131 - accuracy: 0.9150\n",
      "Epoch 28/100\n",
      "20/20 [==============================] - 0s 3ms/step - loss: 0.1719 - accuracy: 0.9500\n",
      "Epoch 29/100\n",
      "20/20 [==============================] - 0s 3ms/step - loss: 0.2706 - accuracy: 0.9050\n",
      "Epoch 30/100\n",
      "20/20 [==============================] - 0s 3ms/step - loss: 0.2482 - accuracy: 0.9050\n",
      "Epoch 31/100\n",
      "20/20 [==============================] - 0s 3ms/step - loss: 0.2454 - accuracy: 0.9150\n",
      "Epoch 32/100\n",
      "20/20 [==============================] - 0s 3ms/step - loss: 0.2637 - accuracy: 0.9100\n",
      "Epoch 33/100\n",
      "20/20 [==============================] - 0s 3ms/step - loss: 0.1969 - accuracy: 0.9350\n",
      "Epoch 34/100\n",
      "20/20 [==============================] - 0s 3ms/step - loss: 0.1590 - accuracy: 0.9300\n",
      "Epoch 35/100\n",
      "20/20 [==============================] - 0s 3ms/step - loss: 0.2163 - accuracy: 0.9200\n",
      "Epoch 36/100\n",
      "20/20 [==============================] - 0s 3ms/step - loss: 0.2174 - accuracy: 0.9100\n",
      "Epoch 37/100\n",
      "20/20 [==============================] - 0s 3ms/step - loss: 0.0986 - accuracy: 0.9800\n",
      "Epoch 38/100\n",
      "20/20 [==============================] - 0s 3ms/step - loss: 0.2499 - accuracy: 0.9150\n",
      "Epoch 39/100\n",
      "20/20 [==============================] - 0s 3ms/step - loss: 0.2362 - accuracy: 0.9150\n",
      "Epoch 40/100\n",
      "20/20 [==============================] - 0s 3ms/step - loss: 0.2844 - accuracy: 0.9200\n",
      "Epoch 41/100\n",
      "20/20 [==============================] - 0s 3ms/step - loss: 0.1766 - accuracy: 0.9400\n",
      "Epoch 42/100\n",
      "20/20 [==============================] - 0s 3ms/step - loss: 0.2044 - accuracy: 0.9300\n",
      "Epoch 43/100\n",
      "20/20 [==============================] - 0s 3ms/step - loss: 0.2330 - accuracy: 0.9200\n",
      "Epoch 44/100\n",
      "20/20 [==============================] - 0s 3ms/step - loss: 0.2148 - accuracy: 0.9050\n",
      "Epoch 45/100\n",
      "20/20 [==============================] - 0s 3ms/step - loss: 0.2741 - accuracy: 0.8900\n",
      "Epoch 46/100\n",
      "20/20 [==============================] - 0s 3ms/step - loss: 0.1385 - accuracy: 0.9600\n",
      "Epoch 47/100\n",
      "20/20 [==============================] - 0s 3ms/step - loss: 0.2435 - accuracy: 0.9250\n",
      "Epoch 48/100\n",
      "20/20 [==============================] - 0s 3ms/step - loss: 0.1911 - accuracy: 0.9400\n",
      "Epoch 49/100\n",
      "20/20 [==============================] - 0s 3ms/step - loss: 0.0920 - accuracy: 0.9650\n",
      "Epoch 50/100\n",
      "20/20 [==============================] - 0s 3ms/step - loss: 0.1363 - accuracy: 0.9500\n",
      "Epoch 51/100\n",
      "20/20 [==============================] - 0s 3ms/step - loss: 0.2275 - accuracy: 0.9450\n",
      "Epoch 52/100\n",
      "20/20 [==============================] - 0s 3ms/step - loss: 0.0866 - accuracy: 0.9700\n",
      "Epoch 53/100\n",
      "20/20 [==============================] - 0s 3ms/step - loss: 0.2774 - accuracy: 0.9000\n",
      "Epoch 54/100\n",
      "20/20 [==============================] - 0s 3ms/step - loss: 0.1523 - accuracy: 0.9550\n",
      "Epoch 55/100\n",
      "20/20 [==============================] - 0s 3ms/step - loss: 0.1593 - accuracy: 0.9350\n",
      "Epoch 56/100\n",
      "20/20 [==============================] - 0s 3ms/step - loss: 0.1533 - accuracy: 0.9200\n",
      "Epoch 57/100\n",
      "20/20 [==============================] - 0s 3ms/step - loss: 0.1459 - accuracy: 0.9550\n",
      "Epoch 58/100\n",
      "20/20 [==============================] - 0s 3ms/step - loss: 0.1542 - accuracy: 0.9450\n",
      "Epoch 59/100\n",
      "20/20 [==============================] - 0s 3ms/step - loss: 0.0899 - accuracy: 0.9700\n",
      "Epoch 60/100\n",
      "20/20 [==============================] - 0s 3ms/step - loss: 0.1058 - accuracy: 0.9700\n",
      "Epoch 61/100\n",
      "20/20 [==============================] - 0s 4ms/step - loss: 0.1610 - accuracy: 0.9150\n",
      "Epoch 62/100\n",
      "20/20 [==============================] - 0s 4ms/step - loss: 0.1895 - accuracy: 0.9250\n",
      "Epoch 63/100\n",
      "20/20 [==============================] - 0s 4ms/step - loss: 0.1068 - accuracy: 0.9500\n",
      "Epoch 64/100\n"
     ]
    },
    {
     "name": "stdout",
     "output_type": "stream",
     "text": [
      "20/20 [==============================] - 0s 3ms/step - loss: 0.1886 - accuracy: 0.9250\n",
      "Epoch 65/100\n",
      "20/20 [==============================] - 0s 3ms/step - loss: 0.1317 - accuracy: 0.9600\n",
      "Epoch 66/100\n",
      "20/20 [==============================] - 0s 3ms/step - loss: 0.1162 - accuracy: 0.9700\n",
      "Epoch 67/100\n",
      "20/20 [==============================] - 0s 3ms/step - loss: 0.1354 - accuracy: 0.9450\n",
      "Epoch 68/100\n",
      "20/20 [==============================] - 0s 3ms/step - loss: 0.1455 - accuracy: 0.9550\n",
      "Epoch 69/100\n",
      "20/20 [==============================] - 0s 3ms/step - loss: 0.1496 - accuracy: 0.9500\n",
      "Epoch 70/100\n",
      "20/20 [==============================] - 0s 3ms/step - loss: 0.1607 - accuracy: 0.9350\n",
      "Epoch 71/100\n",
      "20/20 [==============================] - 0s 3ms/step - loss: 0.3493 - accuracy: 0.8650\n",
      "Epoch 72/100\n",
      "20/20 [==============================] - 0s 3ms/step - loss: 0.1180 - accuracy: 0.9600\n",
      "Epoch 73/100\n",
      "20/20 [==============================] - 0s 3ms/step - loss: 0.1810 - accuracy: 0.9350\n",
      "Epoch 74/100\n",
      "20/20 [==============================] - 0s 3ms/step - loss: 0.1399 - accuracy: 0.9550\n",
      "Epoch 75/100\n",
      "20/20 [==============================] - 0s 4ms/step - loss: 0.0953 - accuracy: 0.9750\n",
      "Epoch 76/100\n",
      "20/20 [==============================] - 0s 3ms/step - loss: 0.1545 - accuracy: 0.9500\n",
      "Epoch 77/100\n",
      "20/20 [==============================] - 0s 3ms/step - loss: 0.1546 - accuracy: 0.9300\n",
      "Epoch 78/100\n",
      "20/20 [==============================] - 0s 3ms/step - loss: 0.1917 - accuracy: 0.9200\n",
      "Epoch 79/100\n",
      "20/20 [==============================] - 0s 3ms/step - loss: 0.1086 - accuracy: 0.9550\n",
      "Epoch 80/100\n",
      "20/20 [==============================] - 0s 4ms/step - loss: 0.2154 - accuracy: 0.9350\n",
      "Epoch 81/100\n",
      "20/20 [==============================] - 0s 4ms/step - loss: 0.1349 - accuracy: 0.9600\n",
      "Epoch 82/100\n",
      "20/20 [==============================] - 0s 3ms/step - loss: 0.1398 - accuracy: 0.9550\n",
      "Epoch 83/100\n",
      "20/20 [==============================] - 0s 3ms/step - loss: 0.0812 - accuracy: 0.9850\n",
      "Epoch 84/100\n",
      "20/20 [==============================] - 0s 4ms/step - loss: 0.0870 - accuracy: 0.9750\n",
      "Epoch 85/100\n",
      "20/20 [==============================] - 0s 3ms/step - loss: 0.1946 - accuracy: 0.9300\n",
      "Epoch 86/100\n",
      "20/20 [==============================] - 0s 3ms/step - loss: 0.1241 - accuracy: 0.9550\n",
      "Epoch 87/100\n",
      "20/20 [==============================] - 0s 3ms/step - loss: 0.1660 - accuracy: 0.9300\n",
      "Epoch 88/100\n",
      "20/20 [==============================] - 0s 3ms/step - loss: 0.1758 - accuracy: 0.9400\n",
      "Epoch 89/100\n",
      "20/20 [==============================] - 0s 3ms/step - loss: 0.2195 - accuracy: 0.9250\n",
      "Epoch 90/100\n",
      "20/20 [==============================] - 0s 3ms/step - loss: 0.0807 - accuracy: 0.9800\n",
      "Epoch 91/100\n",
      "20/20 [==============================] - 0s 3ms/step - loss: 0.1598 - accuracy: 0.9550\n",
      "Epoch 92/100\n",
      "20/20 [==============================] - 0s 4ms/step - loss: 0.1370 - accuracy: 0.9450\n",
      "Epoch 93/100\n",
      "20/20 [==============================] - 0s 4ms/step - loss: 0.0924 - accuracy: 0.9600\n",
      "Epoch 94/100\n",
      "20/20 [==============================] - 0s 4ms/step - loss: 0.1197 - accuracy: 0.9500\n",
      "Epoch 95/100\n",
      "20/20 [==============================] - 0s 3ms/step - loss: 0.1320 - accuracy: 0.9650\n",
      "Epoch 96/100\n",
      "20/20 [==============================] - 0s 4ms/step - loss: 0.1529 - accuracy: 0.9500\n",
      "Epoch 97/100\n",
      "20/20 [==============================] - 0s 4ms/step - loss: 0.1001 - accuracy: 0.9450\n",
      "Epoch 98/100\n",
      "20/20 [==============================] - 0s 4ms/step - loss: 0.0559 - accuracy: 0.9900\n",
      "Epoch 99/100\n",
      "20/20 [==============================] - 0s 3ms/step - loss: 0.1661 - accuracy: 0.9550\n",
      "Epoch 100/100\n",
      "20/20 [==============================] - 0s 3ms/step - loss: 0.0759 - accuracy: 0.9900\n",
      "20/20 [==============================] - 1s 1ms/step - loss: 0.3118 - accuracy: 0.9450\n"
     ]
    }
   ],
   "source": [
    "# create model\n",
    "model = create_model()\n",
    "\n",
    "n_folds = 2\n",
    "kfold = KFold(n_splits=n_folds, shuffle=True,\n",
    "              random_state=SEED)\n",
    "\n",
    "valid_score = cross_val_score(model, X_train, y_train, \n",
    "                          cv=kfold, error_score=\"raise\", verbose=0)"
   ]
  },
  {
   "cell_type": "markdown",
   "metadata": {
    "id": "jjKhjC-_S97B"
   },
   "source": [
    "##### get validation accuracy"
   ]
  },
  {
   "cell_type": "code",
   "execution_count": 10,
   "metadata": {
    "colab": {
     "base_uri": "https://localhost:8080/"
    },
    "executionInfo": {
     "elapsed": 296,
     "status": "ok",
     "timestamp": 1638117909026,
     "user": {
      "displayName": "QIIKAII",
      "photoUrl": "https://lh3.googleusercontent.com/a-/AOh14GiJOdYwJsRvwYnsXYnOzQM51xYuWLYsahwvlDNSBQ=s64",
      "userId": "18419578418508292348"
     },
     "user_tz": -480
    },
    "id": "TzEjQaztS97B",
    "outputId": "26092fc6-8c80-4a6c-93cb-34f0cf233fe6"
   },
   "outputs": [
    {
     "name": "stdout",
     "output_type": "stream",
     "text": [
      "Validation Accuracy of 94.50% (with standard deviation of 0.00%)\n"
     ]
    }
   ],
   "source": [
    "print(\"Validation Accuracy of %.2f%% (with standard deviation of %.2f%%)\" % \n",
    "      (valid_score.mean()*100, valid_score.std()*100))"
   ]
  },
  {
   "cell_type": "markdown",
   "metadata": {
    "id": "Yg36UBcsaNNo"
   },
   "source": [
    "### FIT MODEL FOR TESTING \n",
    "> * fit the model\n",
    "> * view the accuracy and loss graph\n",
    "> * view model summary"
   ]
  },
  {
   "cell_type": "code",
   "execution_count": 11,
   "metadata": {
    "colab": {
     "base_uri": "https://localhost:8080/"
    },
    "executionInfo": {
     "elapsed": 48738,
     "status": "ok",
     "timestamp": 1638117960465,
     "user": {
      "displayName": "QIIKAII",
      "photoUrl": "https://lh3.googleusercontent.com/a-/AOh14GiJOdYwJsRvwYnsXYnOzQM51xYuWLYsahwvlDNSBQ=s64",
      "userId": "18419578418508292348"
     },
     "user_tz": -480
    },
    "id": "NotcydKxlfxM",
    "outputId": "49d8461d-5c74-4f93-a323-b573075f0ed5",
    "scrolled": true
   },
   "outputs": [
    {
     "name": "stdout",
     "output_type": "stream",
     "text": [
      "Epoch 1/100\n",
      "40/40 [==============================] - 3s 3ms/step - loss: 1.3367 - accuracy: 0.4875\n",
      "Epoch 2/100\n",
      "40/40 [==============================] - 0s 3ms/step - loss: 0.8441 - accuracy: 0.6850\n",
      "Epoch 3/100\n",
      "40/40 [==============================] - 0s 3ms/step - loss: 0.5965 - accuracy: 0.7700\n",
      "Epoch 4/100\n",
      "40/40 [==============================] - 0s 4ms/step - loss: 0.5802 - accuracy: 0.8075\n",
      "Epoch 5/100\n",
      "40/40 [==============================] - 0s 3ms/step - loss: 0.4686 - accuracy: 0.8250\n",
      "Epoch 6/100\n",
      "40/40 [==============================] - 0s 3ms/step - loss: 0.4445 - accuracy: 0.8525\n",
      "Epoch 7/100\n",
      "40/40 [==============================] - 0s 3ms/step - loss: 0.4559 - accuracy: 0.8300\n",
      "Epoch 8/100\n",
      "40/40 [==============================] - 0s 4ms/step - loss: 0.3913 - accuracy: 0.8825\n",
      "Epoch 9/100\n",
      "40/40 [==============================] - 0s 4ms/step - loss: 0.3869 - accuracy: 0.8475\n",
      "Epoch 10/100\n",
      "40/40 [==============================] - 0s 3ms/step - loss: 0.3912 - accuracy: 0.8700\n",
      "Epoch 11/100\n",
      "40/40 [==============================] - 0s 3ms/step - loss: 0.2636 - accuracy: 0.9200\n",
      "Epoch 12/100\n",
      "40/40 [==============================] - 0s 3ms/step - loss: 0.2703 - accuracy: 0.9025\n",
      "Epoch 13/100\n",
      "40/40 [==============================] - 0s 3ms/step - loss: 0.3015 - accuracy: 0.9050\n",
      "Epoch 14/100\n",
      "40/40 [==============================] - 0s 3ms/step - loss: 0.3987 - accuracy: 0.8625\n",
      "Epoch 15/100\n",
      "40/40 [==============================] - 0s 3ms/step - loss: 0.3031 - accuracy: 0.9025\n",
      "Epoch 16/100\n",
      "40/40 [==============================] - 0s 4ms/step - loss: 0.2384 - accuracy: 0.9075\n",
      "Epoch 17/100\n",
      "40/40 [==============================] - 0s 4ms/step - loss: 0.2049 - accuracy: 0.9400\n",
      "Epoch 18/100\n",
      "40/40 [==============================] - 0s 4ms/step - loss: 0.2348 - accuracy: 0.9225\n",
      "Epoch 19/100\n",
      "40/40 [==============================] - 0s 3ms/step - loss: 0.3014 - accuracy: 0.8925\n",
      "Epoch 20/100\n",
      "40/40 [==============================] - 0s 3ms/step - loss: 0.2264 - accuracy: 0.9275\n",
      "Epoch 21/100\n",
      "40/40 [==============================] - 0s 4ms/step - loss: 0.2167 - accuracy: 0.9250\n",
      "Epoch 22/100\n",
      "40/40 [==============================] - 0s 4ms/step - loss: 0.2321 - accuracy: 0.9250\n",
      "Epoch 23/100\n",
      "40/40 [==============================] - 0s 3ms/step - loss: 0.2490 - accuracy: 0.9175\n",
      "Epoch 24/100\n",
      "40/40 [==============================] - 0s 4ms/step - loss: 0.2441 - accuracy: 0.8950\n",
      "Epoch 25/100\n",
      "40/40 [==============================] - 0s 4ms/step - loss: 0.3318 - accuracy: 0.8925\n",
      "Epoch 26/100\n",
      "40/40 [==============================] - 0s 3ms/step - loss: 0.2048 - accuracy: 0.9325\n",
      "Epoch 27/100\n",
      "40/40 [==============================] - 0s 4ms/step - loss: 0.2536 - accuracy: 0.9100\n",
      "Epoch 28/100\n",
      "40/40 [==============================] - 0s 4ms/step - loss: 0.1690 - accuracy: 0.9425\n",
      "Epoch 29/100\n",
      "40/40 [==============================] - 0s 4ms/step - loss: 0.1966 - accuracy: 0.9325\n",
      "Epoch 30/100\n",
      "40/40 [==============================] - 0s 3ms/step - loss: 0.2593 - accuracy: 0.9125\n",
      "Epoch 31/100\n",
      "40/40 [==============================] - 0s 3ms/step - loss: 0.2013 - accuracy: 0.9350\n",
      "Epoch 32/100\n",
      "40/40 [==============================] - 0s 3ms/step - loss: 0.2089 - accuracy: 0.9375\n",
      "Epoch 33/100\n",
      "40/40 [==============================] - 0s 3ms/step - loss: 0.1645 - accuracy: 0.9400\n",
      "Epoch 34/100\n",
      "40/40 [==============================] - 0s 3ms/step - loss: 0.1592 - accuracy: 0.9550\n",
      "Epoch 35/100\n",
      "40/40 [==============================] - 0s 3ms/step - loss: 0.2012 - accuracy: 0.9225\n",
      "Epoch 36/100\n",
      "40/40 [==============================] - 0s 3ms/step - loss: 0.2146 - accuracy: 0.9275\n",
      "Epoch 37/100\n",
      "40/40 [==============================] - 0s 3ms/step - loss: 0.1839 - accuracy: 0.9200\n",
      "Epoch 38/100\n",
      "40/40 [==============================] - 0s 3ms/step - loss: 0.2124 - accuracy: 0.9200\n",
      "Epoch 39/100\n",
      "40/40 [==============================] - 0s 3ms/step - loss: 0.2091 - accuracy: 0.9250\n",
      "Epoch 40/100\n",
      "40/40 [==============================] - 0s 3ms/step - loss: 0.1702 - accuracy: 0.9400\n",
      "Epoch 41/100\n",
      "40/40 [==============================] - 0s 3ms/step - loss: 0.2137 - accuracy: 0.9300\n",
      "Epoch 42/100\n",
      "40/40 [==============================] - 0s 3ms/step - loss: 0.2280 - accuracy: 0.9325\n",
      "Epoch 43/100\n",
      "40/40 [==============================] - 0s 3ms/step - loss: 0.1291 - accuracy: 0.9575\n",
      "Epoch 44/100\n",
      "40/40 [==============================] - 0s 3ms/step - loss: 0.1870 - accuracy: 0.9400\n",
      "Epoch 45/100\n",
      "40/40 [==============================] - 0s 3ms/step - loss: 0.1483 - accuracy: 0.9475\n",
      "Epoch 46/100\n",
      "40/40 [==============================] - 0s 3ms/step - loss: 0.1863 - accuracy: 0.9275\n",
      "Epoch 47/100\n",
      "40/40 [==============================] - 0s 3ms/step - loss: 0.1764 - accuracy: 0.9300\n",
      "Epoch 48/100\n",
      "40/40 [==============================] - 0s 3ms/step - loss: 0.1865 - accuracy: 0.9450\n",
      "Epoch 49/100\n",
      "40/40 [==============================] - 0s 3ms/step - loss: 0.1328 - accuracy: 0.9525\n",
      "Epoch 50/100\n",
      "40/40 [==============================] - 0s 3ms/step - loss: 0.1882 - accuracy: 0.9325\n",
      "Epoch 51/100\n",
      "40/40 [==============================] - 0s 3ms/step - loss: 0.1676 - accuracy: 0.9450\n",
      "Epoch 52/100\n",
      "40/40 [==============================] - 0s 3ms/step - loss: 0.1826 - accuracy: 0.9350\n",
      "Epoch 53/100\n",
      "40/40 [==============================] - 0s 3ms/step - loss: 0.1387 - accuracy: 0.9500\n",
      "Epoch 54/100\n",
      "40/40 [==============================] - 0s 3ms/step - loss: 0.1528 - accuracy: 0.9600\n",
      "Epoch 55/100\n",
      "40/40 [==============================] - 0s 3ms/step - loss: 0.1811 - accuracy: 0.9375\n",
      "Epoch 56/100\n",
      "40/40 [==============================] - 0s 4ms/step - loss: 0.1710 - accuracy: 0.9475\n",
      "Epoch 57/100\n",
      "40/40 [==============================] - 0s 4ms/step - loss: 0.1646 - accuracy: 0.9425\n",
      "Epoch 58/100\n",
      "40/40 [==============================] - 0s 4ms/step - loss: 0.1263 - accuracy: 0.9575\n",
      "Epoch 59/100\n",
      "40/40 [==============================] - 0s 4ms/step - loss: 0.1789 - accuracy: 0.9350\n",
      "Epoch 60/100\n",
      "40/40 [==============================] - 0s 4ms/step - loss: 0.1496 - accuracy: 0.9475\n",
      "Epoch 61/100\n",
      "40/40 [==============================] - 0s 4ms/step - loss: 0.1850 - accuracy: 0.9325\n",
      "Epoch 62/100\n",
      "40/40 [==============================] - 0s 4ms/step - loss: 0.1410 - accuracy: 0.9550\n",
      "Epoch 63/100\n",
      "40/40 [==============================] - 0s 3ms/step - loss: 0.1497 - accuracy: 0.9550\n",
      "Epoch 64/100\n",
      "40/40 [==============================] - 0s 3ms/step - loss: 0.1217 - accuracy: 0.9575\n",
      "Epoch 65/100\n",
      "40/40 [==============================] - 0s 3ms/step - loss: 0.1482 - accuracy: 0.9475\n",
      "Epoch 66/100\n",
      "40/40 [==============================] - 0s 4ms/step - loss: 0.1095 - accuracy: 0.9675\n",
      "Epoch 67/100\n",
      "40/40 [==============================] - 0s 4ms/step - loss: 0.1223 - accuracy: 0.9450\n",
      "Epoch 68/100\n",
      "40/40 [==============================] - 0s 4ms/step - loss: 0.1698 - accuracy: 0.9500\n",
      "Epoch 69/100\n",
      "40/40 [==============================] - 0s 4ms/step - loss: 0.1438 - accuracy: 0.9450\n",
      "Epoch 70/100\n",
      "40/40 [==============================] - 0s 3ms/step - loss: 0.1573 - accuracy: 0.9450\n",
      "Epoch 71/100\n",
      "40/40 [==============================] - 0s 3ms/step - loss: 0.0916 - accuracy: 0.9750\n",
      "Epoch 72/100\n",
      "40/40 [==============================] - 0s 3ms/step - loss: 0.1085 - accuracy: 0.9600\n",
      "Epoch 73/100\n",
      "40/40 [==============================] - 0s 3ms/step - loss: 0.1229 - accuracy: 0.9725\n",
      "Epoch 74/100\n",
      "40/40 [==============================] - 0s 4ms/step - loss: 0.0943 - accuracy: 0.9725\n",
      "Epoch 75/100\n",
      "40/40 [==============================] - 0s 3ms/step - loss: 0.1563 - accuracy: 0.9475\n",
      "Epoch 76/100\n",
      "40/40 [==============================] - 0s 3ms/step - loss: 0.1937 - accuracy: 0.9450\n",
      "Epoch 77/100\n",
      "40/40 [==============================] - 0s 3ms/step - loss: 0.1023 - accuracy: 0.9650\n",
      "Epoch 78/100\n",
      "40/40 [==============================] - 0s 3ms/step - loss: 0.1520 - accuracy: 0.9475\n",
      "Epoch 79/100\n",
      "40/40 [==============================] - 0s 3ms/step - loss: 0.1944 - accuracy: 0.9400\n",
      "Epoch 80/100\n",
      "40/40 [==============================] - 0s 3ms/step - loss: 0.1191 - accuracy: 0.9575\n",
      "Epoch 81/100\n",
      "40/40 [==============================] - 0s 3ms/step - loss: 0.1634 - accuracy: 0.9300\n",
      "Epoch 82/100\n",
      "40/40 [==============================] - 0s 4ms/step - loss: 0.1771 - accuracy: 0.9425\n",
      "Epoch 83/100\n"
     ]
    },
    {
     "name": "stdout",
     "output_type": "stream",
     "text": [
      "40/40 [==============================] - 0s 4ms/step - loss: 0.1264 - accuracy: 0.9625\n",
      "Epoch 84/100\n",
      "40/40 [==============================] - 0s 4ms/step - loss: 0.1247 - accuracy: 0.9450\n",
      "Epoch 85/100\n",
      "40/40 [==============================] - 0s 4ms/step - loss: 0.1019 - accuracy: 0.9700\n",
      "Epoch 86/100\n",
      "40/40 [==============================] - 0s 4ms/step - loss: 0.0950 - accuracy: 0.9650\n",
      "Epoch 87/100\n",
      "40/40 [==============================] - 0s 4ms/step - loss: 0.1078 - accuracy: 0.9650\n",
      "Epoch 88/100\n",
      "40/40 [==============================] - 0s 3ms/step - loss: 0.1205 - accuracy: 0.9600\n",
      "Epoch 89/100\n",
      "40/40 [==============================] - 0s 3ms/step - loss: 0.0951 - accuracy: 0.9725\n",
      "Epoch 90/100\n",
      "40/40 [==============================] - 0s 3ms/step - loss: 0.0943 - accuracy: 0.9650\n",
      "Epoch 91/100\n",
      "40/40 [==============================] - 0s 3ms/step - loss: 0.0712 - accuracy: 0.9775\n",
      "Epoch 92/100\n",
      "40/40 [==============================] - 0s 4ms/step - loss: 0.0881 - accuracy: 0.9625\n",
      "Epoch 93/100\n",
      "40/40 [==============================] - 0s 3ms/step - loss: 0.0599 - accuracy: 0.9800\n",
      "Epoch 94/100\n",
      "40/40 [==============================] - 0s 3ms/step - loss: 0.1272 - accuracy: 0.9525\n",
      "Epoch 95/100\n",
      "40/40 [==============================] - 0s 4ms/step - loss: 0.0912 - accuracy: 0.9750\n",
      "Epoch 96/100\n",
      "40/40 [==============================] - 0s 3ms/step - loss: 0.1039 - accuracy: 0.9675\n",
      "Epoch 97/100\n",
      "40/40 [==============================] - 0s 3ms/step - loss: 0.0986 - accuracy: 0.9600\n",
      "Epoch 98/100\n",
      "40/40 [==============================] - 0s 3ms/step - loss: 0.1364 - accuracy: 0.9550\n",
      "Epoch 99/100\n",
      "40/40 [==============================] - 0s 3ms/step - loss: 0.1361 - accuracy: 0.9575\n",
      "Epoch 100/100\n",
      "40/40 [==============================] - 0s 4ms/step - loss: 0.1652 - accuracy: 0.9425\n"
     ]
    }
   ],
   "source": [
    "#####################\n",
    "# # fit the model # #\n",
    "#####################\n",
    "es = EarlyStopping(monitor='loss', mode='min', min_delta=0.001, patience=50,\n",
    "                   verbose=1)\n",
    "history = model.fit(X_train, y_train, callbacks=es, verbose=1)"
   ]
  },
  {
   "cell_type": "code",
   "execution_count": 12,
   "metadata": {
    "colab": {
     "base_uri": "https://localhost:8080/",
     "height": 573
    },
    "executionInfo": {
     "elapsed": 987,
     "status": "ok",
     "timestamp": 1638118023931,
     "user": {
      "displayName": "QIIKAII",
      "photoUrl": "https://lh3.googleusercontent.com/a-/AOh14GiJOdYwJsRvwYnsXYnOzQM51xYuWLYsahwvlDNSBQ=s64",
      "userId": "18419578418508292348"
     },
     "user_tz": -480
    },
    "id": "mCWHiSP-S97C",
    "outputId": "78888291-3da6-4ef5-8a5b-0e2259da3399"
   },
   "outputs": [
    {
     "data": {
      "image/png": "[encoded data removed]",
      "text/plain": [
       "<Figure size 432x288 with 1 Axes>"
      ]
     },
     "metadata": {},
     "output_type": "display_data"
    },
    {
     "data": {
      "image/png": "[encoded data removed]",
      "text/plain": [
       "<Figure size 432x288 with 1 Axes>"
      ]
     },
     "metadata": {},
     "output_type": "display_data"
    }
   ],
   "source": [
    "##########################\n",
    "# # get model accuracy # #\n",
    "##########################\n",
    "plt.plot(history.history['accuracy'])\n",
    "plt.title('Model Accuracy')\n",
    "plt.ylabel('accuracy')\n",
    "plt.xlabel('epoch')\n",
    "plt.legend(['train'], loc='upper left')\n",
    "plt.show()\n",
    "\n",
    "######################\n",
    "# # get model loss # #\n",
    "######################\n",
    "plt.plot(history.history['loss'])\n",
    "plt.title('Model Loss')\n",
    "plt.ylabel('loss')\n",
    "plt.xlabel('epoch')\n",
    "plt.legend(['train'], loc='upper left')\n",
    "plt.show()"
   ]
  },
  {
   "cell_type": "code",
   "execution_count": 13,
   "metadata": {
    "colab": {
     "base_uri": "https://localhost:8080/"
    },
    "executionInfo": {
     "elapsed": 329,
     "status": "ok",
     "timestamp": 1638118029495,
     "user": {
      "displayName": "QIIKAII",
      "photoUrl": "https://lh3.googleusercontent.com/a-/AOh14GiJOdYwJsRvwYnsXYnOzQM51xYuWLYsahwvlDNSBQ=s64",
      "userId": "18419578418508292348"
     },
     "user_tz": -480
    },
    "id": "et8NfxsUS97C",
    "outputId": "091c8ad5-6575-4030-b7e1-fe4640c71d62"
   },
   "outputs": [
    {
     "name": "stdout",
     "output_type": "stream",
     "text": [
      "Model: \"sequential_2\"\n",
      "_________________________________________________________________\n",
      " Layer (type)                Output Shape              Param #   \n",
      "=================================================================\n",
      " lstm_6 (LSTM)               (None, 1, 128)            81920     \n",
      "                                                                 \n",
      " dropout_6 (Dropout)         (None, 1, 128)            0         \n",
      "                                                                 \n",
      " batch_normalization_6 (Batc  (None, 1, 128)           512       \n",
      " hNormalization)                                                 \n",
      "                                                                 \n",
      " lstm_7 (LSTM)               (None, 1, 128)            131584    \n",
      "                                                                 \n",
      " dropout_7 (Dropout)         (None, 1, 128)            0         \n",
      "                                                                 \n",
      " batch_normalization_7 (Batc  (None, 1, 128)           512       \n",
      " hNormalization)                                                 \n",
      "                                                                 \n",
      " lstm_8 (LSTM)               (None, 1, 64)             49408     \n",
      "                                                                 \n",
      " dropout_8 (Dropout)         (None, 1, 64)             0         \n",
      "                                                                 \n",
      " batch_normalization_8 (Batc  (None, 1, 64)            256       \n",
      " hNormalization)                                                 \n",
      "                                                                 \n",
      " flatten_2 (Flatten)         (None, 64)                0         \n",
      "                                                                 \n",
      " dense_2 (Dense)             (None, 5)                 325       \n",
      "                                                                 \n",
      "=================================================================\n",
      "Total params: 264,517\n",
      "Trainable params: 263,877\n",
      "Non-trainable params: 640\n",
      "_________________________________________________________________\n"
     ]
    }
   ],
   "source": [
    "##########################\n",
    "# # view model summary # #\n",
    "##########################\n",
    "model.model.summary()"
   ]
  },
  {
   "cell_type": "markdown",
   "metadata": {
    "id": "kDfErVxmS97C"
   },
   "source": [
    "### MODEL TESTING\n",
    "> * get model accuracy on the test dataset\n",
    "> * generate confusion matrix\n",
    "> * generate ROC curves\n",
    "> * save the model if appropriate"
   ]
  },
  {
   "cell_type": "code",
   "execution_count": 14,
   "metadata": {
    "colab": {
     "base_uri": "https://localhost:8080/"
    },
    "executionInfo": {
     "elapsed": 1785,
     "status": "ok",
     "timestamp": 1638118033406,
     "user": {
      "displayName": "QIIKAII",
      "photoUrl": "https://lh3.googleusercontent.com/a-/AOh14GiJOdYwJsRvwYnsXYnOzQM51xYuWLYsahwvlDNSBQ=s64",
      "userId": "18419578418508292348"
     },
     "user_tz": -480
    },
    "id": "z-yx8kp3S97C",
    "outputId": "253a524b-721e-4648-dac8-935fa950aaff"
   },
   "outputs": [
    {
     "name": "stdout",
     "output_type": "stream",
     "text": [
      "Testing accuracy: 94.000%\n"
     ]
    }
   ],
   "source": [
    "y_pred = model.predict(X_test)\n",
    "y_pred = to_categorical(y_pred)\n",
    "\n",
    "# evaluate predictions\n",
    "acc = accuracy_score(y_test, y_pred)\n",
    "print(\"Testing accuracy: %.3f%%\" % (acc*100))"
   ]
  },
  {
   "cell_type": "markdown",
   "metadata": {},
   "source": [
    "##### Confusion Matrix"
   ]
  },
  {
   "cell_type": "code",
   "execution_count": 15,
   "metadata": {},
   "outputs": [
    {
     "data": {
      "text/plain": [
       "<AxesSubplot:>"
      ]
     },
     "execution_count": 15,
     "metadata": {},
     "output_type": "execute_result"
    },
    {
     "data": {
      "image/png": "[encoded data removed]",
      "text/plain": [
       "<Figure size 720x504 with 2 Axes>"
      ]
     },
     "metadata": {},
     "output_type": "display_data"
    }
   ],
   "source": [
    "# confusion matrix\n",
    "cm = confusion_matrix(encoder.inverse_transform(y_test), encoder.inverse_transform(y_pred))\n",
    "df_cm = pd.DataFrame(cm, index = [i for i in np.unique(encoder.inverse_transform(y_test))],\n",
    "                     columns = [i for i in np.unique(encoder.inverse_transform(y_test))])\n",
    "\n",
    "plt.figure(figsize = (10,7))\n",
    "sns.heatmap(df_cm, annot=True, cmap=\"BuPu\")"
   ]
  },
  {
   "cell_type": "markdown",
   "metadata": {},
   "source": [
    "##### ROC Curve (Individual)"
   ]
  },
  {
   "cell_type": "code",
   "execution_count": 17,
   "metadata": {
    "id": "NqRgKmK2XJrW"
   },
   "outputs": [
    {
     "data": {
      "image/png": "[encoded data removed]",
      "text/plain": [
       "<Figure size 432x288 with 1 Axes>"
      ]
     },
     "metadata": {},
     "output_type": "display_data"
    },
    {
     "data": {
      "image/png": "[encoded data removed]",
      "text/plain": [
       "<Figure size 432x288 with 1 Axes>"
      ]
     },
     "metadata": {},
     "output_type": "display_data"
    },
    {
     "data": {
      "image/png": "[encoded data removed]",
      "text/plain": [
       "<Figure size 432x288 with 1 Axes>"
      ]
     },
     "metadata": {},
     "output_type": "display_data"
    },
    {
     "data": {
      "image/png": "[encoded data removed]",
      "text/plain": [
       "<Figure size 432x288 with 1 Axes>"
      ]
     },
     "metadata": {},
     "output_type": "display_data"
    },
    {
     "data": {
      "image/png": "[encoded data removed]",
      "text/plain": [
       "<Figure size 432x288 with 1 Axes>"
      ]
     },
     "metadata": {},
     "output_type": "display_data"
    }
   ],
   "source": [
    "# compute ROC curve and ROC area for each class\n",
    "fpr = dict()\n",
    "tpr = dict()\n",
    "roc_auc = dict()\n",
    "for i in range(n_classes):\n",
    "    fpr[i], tpr[i], _ = roc_curve(y_test[:, i], y_pred[:, i])\n",
    "    roc_auc[i] = auc(fpr[i], tpr[i])\n",
    "\n",
    "for i in range(n_classes):\n",
    "    plt.figure()\n",
    "    lw = 2\n",
    "    plt.plot(\n",
    "        fpr[i],\n",
    "        tpr[i],\n",
    "        color=\"darkorange\",\n",
    "        lw=lw,\n",
    "        label=\"ROC curve (area = %0.2f)\" % roc_auc[i],\n",
    "    )\n",
    "    plt.plot([0, 1], [0, 1], color=\"navy\", lw=lw, linestyle=\"--\")\n",
    "    plt.xlim([-0.005, 1.0])\n",
    "    plt.ylim([0.0, 1.05])\n",
    "    plt.xlabel(\"False Positive Rate\")\n",
    "    plt.ylabel(\"True Positive Rate\")\n",
    "    plt.title(\"ROC Curve (\" + str(encoder.categories_[0][i]) + \")\")\n",
    "    plt.legend(loc=\"lower right\")\n",
    "    plt.show()"
   ]
  },
  {
   "cell_type": "markdown",
   "metadata": {
    "id": "5HkHsbItlPfO"
   },
   "source": [
    "##### ROC Curve (Combined Plot)"
   ]
  },
  {
   "cell_type": "code",
   "execution_count": 18,
   "metadata": {
    "colab": {
     "base_uri": "https://localhost:8080/",
     "height": 301
    },
    "executionInfo": {
     "elapsed": 1150,
     "status": "ok",
     "timestamp": 1638120168019,
     "user": {
      "displayName": "QIIKAII",
      "photoUrl": "https://lh3.googleusercontent.com/a-/AOh14GiJOdYwJsRvwYnsXYnOzQM51xYuWLYsahwvlDNSBQ=s64",
      "userId": "18419578418508292348"
     },
     "user_tz": -480
    },
    "id": "21nSlWV4i6hl",
    "outputId": "20c24843-dd61-42e8-bd47-9e75b4238fb9"
   },
   "outputs": [
    {
     "data": {
      "image/png": "[encoded data removed]",
      "text/plain": [
       "<Figure size 432x288 with 1 Axes>"
      ]
     },
     "metadata": {},
     "output_type": "display_data"
    }
   ],
   "source": [
    "# compute micro-average ROC curve and ROC area\n",
    "fpr[\"micro\"], tpr[\"micro\"], thresholds = roc_curve(y_test.ravel(), y_pred.ravel())\n",
    "roc_auc[\"micro\"] = auc(fpr[\"micro\"], tpr[\"micro\"])\n",
    "\n",
    "# first aggregate all false positive rates\n",
    "all_fpr = np.unique(np.concatenate([fpr[i] for i in range(n_classes)]))\n",
    "\n",
    "# Then interpolate all ROC curves at this points\n",
    "mean_tpr = np.zeros_like(all_fpr)\n",
    "for i in range(n_classes):\n",
    "    mean_tpr += interp(all_fpr, fpr[i], tpr[i])\n",
    "\n",
    "# finally average it and compute AUC\n",
    "mean_tpr /= n_classes\n",
    "\n",
    "fpr[\"macro\"] = all_fpr\n",
    "tpr[\"macro\"] = mean_tpr\n",
    "roc_auc[\"macro\"] = auc(fpr[\"macro\"], tpr[\"macro\"])\n",
    "\n",
    "# Plot all ROC curves\n",
    "# plt.figure()\n",
    "# plt.plot(\n",
    "#     fpr[\"micro\"],\n",
    "#     tpr[\"micro\"],\n",
    "#     label=\"micro-average ROC curve (area = {0:0.2f})\".format(roc_auc[\"micro\"]),\n",
    "#     color=\"deeppink\",\n",
    "#     linestyle=\":\",\n",
    "#     linewidth=4,\n",
    "# )\n",
    "\n",
    "# plt.plot(\n",
    "#     fpr[\"macro\"],\n",
    "#     tpr[\"macro\"],\n",
    "#     label=\"macro-average ROC curve (area = {0:0.2f})\".format(roc_auc[\"macro\"]),\n",
    "#     color=\"navy\",\n",
    "#     linestyle=\":\",\n",
    "#     linewidth=4,\n",
    "# )\n",
    "\n",
    "colors = cycle([\"aqua\", \"darkorange\", \"cornflowerblue\", \"lightgreen\", \"purple\"])\n",
    "for i, color in zip(range(n_classes), colors):\n",
    "    plt.plot(\n",
    "        fpr[i],\n",
    "        tpr[i],\n",
    "        color=color,\n",
    "        lw=lw,\n",
    "        label=\"ROC curve of class {0} (area = {1:0.2f})\".format(encoder.categories_[0][i], roc_auc[i]),\n",
    "    )\n",
    "\n",
    "plt.plot([0, 1], [0, 1], \"k--\", lw=lw)\n",
    "plt.xlim([-0.005, 1.0])\n",
    "plt.ylim([0.0, 1.05])\n",
    "plt.xlabel(\"False Positive Rate\")\n",
    "plt.ylabel(\"True Positive Rate\")\n",
    "plt.title(\"ROC Curve (Multiclass)\")\n",
    "plt.legend(loc=\"lower right\")\n",
    "plt.show()"
   ]
  },
  {
   "cell_type": "markdown",
   "metadata": {
    "id": "MfAtR6UClgRE"
   },
   "source": [
    "##### ROC Curve (Average out)"
   ]
  },
  {
   "cell_type": "code",
   "execution_count": 19,
   "metadata": {
    "colab": {
     "base_uri": "https://localhost:8080/",
     "height": 301
    },
    "executionInfo": {
     "elapsed": 1091,
     "status": "ok",
     "timestamp": 1638116114560,
     "user": {
      "displayName": "QIIKAII",
      "photoUrl": "https://lh3.googleusercontent.com/a-/AOh14GiJOdYwJsRvwYnsXYnOzQM51xYuWLYsahwvlDNSBQ=s64",
      "userId": "18419578418508292348"
     },
     "user_tz": -480
    },
    "id": "IsUZOgNiUQwl",
    "outputId": "d31c21f0-1ebf-410a-ab9b-2b866f74a7bc"
   },
   "outputs": [
    {
     "data": {
      "image/png": "[encoded data removed]",
      "text/plain": [
       "<Figure size 432x288 with 1 Axes>"
      ]
     },
     "metadata": {},
     "output_type": "display_data"
    }
   ],
   "source": [
    "fpr, tpr, threshold = roc_curve(y_test.ravel(), y_pred.ravel())\n",
    "\n",
    "# calculate equal-error-rate\n",
    "eer = brentq(lambda x : 1. - x - interp1d(fpr, tpr)(x), 0., 1.)\n",
    "\n",
    "plt.figure(1)\n",
    "plt.plot([0, 1], [0, 1], 'k--')\n",
    "plt.plot(fpr, tpr, label='AUC = {:.3f}, EER = {:.3f}'.format(auc(fpr, tpr), eer))\n",
    "plt.xlabel('False positive rate')\n",
    "plt.ylabel('True positive rate')\n",
    "plt.title('Average ROC Curve')\n",
    "plt.legend(loc='best')\n",
    "plt.show()"
   ]
  },
  {
   "cell_type": "markdown",
   "metadata": {},
   "source": [
    "### FIT AND SAVE MODEL\n",
    "> * fitting of model\n",
    "> * get accuracy and loss of model\n",
    "> * saving model"
   ]
  },
  {
   "cell_type": "code",
   "execution_count": 20,
   "metadata": {
    "scrolled": true
   },
   "outputs": [
    {
     "name": "stdout",
     "output_type": "stream",
     "text": [
      "Epoch 1/100\n",
      "50/50 [==============================] - 3s 2ms/step - loss: 1.4287 - accuracy: 0.4760\n",
      "Epoch 2/100\n",
      "50/50 [==============================] - 0s 3ms/step - loss: 0.8821 - accuracy: 0.6600\n",
      "Epoch 3/100\n",
      "50/50 [==============================] - 0s 3ms/step - loss: 0.6410 - accuracy: 0.7640\n",
      "Epoch 4/100\n",
      "50/50 [==============================] - 0s 3ms/step - loss: 0.5284 - accuracy: 0.8040\n",
      "Epoch 5/100\n",
      "50/50 [==============================] - 0s 3ms/step - loss: 0.5379 - accuracy: 0.8140\n",
      "Epoch 6/100\n",
      "50/50 [==============================] - 0s 3ms/step - loss: 0.4583 - accuracy: 0.8280\n",
      "Epoch 7/100\n",
      "50/50 [==============================] - 0s 3ms/step - loss: 0.4431 - accuracy: 0.8360\n",
      "Epoch 8/100\n",
      "50/50 [==============================] - 0s 3ms/step - loss: 0.3959 - accuracy: 0.8680\n",
      "Epoch 9/100\n",
      "50/50 [==============================] - 0s 3ms/step - loss: 0.3860 - accuracy: 0.8820\n",
      "Epoch 10/100\n",
      "50/50 [==============================] - 0s 3ms/step - loss: 0.3486 - accuracy: 0.8820\n",
      "Epoch 11/100\n",
      "50/50 [==============================] - 0s 3ms/step - loss: 0.3277 - accuracy: 0.8980\n",
      "Epoch 12/100\n",
      "50/50 [==============================] - 0s 3ms/step - loss: 0.2930 - accuracy: 0.8960\n",
      "Epoch 13/100\n",
      "50/50 [==============================] - 0s 3ms/step - loss: 0.3382 - accuracy: 0.8760\n",
      "Epoch 14/100\n",
      "50/50 [==============================] - 0s 3ms/step - loss: 0.2147 - accuracy: 0.9180\n",
      "Epoch 15/100\n",
      "50/50 [==============================] - 0s 3ms/step - loss: 0.2339 - accuracy: 0.9180\n",
      "Epoch 16/100\n",
      "50/50 [==============================] - 0s 3ms/step - loss: 0.2068 - accuracy: 0.9340\n",
      "Epoch 17/100\n",
      "50/50 [==============================] - 0s 3ms/step - loss: 0.2483 - accuracy: 0.9160\n",
      "Epoch 18/100\n",
      "50/50 [==============================] - 0s 3ms/step - loss: 0.2883 - accuracy: 0.8940\n",
      "Epoch 19/100\n",
      "50/50 [==============================] - 0s 3ms/step - loss: 0.2197 - accuracy: 0.9020\n",
      "Epoch 20/100\n",
      "50/50 [==============================] - 0s 3ms/step - loss: 0.2183 - accuracy: 0.9260\n",
      "Epoch 21/100\n",
      "50/50 [==============================] - 0s 3ms/step - loss: 0.2520 - accuracy: 0.9040\n",
      "Epoch 22/100\n",
      "50/50 [==============================] - 0s 3ms/step - loss: 0.2182 - accuracy: 0.9280\n",
      "Epoch 23/100\n",
      "50/50 [==============================] - 0s 3ms/step - loss: 0.1823 - accuracy: 0.9440\n",
      "Epoch 24/100\n",
      "50/50 [==============================] - 0s 3ms/step - loss: 0.2457 - accuracy: 0.9080\n",
      "Epoch 25/100\n",
      "50/50 [==============================] - 0s 3ms/step - loss: 0.2203 - accuracy: 0.9280\n",
      "Epoch 26/100\n",
      "50/50 [==============================] - 0s 3ms/step - loss: 0.2261 - accuracy: 0.9140\n",
      "Epoch 27/100\n",
      "50/50 [==============================] - 0s 3ms/step - loss: 0.1757 - accuracy: 0.9500\n",
      "Epoch 28/100\n",
      "50/50 [==============================] - 0s 3ms/step - loss: 0.2437 - accuracy: 0.9220\n",
      "Epoch 29/100\n",
      "50/50 [==============================] - 0s 3ms/step - loss: 0.2230 - accuracy: 0.9180\n",
      "Epoch 30/100\n",
      "50/50 [==============================] - 0s 3ms/step - loss: 0.2260 - accuracy: 0.9160\n",
      "Epoch 31/100\n",
      "50/50 [==============================] - 0s 3ms/step - loss: 0.1884 - accuracy: 0.9300\n",
      "Epoch 32/100\n",
      "50/50 [==============================] - 0s 3ms/step - loss: 0.2188 - accuracy: 0.9160\n",
      "Epoch 33/100\n",
      "50/50 [==============================] - 0s 3ms/step - loss: 0.2357 - accuracy: 0.9120\n",
      "Epoch 34/100\n",
      "50/50 [==============================] - 0s 3ms/step - loss: 0.2408 - accuracy: 0.9200\n",
      "Epoch 35/100\n",
      "50/50 [==============================] - 0s 3ms/step - loss: 0.1934 - accuracy: 0.9440\n",
      "Epoch 36/100\n",
      "50/50 [==============================] - 0s 3ms/step - loss: 0.2189 - accuracy: 0.9280\n",
      "Epoch 37/100\n",
      "50/50 [==============================] - 0s 3ms/step - loss: 0.1905 - accuracy: 0.9380\n",
      "Epoch 38/100\n",
      "50/50 [==============================] - 0s 3ms/step - loss: 0.1860 - accuracy: 0.9340\n",
      "Epoch 39/100\n",
      "50/50 [==============================] - 0s 3ms/step - loss: 0.2229 - accuracy: 0.9200\n",
      "Epoch 40/100\n",
      "50/50 [==============================] - 0s 3ms/step - loss: 0.1482 - accuracy: 0.9580\n",
      "Epoch 41/100\n",
      "50/50 [==============================] - 0s 3ms/step - loss: 0.2075 - accuracy: 0.9380\n",
      "Epoch 42/100\n",
      "50/50 [==============================] - 0s 3ms/step - loss: 0.1802 - accuracy: 0.9360\n",
      "Epoch 43/100\n",
      "50/50 [==============================] - 0s 3ms/step - loss: 0.1932 - accuracy: 0.9320\n",
      "Epoch 44/100\n",
      "50/50 [==============================] - 0s 4ms/step - loss: 0.2230 - accuracy: 0.9120\n",
      "Epoch 45/100\n",
      "50/50 [==============================] - 0s 3ms/step - loss: 0.2139 - accuracy: 0.9280\n",
      "Epoch 46/100\n",
      "50/50 [==============================] - 0s 3ms/step - loss: 0.1805 - accuracy: 0.9360\n",
      "Epoch 47/100\n",
      "50/50 [==============================] - 0s 3ms/step - loss: 0.1684 - accuracy: 0.9400\n",
      "Epoch 48/100\n",
      "50/50 [==============================] - 0s 3ms/step - loss: 0.1403 - accuracy: 0.9500\n",
      "Epoch 49/100\n",
      "50/50 [==============================] - 0s 3ms/step - loss: 0.1345 - accuracy: 0.9520\n",
      "Epoch 50/100\n",
      "50/50 [==============================] - 0s 3ms/step - loss: 0.1631 - accuracy: 0.9480\n",
      "Epoch 51/100\n",
      "50/50 [==============================] - 0s 3ms/step - loss: 0.1493 - accuracy: 0.9520\n",
      "Epoch 52/100\n",
      "50/50 [==============================] - 0s 3ms/step - loss: 0.1405 - accuracy: 0.9440\n",
      "Epoch 53/100\n",
      "50/50 [==============================] - 0s 3ms/step - loss: 0.1388 - accuracy: 0.9560\n",
      "Epoch 54/100\n",
      "50/50 [==============================] - 0s 3ms/step - loss: 0.1319 - accuracy: 0.9600\n",
      "Epoch 55/100\n",
      "50/50 [==============================] - 0s 3ms/step - loss: 0.1628 - accuracy: 0.9420\n",
      "Epoch 56/100\n",
      "50/50 [==============================] - 0s 3ms/step - loss: 0.1577 - accuracy: 0.9420\n",
      "Epoch 57/100\n",
      "50/50 [==============================] - 0s 3ms/step - loss: 0.1745 - accuracy: 0.9500\n",
      "Epoch 58/100\n",
      "50/50 [==============================] - 0s 3ms/step - loss: 0.1055 - accuracy: 0.9600\n",
      "Epoch 59/100\n",
      "50/50 [==============================] - 0s 4ms/step - loss: 0.1119 - accuracy: 0.9680\n",
      "Epoch 60/100\n",
      "50/50 [==============================] - 0s 3ms/step - loss: 0.1020 - accuracy: 0.9640\n",
      "Epoch 61/100\n",
      "50/50 [==============================] - 0s 3ms/step - loss: 0.2175 - accuracy: 0.9220\n",
      "Epoch 62/100\n",
      "50/50 [==============================] - 0s 3ms/step - loss: 0.1646 - accuracy: 0.9400\n",
      "Epoch 63/100\n",
      "50/50 [==============================] - 0s 3ms/step - loss: 0.1730 - accuracy: 0.9440\n",
      "Epoch 64/100\n",
      "50/50 [==============================] - 0s 3ms/step - loss: 0.1246 - accuracy: 0.9560\n",
      "Epoch 65/100\n",
      "50/50 [==============================] - 0s 3ms/step - loss: 0.1051 - accuracy: 0.9660\n",
      "Epoch 66/100\n",
      "50/50 [==============================] - 0s 4ms/step - loss: 0.0808 - accuracy: 0.9760\n",
      "Epoch 67/100\n",
      "50/50 [==============================] - 0s 4ms/step - loss: 0.1120 - accuracy: 0.9620\n",
      "Epoch 68/100\n",
      "50/50 [==============================] - 0s 3ms/step - loss: 0.1250 - accuracy: 0.9620\n",
      "Epoch 69/100\n",
      "50/50 [==============================] - 0s 3ms/step - loss: 0.1755 - accuracy: 0.9340\n",
      "Epoch 70/100\n",
      "50/50 [==============================] - 0s 3ms/step - loss: 0.1058 - accuracy: 0.9660\n",
      "Epoch 71/100\n",
      "50/50 [==============================] - 0s 3ms/step - loss: 0.1064 - accuracy: 0.9640\n",
      "Epoch 72/100\n",
      "50/50 [==============================] - 0s 3ms/step - loss: 0.1523 - accuracy: 0.9560\n",
      "Epoch 73/100\n",
      "50/50 [==============================] - 0s 3ms/step - loss: 0.1389 - accuracy: 0.9480\n",
      "Epoch 74/100\n",
      "50/50 [==============================] - 0s 3ms/step - loss: 0.1499 - accuracy: 0.9440\n",
      "Epoch 75/100\n",
      "50/50 [==============================] - 0s 3ms/step - loss: 0.0745 - accuracy: 0.9780\n",
      "Epoch 76/100\n",
      "50/50 [==============================] - 0s 3ms/step - loss: 0.1328 - accuracy: 0.9600\n",
      "Epoch 77/100\n",
      "50/50 [==============================] - 0s 3ms/step - loss: 0.0869 - accuracy: 0.9720\n",
      "Epoch 78/100\n",
      "50/50 [==============================] - 0s 3ms/step - loss: 0.0739 - accuracy: 0.9740\n",
      "Epoch 79/100\n",
      "50/50 [==============================] - 0s 3ms/step - loss: 0.1455 - accuracy: 0.9480\n",
      "Epoch 80/100\n",
      "50/50 [==============================] - 0s 3ms/step - loss: 0.1404 - accuracy: 0.9440\n",
      "Epoch 81/100\n",
      "50/50 [==============================] - 0s 3ms/step - loss: 0.1138 - accuracy: 0.9520\n",
      "Epoch 82/100\n",
      "50/50 [==============================] - 0s 3ms/step - loss: 0.1138 - accuracy: 0.9600\n",
      "Epoch 83/100\n"
     ]
    },
    {
     "name": "stdout",
     "output_type": "stream",
     "text": [
      "50/50 [==============================] - 0s 3ms/step - loss: 0.1048 - accuracy: 0.9580\n",
      "Epoch 84/100\n",
      "50/50 [==============================] - 0s 3ms/step - loss: 0.1050 - accuracy: 0.9580\n",
      "Epoch 85/100\n",
      "50/50 [==============================] - 0s 3ms/step - loss: 0.1089 - accuracy: 0.9660\n",
      "Epoch 86/100\n",
      "50/50 [==============================] - 0s 3ms/step - loss: 0.1084 - accuracy: 0.9580\n",
      "Epoch 87/100\n",
      "50/50 [==============================] - 0s 3ms/step - loss: 0.1206 - accuracy: 0.9500\n",
      "Epoch 88/100\n",
      "50/50 [==============================] - 0s 3ms/step - loss: 0.0639 - accuracy: 0.9840\n",
      "Epoch 89/100\n",
      "50/50 [==============================] - 0s 3ms/step - loss: 0.0783 - accuracy: 0.9700\n",
      "Epoch 90/100\n",
      "50/50 [==============================] - 0s 3ms/step - loss: 0.1193 - accuracy: 0.9680\n",
      "Epoch 91/100\n",
      "50/50 [==============================] - 0s 3ms/step - loss: 0.1348 - accuracy: 0.9580\n",
      "Epoch 92/100\n",
      "50/50 [==============================] - 0s 3ms/step - loss: 0.1019 - accuracy: 0.9640\n",
      "Epoch 93/100\n",
      "50/50 [==============================] - 0s 3ms/step - loss: 0.1126 - accuracy: 0.9600\n",
      "Epoch 94/100\n",
      "50/50 [==============================] - 0s 3ms/step - loss: 0.1350 - accuracy: 0.9520\n",
      "Epoch 95/100\n",
      "50/50 [==============================] - 0s 3ms/step - loss: 0.1275 - accuracy: 0.9520\n",
      "Epoch 96/100\n",
      "50/50 [==============================] - 0s 3ms/step - loss: 0.1153 - accuracy: 0.9660\n",
      "Epoch 97/100\n",
      "50/50 [==============================] - 0s 3ms/step - loss: 0.0861 - accuracy: 0.9740\n",
      "Epoch 98/100\n",
      "50/50 [==============================] - 0s 3ms/step - loss: 0.1215 - accuracy: 0.9560\n",
      "Epoch 99/100\n",
      "50/50 [==============================] - 0s 3ms/step - loss: 0.1850 - accuracy: 0.9400\n",
      "Epoch 100/100\n",
      "50/50 [==============================] - 0s 3ms/step - loss: 0.1310 - accuracy: 0.9660\n"
     ]
    }
   ],
   "source": [
    "##############################################\n",
    "# # normalisation and reshaping of dataset # #\n",
    "##############################################\n",
    "# loading of dataset\n",
    "df = pd.read_csv(DATASET_LINK)\n",
    "\n",
    "df.head()\n",
    "dataset = df.values\n",
    "\n",
    "# divide data into features X and target (classes) Y\n",
    "X = dataset[:,3:].astype(float)\n",
    "Y = dataset[:,0]\n",
    "\n",
    "# convert target Y to one hot encoded Y for model\n",
    "Y = Y.reshape(-1, 1)\n",
    "encoder = OneHotEncoder().fit(Y)\n",
    "Y = encoder.transform(Y).toarray()\n",
    "\n",
    "# # normalisation to 0 to 1\n",
    "# scaler = MinMaxScaler(feature_range=(0, 1))\n",
    "# X = scaler.fit_transform(X)\n",
    "\n",
    "# reshaping the dataset to include LSTM Timesteps\n",
    "X = np.asarray(X, dtype=np.float32)\n",
    "X = np.reshape(X, (X.shape[0], TIMESTEPS, X.shape[1]))\n",
    "\n",
    "#####################\n",
    "# # fit the model # #\n",
    "#####################\n",
    "\n",
    "model = create_model()\n",
    "es = EarlyStopping(monitor='loss', mode='min', min_delta=0.001, patience=50,\n",
    "                   verbose=0)\n",
    "history = model.fit(X, Y, callbacks=es)"
   ]
  },
  {
   "cell_type": "code",
   "execution_count": 21,
   "metadata": {},
   "outputs": [
    {
     "data": {
      "image/png": "[encoded data removed]",
      "text/plain": [
       "<Figure size 432x288 with 1 Axes>"
      ]
     },
     "metadata": {},
     "output_type": "display_data"
    },
    {
     "data": {
      "image/png": "[encoded data removed]",
      "text/plain": [
       "<Figure size 432x288 with 1 Axes>"
      ]
     },
     "metadata": {},
     "output_type": "display_data"
    }
   ],
   "source": [
    "##########################\n",
    "# # get model accuracy # #\n",
    "##########################\n",
    "plt.plot(history.history['accuracy'])\n",
    "plt.title('Model Accuracy')\n",
    "plt.ylabel('accuracy')\n",
    "plt.xlabel('epoch')\n",
    "plt.legend(['train'], loc='upper left')\n",
    "plt.show()\n",
    "\n",
    "######################\n",
    "# # get model loss # #\n",
    "######################\n",
    "plt.plot(history.history['loss'])\n",
    "plt.title('Model Loss')\n",
    "plt.ylabel('loss')\n",
    "plt.xlabel('epoch')\n",
    "plt.legend(['train'], loc='upper left')\n",
    "plt.show()"
   ]
  },
  {
   "cell_type": "markdown",
   "metadata": {},
   "source": [
    "### SAVE MODEL"
   ]
  },
  {
   "cell_type": "code",
   "execution_count": 22,
   "metadata": {},
   "outputs": [],
   "source": [
    "##################\n",
    "# # save model # #\n",
    "##################\n",
    "\n",
    "model.model.save(\"model/ohe_key_classifier.h5\")\n",
    "\n",
    "###########################\n",
    "# # save model in colab # #\n",
    "###########################\n",
    "\n",
    "# model.model.save(F\"/content/gdrive/My Drive/Colab Notebooks/overall_key_classifier.h5\")"
   ]
  },
  {
   "cell_type": "markdown",
   "metadata": {
    "id": "9ljit4YAS97D"
   },
   "source": [
    "### LOAD MODEL"
   ]
  },
  {
   "cell_type": "code",
   "execution_count": 23,
   "metadata": {
    "id": "XA0T_LLzS97D"
   },
   "outputs": [],
   "source": [
    "# # ##################\n",
    "# # # # load model # #\n",
    "# # ##################\n",
    "\n",
    "# # model = create_model()\n",
    "# model = load_model(\"model/key_classifier.h5\")\n",
    "\n",
    "# # ###########################\n",
    "# # # # load model in colab # #\n",
    "# # ###########################\n",
    "\n",
    "# # # model.model = load_model(\"/content/gdrive/My Drive/Colab Notebooks/overall_key_classifier.h5\")"
   ]
  },
  {
   "cell_type": "markdown",
   "metadata": {
    "id": "OC4QSqpaS97D"
   },
   "source": [
    "### LIVE TESTING\n",
    "> * import any new data to perform testing and prediction"
   ]
  },
  {
   "cell_type": "code",
   "execution_count": 24,
   "metadata": {
    "colab": {
     "base_uri": "https://localhost:8080/",
     "height": 224
    },
    "executionInfo": {
     "elapsed": 319,
     "status": "ok",
     "timestamp": 1638119153238,
     "user": {
      "displayName": "QIIKAII",
      "photoUrl": "https://lh3.googleusercontent.com/a-/AOh14GiJOdYwJsRvwYnsXYnOzQM51xYuWLYsahwvlDNSBQ=s64",
      "userId": "18419578418508292348"
     },
     "user_tz": -480
    },
    "id": "no99ee2sVZvL",
    "outputId": "9232e650-f7dc-4249-a0b5-20dba3f2c619",
    "scrolled": true
   },
   "outputs": [
    {
     "data": {
      "text/html": [
       "<div>\n",
       "<style scoped>\n",
       "    .dataframe tbody tr th:only-of-type {\n",
       "        vertical-align: middle;\n",
       "    }\n",
       "\n",
       "    .dataframe tbody tr th {\n",
       "        vertical-align: top;\n",
       "    }\n",
       "\n",
       "    .dataframe thead th {\n",
       "        text-align: right;\n",
       "    }\n",
       "</style>\n",
       "<table border=\"1\" class=\"dataframe\">\n",
       "  <thead>\n",
       "    <tr style=\"text-align: right;\">\n",
       "      <th></th>\n",
       "      <th>subject</th>\n",
       "      <th>sessionIndex</th>\n",
       "      <th>rep</th>\n",
       "      <th>H.period</th>\n",
       "      <th>DD.period.t</th>\n",
       "      <th>UD.period.t</th>\n",
       "      <th>H.t</th>\n",
       "      <th>DD.t.i</th>\n",
       "      <th>UD.t.i</th>\n",
       "      <th>H.i</th>\n",
       "      <th>...</th>\n",
       "      <th>H.a</th>\n",
       "      <th>DD.a.n</th>\n",
       "      <th>UD.a.n</th>\n",
       "      <th>H.n</th>\n",
       "      <th>DD.n.l</th>\n",
       "      <th>UD.n.l</th>\n",
       "      <th>H.l</th>\n",
       "      <th>DD.l.Return</th>\n",
       "      <th>UD.l.Return</th>\n",
       "      <th>H.Return</th>\n",
       "    </tr>\n",
       "  </thead>\n",
       "  <tbody>\n",
       "    <tr>\n",
       "      <th>0</th>\n",
       "      <td>Andy</td>\n",
       "      <td>1</td>\n",
       "      <td>1</td>\n",
       "      <td>0.174239</td>\n",
       "      <td>0.409866</td>\n",
       "      <td>0.235627</td>\n",
       "      <td>0.133840</td>\n",
       "      <td>0.171659</td>\n",
       "      <td>0.037820</td>\n",
       "      <td>0.156984</td>\n",
       "      <td>...</td>\n",
       "      <td>0.137544</td>\n",
       "      <td>0.091721</td>\n",
       "      <td>-0.045824</td>\n",
       "      <td>0.099726</td>\n",
       "      <td>0.099142</td>\n",
       "      <td>-0.000585</td>\n",
       "      <td>0.120912</td>\n",
       "      <td>0.135934</td>\n",
       "      <td>0.015022</td>\n",
       "      <td>0.163508</td>\n",
       "    </tr>\n",
       "    <tr>\n",
       "      <th>1</th>\n",
       "      <td>Andy</td>\n",
       "      <td>1</td>\n",
       "      <td>2</td>\n",
       "      <td>0.145289</td>\n",
       "      <td>0.154851</td>\n",
       "      <td>0.009562</td>\n",
       "      <td>0.131217</td>\n",
       "      <td>0.129134</td>\n",
       "      <td>-0.002083</td>\n",
       "      <td>0.130980</td>\n",
       "      <td>...</td>\n",
       "      <td>0.164865</td>\n",
       "      <td>0.111584</td>\n",
       "      <td>-0.053281</td>\n",
       "      <td>0.101935</td>\n",
       "      <td>0.023678</td>\n",
       "      <td>-0.078258</td>\n",
       "      <td>0.140863</td>\n",
       "      <td>0.192325</td>\n",
       "      <td>0.051462</td>\n",
       "      <td>0.156958</td>\n",
       "    </tr>\n",
       "    <tr>\n",
       "      <th>2</th>\n",
       "      <td>Andy</td>\n",
       "      <td>1</td>\n",
       "      <td>3</td>\n",
       "      <td>0.122266</td>\n",
       "      <td>0.136321</td>\n",
       "      <td>0.014055</td>\n",
       "      <td>0.114905</td>\n",
       "      <td>0.125308</td>\n",
       "      <td>0.010402</td>\n",
       "      <td>0.144332</td>\n",
       "      <td>...</td>\n",
       "      <td>0.145501</td>\n",
       "      <td>0.095982</td>\n",
       "      <td>-0.049520</td>\n",
       "      <td>0.121049</td>\n",
       "      <td>0.091486</td>\n",
       "      <td>-0.029563</td>\n",
       "      <td>0.111422</td>\n",
       "      <td>0.145751</td>\n",
       "      <td>0.034329</td>\n",
       "      <td>0.169304</td>\n",
       "    </tr>\n",
       "    <tr>\n",
       "      <th>3</th>\n",
       "      <td>Andy</td>\n",
       "      <td>1</td>\n",
       "      <td>4</td>\n",
       "      <td>0.121075</td>\n",
       "      <td>0.132562</td>\n",
       "      <td>0.011487</td>\n",
       "      <td>0.134813</td>\n",
       "      <td>0.132049</td>\n",
       "      <td>-0.002763</td>\n",
       "      <td>0.135681</td>\n",
       "      <td>...</td>\n",
       "      <td>0.135072</td>\n",
       "      <td>0.089715</td>\n",
       "      <td>-0.045356</td>\n",
       "      <td>0.117885</td>\n",
       "      <td>0.089209</td>\n",
       "      <td>-0.028676</td>\n",
       "      <td>0.098095</td>\n",
       "      <td>0.139069</td>\n",
       "      <td>0.040974</td>\n",
       "      <td>0.168298</td>\n",
       "    </tr>\n",
       "    <tr>\n",
       "      <th>4</th>\n",
       "      <td>Andy</td>\n",
       "      <td>1</td>\n",
       "      <td>5</td>\n",
       "      <td>0.141361</td>\n",
       "      <td>0.124721</td>\n",
       "      <td>-0.016640</td>\n",
       "      <td>0.098268</td>\n",
       "      <td>0.149003</td>\n",
       "      <td>0.050735</td>\n",
       "      <td>0.128713</td>\n",
       "      <td>...</td>\n",
       "      <td>0.121480</td>\n",
       "      <td>0.078897</td>\n",
       "      <td>-0.042583</td>\n",
       "      <td>0.108607</td>\n",
       "      <td>0.049435</td>\n",
       "      <td>-0.059172</td>\n",
       "      <td>0.131348</td>\n",
       "      <td>0.156398</td>\n",
       "      <td>0.025050</td>\n",
       "      <td>0.170112</td>\n",
       "    </tr>\n",
       "  </tbody>\n",
       "</table>\n",
       "<p>5 rows × 34 columns</p>\n",
       "</div>"
      ],
      "text/plain": [
       "  subject  sessionIndex  rep  H.period  DD.period.t  UD.period.t       H.t  \\\n",
       "0    Andy             1    1  0.174239     0.409866     0.235627  0.133840   \n",
       "1    Andy             1    2  0.145289     0.154851     0.009562  0.131217   \n",
       "2    Andy             1    3  0.122266     0.136321     0.014055  0.114905   \n",
       "3    Andy             1    4  0.121075     0.132562     0.011487  0.134813   \n",
       "4    Andy             1    5  0.141361     0.124721    -0.016640  0.098268   \n",
       "\n",
       "     DD.t.i    UD.t.i       H.i  ...       H.a    DD.a.n    UD.a.n       H.n  \\\n",
       "0  0.171659  0.037820  0.156984  ...  0.137544  0.091721 -0.045824  0.099726   \n",
       "1  0.129134 -0.002083  0.130980  ...  0.164865  0.111584 -0.053281  0.101935   \n",
       "2  0.125308  0.010402  0.144332  ...  0.145501  0.095982 -0.049520  0.121049   \n",
       "3  0.132049 -0.002763  0.135681  ...  0.135072  0.089715 -0.045356  0.117885   \n",
       "4  0.149003  0.050735  0.128713  ...  0.121480  0.078897 -0.042583  0.108607   \n",
       "\n",
       "     DD.n.l    UD.n.l       H.l  DD.l.Return  UD.l.Return  H.Return  \n",
       "0  0.099142 -0.000585  0.120912     0.135934     0.015022  0.163508  \n",
       "1  0.023678 -0.078258  0.140863     0.192325     0.051462  0.156958  \n",
       "2  0.091486 -0.029563  0.111422     0.145751     0.034329  0.169304  \n",
       "3  0.089209 -0.028676  0.098095     0.139069     0.040974  0.168298  \n",
       "4  0.049435 -0.059172  0.131348     0.156398     0.025050  0.170112  \n",
       "\n",
       "[5 rows x 34 columns]"
      ]
     },
     "execution_count": 24,
     "metadata": {},
     "output_type": "execute_result"
    }
   ],
   "source": [
    "# import unseen data\n",
    "pred_df = pd.read_csv(TEST_DATA_LINK)\n",
    "pred_df.head()"
   ]
  },
  {
   "cell_type": "code",
   "execution_count": 25,
   "metadata": {
    "colab": {
     "base_uri": "https://localhost:8080/",
     "height": 301
    },
    "executionInfo": {
     "elapsed": 593,
     "status": "ok",
     "timestamp": 1638119156672,
     "user": {
      "displayName": "QIIKAII",
      "photoUrl": "https://lh3.googleusercontent.com/a-/AOh14GiJOdYwJsRvwYnsXYnOzQM51xYuWLYsahwvlDNSBQ=s64",
      "userId": "18419578418508292348"
     },
     "user_tz": -480
    },
    "id": "T7zBVAvvS97D",
    "outputId": "3b3b3735-244a-4eec-9227-8ffda9860f42"
   },
   "outputs": [
    {
     "data": {
      "image/png": "[encoded data removed]",
      "text/plain": [
       "<Figure size 432x288 with 1 Axes>"
      ]
     },
     "metadata": {},
     "output_type": "display_data"
    }
   ],
   "source": [
    "################################\n",
    "# # check for class validity # #\n",
    "################################\n",
    "sns.set_theme(style=\"darkgrid\")\n",
    "ax = sns.countplot(x=\"subject\", data=pred_df).set_title(\"Class Validity\")\n",
    "\n",
    "# remove missing values if available\n",
    "pred_df = pred_df.dropna()"
   ]
  },
  {
   "cell_type": "code",
   "execution_count": 34,
   "metadata": {
    "executionInfo": {
     "elapsed": 287,
     "status": "ok",
     "timestamp": 1638119159318,
     "user": {
      "displayName": "QIIKAII",
      "photoUrl": "https://lh3.googleusercontent.com/a-/AOh14GiJOdYwJsRvwYnsXYnOzQM51xYuWLYsahwvlDNSBQ=s64",
      "userId": "18419578418508292348"
     },
     "user_tz": -480
    },
    "id": "vvmUbcekS97E"
   },
   "outputs": [],
   "source": [
    "pred_dataset = pred_df.values\n",
    "\n",
    "# # divide data into features X\n",
    "# pred_row = pred_dataset[:,3:].astype(float)\n",
    "\n",
    "#################################\n",
    "# # predict more than one row # #\n",
    "#################################\n",
    "\n",
    "pred_row=pred_df.iloc[:,3:]\n",
    "\n",
    "############################\n",
    "# # predict a single row # #\n",
    "############################\n",
    "\n",
    "# pred_row=pred_df.iloc[0:1,3:]\n",
    "\n",
    "################################\n",
    "# # normalise and shape data # #\n",
    "################################\n",
    "pred_row = pred_row.values.tolist()\n",
    "# pred_row = scaler.transform(pred_row)\n",
    "pred_arr = np.asarray(pred_row, dtype=np.float32)\n",
    "pred_arr = np.reshape(pred_arr, (pred_arr.shape[0], TIMESTEPS, pred_arr.shape[1]))"
   ]
  },
  {
   "cell_type": "code",
   "execution_count": 35,
   "metadata": {
    "colab": {
     "base_uri": "https://localhost:8080/"
    },
    "executionInfo": {
     "elapsed": 293,
     "status": "ok",
     "timestamp": 1638119225760,
     "user": {
      "displayName": "QIIKAII",
      "photoUrl": "https://lh3.googleusercontent.com/a-/AOh14GiJOdYwJsRvwYnsXYnOzQM51xYuWLYsahwvlDNSBQ=s64",
      "userId": "18419578418508292348"
     },
     "user_tz": -480
    },
    "id": "bZF7p6lFVZxE",
    "outputId": "d2a2b7e0-beb0-434c-fc3b-62e057968477"
   },
   "outputs": [
    {
     "name": "stdout",
     "output_type": "stream",
     "text": [
      "   Prediction  Accuracy\n",
      "0        Andy  0.993149\n",
      "1        Andy  0.988323\n",
      "2        Andy  0.975306\n",
      "3        Andy  0.995133\n",
      "4        Andy    0.9265\n",
      "5       Azfar  0.999538\n",
      "6       Azfar  0.996467\n",
      "7       Azfar  0.992804\n",
      "8       Azfar  0.996154\n",
      "9       Azfar  0.998694\n",
      "10      Chris  0.960651\n",
      "11      Chris  0.984993\n",
      "12      Chris  0.998281\n",
      "13      Chris  0.998791\n",
      "14      Chris  0.993511\n",
      "15      Qikai  0.976808\n",
      "16      Qikai  0.998199\n",
      "17      Qikai  0.998245\n",
      "18      Qikai  0.998113\n",
      "19      Qikai  0.996369\n",
      "20    Safaraz  0.999406\n",
      "21    Safaraz  0.996344\n",
      "22    Safaraz    0.9773\n",
      "23    Safaraz  0.979906\n",
      "24    Safaraz  0.983506\n"
     ]
    }
   ],
   "source": [
    "####################################\n",
    "# # get prediction and its label # #\n",
    "####################################\n",
    "pred = model.predict(pred_arr)\n",
    "pred = to_categorical(pred)\n",
    "pred = encoder.inverse_transform(pred)\n",
    "pred = np.ravel(pred)\n",
    "\n",
    "pred_proba = model.predict_proba(pred_arr)\n",
    "acc = np.max(pred_proba, axis=1)\n",
    "\n",
    "pred_results = np.column_stack((pred, acc))\n",
    "\n",
    "df = pd.DataFrame(data=pred_results, index=None, columns=['Prediction', 'Accuracy'])\n",
    "print(df)"
   ]
  },
  {
   "cell_type": "code",
   "execution_count": null,
   "metadata": {
    "id": "VuDhUKwwS97E"
   },
   "outputs": [],
   "source": []
  },
  {
   "cell_type": "code",
   "execution_count": null,
   "metadata": {},
   "outputs": [],
   "source": []
  },
  {
   "cell_type": "code",
   "execution_count": null,
   "metadata": {},
   "outputs": [],
   "source": []
  }
 ],
 "metadata": {
  "accelerator": "GPU",
  "colab": {
   "collapsed_sections": [
    "qxwawov4S96_",
    "GOSGgRxamf1f"
   ],
   "name": "keystroke.ipynb",
   "provenance": []
  },
  "kernelspec": {
   "display_name": "Python 3 (ipykernel)",
   "language": "python",
   "name": "python3"
  },
  "language_info": {
   "codemirror_mode": {
    "name": "ipython",
    "version": 3
   },
   "file_extension": ".py",
   "mimetype": "text/x-python",
   "name": "python",
   "nbconvert_exporter": "python",
   "pygments_lexer": "ipython3",
   "version": "3.9.7"
  }
 },
 "nbformat": 4,
 "nbformat_minor": 1
}
