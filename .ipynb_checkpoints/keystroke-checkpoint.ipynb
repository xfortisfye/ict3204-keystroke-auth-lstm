{
 "cells": [
  {
   "cell_type": "code",
   "execution_count": 1,
   "metadata": {
    "colab": {
     "base_uri": "https://localhost:8080/"
    },
    "id": "DriiaId_J7TH",
    "outputId": "1832f6d2-6be6-412d-ff0d-82a08cb814f0"
   },
   "outputs": [
    {
     "name": "stderr",
     "output_type": "stream",
     "text": [
      "2021-11-27 16:33:55.883889: W tensorflow/stream_executor/platform/default/dso_loader.cc:64] Could not load dynamic library 'libcudart.so.11.0'; dlerror: libcudart.so.11.0: cannot open shared object file: No such file or directory\n",
      "2021-11-27 16:33:55.883923: I tensorflow/stream_executor/cuda/cudart_stub.cc:29] Ignore above cudart dlerror if you do not have a GPU set up on your machine.\n"
     ]
    }
   ],
   "source": [
    "# !pip install scikeras --quiet\n",
    "import tensorflow as tf\n",
    "import matplotlib.pyplot as plt\n",
    "\n",
    "import warnings\n",
    "warnings.filterwarnings('ignore')\n",
    "\n",
    "NUM_FEATURES = 31\n",
    "TIMESTEPS = 1\n",
    "\n",
    "\n",
    "# from google.colab import drive\n",
    "# drive.mount('/content/gdrive')\n",
    "\n",
    "# # X = np.expand_dims(X, 0)\n",
    "# shape_X = X.shape"
   ]
  },
  {
   "cell_type": "markdown",
   "metadata": {
    "id": "F9LuaURiPqv3"
   },
   "source": [
    "##### Initialise Seed"
   ]
  },
  {
   "cell_type": "code",
   "execution_count": 2,
   "metadata": {
    "colab": {
     "base_uri": "https://localhost:8080/",
     "height": 226
    },
    "id": "066fT-NcPqVL",
    "outputId": "75666af5-6fab-45b2-e4df-6c2ca74d03be"
   },
   "outputs": [
    {
     "data": {
      "text/html": [
       "<div>\n",
       "<style scoped>\n",
       "    .dataframe tbody tr th:only-of-type {\n",
       "        vertical-align: middle;\n",
       "    }\n",
       "\n",
       "    .dataframe tbody tr th {\n",
       "        vertical-align: top;\n",
       "    }\n",
       "\n",
       "    .dataframe thead th {\n",
       "        text-align: right;\n",
       "    }\n",
       "</style>\n",
       "<table border=\"1\" class=\"dataframe\">\n",
       "  <thead>\n",
       "    <tr style=\"text-align: right;\">\n",
       "      <th></th>\n",
       "      <th>0</th>\n",
       "      <th>1</th>\n",
       "      <th>2</th>\n",
       "      <th>3</th>\n",
       "      <th>4</th>\n",
       "      <th>5</th>\n",
       "      <th>6</th>\n",
       "      <th>7</th>\n",
       "      <th>8</th>\n",
       "      <th>9</th>\n",
       "      <th>...</th>\n",
       "      <th>22</th>\n",
       "      <th>23</th>\n",
       "      <th>24</th>\n",
       "      <th>25</th>\n",
       "      <th>26</th>\n",
       "      <th>27</th>\n",
       "      <th>28</th>\n",
       "      <th>29</th>\n",
       "      <th>30</th>\n",
       "      <th>31</th>\n",
       "    </tr>\n",
       "  </thead>\n",
       "  <tbody>\n",
       "    <tr>\n",
       "      <th>0</th>\n",
       "      <td>0.142176</td>\n",
       "      <td>0.156880</td>\n",
       "      <td>0.014704</td>\n",
       "      <td>0.127937</td>\n",
       "      <td>0.142299</td>\n",
       "      <td>0.014361</td>\n",
       "      <td>0.155919</td>\n",
       "      <td>0.116134</td>\n",
       "      <td>-0.039784</td>\n",
       "      <td>0.124244</td>\n",
       "      <td>...</td>\n",
       "      <td>0.085967</td>\n",
       "      <td>-0.042296</td>\n",
       "      <td>0.120442</td>\n",
       "      <td>0.209372</td>\n",
       "      <td>0.088930</td>\n",
       "      <td>0.116911</td>\n",
       "      <td>0.165437</td>\n",
       "      <td>0.048526</td>\n",
       "      <td>0.160258</td>\n",
       "      <td>andy</td>\n",
       "    </tr>\n",
       "    <tr>\n",
       "      <th>1</th>\n",
       "      <td>0.141793</td>\n",
       "      <td>0.164635</td>\n",
       "      <td>0.022842</td>\n",
       "      <td>0.121625</td>\n",
       "      <td>0.152146</td>\n",
       "      <td>0.030520</td>\n",
       "      <td>0.137039</td>\n",
       "      <td>0.121543</td>\n",
       "      <td>-0.015496</td>\n",
       "      <td>0.104216</td>\n",
       "      <td>...</td>\n",
       "      <td>0.082397</td>\n",
       "      <td>-0.062093</td>\n",
       "      <td>0.101188</td>\n",
       "      <td>0.126066</td>\n",
       "      <td>0.024878</td>\n",
       "      <td>0.098424</td>\n",
       "      <td>0.130661</td>\n",
       "      <td>0.032238</td>\n",
       "      <td>0.173819</td>\n",
       "      <td>andy</td>\n",
       "    </tr>\n",
       "    <tr>\n",
       "      <th>2</th>\n",
       "      <td>0.157152</td>\n",
       "      <td>0.147220</td>\n",
       "      <td>-0.009932</td>\n",
       "      <td>0.134796</td>\n",
       "      <td>0.145790</td>\n",
       "      <td>0.010994</td>\n",
       "      <td>0.124892</td>\n",
       "      <td>0.101461</td>\n",
       "      <td>-0.023431</td>\n",
       "      <td>0.112165</td>\n",
       "      <td>...</td>\n",
       "      <td>0.082423</td>\n",
       "      <td>-0.053029</td>\n",
       "      <td>0.108598</td>\n",
       "      <td>0.155843</td>\n",
       "      <td>0.047244</td>\n",
       "      <td>0.118759</td>\n",
       "      <td>0.146550</td>\n",
       "      <td>0.027791</td>\n",
       "      <td>0.173512</td>\n",
       "      <td>andy</td>\n",
       "    </tr>\n",
       "    <tr>\n",
       "      <th>3</th>\n",
       "      <td>0.158673</td>\n",
       "      <td>0.142487</td>\n",
       "      <td>-0.016186</td>\n",
       "      <td>0.118908</td>\n",
       "      <td>0.159179</td>\n",
       "      <td>0.040271</td>\n",
       "      <td>0.133175</td>\n",
       "      <td>0.060895</td>\n",
       "      <td>-0.072279</td>\n",
       "      <td>0.106036</td>\n",
       "      <td>...</td>\n",
       "      <td>0.072556</td>\n",
       "      <td>-0.041711</td>\n",
       "      <td>0.101937</td>\n",
       "      <td>0.145692</td>\n",
       "      <td>0.043755</td>\n",
       "      <td>0.096300</td>\n",
       "      <td>0.122580</td>\n",
       "      <td>0.026280</td>\n",
       "      <td>0.190808</td>\n",
       "      <td>andy</td>\n",
       "    </tr>\n",
       "    <tr>\n",
       "      <th>4</th>\n",
       "      <td>0.166583</td>\n",
       "      <td>0.157102</td>\n",
       "      <td>-0.009480</td>\n",
       "      <td>0.115094</td>\n",
       "      <td>0.141103</td>\n",
       "      <td>0.026009</td>\n",
       "      <td>0.135121</td>\n",
       "      <td>0.082097</td>\n",
       "      <td>-0.053024</td>\n",
       "      <td>0.128655</td>\n",
       "      <td>...</td>\n",
       "      <td>0.089247</td>\n",
       "      <td>-0.036227</td>\n",
       "      <td>0.114211</td>\n",
       "      <td>0.149136</td>\n",
       "      <td>0.034925</td>\n",
       "      <td>0.121197</td>\n",
       "      <td>0.230113</td>\n",
       "      <td>0.108917</td>\n",
       "      <td>0.143299</td>\n",
       "      <td>andy</td>\n",
       "    </tr>\n",
       "  </tbody>\n",
       "</table>\n",
       "<p>5 rows × 32 columns</p>\n",
       "</div>"
      ],
      "text/plain": [
       "         0         1         2         3         4         5         6   \\\n",
       "0  0.142176  0.156880  0.014704  0.127937  0.142299  0.014361  0.155919   \n",
       "1  0.141793  0.164635  0.022842  0.121625  0.152146  0.030520  0.137039   \n",
       "2  0.157152  0.147220 -0.009932  0.134796  0.145790  0.010994  0.124892   \n",
       "3  0.158673  0.142487 -0.016186  0.118908  0.159179  0.040271  0.133175   \n",
       "4  0.166583  0.157102 -0.009480  0.115094  0.141103  0.026009  0.135121   \n",
       "\n",
       "         7         8         9   ...        22        23        24        25  \\\n",
       "0  0.116134 -0.039784  0.124244  ...  0.085967 -0.042296  0.120442  0.209372   \n",
       "1  0.121543 -0.015496  0.104216  ...  0.082397 -0.062093  0.101188  0.126066   \n",
       "2  0.101461 -0.023431  0.112165  ...  0.082423 -0.053029  0.108598  0.155843   \n",
       "3  0.060895 -0.072279  0.106036  ...  0.072556 -0.041711  0.101937  0.145692   \n",
       "4  0.082097 -0.053024  0.128655  ...  0.089247 -0.036227  0.114211  0.149136   \n",
       "\n",
       "         26        27        28        29        30    31  \n",
       "0  0.088930  0.116911  0.165437  0.048526  0.160258  andy  \n",
       "1  0.024878  0.098424  0.130661  0.032238  0.173819  andy  \n",
       "2  0.047244  0.118759  0.146550  0.027791  0.173512  andy  \n",
       "3  0.043755  0.096300  0.122580  0.026280  0.190808  andy  \n",
       "4  0.034925  0.121197  0.230113  0.108917  0.143299  andy  \n",
       "\n",
       "[5 rows x 32 columns]"
      ]
     },
     "execution_count": 2,
     "metadata": {},
     "output_type": "execute_result"
    }
   ],
   "source": [
    "import numpy as np\n",
    "import pandas as pd\n",
    "\n",
    "# random seed for reproducibility\n",
    "seed = 10\n",
    "np.random.seed(seed)\n",
    "\n",
    "# loading of dataset\n",
    "df = pd.read_csv(\"https://raw.githubusercontent.com/ehandywhyy/loot-box/main/overall.csv\", header=None)\n",
    "df = pd.read_csv(\"https://raw.githubusercontent.com/ehandywhyy/loot-box/main/overall.csv\", header=None)\n",
    "df.head()"
   ]
  },
  {
   "cell_type": "markdown",
   "metadata": {
    "id": "wKbp9aWYk5B0"
   },
   "source": [
    "##### Check missing values"
   ]
  },
  {
   "cell_type": "code",
   "execution_count": 3,
   "metadata": {
    "id": "1yc7_V5kllOt"
   },
   "outputs": [],
   "source": [
    "# print(df.isna().sum())\n",
    "# # Remove missing values IF AVAILABLE and print first 10 samples\n",
    "# # df = df.dropna()"
   ]
  },
  {
   "cell_type": "markdown",
   "metadata": {
    "id": "QDsF71P6lL4A"
   },
   "source": [
    "##### Divide dataset into X and Y\n",
    "##### Normalise features within range 0 (minimum) and 1 (maximum)\n"
   ]
  },
  {
   "cell_type": "code",
   "execution_count": 4,
   "metadata": {
    "colab": {
     "base_uri": "https://localhost:8080/"
    },
    "id": "d28icPmWaXsa",
    "outputId": "03e9a332-ed1a-44df-937e-71b4b94e0a18"
   },
   "outputs": [
    {
     "name": "stdout",
     "output_type": "stream",
     "text": [
      "andy     100\n",
      "azfar    100\n",
      "chris    100\n",
      "dtype: int64\n"
     ]
    }
   ],
   "source": [
    "from sklearn.preprocessing import MinMaxScaler, minmax_scale\n",
    "\n",
    "dataset = df.values\n",
    "\n",
    "# divide data into features X and target (Classes) Y\n",
    "X = dataset[:,0:NUM_FEATURES].astype(float)\n",
    "Y = dataset[:,NUM_FEATURES]\n",
    "\n",
    "# check for class imbalance\n",
    "print(df.groupby(Y).size())"
   ]
  },
  {
   "cell_type": "code",
   "execution_count": 5,
   "metadata": {
    "colab": {
     "base_uri": "https://localhost:8080/"
    },
    "id": "JPl7j2SfHWLI",
    "outputId": "57770798-cd5f-4687-ea4f-44037cd5bda3"
   },
   "outputs": [
    {
     "name": "stdout",
     "output_type": "stream",
     "text": [
      "['x0_andy' 'x0_azfar' 'x0_chris']\n",
      "X dataset shape: (300, 31)\n",
      "Y dataset shape: (300, 1)\n"
     ]
    }
   ],
   "source": [
    "from sklearn.preprocessing import OneHotEncoder\n",
    "from keras.utils.np_utils import to_categorical \n",
    "\n",
    "# encode Label for model \n",
    "# (Convert target Y to one hot encoded Y for Neural Network)\n",
    "Y = Y.reshape(-1, 1)\n",
    "encoder = OneHotEncoder().fit(Y)\n",
    "\n",
    "# get all the encoded class\n",
    "print(encoder.get_feature_names_out())\n",
    "\n",
    "# print X and Y shape\n",
    "print(\"X dataset shape: \" + str(X.shape))\n",
    "print(\"Y dataset shape: \" + str(Y.shape))"
   ]
  },
  {
   "cell_type": "markdown",
   "metadata": {
    "id": "LpOqfe88l6kY"
   },
   "source": [
    "##### Preparing dataset"
   ]
  },
  {
   "cell_type": "code",
   "execution_count": null,
   "metadata": {
    "colab": {
     "base_uri": "https://localhost:8080/"
    },
    "id": "6_WWovqJnT7M",
    "outputId": "fbc659e2-139c-4638-8cca-4533dfaaf975"
   },
   "outputs": [],
   "source": [
    "from sklearn.model_selection import train_test_split\n",
    "\n",
    "# split dataset into train and test of 0.8/0.2 ratio\n",
    "X_train, X_test, y_train, y_test = train_test_split(\n",
    "    X, Y, test_size=0.2, random_state=seed)\n",
    "\n",
    "# normalisation to 0 to 1\n",
    "scaler = MinMaxScaler(feature_range=(0, 1))\n",
    "X_train = scaler.fit_transform(X_train)\n",
    "X_test = scaler.transform(X_test)\n",
    "\n",
    "# reshaping the dataset to include LSTM\n",
    "X_train = np.asarray(X_train, dtype=np.float32)\n",
    "X_train = np.reshape(X_train, (X_train.shape[0], TIMESTEPS, X_train.shape[1]))\n",
    "X_test = np.asarray(X_test, dtype=np.float32)\n",
    "X_test = np.reshape(X_test, (X_test.shape[0], TIMESTEPS, X_test.shape[1]))\n",
    "\n",
    "# converting y data to encoding\n",
    "y_train = encoder.transform(y_train).toarray()\n",
    "y_test = encoder.transform(y_test).toarray()\n",
    "\n",
    "num_classes = y_train.shape[1]\n",
    "\n",
    "print(\"X train shape: \" + str(X_train.shape))\n",
    "print(\"Y train shape: \" + str(y_train.shape))\n",
    "print(\"X test shape: \" + str(X_test.shape))\n",
    "print(\"Y test shape: \" + str(y_test.shape))"
   ]
  },
  {
   "cell_type": "markdown",
   "metadata": {
    "id": "MN14qb9GmR6_"
   },
   "source": [
    "### Create Model"
   ]
  },
  {
   "cell_type": "code",
   "execution_count": null,
   "metadata": {
    "id": "p0ZgrDxXKh05"
   },
   "outputs": [],
   "source": [
    "from keras.models import Sequential\n",
    "from keras.layers import Dense, Dropout, BatchNormalization,\\\n",
    "Flatten, LSTM\n",
    "\n",
    "def create_model():\n",
    "    # define model\n",
    "    model = Sequential()\n",
    "    model.add(LSTM(units=128, return_sequences=True, \n",
    "                 input_shape=(TIMESTEPS,NUM_FEATURES)))\n",
    "    model.add(Dropout(0.2))\n",
    "    model.add(BatchNormalization())\n",
    "    model.add(LSTM(units=128, return_sequences=True))\n",
    "    model.add(Dropout(0.2))\n",
    "    model.add(BatchNormalization())\n",
    "    model.add(LSTM(units=64, return_sequences=True))\n",
    "    model.add(Dropout(0.2))\n",
    "    model.add(BatchNormalization())\n",
    "    # Softmax for multi-class classification\n",
    "    model.add(Flatten())\n",
    "    model.add(Dense(num_classes, activation='softmax'))\n",
    "\n",
    "    model.compile(loss='categorical_crossentropy', optimizer='adam',\n",
    "                metrics=['accuracy'])\n",
    "    return model"
   ]
  },
  {
   "cell_type": "markdown",
   "metadata": {
    "id": "uQOFDctVmVjf"
   },
   "source": [
    "##### Wrap Model in KerasClassifier"
   ]
  },
  {
   "cell_type": "code",
   "execution_count": null,
   "metadata": {
    "id": "sef5kxx5VZqt"
   },
   "outputs": [],
   "source": [
    "# from scikeras.wrappers import KerasClassifier\n",
    "from keras.wrappers.scikit_learn import KerasClassifier\n",
    "model = KerasClassifier(build_fn=create_model, epochs=100, \n",
    "                            batch_size=10)"
   ]
  },
  {
   "cell_type": "markdown",
   "metadata": {
    "id": "5LouGE3MmbO1"
   },
   "source": [
    "### Perform KFold Validation"
   ]
  },
  {
   "cell_type": "code",
   "execution_count": null,
   "metadata": {
    "id": "6WDOQfPzV9-N"
   },
   "outputs": [],
   "source": [
    "# from sklearn.model_selection import StratifiedKFold\n",
    "from sklearn.model_selection import cross_val_score\n",
    "from sklearn.model_selection import KFold\n",
    "\n",
    "num_folds = 10\n",
    "kfold = KFold(n_splits=num_folds, \n",
    "              shuffle=True,\n",
    "              random_state=seed)"
   ]
  },
  {
   "cell_type": "markdown",
   "metadata": {
    "id": "GOSGgRxamf1f"
   },
   "source": [
    "##### Get Accuracy from KFold Validation"
   ]
  },
  {
   "cell_type": "code",
   "execution_count": null,
   "metadata": {
    "colab": {
     "base_uri": "https://localhost:8080/"
    },
    "id": "G1KNEriNgU5q",
    "outputId": "4d7cd6e4-3c35-4582-bbd6-6fe6a1988d95"
   },
   "outputs": [],
   "source": [
    "results = cross_val_score(model, X_train, y_train, \n",
    "                          cv=kfold, error_score=\"raise\", verbose=1)"
   ]
  },
  {
   "cell_type": "markdown",
   "metadata": {
    "id": "Yg36UBcsaNNo"
   },
   "source": [
    "##### View Model Summary"
   ]
  },
  {
   "cell_type": "code",
   "execution_count": null,
   "metadata": {
    "id": "8ZssGzlqaKfG"
   },
   "outputs": [],
   "source": [
    "# model = create_model()\n"
   ]
  },
  {
   "cell_type": "code",
   "execution_count": null,
   "metadata": {
    "colab": {
     "base_uri": "https://localhost:8080/"
    },
    "id": "NotcydKxlfxM",
    "outputId": "9cb1a41e-7c96-47a7-ec0c-2b8d79cf4888"
   },
   "outputs": [],
   "source": [
    "print(\"Accuracy of %.2f%% (with standard deviation of %.2f%%)\" % \n",
    "      (results.mean()*100, results.std()*100))\n",
    "\n",
    "from tensorflow.keras.callbacks import EarlyStopping\n",
    "\n",
    "# fit the model\n",
    "es = EarlyStopping(monitor='loss', mode='min', min_delta=0.001, patience=50,\n",
    "                   verbose=0)\n",
    "model.fit(X_train, y_train, callbacks=es)"
   ]
  },
  {
   "cell_type": "code",
   "execution_count": null,
   "metadata": {
    "colab": {
     "base_uri": "https://localhost:8080/"
    },
    "id": "P9tiN8kZA7_j",
    "outputId": "db1ce529-56ce-4f3a-c779-f2d5675d98fa"
   },
   "outputs": [],
   "source": [
    "# view model summary\n",
    "model.model.summary()\n",
    "\n",
    "# save model\n",
    "model.model.save(F\"/content/gdrive/My Drive/Colab Notebooks/overall_key_classifier.h5\")"
   ]
  },
  {
   "cell_type": "code",
   "execution_count": null,
   "metadata": {
    "colab": {
     "base_uri": "https://localhost:8080/"
    },
    "id": "HhJoePB1kCC3",
    "outputId": "f358fcc8-6c45-4510-b262-35896d832996"
   },
   "outputs": [],
   "source": [
    "from keras.models import load_model\n",
    "from sklearn.metrics import accuracy_score, confusion_matrix\n",
    "\n",
    "# load model\n",
    "model.model = load_model(\"/content/gdrive/My Drive/Colab Notebooks/overall_key_classifier.h5\")\n",
    "\n",
    "y_pred = model.predict(X_test)\n",
    "y_pred = to_categorical(y_pred)\n",
    "\n",
    "# evaluate predictions\n",
    "acc = accuracy_score(y_test, y_pred)\n",
    "print('Accuracy: %.3f' % acc)\n",
    "\n",
    "# Making the Confusion Matrix\n",
    "# import sys\n",
    "# np.set_printoptions(threshold=sys.maxsize)\n",
    "# cm = confusion_matrix(y_test, y_pred)\n",
    "# print(cm)\n",
    "\n",
    "# from sklearn.metrics import roc_curve\n",
    "# fpr_RF, tpr_RF, thresholds_RF = roc_curve(df.actual_label.values, df.model_RF.values)\n",
    "# fpr_LR, tpr_LR, thresholds_LR = roc_curve(df.actual_label.values, df.model_LR.values)"
   ]
  },
  {
   "cell_type": "code",
   "execution_count": null,
   "metadata": {
    "colab": {
     "base_uri": "https://localhost:8080/"
    },
    "id": "no99ee2sVZvL",
    "outputId": "912c447c-7184-43c0-e895-db734c9dbb83"
   },
   "outputs": [],
   "source": [
    "# import unseen data to check if model works\n",
    "new_df = pd.read_csv(\"https://raw.githubusercontent.com/ehandywhyy/loot-box/main/overall_testa.csv\", header=None)\n",
    "\n",
    "test_row=new_df.iloc[0:17,:-1]\n",
    "# print(\"check name\")\n",
    "# print(new_df.iloc[2:3,30:32])\n",
    "# print(test_row)\n",
    "\n",
    "# convert to\n",
    "test = test_row.values.tolist()\n",
    "test = scaler.transform(test)\n",
    "test = np.asarray(test, dtype=np.float32)\n",
    "test = np.reshape(test, (test.shape[0], TIMESTEPS, test.shape[1]))"
   ]
  },
  {
   "cell_type": "code",
   "execution_count": null,
   "metadata": {
    "colab": {
     "base_uri": "https://localhost:8080/"
    },
    "id": "bZF7p6lFVZxE",
    "outputId": "dce80def-0eaf-4102-a082-b589001ed6c0"
   },
   "outputs": [],
   "source": [
    "x_predict = model.predict(test)\n",
    "x_predict = to_categorical(x_predict)\n",
    "x_predict = encoder.inverse_transform(x_predict)\n",
    "print(x_predict)"
   ]
  }
 ],
 "metadata": {
  "accelerator": "GPU",
  "colab": {
   "collapsed_sections": [],
   "name": "keystroke.ipynb",
   "provenance": []
  },
  "kernelspec": {
   "display_name": "Python 3 (ipykernel)",
   "language": "python",
   "name": "python3"
  },
  "language_info": {
   "codemirror_mode": {
    "name": "ipython",
    "version": 3
   },
   "file_extension": ".py",
   "mimetype": "text/x-python",
   "name": "python",
   "nbconvert_exporter": "python",
   "pygments_lexer": "ipython3",
   "version": "3.8.10"
  }
 },
 "nbformat": 4,
 "nbformat_minor": 1
}
