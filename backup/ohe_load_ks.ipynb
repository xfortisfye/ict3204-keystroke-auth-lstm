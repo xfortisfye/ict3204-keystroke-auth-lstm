{
 "cells": [
  {
   "cell_type": "markdown",
   "metadata": {
    "id": "vykXcSSQS963"
   },
   "source": [
    "## Import"
   ]
  },
  {
   "cell_type": "code",
   "execution_count": 1,
   "metadata": {
    "id": "_SYp3mztS965"
   },
   "outputs": [],
   "source": [
    "#################################\n",
    "# # when running google colab # #\n",
    "#################################\n",
    "# from google.colab import drive\n",
    "# drive.mount('/content/gdrive')\n",
    "# !pip install scikeras --quiet"
   ]
  },
  {
   "cell_type": "code",
   "execution_count": 2,
   "metadata": {
    "executionInfo": {
     "elapsed": 6176,
     "status": "ok",
     "timestamp": 1638117784321,
     "user": {
      "displayName": "QIIKAII",
      "photoUrl": "https://lh3.googleusercontent.com/a-/AOh14GiJOdYwJsRvwYnsXYnOzQM51xYuWLYsahwvlDNSBQ=s64",
      "userId": "18419578418508292348"
     },
     "user_tz": -480
    },
    "id": "DriiaId_J7TH"
   },
   "outputs": [],
   "source": [
    "import numpy as np\n",
    "import pandas as pd\n",
    "import tensorflow as tf\n",
    "import matplotlib.pyplot as plt\n",
    "from matplotlib import pyplot\n",
    "import seaborn as sns\n",
    "\n",
    "import warnings\n",
    "warnings.filterwarnings('ignore')\n",
    "\n",
    "from keras.utils.np_utils import to_categorical \n",
    "from tensorflow.keras.callbacks import EarlyStopping\n",
    "from keras.models import Sequential\n",
    "from keras.layers import Dense, Dropout, \\\n",
    "    BatchNormalization, Flatten, LSTM\n",
    "# from scikeras.wrappers import KerasClassifier\n",
    "from keras.wrappers.scikit_learn import KerasClassifier\n",
    "from keras.models import load_model\n",
    "\n",
    "from sklearn.preprocessing import MinMaxScaler\n",
    "from sklearn.model_selection import train_test_split\n",
    "# from sklearn.model_selection import StratifiedKFold\n",
    "from sklearn.model_selection import cross_val_score\n",
    "from sklearn.model_selection import KFold\n",
    "from sklearn.metrics import accuracy_score, confusion_matrix\n",
    "from sklearn.metrics import roc_curve, roc_auc_score, auc\n",
    "from sklearn.preprocessing import OneHotEncoder\n",
    "\n",
    "from sklearn.metrics import roc_curve, auc\n",
    "\n",
    "from itertools import cycle\n",
    "from scipy import interp\n",
    "from scipy.optimize import brentq\n",
    "from scipy.interpolate import interp1d\n",
    "\n",
    "N_FEATURES = 31\n",
    "TIMESTEPS = 1\n",
    "DATASET_LINK = \"dataset/overall.csv\"\n",
    "TEST_DATA_LINK = \"dataset/overall_test.csv\"\n",
    "\n",
    "# random seed for reproducibility\n",
    "SEED = 123"
   ]
  },
  {
   "cell_type": "markdown",
   "metadata": {
    "id": "9ljit4YAS97D"
   },
   "source": [
    "### LOAD MODEL"
   ]
  },
  {
   "cell_type": "code",
   "execution_count": 3,
   "metadata": {
    "id": "XA0T_LLzS97D"
   },
   "outputs": [],
   "source": [
    "# ##################\n",
    "# # # load model # #\n",
    "# ##################\n",
    "\n",
    "# model = create_model()\n",
    "model = load_model(\"model/key_classifier.h5\")\n",
    "\n",
    "# ###########################\n",
    "# # # load model in colab # #\n",
    "# ###########################\n",
    "\n",
    "# # model.model = load_model(\"/content/gdrive/My Drive/Colab Notebooks/overall_key_classifier.h5\")"
   ]
  },
  {
   "cell_type": "markdown",
   "metadata": {
    "id": "OC4QSqpaS97D"
   },
   "source": [
    "### LIVE TESTING\n",
    "> * import any new data to perform testing and prediction"
   ]
  },
  {
   "cell_type": "code",
   "execution_count": 4,
   "metadata": {
    "colab": {
     "base_uri": "https://localhost:8080/",
     "height": 224
    },
    "executionInfo": {
     "elapsed": 319,
     "status": "ok",
     "timestamp": 1638119153238,
     "user": {
      "displayName": "QIIKAII",
      "photoUrl": "https://lh3.googleusercontent.com/a-/AOh14GiJOdYwJsRvwYnsXYnOzQM51xYuWLYsahwvlDNSBQ=s64",
      "userId": "18419578418508292348"
     },
     "user_tz": -480
    },
    "id": "no99ee2sVZvL",
    "outputId": "9232e650-f7dc-4249-a0b5-20dba3f2c619",
    "scrolled": true
   },
   "outputs": [
    {
     "data": {
      "text/html": [
       "<div>\n",
       "<style scoped>\n",
       "    .dataframe tbody tr th:only-of-type {\n",
       "        vertical-align: middle;\n",
       "    }\n",
       "\n",
       "    .dataframe tbody tr th {\n",
       "        vertical-align: top;\n",
       "    }\n",
       "\n",
       "    .dataframe thead th {\n",
       "        text-align: right;\n",
       "    }\n",
       "</style>\n",
       "<table border=\"1\" class=\"dataframe\">\n",
       "  <thead>\n",
       "    <tr style=\"text-align: right;\">\n",
       "      <th></th>\n",
       "      <th>subject</th>\n",
       "      <th>sessionIndex</th>\n",
       "      <th>rep</th>\n",
       "      <th>H.period</th>\n",
       "      <th>DD.period.t</th>\n",
       "      <th>UD.period.t</th>\n",
       "      <th>H.t</th>\n",
       "      <th>DD.t.i</th>\n",
       "      <th>UD.t.i</th>\n",
       "      <th>H.i</th>\n",
       "      <th>...</th>\n",
       "      <th>H.a</th>\n",
       "      <th>DD.a.n</th>\n",
       "      <th>UD.a.n</th>\n",
       "      <th>H.n</th>\n",
       "      <th>DD.n.l</th>\n",
       "      <th>UD.n.l</th>\n",
       "      <th>H.l</th>\n",
       "      <th>DD.l.Return</th>\n",
       "      <th>UD.l.Return</th>\n",
       "      <th>H.Return</th>\n",
       "    </tr>\n",
       "  </thead>\n",
       "  <tbody>\n",
       "    <tr>\n",
       "      <th>0</th>\n",
       "      <td>Andy</td>\n",
       "      <td>1</td>\n",
       "      <td>1</td>\n",
       "      <td>0.174239</td>\n",
       "      <td>0.409866</td>\n",
       "      <td>0.235627</td>\n",
       "      <td>0.133840</td>\n",
       "      <td>0.171659</td>\n",
       "      <td>0.037820</td>\n",
       "      <td>0.156984</td>\n",
       "      <td>...</td>\n",
       "      <td>0.137544</td>\n",
       "      <td>0.091721</td>\n",
       "      <td>-0.045824</td>\n",
       "      <td>0.099726</td>\n",
       "      <td>0.099142</td>\n",
       "      <td>-0.000585</td>\n",
       "      <td>0.120912</td>\n",
       "      <td>0.135934</td>\n",
       "      <td>0.015022</td>\n",
       "      <td>0.163508</td>\n",
       "    </tr>\n",
       "    <tr>\n",
       "      <th>1</th>\n",
       "      <td>Andy</td>\n",
       "      <td>1</td>\n",
       "      <td>2</td>\n",
       "      <td>0.145289</td>\n",
       "      <td>0.154851</td>\n",
       "      <td>0.009562</td>\n",
       "      <td>0.131217</td>\n",
       "      <td>0.129134</td>\n",
       "      <td>-0.002083</td>\n",
       "      <td>0.130980</td>\n",
       "      <td>...</td>\n",
       "      <td>0.164865</td>\n",
       "      <td>0.111584</td>\n",
       "      <td>-0.053281</td>\n",
       "      <td>0.101935</td>\n",
       "      <td>0.023678</td>\n",
       "      <td>-0.078258</td>\n",
       "      <td>0.140863</td>\n",
       "      <td>0.192325</td>\n",
       "      <td>0.051462</td>\n",
       "      <td>0.156958</td>\n",
       "    </tr>\n",
       "    <tr>\n",
       "      <th>2</th>\n",
       "      <td>Andy</td>\n",
       "      <td>1</td>\n",
       "      <td>3</td>\n",
       "      <td>0.122266</td>\n",
       "      <td>0.136321</td>\n",
       "      <td>0.014055</td>\n",
       "      <td>0.114905</td>\n",
       "      <td>0.125308</td>\n",
       "      <td>0.010402</td>\n",
       "      <td>0.144332</td>\n",
       "      <td>...</td>\n",
       "      <td>0.145501</td>\n",
       "      <td>0.095982</td>\n",
       "      <td>-0.049520</td>\n",
       "      <td>0.121049</td>\n",
       "      <td>0.091486</td>\n",
       "      <td>-0.029563</td>\n",
       "      <td>0.111422</td>\n",
       "      <td>0.145751</td>\n",
       "      <td>0.034329</td>\n",
       "      <td>0.169304</td>\n",
       "    </tr>\n",
       "    <tr>\n",
       "      <th>3</th>\n",
       "      <td>Andy</td>\n",
       "      <td>1</td>\n",
       "      <td>4</td>\n",
       "      <td>0.121075</td>\n",
       "      <td>0.132562</td>\n",
       "      <td>0.011487</td>\n",
       "      <td>0.134813</td>\n",
       "      <td>0.132049</td>\n",
       "      <td>-0.002763</td>\n",
       "      <td>0.135681</td>\n",
       "      <td>...</td>\n",
       "      <td>0.135072</td>\n",
       "      <td>0.089715</td>\n",
       "      <td>-0.045356</td>\n",
       "      <td>0.117885</td>\n",
       "      <td>0.089209</td>\n",
       "      <td>-0.028676</td>\n",
       "      <td>0.098095</td>\n",
       "      <td>0.139069</td>\n",
       "      <td>0.040974</td>\n",
       "      <td>0.168298</td>\n",
       "    </tr>\n",
       "    <tr>\n",
       "      <th>4</th>\n",
       "      <td>Andy</td>\n",
       "      <td>1</td>\n",
       "      <td>5</td>\n",
       "      <td>0.141361</td>\n",
       "      <td>0.124721</td>\n",
       "      <td>-0.016640</td>\n",
       "      <td>0.098268</td>\n",
       "      <td>0.149003</td>\n",
       "      <td>0.050735</td>\n",
       "      <td>0.128713</td>\n",
       "      <td>...</td>\n",
       "      <td>0.121480</td>\n",
       "      <td>0.078897</td>\n",
       "      <td>-0.042583</td>\n",
       "      <td>0.108607</td>\n",
       "      <td>0.049435</td>\n",
       "      <td>-0.059172</td>\n",
       "      <td>0.131348</td>\n",
       "      <td>0.156398</td>\n",
       "      <td>0.025050</td>\n",
       "      <td>0.170112</td>\n",
       "    </tr>\n",
       "  </tbody>\n",
       "</table>\n",
       "<p>5 rows × 34 columns</p>\n",
       "</div>"
      ],
      "text/plain": [
       "  subject  sessionIndex  rep  H.period  DD.period.t  UD.period.t       H.t  \\\n",
       "0    Andy             1    1  0.174239     0.409866     0.235627  0.133840   \n",
       "1    Andy             1    2  0.145289     0.154851     0.009562  0.131217   \n",
       "2    Andy             1    3  0.122266     0.136321     0.014055  0.114905   \n",
       "3    Andy             1    4  0.121075     0.132562     0.011487  0.134813   \n",
       "4    Andy             1    5  0.141361     0.124721    -0.016640  0.098268   \n",
       "\n",
       "     DD.t.i    UD.t.i       H.i  ...       H.a    DD.a.n    UD.a.n       H.n  \\\n",
       "0  0.171659  0.037820  0.156984  ...  0.137544  0.091721 -0.045824  0.099726   \n",
       "1  0.129134 -0.002083  0.130980  ...  0.164865  0.111584 -0.053281  0.101935   \n",
       "2  0.125308  0.010402  0.144332  ...  0.145501  0.095982 -0.049520  0.121049   \n",
       "3  0.132049 -0.002763  0.135681  ...  0.135072  0.089715 -0.045356  0.117885   \n",
       "4  0.149003  0.050735  0.128713  ...  0.121480  0.078897 -0.042583  0.108607   \n",
       "\n",
       "     DD.n.l    UD.n.l       H.l  DD.l.Return  UD.l.Return  H.Return  \n",
       "0  0.099142 -0.000585  0.120912     0.135934     0.015022  0.163508  \n",
       "1  0.023678 -0.078258  0.140863     0.192325     0.051462  0.156958  \n",
       "2  0.091486 -0.029563  0.111422     0.145751     0.034329  0.169304  \n",
       "3  0.089209 -0.028676  0.098095     0.139069     0.040974  0.168298  \n",
       "4  0.049435 -0.059172  0.131348     0.156398     0.025050  0.170112  \n",
       "\n",
       "[5 rows x 34 columns]"
      ]
     },
     "execution_count": 4,
     "metadata": {},
     "output_type": "execute_result"
    }
   ],
   "source": [
    "# import unseen data\n",
    "pred_df = pd.read_csv(TEST_DATA_LINK)\n",
    "pred_df.head()"
   ]
  },
  {
   "cell_type": "code",
   "execution_count": 5,
   "metadata": {
    "colab": {
     "base_uri": "https://localhost:8080/",
     "height": 301
    },
    "executionInfo": {
     "elapsed": 593,
     "status": "ok",
     "timestamp": 1638119156672,
     "user": {
      "displayName": "QIIKAII",
      "photoUrl": "https://lh3.googleusercontent.com/a-/AOh14GiJOdYwJsRvwYnsXYnOzQM51xYuWLYsahwvlDNSBQ=s64",
      "userId": "18419578418508292348"
     },
     "user_tz": -480
    },
    "id": "T7zBVAvvS97D",
    "outputId": "3b3b3735-244a-4eec-9227-8ffda9860f42"
   },
   "outputs": [
    {
     "data": {
      "image/png": "[encoded data removed]",
      "text/plain": [
       "<Figure size 432x288 with 1 Axes>"
      ]
     },
     "metadata": {},
     "output_type": "display_data"
    }
   ],
   "source": [
    "################################\n",
    "# # check for class validity # #\n",
    "################################\n",
    "sns.set_theme(style=\"darkgrid\")\n",
    "ax = sns.countplot(x=\"subject\", data=pred_df).set_title(\"Class Validity\")\n",
    "\n",
    "# remove missing values if available\n",
    "pred_df = pred_df.dropna()"
   ]
  },
  {
   "cell_type": "code",
   "execution_count": 12,
   "metadata": {
    "executionInfo": {
     "elapsed": 287,
     "status": "ok",
     "timestamp": 1638119159318,
     "user": {
      "displayName": "QIIKAII",
      "photoUrl": "https://lh3.googleusercontent.com/a-/AOh14GiJOdYwJsRvwYnsXYnOzQM51xYuWLYsahwvlDNSBQ=s64",
      "userId": "18419578418508292348"
     },
     "user_tz": -480
    },
    "id": "vvmUbcekS97E"
   },
   "outputs": [
    {
     "name": "stdout",
     "output_type": "stream",
     "text": [
      "[['Andy']\n",
      " ['Azfar']\n",
      " ['Chris']\n",
      " ['Qikai']\n",
      " ['Safaraz']]\n"
     ]
    }
   ],
   "source": [
    "pred_dataset = pred_df.values\n",
    "\n",
    "# divide data into features X\n",
    "# pred_row = pred_dataset[:,3:].astype(float)\n",
    "\n",
    "#################################\n",
    "# # predict more than one row # #\n",
    "#################################\n",
    "\n",
    "pred_row=pred_df.iloc[:,3:]\n",
    "\n",
    "# pred_row = pred_dataset[:,3:].astype(float)\n",
    "\n",
    "############################\n",
    "# # predict a single row # #\n",
    "############################\n",
    "\n",
    "# pred_row=pred_df.iloc[0:2,3:]\n",
    "\n",
    "################################\n",
    "# # normalise and shape data # #\n",
    "################################\n",
    "pred_arr = pred_row.values.tolist()\n",
    "# pred_row = scaler.transform(pred_row)\n",
    "pred_arr = np.asarray(pred_arr, dtype=np.float32)\n",
    "pred_arr = np.reshape(pred_arr, (pred_arr.shape[0], TIMESTEPS, pred_arr.shape[1]))\n",
    "\n",
    "Y = ['Andy', 'Azfar', 'Chris', 'Qikai', 'Safaraz']\n",
    "Y = np.asarray(Y)\n",
    "Y = Y.reshape(-1, 1)\n",
    "encoder = OneHotEncoder().fit(Y)"
   ]
  },
  {
   "cell_type": "code",
   "execution_count": 17,
   "metadata": {
    "colab": {
     "base_uri": "https://localhost:8080/"
    },
    "executionInfo": {
     "elapsed": 293,
     "status": "ok",
     "timestamp": 1638119225760,
     "user": {
      "displayName": "QIIKAII",
      "photoUrl": "https://lh3.googleusercontent.com/a-/AOh14GiJOdYwJsRvwYnsXYnOzQM51xYuWLYsahwvlDNSBQ=s64",
      "userId": "18419578418508292348"
     },
     "user_tz": -480
    },
    "id": "bZF7p6lFVZxE",
    "outputId": "d2a2b7e0-beb0-434c-fc3b-62e057968477"
   },
   "outputs": [
    {
     "ename": "ValueError",
     "evalue": "Found array with dim 3. Estimator expected <= 2.",
     "output_type": "error",
     "traceback": [
      "\u001b[1;31m---------------------------------------------------------------------------\u001b[0m",
      "\u001b[1;31mValueError\u001b[0m                                Traceback (most recent call last)",
      "\u001b[1;32m~\\AppData\\Local\\Temp/ipykernel_27544/3727437565.py\u001b[0m in \u001b[0;36m<module>\u001b[1;34m\u001b[0m\n\u001b[0;32m      4\u001b[0m \u001b[0mpred\u001b[0m \u001b[1;33m=\u001b[0m \u001b[0mmodel\u001b[0m\u001b[1;33m.\u001b[0m\u001b[0mpredict\u001b[0m\u001b[1;33m(\u001b[0m\u001b[0mpred_arr\u001b[0m\u001b[1;33m)\u001b[0m\u001b[1;33m\u001b[0m\u001b[1;33m\u001b[0m\u001b[0m\n\u001b[0;32m      5\u001b[0m \u001b[0mpred\u001b[0m \u001b[1;33m=\u001b[0m \u001b[0mto_categorical\u001b[0m\u001b[1;33m(\u001b[0m\u001b[0mpred\u001b[0m\u001b[1;33m)\u001b[0m\u001b[1;33m\u001b[0m\u001b[1;33m\u001b[0m\u001b[0m\n\u001b[1;32m----> 6\u001b[1;33m \u001b[0mpred\u001b[0m \u001b[1;33m=\u001b[0m \u001b[0mencoder\u001b[0m\u001b[1;33m.\u001b[0m\u001b[0minverse_transform\u001b[0m\u001b[1;33m(\u001b[0m\u001b[0mpred\u001b[0m\u001b[1;33m)\u001b[0m\u001b[1;33m\u001b[0m\u001b[1;33m\u001b[0m\u001b[0m\n\u001b[0m\u001b[0;32m      7\u001b[0m \u001b[0mpred\u001b[0m \u001b[1;33m=\u001b[0m \u001b[0mnp\u001b[0m\u001b[1;33m.\u001b[0m\u001b[0mravel\u001b[0m\u001b[1;33m(\u001b[0m\u001b[0mpred\u001b[0m\u001b[1;33m)\u001b[0m\u001b[1;33m\u001b[0m\u001b[1;33m\u001b[0m\u001b[0m\n\u001b[0;32m      8\u001b[0m \u001b[1;33m\u001b[0m\u001b[0m\n",
      "\u001b[1;32m~\\Documents\\GitHub\\ict3204-security-analytics\\env\\lib\\site-packages\\sklearn\\preprocessing\\_encoders.py\u001b[0m in \u001b[0;36minverse_transform\u001b[1;34m(self, X)\u001b[0m\n\u001b[0;32m    580\u001b[0m         \"\"\"\n\u001b[0;32m    581\u001b[0m         \u001b[0mcheck_is_fitted\u001b[0m\u001b[1;33m(\u001b[0m\u001b[0mself\u001b[0m\u001b[1;33m)\u001b[0m\u001b[1;33m\u001b[0m\u001b[1;33m\u001b[0m\u001b[0m\n\u001b[1;32m--> 582\u001b[1;33m         \u001b[0mX\u001b[0m \u001b[1;33m=\u001b[0m \u001b[0mcheck_array\u001b[0m\u001b[1;33m(\u001b[0m\u001b[0mX\u001b[0m\u001b[1;33m,\u001b[0m \u001b[0maccept_sparse\u001b[0m\u001b[1;33m=\u001b[0m\u001b[1;34m\"csr\"\u001b[0m\u001b[1;33m)\u001b[0m\u001b[1;33m\u001b[0m\u001b[1;33m\u001b[0m\u001b[0m\n\u001b[0m\u001b[0;32m    583\u001b[0m \u001b[1;33m\u001b[0m\u001b[0m\n\u001b[0;32m    584\u001b[0m         \u001b[0mn_samples\u001b[0m\u001b[1;33m,\u001b[0m \u001b[0m_\u001b[0m \u001b[1;33m=\u001b[0m \u001b[0mX\u001b[0m\u001b[1;33m.\u001b[0m\u001b[0mshape\u001b[0m\u001b[1;33m\u001b[0m\u001b[1;33m\u001b[0m\u001b[0m\n",
      "\u001b[1;32m~\\Documents\\GitHub\\ict3204-security-analytics\\env\\lib\\site-packages\\sklearn\\utils\\validation.py\u001b[0m in \u001b[0;36mcheck_array\u001b[1;34m(array, accept_sparse, accept_large_sparse, dtype, order, copy, force_all_finite, ensure_2d, allow_nd, ensure_min_samples, ensure_min_features, estimator)\u001b[0m\n\u001b[0;32m    784\u001b[0m                 ) from e\n\u001b[0;32m    785\u001b[0m         \u001b[1;32mif\u001b[0m \u001b[1;32mnot\u001b[0m \u001b[0mallow_nd\u001b[0m \u001b[1;32mand\u001b[0m \u001b[0marray\u001b[0m\u001b[1;33m.\u001b[0m\u001b[0mndim\u001b[0m \u001b[1;33m>=\u001b[0m \u001b[1;36m3\u001b[0m\u001b[1;33m:\u001b[0m\u001b[1;33m\u001b[0m\u001b[1;33m\u001b[0m\u001b[0m\n\u001b[1;32m--> 786\u001b[1;33m             raise ValueError(\n\u001b[0m\u001b[0;32m    787\u001b[0m                 \u001b[1;34m\"Found array with dim %d. %s expected <= 2.\"\u001b[0m\u001b[1;33m\u001b[0m\u001b[1;33m\u001b[0m\u001b[0m\n\u001b[0;32m    788\u001b[0m                 \u001b[1;33m%\u001b[0m \u001b[1;33m(\u001b[0m\u001b[0marray\u001b[0m\u001b[1;33m.\u001b[0m\u001b[0mndim\u001b[0m\u001b[1;33m,\u001b[0m \u001b[0mestimator_name\u001b[0m\u001b[1;33m)\u001b[0m\u001b[1;33m\u001b[0m\u001b[1;33m\u001b[0m\u001b[0m\n",
      "\u001b[1;31mValueError\u001b[0m: Found array with dim 3. Estimator expected <= 2."
     ]
    }
   ],
   "source": [
    "####################################\n",
    "# # get prediction and its label # #\n",
    "####################################\n",
    "pred = model.predict(pred_arr)\n",
    "pred = to_categorical(pred)\n",
    "pred = encoder.inverse_transform(pred)\n",
    "pred = np.ravel(pred)\n",
    "\n",
    "pred_proba = model.predict_proba(pred_arr)\n",
    "acc = np.max(pred_proba, axis=1)\n",
    "\n",
    "pred_results = np.column_stack((pred, acc))\n",
    "\n",
    "df = pd.DataFrame(data=pred_results, index=None, columns=['Prediction', 'Accuracy'])\n",
    "print(df)"
   ]
  },
  {
   "cell_type": "code",
   "execution_count": null,
   "metadata": {
    "id": "VuDhUKwwS97E"
   },
   "outputs": [],
   "source": []
  },
  {
   "cell_type": "code",
   "execution_count": null,
   "metadata": {},
   "outputs": [],
   "source": []
  },
  {
   "cell_type": "code",
   "execution_count": null,
   "metadata": {},
   "outputs": [],
   "source": []
  }
 ],
 "metadata": {
  "accelerator": "GPU",
  "colab": {
   "collapsed_sections": [
    "qxwawov4S96_",
    "GOSGgRxamf1f"
   ],
   "name": "keystroke.ipynb",
   "provenance": []
  },
  "kernelspec": {
   "display_name": "Python 3 (ipykernel)",
   "language": "python",
   "name": "python3"
  },
  "language_info": {
   "codemirror_mode": {
    "name": "ipython",
    "version": 3
   },
   "file_extension": ".py",
   "mimetype": "text/x-python",
   "name": "python",
   "nbconvert_exporter": "python",
   "pygments_lexer": "ipython3",
   "version": "3.9.7"
  }
 },
 "nbformat": 4,
 "nbformat_minor": 1
}
